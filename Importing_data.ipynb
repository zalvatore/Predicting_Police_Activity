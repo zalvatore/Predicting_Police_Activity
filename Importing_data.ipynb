{
 "cells": [
  {
   "cell_type": "code",
   "execution_count": 117,
   "id": "9d156e05-db52-404f-a6e4-20dc678d01db",
   "metadata": {
    "tags": []
   },
   "outputs": [],
   "source": [
    "import sagemaker\n",
    "import boto3\n",
    "from datetime import datetime\n",
    "from io import StringIO\n",
    "import pandas as pd\n",
    "import numpy as np\n",
    "import matplotlib.pyplot as plt\n",
    "import seaborn as sns\n",
    "import warnings\n",
    "warnings.filterwarnings('ignore')\n",
    "\n",
    "\n",
    "\n",
    "from pyathena import connect"
   ]
  },
  {
   "cell_type": "code",
   "execution_count": 118,
   "id": "d8aac005-f80e-4f02-b0d4-880ac293dad8",
   "metadata": {
    "tags": []
   },
   "outputs": [
    {
     "name": "stdout",
     "output_type": "stream",
     "text": [
      "Bucket - >  sagemaker-us-east-1-859074047513\n",
      "Role - >  arn:aws:iam::859074047513:role/LabRole\n",
      "Region - >  us-east-1\n",
      "S3 - >  <botocore.client.S3 object at 0x7f7f35dd33d0>\n",
      "S3 Resource - >  s3.ServiceResource()\n"
     ]
    }
   ],
   "source": [
    "sess = sagemaker.Session() #Intialzie session\n",
    "\n",
    "bucket = sess.default_bucket()\n",
    "RD_Bucket = 'policedatasetbucket' #Raw Data\n",
    "role = sagemaker.get_execution_role()\n",
    "region = boto3.Session().region_name\n",
    "s3 = boto3.client('s3') # Create an S3 client\n",
    "s3_resource = boto3.resource('s3') # Create an S3 resource\n",
    "\n",
    "\n",
    "print('Bucket - > ',bucket)\n",
    "print('Role - > ',role)\n",
    "print('Region - > ',region)\n",
    "print('S3 - > ',s3)\n",
    "print('S3 Resource - > ',s3_resource)"
   ]
  },
  {
   "cell_type": "code",
   "execution_count": 119,
   "id": "81047620-9804-4f4e-bfeb-2d0f3f56ad1b",
   "metadata": {
    "tags": []
   },
   "outputs": [],
   "source": [
    "# Function to verify if bucket exist, if not create\n",
    "def verify_create_bucket(bucket_name):\n",
    "    response = s3.list_buckets()\n",
    "    for bucket in response['Buckets']:\n",
    "        if bucket['Name'] == bucket_name:\n",
    "            print(f\"The {bucket_name} bucket exists.\")\n",
    "            break\n",
    "    else:\n",
    "        print(f\"The {bucket_name} bucket does not exist, creating\")\n",
    "        !aws s3 mb s3://{bucket}/"
   ]
  },
  {
   "cell_type": "code",
   "execution_count": 120,
   "id": "b32f6c00-23cc-421a-9d0e-b8edb489698f",
   "metadata": {
    "tags": []
   },
   "outputs": [
    {
     "name": "stdout",
     "output_type": "stream",
     "text": [
      "The sagemaker-us-east-1-859074047513 bucket exists.\n"
     ]
    }
   ],
   "source": [
    "verify_create_bucket(bucket)"
   ]
  },
  {
   "cell_type": "code",
   "execution_count": 121,
   "id": "737f9d7e-1908-4b41-b70c-1629ebe4483d",
   "metadata": {
    "tags": []
   },
   "outputs": [],
   "source": [
    "#function to download yearly data\n",
    "# def Get_Data(year):\n",
    "#     url = f\"https://seshat.datasd.org/pd/pd_calls_for_service_{year}_datasd.csv\"\n",
    "#     df = pd.read_csv(url)\n",
    "#     return df"
   ]
  },
  {
   "cell_type": "code",
   "execution_count": 122,
   "id": "48e9f100-c763-458a-80d4-e92e392c380f",
   "metadata": {
    "tags": []
   },
   "outputs": [],
   "source": [
    "# List of years since 2018\n",
    "# Years = list(range(2018,datetime.now().year+1))\n",
    "# Years"
   ]
  },
  {
   "cell_type": "code",
   "execution_count": 123,
   "id": "f1eb0cd5-a6d6-4216-81dd-cac47baadf50",
   "metadata": {
    "tags": []
   },
   "outputs": [],
   "source": [
    "#iterate over years\n",
    "# for year in Years:\n",
    "#     year_df = Get_Data(year)\n",
    "#     csv_buffer = StringIO()\n",
    "#     year_df.to_csv(csv_buffer, index=False)\n",
    "#     file = 'SDPD_Calls_' + str(year) + '.csv'\n",
    "#     s3_resource.Object(bucket,file).put(Body=csv_buffer.getvalue())\n",
    "#     print(file,'loaded in',bucket,'bucket')"
   ]
  },
  {
   "cell_type": "code",
   "execution_count": 124,
   "id": "3b9fa40d-81ef-4f9f-af03-812ef65bbf3a",
   "metadata": {
    "tags": []
   },
   "outputs": [],
   "source": [
    "# def URL_2_Bucket(url,file_name):\n",
    "#     df = pd.read_csv(url, low_memory=False)\n",
    "#     csv_buffer = StringIO()\n",
    "#     df.to_csv(csv_buffer, index=False)\n",
    "#     file = file_name + '.csv'\n",
    "#     s3_resource.Object(RD_Bucket,file).put(Body=csv_buffer.getvalue())\n",
    "#     print(file,'loaded in',RD_Bucket,'bucket')\n",
    "    "
   ]
  },
  {
   "cell_type": "code",
   "execution_count": 125,
   "id": "b98b86f1-f78d-4f78-80ff-46033260db2e",
   "metadata": {
    "tags": []
   },
   "outputs": [],
   "source": [
    "# type_url = f\"http://seshat.datasd.org/pd/pd_cfs_calltypes_datasd.csv\"\n",
    "# dipo_url = f\"http://seshat.datasd.org/pd/pd_dispo_codes_datasd.csv\"\n",
    "# ripa_stops_url = \"https://seshat.datasd.org/pd/ripa_stops_datasd.csv\"\n",
    "# ripa_stops_dic = \"https://seshat.datasd.org/pd/ripa_stops_dictionary_datasd.csv\""
   ]
  },
  {
   "cell_type": "code",
   "execution_count": 126,
   "id": "a81b7417-bfea-4627-8f83-b021f56b7cf5",
   "metadata": {
    "tags": []
   },
   "outputs": [],
   "source": [
    "# URL_2_Bucket(type_url,'Type')\n",
    "# URL_2_Bucket(dipo_url,'Dispo')\n",
    "# URL_2_Bucket(ripa_stops_url,'Ripa_Stops')\n",
    "# URL_2_Bucket(ripa_stops_dic,'Ripa_Stops_Dic')"
   ]
  },
  {
   "cell_type": "code",
   "execution_count": 127,
   "id": "d8bff752-e061-4333-8578-681fb70f6343",
   "metadata": {},
   "outputs": [],
   "source": [
    "ingest_create_athena_db_passed = False"
   ]
  },
  {
   "cell_type": "markdown",
   "id": "96fff9d0-848c-4e9f-8880-75d6c8780f31",
   "metadata": {},
   "source": [
    "# Create Athena Database"
   ]
  },
  {
   "cell_type": "code",
   "execution_count": 128,
   "id": "9240964a-b6c1-4287-be93-c68435fbe4b3",
   "metadata": {
    "tags": []
   },
   "outputs": [],
   "source": [
    "database_name = \"sd_police_db\""
   ]
  },
  {
   "cell_type": "code",
   "execution_count": 129,
   "id": "d86e4265-de80-4c0d-b305-89898dc8b99a",
   "metadata": {
    "tags": []
   },
   "outputs": [],
   "source": [
    "# Set S3 staging directory -- this is a temporary directory used for Athena queries\n",
    "s3_staging_dir = \"s3://{0}/athena/staging\".format(bucket)"
   ]
  },
  {
   "cell_type": "code",
   "execution_count": 130,
   "id": "84ff73e0-57d1-4939-98c1-9554a659e512",
   "metadata": {
    "tags": []
   },
   "outputs": [],
   "source": [
    "conn = connect(region_name=region, s3_staging_dir=s3_staging_dir)\n"
   ]
  },
  {
   "cell_type": "code",
   "execution_count": 131,
   "id": "85d9e741-1d3a-4082-8fd2-e3b84034fd7e",
   "metadata": {
    "tags": []
   },
   "outputs": [
    {
     "name": "stdout",
     "output_type": "stream",
     "text": [
      "CREATE DATABASE IF NOT EXISTS sd_police_db\n"
     ]
    }
   ],
   "source": [
    "statement = \"CREATE DATABASE IF NOT EXISTS {}\".format(database_name)\n",
    "print(statement)"
   ]
  },
  {
   "cell_type": "code",
   "execution_count": 132,
   "id": "a7f71d57-3a91-4767-9e72-b44602f23bb7",
   "metadata": {
    "tags": []
   },
   "outputs": [
    {
     "data": {
      "text/html": [
       "<div>\n",
       "<style scoped>\n",
       "    .dataframe tbody tr th:only-of-type {\n",
       "        vertical-align: middle;\n",
       "    }\n",
       "\n",
       "    .dataframe tbody tr th {\n",
       "        vertical-align: top;\n",
       "    }\n",
       "\n",
       "    .dataframe thead th {\n",
       "        text-align: right;\n",
       "    }\n",
       "</style>\n",
       "<table border=\"1\" class=\"dataframe\">\n",
       "  <thead>\n",
       "    <tr style=\"text-align: right;\">\n",
       "      <th></th>\n",
       "    </tr>\n",
       "  </thead>\n",
       "  <tbody>\n",
       "  </tbody>\n",
       "</table>\n",
       "</div>"
      ],
      "text/plain": [
       "Empty DataFrame\n",
       "Columns: []\n",
       "Index: []"
      ]
     },
     "execution_count": 132,
     "metadata": {},
     "output_type": "execute_result"
    }
   ],
   "source": [
    "import pandas as pd\n",
    "\n",
    "pd.read_sql(statement, conn)"
   ]
  },
  {
   "cell_type": "code",
   "execution_count": 133,
   "id": "3abd2cbc-cdfa-428f-9979-a1f17d70aed6",
   "metadata": {
    "tags": []
   },
   "outputs": [
    {
     "data": {
      "text/html": [
       "<div>\n",
       "<style scoped>\n",
       "    .dataframe tbody tr th:only-of-type {\n",
       "        vertical-align: middle;\n",
       "    }\n",
       "\n",
       "    .dataframe tbody tr th {\n",
       "        vertical-align: top;\n",
       "    }\n",
       "\n",
       "    .dataframe thead th {\n",
       "        text-align: right;\n",
       "    }\n",
       "</style>\n",
       "<table border=\"1\" class=\"dataframe\">\n",
       "  <thead>\n",
       "    <tr style=\"text-align: right;\">\n",
       "      <th></th>\n",
       "      <th>database_name</th>\n",
       "    </tr>\n",
       "  </thead>\n",
       "  <tbody>\n",
       "    <tr>\n",
       "      <th>0</th>\n",
       "      <td>default</td>\n",
       "    </tr>\n",
       "    <tr>\n",
       "      <th>1</th>\n",
       "      <td>dsoaws</td>\n",
       "    </tr>\n",
       "    <tr>\n",
       "      <th>2</th>\n",
       "      <td>sd_police_db</td>\n",
       "    </tr>\n",
       "  </tbody>\n",
       "</table>\n",
       "</div>"
      ],
      "text/plain": [
       "  database_name\n",
       "0       default\n",
       "1        dsoaws\n",
       "2  sd_police_db"
      ]
     },
     "execution_count": 133,
     "metadata": {},
     "output_type": "execute_result"
    }
   ],
   "source": [
    "# Show databases\n",
    "statement = \"SHOW DATABASES\"\n",
    "\n",
    "df_show = pd.read_sql(statement, conn)\n",
    "df_show.head(5)"
   ]
  },
  {
   "cell_type": "markdown",
   "id": "b339df0c-c62e-4870-a35c-07cc8ca468e9",
   "metadata": {},
   "source": [
    "# Drop Database if Needed"
   ]
  },
  {
   "cell_type": "code",
   "execution_count": 134,
   "id": "7a0922ff-46fa-4779-8a35-b8f9329eb82b",
   "metadata": {
    "tags": []
   },
   "outputs": [],
   "source": [
    "# drop_db_name = \"dsoaw\"\n",
    "# drop_db_query = f\"DROP DATABASE IF EXISTS {drop_db_name}\"\n",
    "\n",
    "# df_show = pd.read_sql(drop_db_query, conn)\n",
    "# df_show.head()"
   ]
  },
  {
   "cell_type": "markdown",
   "id": "14b2878f-98a3-494b-b204-053b62b77df1",
   "metadata": {},
   "source": [
    "# Drop Table if Needed"
   ]
  },
  {
   "cell_type": "code",
   "execution_count": 135,
   "id": "c9db4d7a-48da-4a46-8e1c-e866c5260051",
   "metadata": {
    "tags": []
   },
   "outputs": [
    {
     "data": {
      "text/html": [
       "<div>\n",
       "<style scoped>\n",
       "    .dataframe tbody tr th:only-of-type {\n",
       "        vertical-align: middle;\n",
       "    }\n",
       "\n",
       "    .dataframe tbody tr th {\n",
       "        vertical-align: top;\n",
       "    }\n",
       "\n",
       "    .dataframe thead th {\n",
       "        text-align: right;\n",
       "    }\n",
       "</style>\n",
       "<table border=\"1\" class=\"dataframe\">\n",
       "  <thead>\n",
       "    <tr style=\"text-align: right;\">\n",
       "      <th></th>\n",
       "    </tr>\n",
       "  </thead>\n",
       "  <tbody>\n",
       "  </tbody>\n",
       "</table>\n",
       "</div>"
      ],
      "text/plain": [
       "Empty DataFrame\n",
       "Columns: []\n",
       "Index: []"
      ]
     },
     "execution_count": 135,
     "metadata": {},
     "output_type": "execute_result"
    }
   ],
   "source": [
    "drop_table_name = \"table_sd_ripa\" \n",
    "\n",
    "drop_table_query = f\"DROP TABLE IF EXISTS {database_name}.{drop_table_name}\"\n",
    "\n",
    "df_show1 = pd.read_sql(drop_table_query, conn)\n",
    "df_show1.head()"
   ]
  },
  {
   "cell_type": "code",
   "execution_count": 136,
   "id": "1d225736-e41d-4594-b51e-debc5971cd3a",
   "metadata": {
    "tags": []
   },
   "outputs": [],
   "source": [
    "if database_name in df_show.values:\n",
    "    ingest_create_athena_db_passed = True"
   ]
  },
  {
   "cell_type": "code",
   "execution_count": 137,
   "id": "f4624f2a-1283-4687-89cb-5330cd53474a",
   "metadata": {
    "tags": []
   },
   "outputs": [
    {
     "name": "stdout",
     "output_type": "stream",
     "text": [
      "Stored 'ingest_create_athena_db_passed' (bool)\n"
     ]
    }
   ],
   "source": [
    "%store ingest_create_athena_db_passed"
   ]
  },
  {
   "cell_type": "markdown",
   "id": "76e6a201-7a0e-49c7-877f-2294523c1e25",
   "metadata": {},
   "source": [
    "# S3 Bucket Folder Information for 2019"
   ]
  },
  {
   "cell_type": "code",
   "execution_count": 138,
   "id": "3d0cfd66-8f6f-4970-8ef2-7efa802a519a",
   "metadata": {
    "tags": []
   },
   "outputs": [],
   "source": [
    "# s3_private_path_csv19 = \"s3://{}/SanDiego-Police-Dataset/policedataset19/csv\".format(bucket)\n",
    "# print(s3_private_path_csv19)"
   ]
  },
  {
   "cell_type": "code",
   "execution_count": 139,
   "id": "c40d431a-40f2-4052-9653-ab8718c0090e",
   "metadata": {
    "tags": []
   },
   "outputs": [],
   "source": [
    "# table_name4 = \"table_sd_2019\""
   ]
  },
  {
   "cell_type": "code",
   "execution_count": 140,
   "id": "d35b94bb-f5a1-4634-a5c4-60e6118e1ff2",
   "metadata": {
    "tags": []
   },
   "outputs": [],
   "source": [
    "# # SQL statement to execute\n",
    "# statement_4 = \"\"\"CREATE EXTERNAL TABLE IF NOT EXISTS {}.{}(\n",
    "# incident_num string,\n",
    "# date_time string,\n",
    "# day_of_week string,\n",
    "# address_number_primary string,\n",
    "# address_dir_primary string,\n",
    "# address_road_primary string,\n",
    "# address_sfx_primary string,\n",
    "# address_dir_intersecting string,\n",
    "# address_road_intersecting string,\n",
    "# address_sfx_intersecting string,\n",
    "# call_type string,\n",
    "# disposition string,\n",
    "# beat string,\n",
    "# priority string) \n",
    "\n",
    "# ROW FORMAT DELIMITED FIELDS TERMINATED BY ',' NULL DEFINED AS '' LOCATION '{}'\n",
    "# TBLPROPERTIES ('skip.header.line.count'='1')\"\"\".format(database_name, table_name4, s3_private_path_csv19)\n",
    "\n",
    "# print(statement_4)"
   ]
  },
  {
   "cell_type": "code",
   "execution_count": 141,
   "id": "7b4a1070-a683-4529-9ac5-f3588d83f158",
   "metadata": {
    "tags": []
   },
   "outputs": [],
   "source": [
    "# import pandas as pd\n",
    "\n",
    "# pd.read_sql(statement_4, conn)"
   ]
  },
  {
   "cell_type": "code",
   "execution_count": 142,
   "id": "8be99491-c167-4791-ae81-207c8d1b6585",
   "metadata": {
    "tags": []
   },
   "outputs": [],
   "source": [
    "# database_name = \"sd_police_db\"\n",
    "# statement = \"SHOW TABLES in {}\".format(database_name)\n",
    "\n",
    "# df_show = pd.read_sql(statement, conn)\n",
    "\n",
    "# df_show.head(6)"
   ]
  },
  {
   "cell_type": "code",
   "execution_count": 143,
   "id": "421e58f3-5628-4f48-bcac-09f00e5f5880",
   "metadata": {
    "tags": []
   },
   "outputs": [],
   "source": [
    "# pd.read_sql(statement_4, conn)\n",
    "\n",
    "# df_2019 = pd.read_sql(f\"SELECT * FROM {database_name}.{table_name4}\", conn)"
   ]
  },
  {
   "cell_type": "code",
   "execution_count": 144,
   "id": "e568631b-218c-4fd6-b3ce-dc5298832291",
   "metadata": {
    "tags": []
   },
   "outputs": [],
   "source": [
    "# df_2019"
   ]
  },
  {
   "cell_type": "code",
   "execution_count": null,
   "id": "f837da62-41ec-4f2e-9fa3-2fe1fe9be4fa",
   "metadata": {},
   "outputs": [],
   "source": []
  },
  {
   "cell_type": "code",
   "execution_count": null,
   "id": "7137a6b1-de19-41ad-901a-bb989e102e33",
   "metadata": {},
   "outputs": [],
   "source": []
  },
  {
   "cell_type": "code",
   "execution_count": null,
   "id": "ab2486ac-eb8a-43bc-881d-52d6dfdd7df1",
   "metadata": {},
   "outputs": [],
   "source": []
  },
  {
   "cell_type": "markdown",
   "id": "9b5f12ce-83a1-4a06-b4bb-f6d8ac68b781",
   "metadata": {
    "tags": []
   },
   "source": [
    "# S3 Bucket Folder Information for 2021"
   ]
  },
  {
   "cell_type": "code",
   "execution_count": 145,
   "id": "c231517a-0908-4feb-88ef-c401e1452405",
   "metadata": {
    "tags": []
   },
   "outputs": [
    {
     "name": "stdout",
     "output_type": "stream",
     "text": [
      "s3://sagemaker-us-east-1-859074047513/SanDiego-Police-Dataset/policedatasetsd/csv\n"
     ]
    }
   ],
   "source": [
    "s3_private_path_csv = \"s3://{}/SanDiego-Police-Dataset/policedatasetsd/csv\".format(bucket)\n",
    "print(s3_private_path_csv)"
   ]
  },
  {
   "cell_type": "code",
   "execution_count": 146,
   "id": "9c2e78da-ce51-4fa2-894d-ab081c7ad061",
   "metadata": {
    "tags": []
   },
   "outputs": [],
   "source": [
    "table_name = \"table_sd_2021\""
   ]
  },
  {
   "cell_type": "code",
   "execution_count": 147,
   "id": "bff96feb-861b-4cc7-b2d1-97b8f7c5d539",
   "metadata": {
    "tags": []
   },
   "outputs": [
    {
     "name": "stdout",
     "output_type": "stream",
     "text": [
      "CREATE EXTERNAL TABLE IF NOT EXISTS sd_police_db.table_sd_2021(\n",
      "incident_num string,\n",
      "date_time string,\n",
      "day_of_week int,\n",
      "address_number_primary int,\n",
      "address_dir_primary string,\n",
      "address_road_primary string,\n",
      "address_sfx_primary string,\n",
      "address_dir_intersecting string,\n",
      "address_road_intersecting string,\n",
      "address_sfx_intersecting string,\n",
      "call_type string,\n",
      "disposition string,\n",
      "beat int,\n",
      "priority int) \n",
      "\n",
      "ROW FORMAT DELIMITED FIELDS TERMINATED BY ',' NULL DEFINED AS '' LOCATION 's3://sagemaker-us-east-1-859074047513/SanDiego-Police-Dataset/policedatasetsd/csv'\n",
      "TBLPROPERTIES ('skip.header.line.count'='1')\n"
     ]
    }
   ],
   "source": [
    "# SQL statement to execute\n",
    "statement = \"\"\"CREATE EXTERNAL TABLE IF NOT EXISTS {}.{}(\n",
    "incident_num string,\n",
    "date_time string,\n",
    "day_of_week int,\n",
    "address_number_primary int,\n",
    "address_dir_primary string,\n",
    "address_road_primary string,\n",
    "address_sfx_primary string,\n",
    "address_dir_intersecting string,\n",
    "address_road_intersecting string,\n",
    "address_sfx_intersecting string,\n",
    "call_type string,\n",
    "disposition string,\n",
    "beat int,\n",
    "priority int) \n",
    "\n",
    "ROW FORMAT DELIMITED FIELDS TERMINATED BY ',' NULL DEFINED AS '' LOCATION '{}'\n",
    "TBLPROPERTIES ('skip.header.line.count'='1')\"\"\".format(database_name, table_name, s3_private_path_csv)\n",
    "\n",
    "print(statement)"
   ]
  },
  {
   "cell_type": "code",
   "execution_count": 148,
   "id": "3c8764cd-d7fd-4275-9e19-a2532d178126",
   "metadata": {
    "tags": []
   },
   "outputs": [
    {
     "data": {
      "text/html": [
       "<div>\n",
       "<style scoped>\n",
       "    .dataframe tbody tr th:only-of-type {\n",
       "        vertical-align: middle;\n",
       "    }\n",
       "\n",
       "    .dataframe tbody tr th {\n",
       "        vertical-align: top;\n",
       "    }\n",
       "\n",
       "    .dataframe thead th {\n",
       "        text-align: right;\n",
       "    }\n",
       "</style>\n",
       "<table border=\"1\" class=\"dataframe\">\n",
       "  <thead>\n",
       "    <tr style=\"text-align: right;\">\n",
       "      <th></th>\n",
       "    </tr>\n",
       "  </thead>\n",
       "  <tbody>\n",
       "  </tbody>\n",
       "</table>\n",
       "</div>"
      ],
      "text/plain": [
       "Empty DataFrame\n",
       "Columns: []\n",
       "Index: []"
      ]
     },
     "execution_count": 148,
     "metadata": {},
     "output_type": "execute_result"
    }
   ],
   "source": [
    "import pandas as pd\n",
    "\n",
    "pd.read_sql(statement, conn)"
   ]
  },
  {
   "cell_type": "markdown",
   "id": "f441a570-7879-4b73-b640-fe7a73181b62",
   "metadata": {},
   "source": [
    "# Varify Tables in a Specified Database"
   ]
  },
  {
   "cell_type": "code",
   "execution_count": 149,
   "id": "de6a0eec-fde5-442f-9c8e-a658c2fde1e2",
   "metadata": {
    "tags": []
   },
   "outputs": [
    {
     "data": {
      "text/html": [
       "<div>\n",
       "<style scoped>\n",
       "    .dataframe tbody tr th:only-of-type {\n",
       "        vertical-align: middle;\n",
       "    }\n",
       "\n",
       "    .dataframe tbody tr th {\n",
       "        vertical-align: top;\n",
       "    }\n",
       "\n",
       "    .dataframe thead th {\n",
       "        text-align: right;\n",
       "    }\n",
       "</style>\n",
       "<table border=\"1\" class=\"dataframe\">\n",
       "  <thead>\n",
       "    <tr style=\"text-align: right;\">\n",
       "      <th></th>\n",
       "      <th>tab_name</th>\n",
       "    </tr>\n",
       "  </thead>\n",
       "  <tbody>\n",
       "    <tr>\n",
       "      <th>0</th>\n",
       "      <td>table_sd_2021</td>\n",
       "    </tr>\n",
       "    <tr>\n",
       "      <th>1</th>\n",
       "      <td>table_sd_2022</td>\n",
       "    </tr>\n",
       "    <tr>\n",
       "      <th>2</th>\n",
       "      <td>table_sd_2023</td>\n",
       "    </tr>\n",
       "  </tbody>\n",
       "</table>\n",
       "</div>"
      ],
      "text/plain": [
       "        tab_name\n",
       "0  table_sd_2021\n",
       "1  table_sd_2022\n",
       "2  table_sd_2023"
      ]
     },
     "execution_count": 149,
     "metadata": {},
     "output_type": "execute_result"
    }
   ],
   "source": [
    "database_name = \"sd_police_db\"\n",
    "statement = \"SHOW TABLES in {}\".format(database_name)\n",
    "\n",
    "df_show = pd.read_sql(statement, conn)\n",
    "\n",
    "df_show.head(5)"
   ]
  },
  {
   "cell_type": "code",
   "execution_count": 150,
   "id": "863c537f-f030-46d9-9438-3f289f221378",
   "metadata": {
    "tags": []
   },
   "outputs": [],
   "source": [
    "pd.read_sql(statement, conn)\n",
    "\n",
    "df_2021 = pd.read_sql(f\"SELECT * FROM {database_name}.{table_name}\", conn)"
   ]
  },
  {
   "cell_type": "markdown",
   "id": "9778020f-2b08-4e07-945e-023afbcc7e12",
   "metadata": {},
   "source": [
    "# S3 Bucket Folder Information for 2022"
   ]
  },
  {
   "cell_type": "code",
   "execution_count": 151,
   "id": "ae3e1659-dd40-4a5e-ab89-53253d0ec740",
   "metadata": {
    "tags": []
   },
   "outputs": [
    {
     "name": "stdout",
     "output_type": "stream",
     "text": [
      "s3://sagemaker-us-east-1-859074047513/SanDiego-Police-Dataset/policedatasetsd22/csv\n"
     ]
    }
   ],
   "source": [
    "s3_private_path_csv1 = \"s3://{}/SanDiego-Police-Dataset/policedatasetsd22/csv\".format(bucket)\n",
    "print(s3_private_path_csv1)"
   ]
  },
  {
   "cell_type": "code",
   "execution_count": 152,
   "id": "ed95f016-b77b-41af-9392-9034addf1c4b",
   "metadata": {
    "tags": []
   },
   "outputs": [],
   "source": [
    "table_name1 = \"table_sd_2022\""
   ]
  },
  {
   "cell_type": "code",
   "execution_count": 153,
   "id": "b9508276-fc5f-415a-80dd-cdb6358585bb",
   "metadata": {
    "tags": []
   },
   "outputs": [
    {
     "name": "stdout",
     "output_type": "stream",
     "text": [
      "CREATE EXTERNAL TABLE IF NOT EXISTS sd_police_db.table_sd_2022(\n",
      "incident_num string,\n",
      "date_time string,\n",
      "day_of_week int,\n",
      "address_number_primary int,\n",
      "address_dir_primary string,\n",
      "address_road_primary string,\n",
      "address_sfx_primary string,\n",
      "address_dir_intersecting string,\n",
      "address_road_intersecting string,\n",
      "address_sfx_intersecting string,\n",
      "call_type string,\n",
      "disposition string,\n",
      "beat int,\n",
      "priority int) \n",
      "\n",
      "ROW FORMAT DELIMITED FIELDS TERMINATED BY ',' NULL DEFINED AS '' LOCATION 's3://sagemaker-us-east-1-859074047513/SanDiego-Police-Dataset/policedatasetsd22/csv'\n",
      "TBLPROPERTIES ('skip.header.line.count'='1')\n"
     ]
    }
   ],
   "source": [
    "# SQL statement to execute\n",
    "statement_1 = \"\"\"CREATE EXTERNAL TABLE IF NOT EXISTS {}.{}(\n",
    "incident_num string,\n",
    "date_time string,\n",
    "day_of_week int,\n",
    "address_number_primary int,\n",
    "address_dir_primary string,\n",
    "address_road_primary string,\n",
    "address_sfx_primary string,\n",
    "address_dir_intersecting string,\n",
    "address_road_intersecting string,\n",
    "address_sfx_intersecting string,\n",
    "call_type string,\n",
    "disposition string,\n",
    "beat int,\n",
    "priority int) \n",
    "\n",
    "ROW FORMAT DELIMITED FIELDS TERMINATED BY ',' NULL DEFINED AS '' LOCATION '{}'\n",
    "TBLPROPERTIES ('skip.header.line.count'='1')\"\"\".format(database_name, table_name1, s3_private_path_csv1)\n",
    "\n",
    "print(statement_1)"
   ]
  },
  {
   "cell_type": "code",
   "execution_count": 154,
   "id": "5ca55f80-8cb7-4352-b6a0-663ced484019",
   "metadata": {
    "tags": []
   },
   "outputs": [
    {
     "data": {
      "text/html": [
       "<div>\n",
       "<style scoped>\n",
       "    .dataframe tbody tr th:only-of-type {\n",
       "        vertical-align: middle;\n",
       "    }\n",
       "\n",
       "    .dataframe tbody tr th {\n",
       "        vertical-align: top;\n",
       "    }\n",
       "\n",
       "    .dataframe thead th {\n",
       "        text-align: right;\n",
       "    }\n",
       "</style>\n",
       "<table border=\"1\" class=\"dataframe\">\n",
       "  <thead>\n",
       "    <tr style=\"text-align: right;\">\n",
       "      <th></th>\n",
       "    </tr>\n",
       "  </thead>\n",
       "  <tbody>\n",
       "  </tbody>\n",
       "</table>\n",
       "</div>"
      ],
      "text/plain": [
       "Empty DataFrame\n",
       "Columns: []\n",
       "Index: []"
      ]
     },
     "execution_count": 154,
     "metadata": {},
     "output_type": "execute_result"
    }
   ],
   "source": [
    "import pandas as pd\n",
    "\n",
    "pd.read_sql(statement_1, conn)"
   ]
  },
  {
   "cell_type": "code",
   "execution_count": 155,
   "id": "9cb7f9ff-7a85-46d7-bd64-f961d5338e01",
   "metadata": {
    "tags": []
   },
   "outputs": [
    {
     "data": {
      "text/html": [
       "<div>\n",
       "<style scoped>\n",
       "    .dataframe tbody tr th:only-of-type {\n",
       "        vertical-align: middle;\n",
       "    }\n",
       "\n",
       "    .dataframe tbody tr th {\n",
       "        vertical-align: top;\n",
       "    }\n",
       "\n",
       "    .dataframe thead th {\n",
       "        text-align: right;\n",
       "    }\n",
       "</style>\n",
       "<table border=\"1\" class=\"dataframe\">\n",
       "  <thead>\n",
       "    <tr style=\"text-align: right;\">\n",
       "      <th></th>\n",
       "      <th>tab_name</th>\n",
       "    </tr>\n",
       "  </thead>\n",
       "  <tbody>\n",
       "    <tr>\n",
       "      <th>0</th>\n",
       "      <td>table_sd_2021</td>\n",
       "    </tr>\n",
       "    <tr>\n",
       "      <th>1</th>\n",
       "      <td>table_sd_2022</td>\n",
       "    </tr>\n",
       "    <tr>\n",
       "      <th>2</th>\n",
       "      <td>table_sd_2023</td>\n",
       "    </tr>\n",
       "  </tbody>\n",
       "</table>\n",
       "</div>"
      ],
      "text/plain": [
       "        tab_name\n",
       "0  table_sd_2021\n",
       "1  table_sd_2022\n",
       "2  table_sd_2023"
      ]
     },
     "execution_count": 155,
     "metadata": {},
     "output_type": "execute_result"
    }
   ],
   "source": [
    "database_name = \"sd_police_db\"\n",
    "statement = \"SHOW TABLES in {}\".format(database_name)\n",
    "\n",
    "df_show = pd.read_sql(statement, conn)\n",
    "df_show.head(5)"
   ]
  },
  {
   "cell_type": "code",
   "execution_count": 156,
   "id": "c9b89c5d-8e29-4a5b-93b1-47eace952e7c",
   "metadata": {
    "tags": []
   },
   "outputs": [],
   "source": [
    "pd.read_sql(statement_1, conn)\n",
    "\n",
    "df_2022 = pd.read_sql(f\"SELECT * FROM {database_name}.{table_name1}\", conn)"
   ]
  },
  {
   "cell_type": "code",
   "execution_count": 157,
   "id": "abefad77-d4b6-4be9-b8f1-5c4b5649e9fd",
   "metadata": {
    "tags": []
   },
   "outputs": [
    {
     "data": {
      "text/html": [
       "<div>\n",
       "<style scoped>\n",
       "    .dataframe tbody tr th:only-of-type {\n",
       "        vertical-align: middle;\n",
       "    }\n",
       "\n",
       "    .dataframe tbody tr th {\n",
       "        vertical-align: top;\n",
       "    }\n",
       "\n",
       "    .dataframe thead th {\n",
       "        text-align: right;\n",
       "    }\n",
       "</style>\n",
       "<table border=\"1\" class=\"dataframe\">\n",
       "  <thead>\n",
       "    <tr style=\"text-align: right;\">\n",
       "      <th></th>\n",
       "      <th>incident_num</th>\n",
       "      <th>date_time</th>\n",
       "      <th>day_of_week</th>\n",
       "      <th>address_number_primary</th>\n",
       "      <th>address_dir_primary</th>\n",
       "      <th>address_road_primary</th>\n",
       "      <th>address_sfx_primary</th>\n",
       "      <th>address_dir_intersecting</th>\n",
       "      <th>address_road_intersecting</th>\n",
       "      <th>address_sfx_intersecting</th>\n",
       "      <th>call_type</th>\n",
       "      <th>disposition</th>\n",
       "      <th>beat</th>\n",
       "      <th>priority</th>\n",
       "    </tr>\n",
       "  </thead>\n",
       "  <tbody>\n",
       "    <tr>\n",
       "      <th>0</th>\n",
       "      <td>E22060041419</td>\n",
       "      <td>2022-06-29 11:42:21</td>\n",
       "      <td>4</td>\n",
       "      <td>0</td>\n",
       "      <td>None</td>\n",
       "      <td>01ST</td>\n",
       "      <td>AVE</td>\n",
       "      <td>None</td>\n",
       "      <td>CEDAR</td>\n",
       "      <td>None</td>\n",
       "      <td>415W</td>\n",
       "      <td>DUP</td>\n",
       "      <td>526</td>\n",
       "      <td>0</td>\n",
       "    </tr>\n",
       "    <tr>\n",
       "      <th>1</th>\n",
       "      <td>E22060041420</td>\n",
       "      <td>2022-06-29 11:43:50</td>\n",
       "      <td>4</td>\n",
       "      <td>3800</td>\n",
       "      <td>None</td>\n",
       "      <td>JEWELL</td>\n",
       "      <td>ST</td>\n",
       "      <td>None</td>\n",
       "      <td>None</td>\n",
       "      <td>None</td>\n",
       "      <td>5150</td>\n",
       "      <td>A</td>\n",
       "      <td>122</td>\n",
       "      <td>2</td>\n",
       "    </tr>\n",
       "    <tr>\n",
       "      <th>2</th>\n",
       "      <td>E22060041422</td>\n",
       "      <td>2022-06-29 11:44:26</td>\n",
       "      <td>4</td>\n",
       "      <td>3600</td>\n",
       "      <td>None</td>\n",
       "      <td>DALBERGIA</td>\n",
       "      <td>ST</td>\n",
       "      <td>None</td>\n",
       "      <td>None</td>\n",
       "      <td>None</td>\n",
       "      <td>CC</td>\n",
       "      <td>R</td>\n",
       "      <td>511</td>\n",
       "      <td>3</td>\n",
       "    </tr>\n",
       "    <tr>\n",
       "      <th>3</th>\n",
       "      <td>E22060041423</td>\n",
       "      <td>2022-06-29 11:44:52</td>\n",
       "      <td>4</td>\n",
       "      <td>2500</td>\n",
       "      <td>None</td>\n",
       "      <td>EL CAJON</td>\n",
       "      <td>BLV</td>\n",
       "      <td>None</td>\n",
       "      <td>None</td>\n",
       "      <td>None</td>\n",
       "      <td>415</td>\n",
       "      <td>K</td>\n",
       "      <td>813</td>\n",
       "      <td>2</td>\n",
       "    </tr>\n",
       "    <tr>\n",
       "      <th>4</th>\n",
       "      <td>E22060041425</td>\n",
       "      <td>2022-06-29 11:45:32</td>\n",
       "      <td>4</td>\n",
       "      <td>2400</td>\n",
       "      <td>None</td>\n",
       "      <td>TOSCA</td>\n",
       "      <td>WAY</td>\n",
       "      <td>None</td>\n",
       "      <td>None</td>\n",
       "      <td>None</td>\n",
       "      <td>1171</td>\n",
       "      <td>K</td>\n",
       "      <td>621</td>\n",
       "      <td>1</td>\n",
       "    </tr>\n",
       "    <tr>\n",
       "      <th>...</th>\n",
       "      <td>...</td>\n",
       "      <td>...</td>\n",
       "      <td>...</td>\n",
       "      <td>...</td>\n",
       "      <td>...</td>\n",
       "      <td>...</td>\n",
       "      <td>...</td>\n",
       "      <td>...</td>\n",
       "      <td>...</td>\n",
       "      <td>...</td>\n",
       "      <td>...</td>\n",
       "      <td>...</td>\n",
       "      <td>...</td>\n",
       "      <td>...</td>\n",
       "    </tr>\n",
       "    <tr>\n",
       "      <th>499251</th>\n",
       "      <td>E22060041414</td>\n",
       "      <td>2022-06-29 11:38:55</td>\n",
       "      <td>4</td>\n",
       "      <td>4100</td>\n",
       "      <td>None</td>\n",
       "      <td>54TH</td>\n",
       "      <td>PL</td>\n",
       "      <td>None</td>\n",
       "      <td>None</td>\n",
       "      <td>None</td>\n",
       "      <td>594</td>\n",
       "      <td>R</td>\n",
       "      <td>822</td>\n",
       "      <td>2</td>\n",
       "    </tr>\n",
       "    <tr>\n",
       "      <th>499252</th>\n",
       "      <td>E22060041415</td>\n",
       "      <td>2022-06-29 11:38:57</td>\n",
       "      <td>4</td>\n",
       "      <td>5000</td>\n",
       "      <td>None</td>\n",
       "      <td>SANTA MONICA</td>\n",
       "      <td>AVE</td>\n",
       "      <td>None</td>\n",
       "      <td>None</td>\n",
       "      <td>None</td>\n",
       "      <td>242</td>\n",
       "      <td>R</td>\n",
       "      <td>614</td>\n",
       "      <td>1</td>\n",
       "    </tr>\n",
       "    <tr>\n",
       "      <th>499253</th>\n",
       "      <td>E22060041416</td>\n",
       "      <td>2022-06-29 11:40:20</td>\n",
       "      <td>4</td>\n",
       "      <td>4800</td>\n",
       "      <td>None</td>\n",
       "      <td>DEL MAR</td>\n",
       "      <td>AVE</td>\n",
       "      <td>None</td>\n",
       "      <td>None</td>\n",
       "      <td>None</td>\n",
       "      <td>INFO</td>\n",
       "      <td>K</td>\n",
       "      <td>614</td>\n",
       "      <td>2</td>\n",
       "    </tr>\n",
       "    <tr>\n",
       "      <th>499254</th>\n",
       "      <td>E22060041417</td>\n",
       "      <td>2022-06-29 11:41:47</td>\n",
       "      <td>4</td>\n",
       "      <td>300</td>\n",
       "      <td>None</td>\n",
       "      <td>05TH</td>\n",
       "      <td>AVE</td>\n",
       "      <td>None</td>\n",
       "      <td>None</td>\n",
       "      <td>None</td>\n",
       "      <td>1186</td>\n",
       "      <td>K</td>\n",
       "      <td>523</td>\n",
       "      <td>3</td>\n",
       "    </tr>\n",
       "    <tr>\n",
       "      <th>499255</th>\n",
       "      <td>E22060041418</td>\n",
       "      <td>2022-06-29 11:42:15</td>\n",
       "      <td>4</td>\n",
       "      <td>3400</td>\n",
       "      <td>None</td>\n",
       "      <td>ADAMS</td>\n",
       "      <td>AVE</td>\n",
       "      <td>None</td>\n",
       "      <td>None</td>\n",
       "      <td>None</td>\n",
       "      <td>487R</td>\n",
       "      <td>R</td>\n",
       "      <td>814</td>\n",
       "      <td>3</td>\n",
       "    </tr>\n",
       "  </tbody>\n",
       "</table>\n",
       "<p>499256 rows × 14 columns</p>\n",
       "</div>"
      ],
      "text/plain": [
       "        incident_num            date_time  day_of_week  \\\n",
       "0       E22060041419  2022-06-29 11:42:21            4   \n",
       "1       E22060041420  2022-06-29 11:43:50            4   \n",
       "2       E22060041422  2022-06-29 11:44:26            4   \n",
       "3       E22060041423  2022-06-29 11:44:52            4   \n",
       "4       E22060041425  2022-06-29 11:45:32            4   \n",
       "...              ...                  ...          ...   \n",
       "499251  E22060041414  2022-06-29 11:38:55            4   \n",
       "499252  E22060041415  2022-06-29 11:38:57            4   \n",
       "499253  E22060041416  2022-06-29 11:40:20            4   \n",
       "499254  E22060041417  2022-06-29 11:41:47            4   \n",
       "499255  E22060041418  2022-06-29 11:42:15            4   \n",
       "\n",
       "        address_number_primary address_dir_primary address_road_primary  \\\n",
       "0                            0                None                 01ST   \n",
       "1                         3800                None               JEWELL   \n",
       "2                         3600                None            DALBERGIA   \n",
       "3                         2500                None             EL CAJON   \n",
       "4                         2400                None                TOSCA   \n",
       "...                        ...                 ...                  ...   \n",
       "499251                    4100                None                 54TH   \n",
       "499252                    5000                None         SANTA MONICA   \n",
       "499253                    4800                None              DEL MAR   \n",
       "499254                     300                None                 05TH   \n",
       "499255                    3400                None                ADAMS   \n",
       "\n",
       "       address_sfx_primary address_dir_intersecting address_road_intersecting  \\\n",
       "0                      AVE                     None                     CEDAR   \n",
       "1                       ST                     None                      None   \n",
       "2                       ST                     None                      None   \n",
       "3                      BLV                     None                      None   \n",
       "4                      WAY                     None                      None   \n",
       "...                    ...                      ...                       ...   \n",
       "499251                  PL                     None                      None   \n",
       "499252                 AVE                     None                      None   \n",
       "499253                 AVE                     None                      None   \n",
       "499254                 AVE                     None                      None   \n",
       "499255                 AVE                     None                      None   \n",
       "\n",
       "       address_sfx_intersecting call_type disposition  beat  priority  \n",
       "0                          None      415W         DUP   526         0  \n",
       "1                          None      5150           A   122         2  \n",
       "2                          None        CC           R   511         3  \n",
       "3                          None       415           K   813         2  \n",
       "4                          None      1171           K   621         1  \n",
       "...                         ...       ...         ...   ...       ...  \n",
       "499251                     None       594           R   822         2  \n",
       "499252                     None       242           R   614         1  \n",
       "499253                     None      INFO           K   614         2  \n",
       "499254                     None      1186           K   523         3  \n",
       "499255                     None      487R           R   814         3  \n",
       "\n",
       "[499256 rows x 14 columns]"
      ]
     },
     "execution_count": 157,
     "metadata": {},
     "output_type": "execute_result"
    }
   ],
   "source": [
    "df_2022"
   ]
  },
  {
   "cell_type": "markdown",
   "id": "2879e9a4-0095-4372-ad14-8383e962984a",
   "metadata": {},
   "source": [
    "# S3 Bucket Folder Information for 2023"
   ]
  },
  {
   "cell_type": "code",
   "execution_count": 158,
   "id": "e7eeb68d-dfaa-45e5-af00-493744856540",
   "metadata": {
    "tags": []
   },
   "outputs": [
    {
     "name": "stdout",
     "output_type": "stream",
     "text": [
      "s3://sagemaker-us-east-1-859074047513/SanDiego-Police-Dataset/policedatasetsd23/csv\n"
     ]
    }
   ],
   "source": [
    "s3_private_path_csv2 = \"s3://{}/SanDiego-Police-Dataset/policedatasetsd23/csv\".format(bucket)\n",
    "print(s3_private_path_csv2)"
   ]
  },
  {
   "cell_type": "code",
   "execution_count": 159,
   "id": "035cce18-4e55-4751-a141-1bab5dc24f67",
   "metadata": {
    "tags": []
   },
   "outputs": [],
   "source": [
    "table_name2 = \"table_sd_2023\""
   ]
  },
  {
   "cell_type": "code",
   "execution_count": 160,
   "id": "c0d7a0d6-79bf-4949-a9fe-9d6f652ec7c0",
   "metadata": {
    "tags": []
   },
   "outputs": [
    {
     "name": "stdout",
     "output_type": "stream",
     "text": [
      "CREATE EXTERNAL TABLE IF NOT EXISTS sd_police_db.table_sd_2023(\n",
      "incident_num string,\n",
      "date_time string,\n",
      "day_of_week int,\n",
      "address_number_primary int,\n",
      "address_dir_primary string,\n",
      "address_road_primary string,\n",
      "address_sfx_primary string,\n",
      "address_dir_intersecting string,\n",
      "address_road_intersecting string,\n",
      "address_sfx_intersecting string,\n",
      "call_type string,\n",
      "disposition string,\n",
      "beat int,\n",
      "priority int) \n",
      "\n",
      "ROW FORMAT DELIMITED FIELDS TERMINATED BY ',' NULL DEFINED AS '' LOCATION 's3://sagemaker-us-east-1-859074047513/SanDiego-Police-Dataset/policedatasetsd23/csv'\n",
      "TBLPROPERTIES ('skip.header.line.count'='1',\n",
      "                'serialization.null.format'='')\n"
     ]
    }
   ],
   "source": [
    "# SQL statement to execute\n",
    "statement_2 = \"\"\"CREATE EXTERNAL TABLE IF NOT EXISTS {}.{}(\n",
    "incident_num string,\n",
    "date_time string,\n",
    "day_of_week int,\n",
    "address_number_primary int,\n",
    "address_dir_primary string,\n",
    "address_road_primary string,\n",
    "address_sfx_primary string,\n",
    "address_dir_intersecting string,\n",
    "address_road_intersecting string,\n",
    "address_sfx_intersecting string,\n",
    "call_type string,\n",
    "disposition string,\n",
    "beat int,\n",
    "priority int) \n",
    "\n",
    "ROW FORMAT DELIMITED FIELDS TERMINATED BY ',' NULL DEFINED AS '' LOCATION '{}'\n",
    "TBLPROPERTIES ('skip.header.line.count'='1',\n",
    "                'serialization.null.format'='')\"\"\".format(database_name, table_name2, s3_private_path_csv2)\n",
    "\n",
    "print(statement_2)"
   ]
  },
  {
   "cell_type": "code",
   "execution_count": 161,
   "id": "0f6aa8f6-039f-4740-bbc1-e6253b64412c",
   "metadata": {
    "tags": []
   },
   "outputs": [
    {
     "data": {
      "text/html": [
       "<div>\n",
       "<style scoped>\n",
       "    .dataframe tbody tr th:only-of-type {\n",
       "        vertical-align: middle;\n",
       "    }\n",
       "\n",
       "    .dataframe tbody tr th {\n",
       "        vertical-align: top;\n",
       "    }\n",
       "\n",
       "    .dataframe thead th {\n",
       "        text-align: right;\n",
       "    }\n",
       "</style>\n",
       "<table border=\"1\" class=\"dataframe\">\n",
       "  <thead>\n",
       "    <tr style=\"text-align: right;\">\n",
       "      <th></th>\n",
       "    </tr>\n",
       "  </thead>\n",
       "  <tbody>\n",
       "  </tbody>\n",
       "</table>\n",
       "</div>"
      ],
      "text/plain": [
       "Empty DataFrame\n",
       "Columns: []\n",
       "Index: []"
      ]
     },
     "execution_count": 161,
     "metadata": {},
     "output_type": "execute_result"
    }
   ],
   "source": [
    "import pandas as pd\n",
    "\n",
    "pd.read_sql(statement_2, conn)"
   ]
  },
  {
   "cell_type": "code",
   "execution_count": 162,
   "id": "5b0bb471-8e55-4ce3-9e70-2158585475db",
   "metadata": {
    "tags": []
   },
   "outputs": [
    {
     "data": {
      "text/html": [
       "<div>\n",
       "<style scoped>\n",
       "    .dataframe tbody tr th:only-of-type {\n",
       "        vertical-align: middle;\n",
       "    }\n",
       "\n",
       "    .dataframe tbody tr th {\n",
       "        vertical-align: top;\n",
       "    }\n",
       "\n",
       "    .dataframe thead th {\n",
       "        text-align: right;\n",
       "    }\n",
       "</style>\n",
       "<table border=\"1\" class=\"dataframe\">\n",
       "  <thead>\n",
       "    <tr style=\"text-align: right;\">\n",
       "      <th></th>\n",
       "      <th>tab_name</th>\n",
       "    </tr>\n",
       "  </thead>\n",
       "  <tbody>\n",
       "    <tr>\n",
       "      <th>0</th>\n",
       "      <td>table_sd_2021</td>\n",
       "    </tr>\n",
       "    <tr>\n",
       "      <th>1</th>\n",
       "      <td>table_sd_2022</td>\n",
       "    </tr>\n",
       "    <tr>\n",
       "      <th>2</th>\n",
       "      <td>table_sd_2023</td>\n",
       "    </tr>\n",
       "  </tbody>\n",
       "</table>\n",
       "</div>"
      ],
      "text/plain": [
       "        tab_name\n",
       "0  table_sd_2021\n",
       "1  table_sd_2022\n",
       "2  table_sd_2023"
      ]
     },
     "execution_count": 162,
     "metadata": {},
     "output_type": "execute_result"
    }
   ],
   "source": [
    "database_name = \"sd_police_db\"\n",
    "statement = \"SHOW TABLES in {}\".format(database_name)\n",
    "\n",
    "df_show = pd.read_sql(statement, conn)\n",
    "df_show.head(5)"
   ]
  },
  {
   "cell_type": "code",
   "execution_count": 163,
   "id": "0ad1d875-3913-4c22-a9f0-cea2357bb75a",
   "metadata": {
    "tags": []
   },
   "outputs": [],
   "source": [
    "pd.read_sql(statement_2, conn)\n",
    "\n",
    "df_2023 = pd.read_sql(f\"SELECT * FROM {database_name}.{table_name2}\", conn)"
   ]
  },
  {
   "cell_type": "code",
   "execution_count": 164,
   "id": "a8f9cb31-b55c-4626-b107-d7939f1993c1",
   "metadata": {
    "tags": []
   },
   "outputs": [
    {
     "data": {
      "text/html": [
       "<div>\n",
       "<style scoped>\n",
       "    .dataframe tbody tr th:only-of-type {\n",
       "        vertical-align: middle;\n",
       "    }\n",
       "\n",
       "    .dataframe tbody tr th {\n",
       "        vertical-align: top;\n",
       "    }\n",
       "\n",
       "    .dataframe thead th {\n",
       "        text-align: right;\n",
       "    }\n",
       "</style>\n",
       "<table border=\"1\" class=\"dataframe\">\n",
       "  <thead>\n",
       "    <tr style=\"text-align: right;\">\n",
       "      <th></th>\n",
       "      <th>incident_num</th>\n",
       "      <th>date_time</th>\n",
       "      <th>day_of_week</th>\n",
       "      <th>address_number_primary</th>\n",
       "      <th>address_dir_primary</th>\n",
       "      <th>address_road_primary</th>\n",
       "      <th>address_sfx_primary</th>\n",
       "      <th>address_dir_intersecting</th>\n",
       "      <th>address_road_intersecting</th>\n",
       "      <th>address_sfx_intersecting</th>\n",
       "      <th>call_type</th>\n",
       "      <th>disposition</th>\n",
       "      <th>beat</th>\n",
       "      <th>priority</th>\n",
       "    </tr>\n",
       "  </thead>\n",
       "  <tbody>\n",
       "    <tr>\n",
       "      <th>0</th>\n",
       "      <td>E23010004824</td>\n",
       "      <td>2023-01-04 15:59:54</td>\n",
       "      <td>4</td>\n",
       "      <td>5500</td>\n",
       "      <td>None</td>\n",
       "      <td>OTAY MESA</td>\n",
       "      <td>RD</td>\n",
       "      <td>None</td>\n",
       "      <td>None</td>\n",
       "      <td>None</td>\n",
       "      <td>586</td>\n",
       "      <td>O</td>\n",
       "      <td>725</td>\n",
       "      <td>4</td>\n",
       "    </tr>\n",
       "    <tr>\n",
       "      <th>1</th>\n",
       "      <td>E23010004825</td>\n",
       "      <td>2023-01-04 16:00:10</td>\n",
       "      <td>4</td>\n",
       "      <td>500</td>\n",
       "      <td>None</td>\n",
       "      <td>13TH</td>\n",
       "      <td>ST</td>\n",
       "      <td>None</td>\n",
       "      <td>None</td>\n",
       "      <td>None</td>\n",
       "      <td>415</td>\n",
       "      <td>K</td>\n",
       "      <td>521</td>\n",
       "      <td>2</td>\n",
       "    </tr>\n",
       "    <tr>\n",
       "      <th>2</th>\n",
       "      <td>E23010004826</td>\n",
       "      <td>2023-01-04 16:00:37</td>\n",
       "      <td>4</td>\n",
       "      <td>0</td>\n",
       "      <td>None</td>\n",
       "      <td>48TH</td>\n",
       "      <td>ST</td>\n",
       "      <td>None</td>\n",
       "      <td>TROJAN</td>\n",
       "      <td>None</td>\n",
       "      <td>CW</td>\n",
       "      <td>K</td>\n",
       "      <td>826</td>\n",
       "      <td>1</td>\n",
       "    </tr>\n",
       "    <tr>\n",
       "      <th>3</th>\n",
       "      <td>E23010004827</td>\n",
       "      <td>2023-01-04 16:00:50</td>\n",
       "      <td>4</td>\n",
       "      <td>6800</td>\n",
       "      <td>None</td>\n",
       "      <td>CARTHAGE</td>\n",
       "      <td>ST</td>\n",
       "      <td>None</td>\n",
       "      <td>None</td>\n",
       "      <td>None</td>\n",
       "      <td>415V</td>\n",
       "      <td>A</td>\n",
       "      <td>322</td>\n",
       "      <td>1</td>\n",
       "    </tr>\n",
       "    <tr>\n",
       "      <th>4</th>\n",
       "      <td>E23010004828</td>\n",
       "      <td>2023-01-04 16:01:24</td>\n",
       "      <td>4</td>\n",
       "      <td>2700</td>\n",
       "      <td>None</td>\n",
       "      <td>WORDEN</td>\n",
       "      <td>ST</td>\n",
       "      <td>None</td>\n",
       "      <td>None</td>\n",
       "      <td>None</td>\n",
       "      <td>415</td>\n",
       "      <td>K</td>\n",
       "      <td>613</td>\n",
       "      <td>2</td>\n",
       "    </tr>\n",
       "    <tr>\n",
       "      <th>...</th>\n",
       "      <td>...</td>\n",
       "      <td>...</td>\n",
       "      <td>...</td>\n",
       "      <td>...</td>\n",
       "      <td>...</td>\n",
       "      <td>...</td>\n",
       "      <td>...</td>\n",
       "      <td>...</td>\n",
       "      <td>...</td>\n",
       "      <td>...</td>\n",
       "      <td>...</td>\n",
       "      <td>...</td>\n",
       "      <td>...</td>\n",
       "      <td>...</td>\n",
       "    </tr>\n",
       "    <tr>\n",
       "      <th>99806</th>\n",
       "      <td>E23030022386</td>\n",
       "      <td>2023-03-15 23:25:50</td>\n",
       "      <td>4</td>\n",
       "      <td>2500</td>\n",
       "      <td>None</td>\n",
       "      <td>IMPERIAL</td>\n",
       "      <td>AVE</td>\n",
       "      <td>None</td>\n",
       "      <td>None</td>\n",
       "      <td>None</td>\n",
       "      <td>INFO</td>\n",
       "      <td>K</td>\n",
       "      <td>512</td>\n",
       "      <td>2</td>\n",
       "    </tr>\n",
       "    <tr>\n",
       "      <th>99807</th>\n",
       "      <td>E23030022400</td>\n",
       "      <td>2023-03-15 23:44:05</td>\n",
       "      <td>4</td>\n",
       "      <td>800</td>\n",
       "      <td>None</td>\n",
       "      <td>27TH (SB)</td>\n",
       "      <td>ST</td>\n",
       "      <td>None</td>\n",
       "      <td>None</td>\n",
       "      <td>None</td>\n",
       "      <td>5150</td>\n",
       "      <td>K</td>\n",
       "      <td>724</td>\n",
       "      <td>1</td>\n",
       "    </tr>\n",
       "    <tr>\n",
       "      <th>99808</th>\n",
       "      <td>E23030022401</td>\n",
       "      <td>2023-03-15 23:44:23</td>\n",
       "      <td>4</td>\n",
       "      <td>14700</td>\n",
       "      <td>None</td>\n",
       "      <td>VALLE DEL SUR</td>\n",
       "      <td>CT</td>\n",
       "      <td>None</td>\n",
       "      <td>None</td>\n",
       "      <td>None</td>\n",
       "      <td>459A</td>\n",
       "      <td>CAN</td>\n",
       "      <td>937</td>\n",
       "      <td>2</td>\n",
       "    </tr>\n",
       "    <tr>\n",
       "      <th>99809</th>\n",
       "      <td>E23030022404</td>\n",
       "      <td>2023-03-15 23:46:26</td>\n",
       "      <td>4</td>\n",
       "      <td>400</td>\n",
       "      <td>None</td>\n",
       "      <td>17TH</td>\n",
       "      <td>ST</td>\n",
       "      <td>None</td>\n",
       "      <td>None</td>\n",
       "      <td>None</td>\n",
       "      <td>SELENF</td>\n",
       "      <td>K</td>\n",
       "      <td>521</td>\n",
       "      <td>3</td>\n",
       "    </tr>\n",
       "    <tr>\n",
       "      <th>99810</th>\n",
       "      <td>E23030022407</td>\n",
       "      <td>2023-03-15 23:53:07</td>\n",
       "      <td>4</td>\n",
       "      <td>600</td>\n",
       "      <td>None</td>\n",
       "      <td>15TH</td>\n",
       "      <td>ST</td>\n",
       "      <td>None</td>\n",
       "      <td>None</td>\n",
       "      <td>None</td>\n",
       "      <td>SELENF</td>\n",
       "      <td>K</td>\n",
       "      <td>521</td>\n",
       "      <td>3</td>\n",
       "    </tr>\n",
       "  </tbody>\n",
       "</table>\n",
       "<p>99811 rows × 14 columns</p>\n",
       "</div>"
      ],
      "text/plain": [
       "       incident_num            date_time  day_of_week  address_number_primary  \\\n",
       "0      E23010004824  2023-01-04 15:59:54            4                    5500   \n",
       "1      E23010004825  2023-01-04 16:00:10            4                     500   \n",
       "2      E23010004826  2023-01-04 16:00:37            4                       0   \n",
       "3      E23010004827  2023-01-04 16:00:50            4                    6800   \n",
       "4      E23010004828  2023-01-04 16:01:24            4                    2700   \n",
       "...             ...                  ...          ...                     ...   \n",
       "99806  E23030022386  2023-03-15 23:25:50            4                    2500   \n",
       "99807  E23030022400  2023-03-15 23:44:05            4                     800   \n",
       "99808  E23030022401  2023-03-15 23:44:23            4                   14700   \n",
       "99809  E23030022404  2023-03-15 23:46:26            4                     400   \n",
       "99810  E23030022407  2023-03-15 23:53:07            4                     600   \n",
       "\n",
       "      address_dir_primary address_road_primary address_sfx_primary  \\\n",
       "0                    None            OTAY MESA                  RD   \n",
       "1                    None                 13TH                  ST   \n",
       "2                    None                 48TH                  ST   \n",
       "3                    None             CARTHAGE                  ST   \n",
       "4                    None               WORDEN                  ST   \n",
       "...                   ...                  ...                 ...   \n",
       "99806                None             IMPERIAL                 AVE   \n",
       "99807                None            27TH (SB)                  ST   \n",
       "99808                None        VALLE DEL SUR                  CT   \n",
       "99809                None                 17TH                  ST   \n",
       "99810                None                 15TH                  ST   \n",
       "\n",
       "      address_dir_intersecting address_road_intersecting  \\\n",
       "0                         None                      None   \n",
       "1                         None                      None   \n",
       "2                         None                    TROJAN   \n",
       "3                         None                      None   \n",
       "4                         None                      None   \n",
       "...                        ...                       ...   \n",
       "99806                     None                      None   \n",
       "99807                     None                      None   \n",
       "99808                     None                      None   \n",
       "99809                     None                      None   \n",
       "99810                     None                      None   \n",
       "\n",
       "      address_sfx_intersecting call_type disposition  beat  priority  \n",
       "0                         None       586           O   725         4  \n",
       "1                         None       415           K   521         2  \n",
       "2                         None        CW           K   826         1  \n",
       "3                         None      415V           A   322         1  \n",
       "4                         None       415           K   613         2  \n",
       "...                        ...       ...         ...   ...       ...  \n",
       "99806                     None      INFO           K   512         2  \n",
       "99807                     None      5150           K   724         1  \n",
       "99808                     None      459A         CAN   937         2  \n",
       "99809                     None    SELENF           K   521         3  \n",
       "99810                     None    SELENF           K   521         3  \n",
       "\n",
       "[99811 rows x 14 columns]"
      ]
     },
     "execution_count": 164,
     "metadata": {},
     "output_type": "execute_result"
    }
   ],
   "source": [
    "df_2023"
   ]
  },
  {
   "cell_type": "markdown",
   "id": "a9c1d5d0-23aa-4e18-9060-bebfec94d1a1",
   "metadata": {},
   "source": [
    "# S3 Bucket Folder Information for RIPA Dataset"
   ]
  },
  {
   "cell_type": "code",
   "execution_count": 165,
   "id": "3e634335-37d8-42a7-bbac-7cb9ab74dc1d",
   "metadata": {
    "tags": []
   },
   "outputs": [],
   "source": [
    "# s3_private_path_csv_ripa = \"s3://{}/SanDiego-Police-Dataset/ripapolicedatasetsd/csv\".format(bucket)\n",
    "# print(s3_private_path_csv_ripa)"
   ]
  },
  {
   "cell_type": "code",
   "execution_count": 166,
   "id": "a8e886b2-3039-422c-87d8-f4c2799d7916",
   "metadata": {
    "tags": []
   },
   "outputs": [],
   "source": [
    "# table_name3 = \"table_sd_ripa\""
   ]
  },
  {
   "cell_type": "code",
   "execution_count": 167,
   "id": "daa77558-b150-440b-a028-e820038a1c2e",
   "metadata": {
    "tags": []
   },
   "outputs": [],
   "source": [
    "# # SQL statement to execute\n",
    "# statement_3 = \"\"\"CREATE EXTERNAL TABLE IF NOT EXISTS {}.{}(\n",
    "# `stop_id` string,\n",
    "# `ori` string,\n",
    "# `agency` string,\n",
    "# `exp_years` string,\n",
    "# `date_stop` string,\n",
    "# `time_stop` string,\n",
    "# `stopduration` string,\n",
    "# `stop_in_response_to_cfs` string,\n",
    "# `office_assignment_key` string,\n",
    "# `assignment` string,\n",
    "# `intersection` string,\n",
    "# `address_block` string,\n",
    "# `land_mark` string,\n",
    "# `address_street` string,\n",
    "# `highway_exit` string,\n",
    "# `isschool` string,\n",
    "# `school_name` string,\n",
    "# `address_city` string,\n",
    "# `beat` string,\n",
    "# `beat_name` string,\n",
    "# `pid` string,\n",
    "# `isstudent` string,\n",
    "# `perceived_limited_english` string,\n",
    "# `perceived_age` string,\n",
    "# `perceived_gender` string,\n",
    "# `gender_nonconforming` string,\n",
    "# `gend` string,\n",
    "# `gend_nc` string,\n",
    "# `perceived_lgbt` string\n",
    "# ) \n",
    "\n",
    "# ROW FORMAT SERDE 'org.apache.hadoop.hive.serde2.OpenCSVSerde'\n",
    "# WITH SERDEPROPERTIES (\"separatorChar\" = \",\")\n",
    "# LOCATION '{}'\n",
    "# TBLPROPERTIES ('skip.header.line.count'='1',\n",
    "#                'serialization.null.format'='')\"\"\".format(database_name, table_name3, s3_private_path_csv_ripa)\n",
    "\n",
    "\n",
    "# print(statement_3)"
   ]
  },
  {
   "cell_type": "code",
   "execution_count": 168,
   "id": "02dc4281-84d8-470d-a73e-ee23cdd4ed7c",
   "metadata": {
    "tags": []
   },
   "outputs": [],
   "source": [
    "# import pandas as pd\n",
    "\n",
    "# pd.read_sql(statement_3, conn)"
   ]
  },
  {
   "cell_type": "code",
   "execution_count": 169,
   "id": "b6740d8c-3a74-49b9-a918-b6e284cf1de4",
   "metadata": {
    "tags": []
   },
   "outputs": [],
   "source": [
    "# database_name = \"sd_police_db\"\n",
    "# statement = \"SHOW TABLES in {}\".format(database_name)\n",
    "\n",
    "# df_show = pd.read_sql(statement, conn)\n",
    "# df_show.head(5)"
   ]
  },
  {
   "cell_type": "code",
   "execution_count": 170,
   "id": "a9a83a64-381d-46ce-8f03-805af772bfd7",
   "metadata": {
    "tags": []
   },
   "outputs": [],
   "source": [
    "# pd.read_sql(statement_3, conn)\n",
    "\n",
    "# ripa_df = pd.read_sql(f\"SELECT * FROM {database_name}.{table_name3}\", conn)"
   ]
  },
  {
   "cell_type": "markdown",
   "id": "078761ab-40f5-426a-bc3e-4a2a16e3f7f7",
   "metadata": {},
   "source": [
    "# Join The Three datasets 2021, 2022, 2023"
   ]
  },
  {
   "cell_type": "code",
   "execution_count": 171,
   "id": "e13770c3-be4c-407e-9cf0-e718f2c4c444",
   "metadata": {
    "tags": []
   },
   "outputs": [],
   "source": [
    "police_call_df = pd.read_sql(f\"SELECT * FROM {database_name}.{table_name} UNION ALL \\\n",
    "                               SELECT * FROM {database_name}.{table_name1} UNION ALL \\\n",
    "                               SELECT * FROM {database_name}.{table_name2} LIMIT 20\", conn)"
   ]
  },
  {
   "cell_type": "code",
   "execution_count": 172,
   "id": "df0d9d40-b96e-4681-93e6-a6aadaa9cd3e",
   "metadata": {
    "tags": []
   },
   "outputs": [
    {
     "data": {
      "text/html": [
       "<div>\n",
       "<style scoped>\n",
       "    .dataframe tbody tr th:only-of-type {\n",
       "        vertical-align: middle;\n",
       "    }\n",
       "\n",
       "    .dataframe tbody tr th {\n",
       "        vertical-align: top;\n",
       "    }\n",
       "\n",
       "    .dataframe thead th {\n",
       "        text-align: right;\n",
       "    }\n",
       "</style>\n",
       "<table border=\"1\" class=\"dataframe\">\n",
       "  <thead>\n",
       "    <tr style=\"text-align: right;\">\n",
       "      <th></th>\n",
       "      <th>incident_num</th>\n",
       "      <th>date_time</th>\n",
       "      <th>day_of_week</th>\n",
       "      <th>address_number_primary</th>\n",
       "      <th>address_dir_primary</th>\n",
       "      <th>address_road_primary</th>\n",
       "      <th>address_sfx_primary</th>\n",
       "      <th>address_dir_intersecting</th>\n",
       "      <th>address_road_intersecting</th>\n",
       "      <th>address_sfx_intersecting</th>\n",
       "      <th>call_type</th>\n",
       "      <th>disposition</th>\n",
       "      <th>beat</th>\n",
       "      <th>priority</th>\n",
       "    </tr>\n",
       "  </thead>\n",
       "  <tbody>\n",
       "    <tr>\n",
       "      <th>0</th>\n",
       "      <td>E21060046805</td>\n",
       "      <td>2021-06-28 07:36:28</td>\n",
       "      <td>2</td>\n",
       "      <td>5200</td>\n",
       "      <td>None</td>\n",
       "      <td>52ND</td>\n",
       "      <td>PL</td>\n",
       "      <td>None</td>\n",
       "      <td>None</td>\n",
       "      <td>None</td>\n",
       "      <td>SELENF</td>\n",
       "      <td>O</td>\n",
       "      <td>826</td>\n",
       "      <td>3</td>\n",
       "    </tr>\n",
       "    <tr>\n",
       "      <th>1</th>\n",
       "      <td>E21060046806</td>\n",
       "      <td>2021-06-28 07:36:33</td>\n",
       "      <td>2</td>\n",
       "      <td>3400</td>\n",
       "      <td>None</td>\n",
       "      <td>SPORTS ARENA</td>\n",
       "      <td>BLV</td>\n",
       "      <td>None</td>\n",
       "      <td>None</td>\n",
       "      <td>None</td>\n",
       "      <td>459A</td>\n",
       "      <td>K</td>\n",
       "      <td>611</td>\n",
       "      <td>3</td>\n",
       "    </tr>\n",
       "    <tr>\n",
       "      <th>2</th>\n",
       "      <td>E21060046807</td>\n",
       "      <td>2021-06-28 07:37:42</td>\n",
       "      <td>2</td>\n",
       "      <td>6200</td>\n",
       "      <td>None</td>\n",
       "      <td>MADELINE</td>\n",
       "      <td>ST</td>\n",
       "      <td>None</td>\n",
       "      <td>None</td>\n",
       "      <td>None</td>\n",
       "      <td>586</td>\n",
       "      <td>O</td>\n",
       "      <td>821</td>\n",
       "      <td>2</td>\n",
       "    </tr>\n",
       "    <tr>\n",
       "      <th>3</th>\n",
       "      <td>E21060046808</td>\n",
       "      <td>2021-06-28 07:38:22</td>\n",
       "      <td>2</td>\n",
       "      <td>1700</td>\n",
       "      <td>None</td>\n",
       "      <td>02ND</td>\n",
       "      <td>AVE</td>\n",
       "      <td>None</td>\n",
       "      <td>None</td>\n",
       "      <td>None</td>\n",
       "      <td>FU</td>\n",
       "      <td>O</td>\n",
       "      <td>529</td>\n",
       "      <td>2</td>\n",
       "    </tr>\n",
       "    <tr>\n",
       "      <th>4</th>\n",
       "      <td>E21060046809</td>\n",
       "      <td>2021-06-28 07:40:14</td>\n",
       "      <td>2</td>\n",
       "      <td>9200</td>\n",
       "      <td>None</td>\n",
       "      <td>AERO</td>\n",
       "      <td>DR</td>\n",
       "      <td>None</td>\n",
       "      <td>None</td>\n",
       "      <td>None</td>\n",
       "      <td>COURT</td>\n",
       "      <td>K</td>\n",
       "      <td>311</td>\n",
       "      <td>4</td>\n",
       "    </tr>\n",
       "    <tr>\n",
       "      <th>5</th>\n",
       "      <td>E21060046810</td>\n",
       "      <td>2021-06-28 07:41:35</td>\n",
       "      <td>2</td>\n",
       "      <td>4000</td>\n",
       "      <td>None</td>\n",
       "      <td>MENLO</td>\n",
       "      <td>AVE</td>\n",
       "      <td>None</td>\n",
       "      <td>None</td>\n",
       "      <td>None</td>\n",
       "      <td>SELENF</td>\n",
       "      <td>O</td>\n",
       "      <td>831</td>\n",
       "      <td>3</td>\n",
       "    </tr>\n",
       "    <tr>\n",
       "      <th>6</th>\n",
       "      <td>E21060046811</td>\n",
       "      <td>2021-06-28 07:42:12</td>\n",
       "      <td>2</td>\n",
       "      <td>9300</td>\n",
       "      <td>None</td>\n",
       "      <td>GALVIN</td>\n",
       "      <td>AVE</td>\n",
       "      <td>None</td>\n",
       "      <td>None</td>\n",
       "      <td>None</td>\n",
       "      <td>SELENF</td>\n",
       "      <td>K</td>\n",
       "      <td>242</td>\n",
       "      <td>3</td>\n",
       "    </tr>\n",
       "    <tr>\n",
       "      <th>7</th>\n",
       "      <td>E21060046813</td>\n",
       "      <td>2021-06-28 07:42:59</td>\n",
       "      <td>2</td>\n",
       "      <td>2500</td>\n",
       "      <td>None</td>\n",
       "      <td>MORENA</td>\n",
       "      <td>BLV</td>\n",
       "      <td>None</td>\n",
       "      <td>None</td>\n",
       "      <td>None</td>\n",
       "      <td>459R</td>\n",
       "      <td>R</td>\n",
       "      <td>116</td>\n",
       "      <td>3</td>\n",
       "    </tr>\n",
       "    <tr>\n",
       "      <th>8</th>\n",
       "      <td>E21060046814</td>\n",
       "      <td>2021-06-28 07:43:08</td>\n",
       "      <td>2</td>\n",
       "      <td>1400</td>\n",
       "      <td>None</td>\n",
       "      <td>02ND</td>\n",
       "      <td>AVE</td>\n",
       "      <td>None</td>\n",
       "      <td>None</td>\n",
       "      <td>None</td>\n",
       "      <td>FU</td>\n",
       "      <td>O</td>\n",
       "      <td>526</td>\n",
       "      <td>2</td>\n",
       "    </tr>\n",
       "    <tr>\n",
       "      <th>9</th>\n",
       "      <td>E21060046815</td>\n",
       "      <td>2021-06-28 07:43:41</td>\n",
       "      <td>2</td>\n",
       "      <td>1300</td>\n",
       "      <td>None</td>\n",
       "      <td>J</td>\n",
       "      <td>ST</td>\n",
       "      <td>None</td>\n",
       "      <td>None</td>\n",
       "      <td>None</td>\n",
       "      <td>C6</td>\n",
       "      <td>O</td>\n",
       "      <td>521</td>\n",
       "      <td>2</td>\n",
       "    </tr>\n",
       "    <tr>\n",
       "      <th>10</th>\n",
       "      <td>E21060046816</td>\n",
       "      <td>2021-06-28 07:45:47</td>\n",
       "      <td>2</td>\n",
       "      <td>5500</td>\n",
       "      <td>None</td>\n",
       "      <td>SANTA MARGARITA</td>\n",
       "      <td>ST</td>\n",
       "      <td>None</td>\n",
       "      <td>None</td>\n",
       "      <td>None</td>\n",
       "      <td>586</td>\n",
       "      <td>O</td>\n",
       "      <td>432</td>\n",
       "      <td>4</td>\n",
       "    </tr>\n",
       "    <tr>\n",
       "      <th>11</th>\n",
       "      <td>E21060046818</td>\n",
       "      <td>2021-06-28 07:47:20</td>\n",
       "      <td>2</td>\n",
       "      <td>4600</td>\n",
       "      <td>None</td>\n",
       "      <td>UNIVERSITY</td>\n",
       "      <td>AVE</td>\n",
       "      <td>None</td>\n",
       "      <td>None</td>\n",
       "      <td>None</td>\n",
       "      <td>SELENF</td>\n",
       "      <td>O</td>\n",
       "      <td>831</td>\n",
       "      <td>3</td>\n",
       "    </tr>\n",
       "    <tr>\n",
       "      <th>12</th>\n",
       "      <td>E21060046819</td>\n",
       "      <td>2021-06-28 07:47:22</td>\n",
       "      <td>2</td>\n",
       "      <td>0</td>\n",
       "      <td>None</td>\n",
       "      <td>NAPA</td>\n",
       "      <td>ST</td>\n",
       "      <td>None</td>\n",
       "      <td>LINDA VISTA</td>\n",
       "      <td>None</td>\n",
       "      <td>T</td>\n",
       "      <td>O</td>\n",
       "      <td>622</td>\n",
       "      <td>2</td>\n",
       "    </tr>\n",
       "    <tr>\n",
       "      <th>13</th>\n",
       "      <td>E21060046820</td>\n",
       "      <td>2021-06-28 07:47:24</td>\n",
       "      <td>2</td>\n",
       "      <td>7400</td>\n",
       "      <td>None</td>\n",
       "      <td>GOEN</td>\n",
       "      <td>PL</td>\n",
       "      <td>None</td>\n",
       "      <td>None</td>\n",
       "      <td>None</td>\n",
       "      <td>10851R</td>\n",
       "      <td>S</td>\n",
       "      <td>322</td>\n",
       "      <td>2</td>\n",
       "    </tr>\n",
       "    <tr>\n",
       "      <th>14</th>\n",
       "      <td>E21060046821</td>\n",
       "      <td>2021-06-28 07:48:32</td>\n",
       "      <td>2</td>\n",
       "      <td>3200</td>\n",
       "      <td>None</td>\n",
       "      <td>F</td>\n",
       "      <td>ST</td>\n",
       "      <td>None</td>\n",
       "      <td>None</td>\n",
       "      <td>None</td>\n",
       "      <td>10852R</td>\n",
       "      <td>K</td>\n",
       "      <td>516</td>\n",
       "      <td>9</td>\n",
       "    </tr>\n",
       "    <tr>\n",
       "      <th>15</th>\n",
       "      <td>E21060046822</td>\n",
       "      <td>2021-06-28 07:49:19</td>\n",
       "      <td>2</td>\n",
       "      <td>3200</td>\n",
       "      <td>None</td>\n",
       "      <td>MIDWAY</td>\n",
       "      <td>DR</td>\n",
       "      <td>None</td>\n",
       "      <td>None</td>\n",
       "      <td>None</td>\n",
       "      <td>MPSSTP</td>\n",
       "      <td>O</td>\n",
       "      <td>611</td>\n",
       "      <td>2</td>\n",
       "    </tr>\n",
       "    <tr>\n",
       "      <th>16</th>\n",
       "      <td>E21060046823</td>\n",
       "      <td>2021-06-28 07:49:38</td>\n",
       "      <td>2</td>\n",
       "      <td>3700</td>\n",
       "      <td>None</td>\n",
       "      <td>ROSECRANS</td>\n",
       "      <td>ST</td>\n",
       "      <td>None</td>\n",
       "      <td>None</td>\n",
       "      <td>None</td>\n",
       "      <td>415</td>\n",
       "      <td>CAN</td>\n",
       "      <td>611</td>\n",
       "      <td>2</td>\n",
       "    </tr>\n",
       "    <tr>\n",
       "      <th>17</th>\n",
       "      <td>E21060046824</td>\n",
       "      <td>2021-06-28 07:51:04</td>\n",
       "      <td>2</td>\n",
       "      <td>1700</td>\n",
       "      <td>None</td>\n",
       "      <td>UPAS</td>\n",
       "      <td>ST</td>\n",
       "      <td>None</td>\n",
       "      <td>None</td>\n",
       "      <td>None</td>\n",
       "      <td>1146</td>\n",
       "      <td>R</td>\n",
       "      <td>813</td>\n",
       "      <td>0</td>\n",
       "    </tr>\n",
       "    <tr>\n",
       "      <th>18</th>\n",
       "      <td>E21060046825</td>\n",
       "      <td>2021-06-28 07:51:16</td>\n",
       "      <td>2</td>\n",
       "      <td>1100</td>\n",
       "      <td>None</td>\n",
       "      <td>NESTOR</td>\n",
       "      <td>WAY</td>\n",
       "      <td>None</td>\n",
       "      <td>None</td>\n",
       "      <td>None</td>\n",
       "      <td>586</td>\n",
       "      <td>O</td>\n",
       "      <td>722</td>\n",
       "      <td>4</td>\n",
       "    </tr>\n",
       "    <tr>\n",
       "      <th>19</th>\n",
       "      <td>E21060046826</td>\n",
       "      <td>2021-06-28 07:51:36</td>\n",
       "      <td>2</td>\n",
       "      <td>0</td>\n",
       "      <td>None</td>\n",
       "      <td>BROADWAY</td>\n",
       "      <td>WAY</td>\n",
       "      <td>None</td>\n",
       "      <td>04TH</td>\n",
       "      <td>None</td>\n",
       "      <td>242</td>\n",
       "      <td>K</td>\n",
       "      <td>523</td>\n",
       "      <td>1</td>\n",
       "    </tr>\n",
       "  </tbody>\n",
       "</table>\n",
       "</div>"
      ],
      "text/plain": [
       "    incident_num            date_time  day_of_week  address_number_primary  \\\n",
       "0   E21060046805  2021-06-28 07:36:28            2                    5200   \n",
       "1   E21060046806  2021-06-28 07:36:33            2                    3400   \n",
       "2   E21060046807  2021-06-28 07:37:42            2                    6200   \n",
       "3   E21060046808  2021-06-28 07:38:22            2                    1700   \n",
       "4   E21060046809  2021-06-28 07:40:14            2                    9200   \n",
       "5   E21060046810  2021-06-28 07:41:35            2                    4000   \n",
       "6   E21060046811  2021-06-28 07:42:12            2                    9300   \n",
       "7   E21060046813  2021-06-28 07:42:59            2                    2500   \n",
       "8   E21060046814  2021-06-28 07:43:08            2                    1400   \n",
       "9   E21060046815  2021-06-28 07:43:41            2                    1300   \n",
       "10  E21060046816  2021-06-28 07:45:47            2                    5500   \n",
       "11  E21060046818  2021-06-28 07:47:20            2                    4600   \n",
       "12  E21060046819  2021-06-28 07:47:22            2                       0   \n",
       "13  E21060046820  2021-06-28 07:47:24            2                    7400   \n",
       "14  E21060046821  2021-06-28 07:48:32            2                    3200   \n",
       "15  E21060046822  2021-06-28 07:49:19            2                    3200   \n",
       "16  E21060046823  2021-06-28 07:49:38            2                    3700   \n",
       "17  E21060046824  2021-06-28 07:51:04            2                    1700   \n",
       "18  E21060046825  2021-06-28 07:51:16            2                    1100   \n",
       "19  E21060046826  2021-06-28 07:51:36            2                       0   \n",
       "\n",
       "   address_dir_primary address_road_primary address_sfx_primary  \\\n",
       "0                 None                 52ND                  PL   \n",
       "1                 None         SPORTS ARENA                 BLV   \n",
       "2                 None             MADELINE                  ST   \n",
       "3                 None                 02ND                 AVE   \n",
       "4                 None                 AERO                  DR   \n",
       "5                 None                MENLO                 AVE   \n",
       "6                 None               GALVIN                 AVE   \n",
       "7                 None               MORENA                 BLV   \n",
       "8                 None                 02ND                 AVE   \n",
       "9                 None                    J                  ST   \n",
       "10                None      SANTA MARGARITA                  ST   \n",
       "11                None           UNIVERSITY                 AVE   \n",
       "12                None                 NAPA                  ST   \n",
       "13                None                 GOEN                  PL   \n",
       "14                None                    F                  ST   \n",
       "15                None               MIDWAY                  DR   \n",
       "16                None            ROSECRANS                  ST   \n",
       "17                None                 UPAS                  ST   \n",
       "18                None               NESTOR                 WAY   \n",
       "19                None             BROADWAY                 WAY   \n",
       "\n",
       "   address_dir_intersecting address_road_intersecting  \\\n",
       "0                      None                      None   \n",
       "1                      None                      None   \n",
       "2                      None                      None   \n",
       "3                      None                      None   \n",
       "4                      None                      None   \n",
       "5                      None                      None   \n",
       "6                      None                      None   \n",
       "7                      None                      None   \n",
       "8                      None                      None   \n",
       "9                      None                      None   \n",
       "10                     None                      None   \n",
       "11                     None                      None   \n",
       "12                     None               LINDA VISTA   \n",
       "13                     None                      None   \n",
       "14                     None                      None   \n",
       "15                     None                      None   \n",
       "16                     None                      None   \n",
       "17                     None                      None   \n",
       "18                     None                      None   \n",
       "19                     None                      04TH   \n",
       "\n",
       "   address_sfx_intersecting call_type disposition  beat  priority  \n",
       "0                      None    SELENF           O   826         3  \n",
       "1                      None      459A           K   611         3  \n",
       "2                      None       586           O   821         2  \n",
       "3                      None        FU           O   529         2  \n",
       "4                      None     COURT           K   311         4  \n",
       "5                      None    SELENF           O   831         3  \n",
       "6                      None    SELENF           K   242         3  \n",
       "7                      None      459R           R   116         3  \n",
       "8                      None        FU           O   526         2  \n",
       "9                      None        C6           O   521         2  \n",
       "10                     None       586           O   432         4  \n",
       "11                     None    SELENF           O   831         3  \n",
       "12                     None         T           O   622         2  \n",
       "13                     None    10851R           S   322         2  \n",
       "14                     None    10852R           K   516         9  \n",
       "15                     None    MPSSTP           O   611         2  \n",
       "16                     None       415         CAN   611         2  \n",
       "17                     None      1146           R   813         0  \n",
       "18                     None       586           O   722         4  \n",
       "19                     None       242           K   523         1  "
      ]
     },
     "execution_count": 172,
     "metadata": {},
     "output_type": "execute_result"
    }
   ],
   "source": [
    "police_call_df"
   ]
  },
  {
   "cell_type": "code",
   "execution_count": 173,
   "id": "f3b81322-0c74-4d92-b009-1ef134a9fc6a",
   "metadata": {
    "tags": []
   },
   "outputs": [],
   "source": [
    "# main_df = pd.read_sql(f\"SELECT * FROM (SELECT * FROM {database_name}.{table_name} UNION ALL \\\n",
    "#                                        SELECT * FROM {database_name}.{table_name1} UNION ALL \\\n",
    "#                                        SELECT * FROM {database_name}.{table_name2}) Q1 LEFT JOIN (SELECT beat, beat_name, COUNT(beat) Incident_count FROM {database_name}.{table_name3} \\\n",
    "#                                        WHERE date_stop >= 2021-01-01 GROUP BY beat, beat_name) Q2 ON Q1.beat = Q2.beat\", conn) "
   ]
  },
  {
   "cell_type": "markdown",
   "id": "d2b6a904-cafa-42a2-ac96-534331c83001",
   "metadata": {},
   "source": [
    "### Checking the data types, removing missing values, duplicated values"
   ]
  },
  {
   "cell_type": "code",
   "execution_count": 174,
   "id": "625f3c88-9f3b-4f12-a436-06f4148d5219",
   "metadata": {
    "tags": []
   },
   "outputs": [
    {
     "name": "stdout",
     "output_type": "stream",
     "text": [
      "shape of the dataframe police dataframe (568947, 14)\n",
      "shape of the dataframe police dataframe (499256, 14)\n",
      "shape of the dataframe police dataframe (99811, 14)\n"
     ]
    }
   ],
   "source": [
    "# shape of the dataframes\n",
    "print(f'shape of the dataframe police dataframe {df_2021.shape}')\n",
    "print(f'shape of the dataframe police dataframe {df_2022.shape}')\n",
    "print(f'shape of the dataframe police dataframe {df_2023.shape}')"
   ]
  },
  {
   "cell_type": "code",
   "execution_count": 175,
   "id": "61235d8e-62f0-4ffd-8fc2-a01779213967",
   "metadata": {
    "tags": []
   },
   "outputs": [],
   "source": [
    "# concatenate the tables \n",
    "# join_df = pd.concat([df_2021, df_2022, df_2023], axis=0)\n",
    "# join_df"
   ]
  },
  {
   "cell_type": "code",
   "execution_count": 176,
   "id": "4fee8724-c865-4d23-962e-e1259f169c59",
   "metadata": {
    "tags": []
   },
   "outputs": [
    {
     "data": {
      "text/plain": [
       "130"
      ]
     },
     "execution_count": 176,
     "metadata": {},
     "output_type": "execute_result"
    }
   ],
   "source": [
    "join_df[\"beat\"].nunique()"
   ]
  },
  {
   "cell_type": "code",
   "execution_count": 177,
   "id": "ab6f12b2-bede-48bf-ba39-fc02e8cf389f",
   "metadata": {
    "tags": []
   },
   "outputs": [
    {
     "data": {
      "text/html": [
       "<div>\n",
       "<style scoped>\n",
       "    .dataframe tbody tr th:only-of-type {\n",
       "        vertical-align: middle;\n",
       "    }\n",
       "\n",
       "    .dataframe tbody tr th {\n",
       "        vertical-align: top;\n",
       "    }\n",
       "\n",
       "    .dataframe thead th {\n",
       "        text-align: right;\n",
       "    }\n",
       "</style>\n",
       "<table border=\"1\" class=\"dataframe\">\n",
       "  <thead>\n",
       "    <tr style=\"text-align: right;\">\n",
       "      <th></th>\n",
       "      <th>incident_num</th>\n",
       "      <th>date_time</th>\n",
       "      <th>day_of_week</th>\n",
       "      <th>address_number_primary</th>\n",
       "      <th>address_road_primary</th>\n",
       "      <th>address_sfx_primary</th>\n",
       "      <th>call_type</th>\n",
       "      <th>disposition</th>\n",
       "      <th>beat</th>\n",
       "      <th>priority</th>\n",
       "    </tr>\n",
       "  </thead>\n",
       "  <tbody>\n",
       "    <tr>\n",
       "      <th>count</th>\n",
       "      <td>1063538</td>\n",
       "      <td>1063538</td>\n",
       "      <td>1.063538e+06</td>\n",
       "      <td>1.063538e+06</td>\n",
       "      <td>1063538</td>\n",
       "      <td>1063538</td>\n",
       "      <td>1063538</td>\n",
       "      <td>1063538</td>\n",
       "      <td>1.063538e+06</td>\n",
       "      <td>1063538.0</td>\n",
       "    </tr>\n",
       "    <tr>\n",
       "      <th>unique</th>\n",
       "      <td>1063538</td>\n",
       "      <td>1055165</td>\n",
       "      <td>NaN</td>\n",
       "      <td>NaN</td>\n",
       "      <td>8321</td>\n",
       "      <td>42</td>\n",
       "      <td>249</td>\n",
       "      <td>19</td>\n",
       "      <td>NaN</td>\n",
       "      <td>7.0</td>\n",
       "    </tr>\n",
       "    <tr>\n",
       "      <th>top</th>\n",
       "      <td>E21120032396</td>\n",
       "      <td>2021-05-12 00:30:55</td>\n",
       "      <td>NaN</td>\n",
       "      <td>NaN</td>\n",
       "      <td>IMPERIAL</td>\n",
       "      <td>ST</td>\n",
       "      <td>415</td>\n",
       "      <td>K</td>\n",
       "      <td>NaN</td>\n",
       "      <td>2.0</td>\n",
       "    </tr>\n",
       "    <tr>\n",
       "      <th>freq</th>\n",
       "      <td>1</td>\n",
       "      <td>3</td>\n",
       "      <td>NaN</td>\n",
       "      <td>NaN</td>\n",
       "      <td>21265</td>\n",
       "      <td>346804</td>\n",
       "      <td>95928</td>\n",
       "      <td>559023</td>\n",
       "      <td>NaN</td>\n",
       "      <td>470285.0</td>\n",
       "    </tr>\n",
       "    <tr>\n",
       "      <th>first</th>\n",
       "      <td>NaN</td>\n",
       "      <td>2021-01-01 00:00:11</td>\n",
       "      <td>NaN</td>\n",
       "      <td>NaN</td>\n",
       "      <td>NaN</td>\n",
       "      <td>NaN</td>\n",
       "      <td>NaN</td>\n",
       "      <td>NaN</td>\n",
       "      <td>NaN</td>\n",
       "      <td>NaN</td>\n",
       "    </tr>\n",
       "    <tr>\n",
       "      <th>last</th>\n",
       "      <td>NaN</td>\n",
       "      <td>2023-03-15 23:53:07</td>\n",
       "      <td>NaN</td>\n",
       "      <td>NaN</td>\n",
       "      <td>NaN</td>\n",
       "      <td>NaN</td>\n",
       "      <td>NaN</td>\n",
       "      <td>NaN</td>\n",
       "      <td>NaN</td>\n",
       "      <td>NaN</td>\n",
       "    </tr>\n",
       "    <tr>\n",
       "      <th>mean</th>\n",
       "      <td>NaN</td>\n",
       "      <td>NaN</td>\n",
       "      <td>4.048911e+00</td>\n",
       "      <td>3.356213e+03</td>\n",
       "      <td>NaN</td>\n",
       "      <td>NaN</td>\n",
       "      <td>NaN</td>\n",
       "      <td>NaN</td>\n",
       "      <td>4.965265e+02</td>\n",
       "      <td>NaN</td>\n",
       "    </tr>\n",
       "    <tr>\n",
       "      <th>std</th>\n",
       "      <td>NaN</td>\n",
       "      <td>NaN</td>\n",
       "      <td>1.962039e+00</td>\n",
       "      <td>3.249948e+03</td>\n",
       "      <td>NaN</td>\n",
       "      <td>NaN</td>\n",
       "      <td>NaN</td>\n",
       "      <td>NaN</td>\n",
       "      <td>2.354804e+02</td>\n",
       "      <td>NaN</td>\n",
       "    </tr>\n",
       "    <tr>\n",
       "      <th>min</th>\n",
       "      <td>NaN</td>\n",
       "      <td>NaN</td>\n",
       "      <td>1.000000e+00</td>\n",
       "      <td>0.000000e+00</td>\n",
       "      <td>NaN</td>\n",
       "      <td>NaN</td>\n",
       "      <td>NaN</td>\n",
       "      <td>NaN</td>\n",
       "      <td>-1.000000e+00</td>\n",
       "      <td>NaN</td>\n",
       "    </tr>\n",
       "    <tr>\n",
       "      <th>25%</th>\n",
       "      <td>NaN</td>\n",
       "      <td>NaN</td>\n",
       "      <td>2.000000e+00</td>\n",
       "      <td>6.000000e+02</td>\n",
       "      <td>NaN</td>\n",
       "      <td>NaN</td>\n",
       "      <td>NaN</td>\n",
       "      <td>NaN</td>\n",
       "      <td>3.130000e+02</td>\n",
       "      <td>NaN</td>\n",
       "    </tr>\n",
       "    <tr>\n",
       "      <th>50%</th>\n",
       "      <td>NaN</td>\n",
       "      <td>NaN</td>\n",
       "      <td>4.000000e+00</td>\n",
       "      <td>2.900000e+03</td>\n",
       "      <td>NaN</td>\n",
       "      <td>NaN</td>\n",
       "      <td>NaN</td>\n",
       "      <td>NaN</td>\n",
       "      <td>5.210000e+02</td>\n",
       "      <td>NaN</td>\n",
       "    </tr>\n",
       "    <tr>\n",
       "      <th>75%</th>\n",
       "      <td>NaN</td>\n",
       "      <td>NaN</td>\n",
       "      <td>6.000000e+00</td>\n",
       "      <td>4.800000e+03</td>\n",
       "      <td>NaN</td>\n",
       "      <td>NaN</td>\n",
       "      <td>NaN</td>\n",
       "      <td>NaN</td>\n",
       "      <td>6.270000e+02</td>\n",
       "      <td>NaN</td>\n",
       "    </tr>\n",
       "    <tr>\n",
       "      <th>max</th>\n",
       "      <td>NaN</td>\n",
       "      <td>NaN</td>\n",
       "      <td>7.000000e+00</td>\n",
       "      <td>5.350000e+04</td>\n",
       "      <td>NaN</td>\n",
       "      <td>NaN</td>\n",
       "      <td>NaN</td>\n",
       "      <td>NaN</td>\n",
       "      <td>9.370000e+02</td>\n",
       "      <td>NaN</td>\n",
       "    </tr>\n",
       "  </tbody>\n",
       "</table>\n",
       "</div>"
      ],
      "text/plain": [
       "        incident_num            date_time   day_of_week  \\\n",
       "count        1063538              1063538  1.063538e+06   \n",
       "unique       1063538              1055165           NaN   \n",
       "top     E21120032396  2021-05-12 00:30:55           NaN   \n",
       "freq               1                    3           NaN   \n",
       "first            NaN  2021-01-01 00:00:11           NaN   \n",
       "last             NaN  2023-03-15 23:53:07           NaN   \n",
       "mean             NaN                  NaN  4.048911e+00   \n",
       "std              NaN                  NaN  1.962039e+00   \n",
       "min              NaN                  NaN  1.000000e+00   \n",
       "25%              NaN                  NaN  2.000000e+00   \n",
       "50%              NaN                  NaN  4.000000e+00   \n",
       "75%              NaN                  NaN  6.000000e+00   \n",
       "max              NaN                  NaN  7.000000e+00   \n",
       "\n",
       "        address_number_primary address_road_primary address_sfx_primary  \\\n",
       "count             1.063538e+06              1063538             1063538   \n",
       "unique                     NaN                 8321                  42   \n",
       "top                        NaN             IMPERIAL                  ST   \n",
       "freq                       NaN                21265              346804   \n",
       "first                      NaN                  NaN                 NaN   \n",
       "last                       NaN                  NaN                 NaN   \n",
       "mean              3.356213e+03                  NaN                 NaN   \n",
       "std               3.249948e+03                  NaN                 NaN   \n",
       "min               0.000000e+00                  NaN                 NaN   \n",
       "25%               6.000000e+02                  NaN                 NaN   \n",
       "50%               2.900000e+03                  NaN                 NaN   \n",
       "75%               4.800000e+03                  NaN                 NaN   \n",
       "max               5.350000e+04                  NaN                 NaN   \n",
       "\n",
       "       call_type disposition          beat   priority  \n",
       "count    1063538     1063538  1.063538e+06  1063538.0  \n",
       "unique       249          19           NaN        7.0  \n",
       "top          415           K           NaN        2.0  \n",
       "freq       95928      559023           NaN   470285.0  \n",
       "first        NaN         NaN           NaN        NaN  \n",
       "last         NaN         NaN           NaN        NaN  \n",
       "mean         NaN         NaN  4.965265e+02        NaN  \n",
       "std          NaN         NaN  2.354804e+02        NaN  \n",
       "min          NaN         NaN -1.000000e+00        NaN  \n",
       "25%          NaN         NaN  3.130000e+02        NaN  \n",
       "50%          NaN         NaN  5.210000e+02        NaN  \n",
       "75%          NaN         NaN  6.270000e+02        NaN  \n",
       "max          NaN         NaN  9.370000e+02        NaN  "
      ]
     },
     "execution_count": 177,
     "metadata": {},
     "output_type": "execute_result"
    }
   ],
   "source": [
    "join_df.describe(include='all')"
   ]
  },
  {
   "cell_type": "code",
   "execution_count": 178,
   "id": "351315dc-11c5-4ac7-be5f-1fd38d251f3c",
   "metadata": {
    "tags": []
   },
   "outputs": [
    {
     "data": {
      "text/plain": [
       "incident_num                      object\n",
       "date_time                 datetime64[ns]\n",
       "day_of_week                        int64\n",
       "address_number_primary             int64\n",
       "address_road_primary              object\n",
       "address_sfx_primary               object\n",
       "call_type                         object\n",
       "disposition                       object\n",
       "beat                               int64\n",
       "priority                        category\n",
       "dtype: object"
      ]
     },
     "execution_count": 178,
     "metadata": {},
     "output_type": "execute_result"
    }
   ],
   "source": [
    "# Data types \n",
    "join_df.dtypes"
   ]
  },
  {
   "cell_type": "code",
   "execution_count": 179,
   "id": "47dd47f5-4bd0-4a1c-bafe-887c8f28d6eb",
   "metadata": {
    "tags": []
   },
   "outputs": [
    {
     "data": {
      "text/html": [
       "<div>\n",
       "<style scoped>\n",
       "    .dataframe tbody tr th:only-of-type {\n",
       "        vertical-align: middle;\n",
       "    }\n",
       "\n",
       "    .dataframe tbody tr th {\n",
       "        vertical-align: top;\n",
       "    }\n",
       "\n",
       "    .dataframe thead th {\n",
       "        text-align: right;\n",
       "    }\n",
       "</style>\n",
       "<table border=\"1\" class=\"dataframe\">\n",
       "  <thead>\n",
       "    <tr style=\"text-align: right;\">\n",
       "      <th></th>\n",
       "      <th>incident_num</th>\n",
       "      <th>date_time</th>\n",
       "      <th>day_of_week</th>\n",
       "      <th>address_number_primary</th>\n",
       "      <th>address_road_primary</th>\n",
       "      <th>address_sfx_primary</th>\n",
       "      <th>call_type</th>\n",
       "      <th>disposition</th>\n",
       "      <th>beat</th>\n",
       "      <th>priority</th>\n",
       "    </tr>\n",
       "  </thead>\n",
       "  <tbody>\n",
       "    <tr>\n",
       "      <th>0</th>\n",
       "      <td>E21010000001</td>\n",
       "      <td>2021-01-01 00:00:11</td>\n",
       "      <td>6</td>\n",
       "      <td>5000</td>\n",
       "      <td>CHAPARRAL</td>\n",
       "      <td>WAY</td>\n",
       "      <td>AU1</td>\n",
       "      <td>W</td>\n",
       "      <td>326</td>\n",
       "      <td>1</td>\n",
       "    </tr>\n",
       "    <tr>\n",
       "      <th>1</th>\n",
       "      <td>E21010000002</td>\n",
       "      <td>2021-01-01 00:00:14</td>\n",
       "      <td>6</td>\n",
       "      <td>500</td>\n",
       "      <td>05TH</td>\n",
       "      <td>AVE</td>\n",
       "      <td>1186</td>\n",
       "      <td>CAN</td>\n",
       "      <td>523</td>\n",
       "      <td>3</td>\n",
       "    </tr>\n",
       "    <tr>\n",
       "      <th>2</th>\n",
       "      <td>E21010000003</td>\n",
       "      <td>2021-01-01 00:00:26</td>\n",
       "      <td>6</td>\n",
       "      <td>3600</td>\n",
       "      <td>38TH</td>\n",
       "      <td>ST</td>\n",
       "      <td>AU1</td>\n",
       "      <td>DUP</td>\n",
       "      <td>839</td>\n",
       "      <td>1</td>\n",
       "    </tr>\n",
       "    <tr>\n",
       "      <th>3</th>\n",
       "      <td>E21010000004</td>\n",
       "      <td>2021-01-01 00:00:31</td>\n",
       "      <td>6</td>\n",
       "      <td>2700</td>\n",
       "      <td>WORDEN</td>\n",
       "      <td>ST</td>\n",
       "      <td>AU1</td>\n",
       "      <td>W</td>\n",
       "      <td>613</td>\n",
       "      <td>1</td>\n",
       "    </tr>\n",
       "    <tr>\n",
       "      <th>4</th>\n",
       "      <td>E21010000006</td>\n",
       "      <td>2021-01-01 00:01:20</td>\n",
       "      <td>6</td>\n",
       "      <td>800</td>\n",
       "      <td>SAN DIEGO</td>\n",
       "      <td>PL</td>\n",
       "      <td>INFO</td>\n",
       "      <td>W</td>\n",
       "      <td>121</td>\n",
       "      <td>2</td>\n",
       "    </tr>\n",
       "    <tr>\n",
       "      <th>...</th>\n",
       "      <td>...</td>\n",
       "      <td>...</td>\n",
       "      <td>...</td>\n",
       "      <td>...</td>\n",
       "      <td>...</td>\n",
       "      <td>...</td>\n",
       "      <td>...</td>\n",
       "      <td>...</td>\n",
       "      <td>...</td>\n",
       "      <td>...</td>\n",
       "    </tr>\n",
       "    <tr>\n",
       "      <th>99806</th>\n",
       "      <td>E23030022386</td>\n",
       "      <td>2023-03-15 23:25:50</td>\n",
       "      <td>4</td>\n",
       "      <td>2500</td>\n",
       "      <td>IMPERIAL</td>\n",
       "      <td>AVE</td>\n",
       "      <td>INFO</td>\n",
       "      <td>K</td>\n",
       "      <td>512</td>\n",
       "      <td>2</td>\n",
       "    </tr>\n",
       "    <tr>\n",
       "      <th>99807</th>\n",
       "      <td>E23030022400</td>\n",
       "      <td>2023-03-15 23:44:05</td>\n",
       "      <td>4</td>\n",
       "      <td>800</td>\n",
       "      <td>27TH (SB)</td>\n",
       "      <td>ST</td>\n",
       "      <td>5150</td>\n",
       "      <td>K</td>\n",
       "      <td>724</td>\n",
       "      <td>1</td>\n",
       "    </tr>\n",
       "    <tr>\n",
       "      <th>99808</th>\n",
       "      <td>E23030022401</td>\n",
       "      <td>2023-03-15 23:44:23</td>\n",
       "      <td>4</td>\n",
       "      <td>14700</td>\n",
       "      <td>VALLE DEL SUR</td>\n",
       "      <td>CT</td>\n",
       "      <td>459A</td>\n",
       "      <td>CAN</td>\n",
       "      <td>937</td>\n",
       "      <td>2</td>\n",
       "    </tr>\n",
       "    <tr>\n",
       "      <th>99809</th>\n",
       "      <td>E23030022404</td>\n",
       "      <td>2023-03-15 23:46:26</td>\n",
       "      <td>4</td>\n",
       "      <td>400</td>\n",
       "      <td>17TH</td>\n",
       "      <td>ST</td>\n",
       "      <td>SELENF</td>\n",
       "      <td>K</td>\n",
       "      <td>521</td>\n",
       "      <td>3</td>\n",
       "    </tr>\n",
       "    <tr>\n",
       "      <th>99810</th>\n",
       "      <td>E23030022407</td>\n",
       "      <td>2023-03-15 23:53:07</td>\n",
       "      <td>4</td>\n",
       "      <td>600</td>\n",
       "      <td>15TH</td>\n",
       "      <td>ST</td>\n",
       "      <td>SELENF</td>\n",
       "      <td>K</td>\n",
       "      <td>521</td>\n",
       "      <td>3</td>\n",
       "    </tr>\n",
       "  </tbody>\n",
       "</table>\n",
       "<p>1063538 rows × 10 columns</p>\n",
       "</div>"
      ],
      "text/plain": [
       "       incident_num           date_time  day_of_week  address_number_primary  \\\n",
       "0      E21010000001 2021-01-01 00:00:11            6                    5000   \n",
       "1      E21010000002 2021-01-01 00:00:14            6                     500   \n",
       "2      E21010000003 2021-01-01 00:00:26            6                    3600   \n",
       "3      E21010000004 2021-01-01 00:00:31            6                    2700   \n",
       "4      E21010000006 2021-01-01 00:01:20            6                     800   \n",
       "...             ...                 ...          ...                     ...   \n",
       "99806  E23030022386 2023-03-15 23:25:50            4                    2500   \n",
       "99807  E23030022400 2023-03-15 23:44:05            4                     800   \n",
       "99808  E23030022401 2023-03-15 23:44:23            4                   14700   \n",
       "99809  E23030022404 2023-03-15 23:46:26            4                     400   \n",
       "99810  E23030022407 2023-03-15 23:53:07            4                     600   \n",
       "\n",
       "      address_road_primary address_sfx_primary call_type disposition  beat  \\\n",
       "0                CHAPARRAL                 WAY       AU1           W   326   \n",
       "1                     05TH                 AVE      1186         CAN   523   \n",
       "2                     38TH                  ST       AU1         DUP   839   \n",
       "3                   WORDEN                  ST       AU1           W   613   \n",
       "4                SAN DIEGO                  PL      INFO           W   121   \n",
       "...                    ...                 ...       ...         ...   ...   \n",
       "99806             IMPERIAL                 AVE      INFO           K   512   \n",
       "99807            27TH (SB)                  ST      5150           K   724   \n",
       "99808        VALLE DEL SUR                  CT      459A         CAN   937   \n",
       "99809                 17TH                  ST    SELENF           K   521   \n",
       "99810                 15TH                  ST    SELENF           K   521   \n",
       "\n",
       "      priority  \n",
       "0            1  \n",
       "1            3  \n",
       "2            1  \n",
       "3            1  \n",
       "4            2  \n",
       "...        ...  \n",
       "99806        2  \n",
       "99807        1  \n",
       "99808        2  \n",
       "99809        3  \n",
       "99810        3  \n",
       "\n",
       "[1063538 rows x 10 columns]"
      ]
     },
     "execution_count": 179,
     "metadata": {},
     "output_type": "execute_result"
    }
   ],
   "source": [
    "from datetime import datetime\n",
    "\n",
    "join_df[\"date_time\"] = pd.to_datetime(join_df[\"date_time\"])\n",
    "join_df"
   ]
  },
  {
   "cell_type": "code",
   "execution_count": 180,
   "id": "22e815da-ff99-4c92-af8f-1940b74d2778",
   "metadata": {
    "tags": []
   },
   "outputs": [
    {
     "data": {
      "text/plain": [
       "incident_num                      object\n",
       "date_time                 datetime64[ns]\n",
       "day_of_week                        int64\n",
       "address_number_primary             int64\n",
       "address_road_primary              object\n",
       "address_sfx_primary               object\n",
       "call_type                         object\n",
       "disposition                       object\n",
       "beat                               int64\n",
       "priority                        category\n",
       "dtype: object"
      ]
     },
     "execution_count": 180,
     "metadata": {},
     "output_type": "execute_result"
    }
   ],
   "source": [
    "join_df.dtypes"
   ]
  },
  {
   "cell_type": "code",
   "execution_count": 181,
   "id": "658bd55f-290d-41dd-a75d-495c55998254",
   "metadata": {
    "tags": []
   },
   "outputs": [
    {
     "data": {
      "text/html": [
       "<div>\n",
       "<style scoped>\n",
       "    .dataframe tbody tr th:only-of-type {\n",
       "        vertical-align: middle;\n",
       "    }\n",
       "\n",
       "    .dataframe tbody tr th {\n",
       "        vertical-align: top;\n",
       "    }\n",
       "\n",
       "    .dataframe thead th {\n",
       "        text-align: right;\n",
       "    }\n",
       "</style>\n",
       "<table border=\"1\" class=\"dataframe\">\n",
       "  <thead>\n",
       "    <tr style=\"text-align: right;\">\n",
       "      <th></th>\n",
       "      <th>incident_num</th>\n",
       "      <th>date_time</th>\n",
       "      <th>day_of_week</th>\n",
       "      <th>address_number_primary</th>\n",
       "      <th>address_road_primary</th>\n",
       "      <th>address_sfx_primary</th>\n",
       "      <th>call_type</th>\n",
       "      <th>disposition</th>\n",
       "      <th>beat</th>\n",
       "      <th>priority</th>\n",
       "    </tr>\n",
       "  </thead>\n",
       "  <tbody>\n",
       "    <tr>\n",
       "      <th>0</th>\n",
       "      <td>E21010000001</td>\n",
       "      <td>2021-01-01 00:00:11</td>\n",
       "      <td>6</td>\n",
       "      <td>5000</td>\n",
       "      <td>CHAPARRAL</td>\n",
       "      <td>WAY</td>\n",
       "      <td>AU1</td>\n",
       "      <td>W</td>\n",
       "      <td>326</td>\n",
       "      <td>1</td>\n",
       "    </tr>\n",
       "    <tr>\n",
       "      <th>1</th>\n",
       "      <td>E21010000002</td>\n",
       "      <td>2021-01-01 00:00:14</td>\n",
       "      <td>6</td>\n",
       "      <td>500</td>\n",
       "      <td>05TH</td>\n",
       "      <td>AVE</td>\n",
       "      <td>1186</td>\n",
       "      <td>CAN</td>\n",
       "      <td>523</td>\n",
       "      <td>3</td>\n",
       "    </tr>\n",
       "    <tr>\n",
       "      <th>2</th>\n",
       "      <td>E21010000003</td>\n",
       "      <td>2021-01-01 00:00:26</td>\n",
       "      <td>6</td>\n",
       "      <td>3600</td>\n",
       "      <td>38TH</td>\n",
       "      <td>ST</td>\n",
       "      <td>AU1</td>\n",
       "      <td>DUP</td>\n",
       "      <td>839</td>\n",
       "      <td>1</td>\n",
       "    </tr>\n",
       "    <tr>\n",
       "      <th>3</th>\n",
       "      <td>E21010000004</td>\n",
       "      <td>2021-01-01 00:00:31</td>\n",
       "      <td>6</td>\n",
       "      <td>2700</td>\n",
       "      <td>WORDEN</td>\n",
       "      <td>ST</td>\n",
       "      <td>AU1</td>\n",
       "      <td>W</td>\n",
       "      <td>613</td>\n",
       "      <td>1</td>\n",
       "    </tr>\n",
       "    <tr>\n",
       "      <th>4</th>\n",
       "      <td>E21010000006</td>\n",
       "      <td>2021-01-01 00:01:20</td>\n",
       "      <td>6</td>\n",
       "      <td>800</td>\n",
       "      <td>SAN DIEGO</td>\n",
       "      <td>PL</td>\n",
       "      <td>INFO</td>\n",
       "      <td>W</td>\n",
       "      <td>121</td>\n",
       "      <td>2</td>\n",
       "    </tr>\n",
       "    <tr>\n",
       "      <th>...</th>\n",
       "      <td>...</td>\n",
       "      <td>...</td>\n",
       "      <td>...</td>\n",
       "      <td>...</td>\n",
       "      <td>...</td>\n",
       "      <td>...</td>\n",
       "      <td>...</td>\n",
       "      <td>...</td>\n",
       "      <td>...</td>\n",
       "      <td>...</td>\n",
       "    </tr>\n",
       "    <tr>\n",
       "      <th>99806</th>\n",
       "      <td>E23030022386</td>\n",
       "      <td>2023-03-15 23:25:50</td>\n",
       "      <td>4</td>\n",
       "      <td>2500</td>\n",
       "      <td>IMPERIAL</td>\n",
       "      <td>AVE</td>\n",
       "      <td>INFO</td>\n",
       "      <td>K</td>\n",
       "      <td>512</td>\n",
       "      <td>2</td>\n",
       "    </tr>\n",
       "    <tr>\n",
       "      <th>99807</th>\n",
       "      <td>E23030022400</td>\n",
       "      <td>2023-03-15 23:44:05</td>\n",
       "      <td>4</td>\n",
       "      <td>800</td>\n",
       "      <td>27TH (SB)</td>\n",
       "      <td>ST</td>\n",
       "      <td>5150</td>\n",
       "      <td>K</td>\n",
       "      <td>724</td>\n",
       "      <td>1</td>\n",
       "    </tr>\n",
       "    <tr>\n",
       "      <th>99808</th>\n",
       "      <td>E23030022401</td>\n",
       "      <td>2023-03-15 23:44:23</td>\n",
       "      <td>4</td>\n",
       "      <td>14700</td>\n",
       "      <td>VALLE DEL SUR</td>\n",
       "      <td>CT</td>\n",
       "      <td>459A</td>\n",
       "      <td>CAN</td>\n",
       "      <td>937</td>\n",
       "      <td>2</td>\n",
       "    </tr>\n",
       "    <tr>\n",
       "      <th>99809</th>\n",
       "      <td>E23030022404</td>\n",
       "      <td>2023-03-15 23:46:26</td>\n",
       "      <td>4</td>\n",
       "      <td>400</td>\n",
       "      <td>17TH</td>\n",
       "      <td>ST</td>\n",
       "      <td>SELENF</td>\n",
       "      <td>K</td>\n",
       "      <td>521</td>\n",
       "      <td>3</td>\n",
       "    </tr>\n",
       "    <tr>\n",
       "      <th>99810</th>\n",
       "      <td>E23030022407</td>\n",
       "      <td>2023-03-15 23:53:07</td>\n",
       "      <td>4</td>\n",
       "      <td>600</td>\n",
       "      <td>15TH</td>\n",
       "      <td>ST</td>\n",
       "      <td>SELENF</td>\n",
       "      <td>K</td>\n",
       "      <td>521</td>\n",
       "      <td>3</td>\n",
       "    </tr>\n",
       "  </tbody>\n",
       "</table>\n",
       "<p>1063538 rows × 10 columns</p>\n",
       "</div>"
      ],
      "text/plain": [
       "       incident_num           date_time  day_of_week  address_number_primary  \\\n",
       "0      E21010000001 2021-01-01 00:00:11            6                    5000   \n",
       "1      E21010000002 2021-01-01 00:00:14            6                     500   \n",
       "2      E21010000003 2021-01-01 00:00:26            6                    3600   \n",
       "3      E21010000004 2021-01-01 00:00:31            6                    2700   \n",
       "4      E21010000006 2021-01-01 00:01:20            6                     800   \n",
       "...             ...                 ...          ...                     ...   \n",
       "99806  E23030022386 2023-03-15 23:25:50            4                    2500   \n",
       "99807  E23030022400 2023-03-15 23:44:05            4                     800   \n",
       "99808  E23030022401 2023-03-15 23:44:23            4                   14700   \n",
       "99809  E23030022404 2023-03-15 23:46:26            4                     400   \n",
       "99810  E23030022407 2023-03-15 23:53:07            4                     600   \n",
       "\n",
       "      address_road_primary address_sfx_primary call_type disposition  beat  \\\n",
       "0                CHAPARRAL                 WAY       AU1           W   326   \n",
       "1                     05TH                 AVE      1186         CAN   523   \n",
       "2                     38TH                  ST       AU1         DUP   839   \n",
       "3                   WORDEN                  ST       AU1           W   613   \n",
       "4                SAN DIEGO                  PL      INFO           W   121   \n",
       "...                    ...                 ...       ...         ...   ...   \n",
       "99806             IMPERIAL                 AVE      INFO           K   512   \n",
       "99807            27TH (SB)                  ST      5150           K   724   \n",
       "99808        VALLE DEL SUR                  CT      459A         CAN   937   \n",
       "99809                 17TH                  ST    SELENF           K   521   \n",
       "99810                 15TH                  ST    SELENF           K   521   \n",
       "\n",
       "      priority  \n",
       "0            1  \n",
       "1            3  \n",
       "2            1  \n",
       "3            1  \n",
       "4            2  \n",
       "...        ...  \n",
       "99806        2  \n",
       "99807        1  \n",
       "99808        2  \n",
       "99809        3  \n",
       "99810        3  \n",
       "\n",
       "[1063538 rows x 10 columns]"
      ]
     },
     "execution_count": 181,
     "metadata": {},
     "output_type": "execute_result"
    }
   ],
   "source": [
    "join_df.sort_values(by=\"date_time\", ascending = True)"
   ]
  },
  {
   "cell_type": "code",
   "execution_count": 182,
   "id": "184c6c3f-dc34-4786-9a24-b38bdd3955c9",
   "metadata": {
    "tags": []
   },
   "outputs": [
    {
     "name": "stdout",
     "output_type": "stream",
     "text": [
      "<class 'pandas.core.frame.DataFrame'>\n",
      "Int64Index: 1063538 entries, 0 to 99810\n",
      "Data columns (total 10 columns):\n",
      " #   Column                  Non-Null Count    Dtype         \n",
      "---  ------                  --------------    -----         \n",
      " 0   incident_num            1063538 non-null  object        \n",
      " 1   date_time               1063538 non-null  datetime64[ns]\n",
      " 2   day_of_week             1063538 non-null  int64         \n",
      " 3   address_number_primary  1063538 non-null  int64         \n",
      " 4   address_road_primary    1063538 non-null  object        \n",
      " 5   address_sfx_primary     1063538 non-null  object        \n",
      " 6   call_type               1063538 non-null  object        \n",
      " 7   disposition             1063538 non-null  object        \n",
      " 8   beat                    1063538 non-null  int64         \n",
      " 9   priority                1063538 non-null  category      \n",
      "dtypes: category(1), datetime64[ns](1), int64(3), object(5)\n",
      "memory usage: 114.4+ MB\n"
     ]
    }
   ],
   "source": [
    "join_df.info()"
   ]
  },
  {
   "cell_type": "markdown",
   "id": "89127ea0-0515-40e6-ab90-a6c90b7f1609",
   "metadata": {},
   "source": [
    "Our first file contains 1,168,014 rows and 14 columns.</br>\n",
    "Out of 14 columns 4 are int type, 8 are strings/object, and 1 is datetime type.</br>\n",
    "Out of 14 columns 8 columns have null/missing values. \n"
   ]
  },
  {
   "cell_type": "code",
   "execution_count": 183,
   "id": "6538eb35-5264-4337-b31d-82c54d75b89b",
   "metadata": {
    "tags": []
   },
   "outputs": [
    {
     "data": {
      "text/plain": [
       "incident_num              0\n",
       "date_time                 0\n",
       "day_of_week               0\n",
       "address_number_primary    0\n",
       "address_road_primary      0\n",
       "address_sfx_primary       0\n",
       "call_type                 0\n",
       "disposition               0\n",
       "beat                      0\n",
       "priority                  0\n",
       "dtype: int64"
      ]
     },
     "execution_count": 183,
     "metadata": {},
     "output_type": "execute_result"
    }
   ],
   "source": [
    "# check null values\n",
    "join_df.isna().sum()"
   ]
  },
  {
   "cell_type": "code",
   "execution_count": 184,
   "id": "cf8623f1-d8f0-41f0-b21a-6c66dfadb77f",
   "metadata": {
    "tags": []
   },
   "outputs": [],
   "source": [
    "from tqdm import tqdm\n",
    "\n",
    "def Data_Quality_Report(df):\n",
    "\n",
    "    #Initial table\n",
    "    freqDF = pd.DataFrame(columns=['Feature',\n",
    "                                   'Mode',\n",
    "                                   'Mode Freq.',\n",
    "                                   'Mode %',\n",
    "                                   '2nd Mode',\n",
    "                                   '2nd Mode Freq.',\n",
    "                                   '2nd Mode %'])\n",
    "    for col in tqdm(df.columns):\n",
    "        try:\n",
    "            #print(col)\n",
    "            freq = df[col].value_counts()\n",
    "            freqdf = freq.to_frame()\n",
    "            fRow = freqdf.iloc[0]\n",
    "            #try:\n",
    "            secRow = freqdf.iloc[1]\n",
    "            #except:\n",
    "            #secRow = 0\n",
    "            fPrct = fRow[0] / len(df[col])\n",
    "            #try:\n",
    "            secPrct = secRow[0] / len(df[col])\n",
    "            #except:\n",
    "                #secPrct = 0\n",
    "            try:\n",
    "                mode1 = int(fRow.name)\n",
    "            except:\n",
    "                mode1 = fRow.name\n",
    "            try:\n",
    "                mode2 = int(secRow.name)\n",
    "            except:\n",
    "                try:\n",
    "                    mode2 = secRow.name\n",
    "                except:\n",
    "                    mode2 = 0\n",
    "            freqDF = freqDF.append({'Feature':col,\n",
    "                                    'Mode':mode1,\n",
    "                                    'Mode Freq.':fRow[0],\n",
    "                                    'Mode %':fPrct,\\\n",
    "                                    '2nd Mode':mode2,\n",
    "                                    '2nd Mode Freq.':secRow[0],\n",
    "                                    '2nd Mode %':secPrct},\n",
    "                                    ignore_index=True)\n",
    "        except:\n",
    "            pass\n",
    "\n",
    "    freqDF = freqDF.set_index('Feature')\n",
    "\n",
    "    #Nulls, Counts, Cardinality\n",
    "    NUllFeatures = round(df.isnull().sum() / df.shape[0],4)\\\n",
    "          .sort_values(ascending=False)\n",
    "    Count = df.count()\n",
    "    uni = df.nunique()\n",
    "\n",
    "    #Formating\n",
    "    NUllFeatures.to_frame(name=\"% Miss.\")\n",
    "    Count.to_frame(name=\"Count\")\n",
    "    uni.to_frame()\n",
    "    result = pd.concat([Count, NUllFeatures,uni], axis=1)\n",
    "    result.columns =[\"Count\",\"% Miss.\",\"Card.\"]\n",
    "    result = pd.concat([result, freqDF], axis=1)\n",
    "    \"\"\"\n",
    "    result = result.style.format({'% Miss.': \"{:.1%}\",\n",
    "                         'Mode %': \"{:.0%}\",\n",
    "                         '2nd Mode %': \"{:.0%}\",\n",
    "                         'Count': \"{:,}\",\n",
    "                         'Card.': \"{:,}\",\n",
    "                         'Mode Freq.': \"{:,}\",\n",
    "                        '2nd Mode Freq.': \"{:,}\"})\"\"\"\n",
    "    return result"
   ]
  },
  {
   "cell_type": "code",
   "execution_count": 185,
   "id": "5d10e5ad-d41f-470c-a786-d0100d3e6de4",
   "metadata": {
    "tags": []
   },
   "outputs": [
    {
     "name": "stderr",
     "output_type": "stream",
     "text": [
      "100%|██████████| 10/10 [00:03<00:00,  3.22it/s]\n"
     ]
    },
    {
     "data": {
      "text/html": [
       "<div>\n",
       "<style scoped>\n",
       "    .dataframe tbody tr th:only-of-type {\n",
       "        vertical-align: middle;\n",
       "    }\n",
       "\n",
       "    .dataframe tbody tr th {\n",
       "        vertical-align: top;\n",
       "    }\n",
       "\n",
       "    .dataframe thead th {\n",
       "        text-align: right;\n",
       "    }\n",
       "</style>\n",
       "<table border=\"1\" class=\"dataframe\">\n",
       "  <thead>\n",
       "    <tr style=\"text-align: right;\">\n",
       "      <th></th>\n",
       "      <th>Count</th>\n",
       "      <th>% Miss.</th>\n",
       "      <th>Card.</th>\n",
       "      <th>Mode</th>\n",
       "      <th>Mode Freq.</th>\n",
       "      <th>Mode %</th>\n",
       "      <th>2nd Mode</th>\n",
       "      <th>2nd Mode Freq.</th>\n",
       "      <th>2nd Mode %</th>\n",
       "    </tr>\n",
       "  </thead>\n",
       "  <tbody>\n",
       "    <tr>\n",
       "      <th>incident_num</th>\n",
       "      <td>1063538</td>\n",
       "      <td>0.0</td>\n",
       "      <td>1063538</td>\n",
       "      <td>E21120032396</td>\n",
       "      <td>1</td>\n",
       "      <td>9.402579e-07</td>\n",
       "      <td>E21110014041</td>\n",
       "      <td>1</td>\n",
       "      <td>9.402579e-07</td>\n",
       "    </tr>\n",
       "    <tr>\n",
       "      <th>date_time</th>\n",
       "      <td>1063538</td>\n",
       "      <td>0.0</td>\n",
       "      <td>1055165</td>\n",
       "      <td>2021-05-12 00:30:55</td>\n",
       "      <td>3</td>\n",
       "      <td>2.820774e-06</td>\n",
       "      <td>2022-04-28 18:40:37</td>\n",
       "      <td>3</td>\n",
       "      <td>2.820774e-06</td>\n",
       "    </tr>\n",
       "    <tr>\n",
       "      <th>day_of_week</th>\n",
       "      <td>1063538</td>\n",
       "      <td>0.0</td>\n",
       "      <td>7</td>\n",
       "      <td>5</td>\n",
       "      <td>158928</td>\n",
       "      <td>1.494333e-01</td>\n",
       "      <td>6</td>\n",
       "      <td>158097</td>\n",
       "      <td>1.486520e-01</td>\n",
       "    </tr>\n",
       "    <tr>\n",
       "      <th>address_number_primary</th>\n",
       "      <td>1063538</td>\n",
       "      <td>0.0</td>\n",
       "      <td>250</td>\n",
       "      <td>0</td>\n",
       "      <td>179246</td>\n",
       "      <td>1.685375e-01</td>\n",
       "      <td>4000</td>\n",
       "      <td>22628</td>\n",
       "      <td>2.127616e-02</td>\n",
       "    </tr>\n",
       "    <tr>\n",
       "      <th>address_road_primary</th>\n",
       "      <td>1063538</td>\n",
       "      <td>0.0</td>\n",
       "      <td>8321</td>\n",
       "      <td>IMPERIAL</td>\n",
       "      <td>21265</td>\n",
       "      <td>1.999458e-02</td>\n",
       "      <td>05TH</td>\n",
       "      <td>18923</td>\n",
       "      <td>1.779250e-02</td>\n",
       "    </tr>\n",
       "    <tr>\n",
       "      <th>address_sfx_primary</th>\n",
       "      <td>1063538</td>\n",
       "      <td>0.0</td>\n",
       "      <td>42</td>\n",
       "      <td>ST</td>\n",
       "      <td>346804</td>\n",
       "      <td>3.260852e-01</td>\n",
       "      <td>AVE</td>\n",
       "      <td>275383</td>\n",
       "      <td>2.589310e-01</td>\n",
       "    </tr>\n",
       "    <tr>\n",
       "      <th>call_type</th>\n",
       "      <td>1063538</td>\n",
       "      <td>0.0</td>\n",
       "      <td>249</td>\n",
       "      <td>415</td>\n",
       "      <td>95928</td>\n",
       "      <td>9.019706e-02</td>\n",
       "      <td>SELENF</td>\n",
       "      <td>64404</td>\n",
       "      <td>6.055637e-02</td>\n",
       "    </tr>\n",
       "    <tr>\n",
       "      <th>disposition</th>\n",
       "      <td>1063538</td>\n",
       "      <td>0.0</td>\n",
       "      <td>19</td>\n",
       "      <td>K</td>\n",
       "      <td>559023</td>\n",
       "      <td>5.256258e-01</td>\n",
       "      <td>O</td>\n",
       "      <td>159217</td>\n",
       "      <td>1.497050e-01</td>\n",
       "    </tr>\n",
       "    <tr>\n",
       "      <th>beat</th>\n",
       "      <td>1063538</td>\n",
       "      <td>0.0</td>\n",
       "      <td>130</td>\n",
       "      <td>521</td>\n",
       "      <td>49445</td>\n",
       "      <td>4.649105e-02</td>\n",
       "      <td>122</td>\n",
       "      <td>44165</td>\n",
       "      <td>4.152649e-02</td>\n",
       "    </tr>\n",
       "    <tr>\n",
       "      <th>priority</th>\n",
       "      <td>1063538</td>\n",
       "      <td>0.0</td>\n",
       "      <td>7</td>\n",
       "      <td>2</td>\n",
       "      <td>470285</td>\n",
       "      <td>4.421892e-01</td>\n",
       "      <td>3</td>\n",
       "      <td>237198</td>\n",
       "      <td>2.230273e-01</td>\n",
       "    </tr>\n",
       "  </tbody>\n",
       "</table>\n",
       "</div>"
      ],
      "text/plain": [
       "                          Count  % Miss.    Card.                 Mode  \\\n",
       "incident_num            1063538      0.0  1063538         E21120032396   \n",
       "date_time               1063538      0.0  1055165  2021-05-12 00:30:55   \n",
       "day_of_week             1063538      0.0        7                    5   \n",
       "address_number_primary  1063538      0.0      250                    0   \n",
       "address_road_primary    1063538      0.0     8321             IMPERIAL   \n",
       "address_sfx_primary     1063538      0.0       42                   ST   \n",
       "call_type               1063538      0.0      249                  415   \n",
       "disposition             1063538      0.0       19                    K   \n",
       "beat                    1063538      0.0      130                  521   \n",
       "priority                1063538      0.0        7                    2   \n",
       "\n",
       "                       Mode Freq.        Mode %             2nd Mode  \\\n",
       "incident_num                    1  9.402579e-07         E21110014041   \n",
       "date_time                       3  2.820774e-06  2022-04-28 18:40:37   \n",
       "day_of_week                158928  1.494333e-01                    6   \n",
       "address_number_primary     179246  1.685375e-01                 4000   \n",
       "address_road_primary        21265  1.999458e-02                 05TH   \n",
       "address_sfx_primary        346804  3.260852e-01                  AVE   \n",
       "call_type                   95928  9.019706e-02               SELENF   \n",
       "disposition                559023  5.256258e-01                    O   \n",
       "beat                        49445  4.649105e-02                  122   \n",
       "priority                   470285  4.421892e-01                    3   \n",
       "\n",
       "                       2nd Mode Freq.    2nd Mode %  \n",
       "incident_num                        1  9.402579e-07  \n",
       "date_time                           3  2.820774e-06  \n",
       "day_of_week                    158097  1.486520e-01  \n",
       "address_number_primary          22628  2.127616e-02  \n",
       "address_road_primary            18923  1.779250e-02  \n",
       "address_sfx_primary            275383  2.589310e-01  \n",
       "call_type                       64404  6.055637e-02  \n",
       "disposition                    159217  1.497050e-01  \n",
       "beat                            44165  4.152649e-02  \n",
       "priority                       237198  2.230273e-01  "
      ]
     },
     "execution_count": 185,
     "metadata": {},
     "output_type": "execute_result"
    }
   ],
   "source": [
    "DQR_Calls = Data_Quality_Report(join_df)\n",
    "DQR_Calls"
   ]
  },
  {
   "cell_type": "markdown",
   "id": "6bbdda9d-8ffe-44cf-9d5f-014561df2277",
   "metadata": {},
   "source": [
    "As we can see the `address_sfx_intersecting` and `address_dir_intersecting` have no values and we can drop these columns.</br>\n",
    "Also the `address_dir_primary` and `address_road_intersecting` have more than 80% missing values; therefore we can consider removing these columns too. "
   ]
  },
  {
   "cell_type": "markdown",
   "id": "ebb61632-9979-4d23-b3aa-e2e5135bda63",
   "metadata": {},
   "source": [
    "### Dropping columns with more than 60% missing values"
   ]
  },
  {
   "cell_type": "code",
   "execution_count": 186,
   "id": "ef3d73d9-1a92-4d47-a098-13e5a9ff82c7",
   "metadata": {
    "tags": []
   },
   "outputs": [
    {
     "name": "stdout",
     "output_type": "stream",
     "text": [
      "Columns with more than 60% missing values: \n",
      "\n",
      " []\n"
     ]
    }
   ],
   "source": [
    "# Removing unnecessary columns\n",
    "def drop_columns_with_max_missing_values(df):\n",
    "    mis_var = [x for x in df.columns if df[x].isnull().sum() > 0]\n",
    "    df[mis_var].isnull().sum()\n",
    "\n",
    "    limit = np.abs((df.shape[0] * 0.6))\n",
    "    var_to_be_dropped = [x for x in mis_var if df[x].isnull().sum() > limit]\n",
    "    print('Columns with more than 60% missing values: \\n\\n', var_to_be_dropped)\n",
    "\n",
    "    df.drop(columns=var_to_be_dropped, axis=1, inplace=True)\n",
    "    return df\n",
    "\n",
    "df = drop_columns_with_max_missing_values(join_df)"
   ]
  },
  {
   "cell_type": "code",
   "execution_count": 187,
   "id": "4b781b25-4e5e-46db-bfaa-76a4bfbc3a71",
   "metadata": {
    "tags": []
   },
   "outputs": [
    {
     "data": {
      "text/plain": [
       "(1063538, 10)"
      ]
     },
     "execution_count": 187,
     "metadata": {},
     "output_type": "execute_result"
    }
   ],
   "source": [
    "join_df.shape"
   ]
  },
  {
   "cell_type": "markdown",
   "id": "6993c2bc-5652-48d3-89f8-c58d411721b6",
   "metadata": {},
   "source": [
    "We dropped the unnecesssary columns from the dataset"
   ]
  },
  {
   "cell_type": "code",
   "execution_count": 188,
   "id": "02e11048-afcb-4b9c-920e-03bab322f3db",
   "metadata": {
    "tags": []
   },
   "outputs": [
    {
     "data": {
      "text/plain": [
       "0"
      ]
     },
     "execution_count": 188,
     "metadata": {},
     "output_type": "execute_result"
    }
   ],
   "source": [
    "# check duplicated values\n",
    "join_df.duplicated().sum()"
   ]
  },
  {
   "cell_type": "markdown",
   "id": "00b5e832-c25c-4d6e-b11b-e546191ba1e2",
   "metadata": {},
   "source": [
    "We don't have any duplicated values in dataset"
   ]
  },
  {
   "cell_type": "code",
   "execution_count": 189,
   "id": "b5f7aef9-9d18-441b-b886-7dc928b99bf9",
   "metadata": {
    "tags": []
   },
   "outputs": [
    {
     "data": {
      "text/plain": [
       "incident_num              0\n",
       "date_time                 0\n",
       "day_of_week               0\n",
       "address_number_primary    0\n",
       "address_road_primary      0\n",
       "address_sfx_primary       0\n",
       "call_type                 0\n",
       "disposition               0\n",
       "beat                      0\n",
       "priority                  0\n",
       "dtype: int64"
      ]
     },
     "execution_count": 189,
     "metadata": {},
     "output_type": "execute_result"
    }
   ],
   "source": [
    "join_df.isnull().sum()"
   ]
  },
  {
   "cell_type": "code",
   "execution_count": 190,
   "id": "796f7540-860e-4bf6-b225-053e82be2ec1",
   "metadata": {
    "tags": []
   },
   "outputs": [],
   "source": [
    "join_df = join_df.dropna(axis=0)\n"
   ]
  },
  {
   "cell_type": "code",
   "execution_count": 191,
   "id": "a9318d78-7196-489a-abc1-dee72a7e5725",
   "metadata": {
    "tags": []
   },
   "outputs": [
    {
     "data": {
      "text/plain": [
       "incident_num              0\n",
       "date_time                 0\n",
       "day_of_week               0\n",
       "address_number_primary    0\n",
       "address_road_primary      0\n",
       "address_sfx_primary       0\n",
       "call_type                 0\n",
       "disposition               0\n",
       "beat                      0\n",
       "priority                  0\n",
       "dtype: int64"
      ]
     },
     "execution_count": 191,
     "metadata": {},
     "output_type": "execute_result"
    }
   ],
   "source": [
    "join_df.isnull().sum()"
   ]
  },
  {
   "cell_type": "code",
   "execution_count": 192,
   "id": "a79f0325-78c2-4c0d-84f6-81a1c314bde7",
   "metadata": {
    "tags": []
   },
   "outputs": [
    {
     "data": {
      "text/plain": [
       "incident_num                      object\n",
       "date_time                 datetime64[ns]\n",
       "day_of_week                        int64\n",
       "address_number_primary             int64\n",
       "address_road_primary              object\n",
       "address_sfx_primary               object\n",
       "call_type                         object\n",
       "disposition                       object\n",
       "beat                               int64\n",
       "priority                        category\n",
       "dtype: object"
      ]
     },
     "execution_count": 192,
     "metadata": {},
     "output_type": "execute_result"
    }
   ],
   "source": [
    "join_df.dtypes"
   ]
  },
  {
   "cell_type": "markdown",
   "id": "06698bb4-0dc9-4529-8ec6-31a7d25cbfeb",
   "metadata": {},
   "source": [
    "# Bias Exploration "
   ]
  },
  {
   "cell_type": "markdown",
   "id": "2f5b382a-af09-49d5-901e-a632f7d5351b",
   "metadata": {},
   "source": [
    "***Priority Zero***: Dispatch Immediately. Priority E calls involve an imminent\n",
    "threat to life. Examples include: officer or person down, no detail accidents and\n",
    "attempted suicide.\n",
    "\n",
    "***Priority On***e: Dispatch Immediately. Priority One calls involve serious crimes\n",
    "in progress or a threat to life. Examples include: missing children, child abuse,\n",
    "domestic violence, disturbances involving weapons/violence and bomb threats.\n",
    "\n",
    "***Priority Two***: Dispatch as quickly as possible. Priority Two calls involve\n",
    "complaints regarding less serious crimes in which there is no threat to life.\n",
    "Examples include: prowlers who have left, preserve the peace, crime reports for\n",
    "residents standing by at an inconvenient location, blocked driveway when the\n",
    "caller is waiting to leave, injured animals, loud parties with mitigating\n",
    "circumstances.\n",
    "\n",
    "***Priority Three***: Dispatch as quickly as possible. Priority Three calls involve\n",
    "minor crimes or requests for service which are not urgent. Examples include:\n",
    "investigating a cold crime, loud parties involving noise only.\n",
    "\n",
    "***Priority Four***: Dispatch when no higher priority calls are waiting. Priority\n",
    "Four calls involve minor requests for police service. Examples include: found\n",
    "property, most parking violations, etc.\n",
    "\n",
    "***Priority Nine***: Calls that are formatted for the Telephone Report Unit (TRU).\n",
    "Priority Nine calls involve requests for police service, which have limited or no\n",
    "suspect information. Examples include: petty theft, vehicle break-in and false\n",
    "use of another’s identity.\n",
    "\n",
    "The dispatch priority system is designed to be only a guide as a higher or lower\n",
    "priority may be more appropriate."
   ]
  },
  {
   "cell_type": "code",
   "execution_count": 193,
   "id": "484d1298-b387-4407-b1bf-d6f6163400c6",
   "metadata": {
    "tags": []
   },
   "outputs": [],
   "source": [
    "join_df[\"priority\"] = join_df[\"priority\"].astype(\"category\")"
   ]
  },
  {
   "cell_type": "markdown",
   "id": "6254313d-e0e3-489d-89a2-5344101b56d3",
   "metadata": {
    "tags": []
   },
   "source": [
    "Since we don't have priority `5` in our dictionary and it's not interpreted we can remove from our dataset. "
   ]
  },
  {
   "cell_type": "code",
   "execution_count": 194,
   "id": "a3c86b0a-8d29-444a-9770-6d4d6480a20b",
   "metadata": {
    "tags": []
   },
   "outputs": [
    {
     "data": {
      "text/html": [
       "<div>\n",
       "<style scoped>\n",
       "    .dataframe tbody tr th:only-of-type {\n",
       "        vertical-align: middle;\n",
       "    }\n",
       "\n",
       "    .dataframe tbody tr th {\n",
       "        vertical-align: top;\n",
       "    }\n",
       "\n",
       "    .dataframe thead th {\n",
       "        text-align: right;\n",
       "    }\n",
       "</style>\n",
       "<table border=\"1\" class=\"dataframe\">\n",
       "  <thead>\n",
       "    <tr style=\"text-align: right;\">\n",
       "      <th></th>\n",
       "      <th>incident_num</th>\n",
       "      <th>date_time</th>\n",
       "      <th>day_of_week</th>\n",
       "      <th>address_number_primary</th>\n",
       "      <th>address_road_primary</th>\n",
       "      <th>address_sfx_primary</th>\n",
       "      <th>call_type</th>\n",
       "      <th>disposition</th>\n",
       "      <th>beat</th>\n",
       "      <th>priority</th>\n",
       "    </tr>\n",
       "  </thead>\n",
       "  <tbody>\n",
       "    <tr>\n",
       "      <th>14852</th>\n",
       "      <td>E22070013676</td>\n",
       "      <td>2022-07-10 04:03:59</td>\n",
       "      <td>1</td>\n",
       "      <td>600</td>\n",
       "      <td>K</td>\n",
       "      <td>ST</td>\n",
       "      <td>488R</td>\n",
       "      <td>K</td>\n",
       "      <td>521</td>\n",
       "      <td>5</td>\n",
       "    </tr>\n",
       "    <tr>\n",
       "      <th>80897</th>\n",
       "      <td>E22010038843</td>\n",
       "      <td>2022-01-28 03:55:45</td>\n",
       "      <td>6</td>\n",
       "      <td>11400</td>\n",
       "      <td>NORTH TORREY PINES</td>\n",
       "      <td>RD</td>\n",
       "      <td>1186</td>\n",
       "      <td>R</td>\n",
       "      <td>126</td>\n",
       "      <td>5</td>\n",
       "    </tr>\n",
       "    <tr>\n",
       "      <th>82492</th>\n",
       "      <td>E22010040535</td>\n",
       "      <td>2022-01-29 05:45:53</td>\n",
       "      <td>7</td>\n",
       "      <td>11400</td>\n",
       "      <td>NORTH TORREY PINES</td>\n",
       "      <td>RD</td>\n",
       "      <td>1186</td>\n",
       "      <td>K</td>\n",
       "      <td>126</td>\n",
       "      <td>5</td>\n",
       "    </tr>\n",
       "    <tr>\n",
       "      <th>78716</th>\n",
       "      <td>E23020036542</td>\n",
       "      <td>2023-02-25 09:00:49</td>\n",
       "      <td>7</td>\n",
       "      <td>1000</td>\n",
       "      <td>10TH</td>\n",
       "      <td>AVE</td>\n",
       "      <td>SELENF</td>\n",
       "      <td>K</td>\n",
       "      <td>-1</td>\n",
       "      <td>5</td>\n",
       "    </tr>\n",
       "  </tbody>\n",
       "</table>\n",
       "</div>"
      ],
      "text/plain": [
       "       incident_num           date_time  day_of_week  address_number_primary  \\\n",
       "14852  E22070013676 2022-07-10 04:03:59            1                     600   \n",
       "80897  E22010038843 2022-01-28 03:55:45            6                   11400   \n",
       "82492  E22010040535 2022-01-29 05:45:53            7                   11400   \n",
       "78716  E23020036542 2023-02-25 09:00:49            7                    1000   \n",
       "\n",
       "      address_road_primary address_sfx_primary call_type disposition  beat  \\\n",
       "14852                    K                  ST      488R           K   521   \n",
       "80897   NORTH TORREY PINES                  RD      1186           R   126   \n",
       "82492   NORTH TORREY PINES                  RD      1186           K   126   \n",
       "78716                 10TH                 AVE    SELENF           K    -1   \n",
       "\n",
       "      priority  \n",
       "14852        5  \n",
       "80897        5  \n",
       "82492        5  \n",
       "78716        5  "
      ]
     },
     "execution_count": 194,
     "metadata": {},
     "output_type": "execute_result"
    }
   ],
   "source": [
    "priority_5 = join_df[join_df[\"priority\"]==5]\n",
    "priority_5"
   ]
  },
  {
   "cell_type": "code",
   "execution_count": null,
   "id": "9e61f013-b339-436b-8c82-f6864f018e94",
   "metadata": {
    "tags": []
   },
   "outputs": [],
   "source": [
    "join_df_clean = join_df.drop(join_df[join_df[\"priority\"]==5].index) "
   ]
  },
  {
   "cell_type": "code",
   "execution_count": null,
   "id": "17e5e79a-3692-46f2-9cd2-82392b9522b7",
   "metadata": {
    "tags": []
   },
   "outputs": [],
   "source": [
    "join_df_clean"
   ]
  },
  {
   "cell_type": "code",
   "execution_count": null,
   "id": "139cb314-3b7c-4423-bca8-ca30a4823dee",
   "metadata": {
    "tags": []
   },
   "outputs": [],
   "source": [
    "import matplotlib.pyplot as plt\n",
    "\n",
    "%matplotlib inline\n",
    "%config InlineBackend.figure_format='retina'\n",
    "\n",
    "join_df_clean.groupby(\"priority\").count()[\"incident_num\"].plot(\n",
    "    kind=\"bar\", title=\"Breakdown by Priority Rating\")\n",
    "\n",
    "plt.xlabel(\"Priority\")\n",
    "plt.ylabel(\"Incident Count\")"
   ]
  },
  {
   "cell_type": "code",
   "execution_count": null,
   "id": "5f26a2aa-034b-458c-b384-d0c30dbd1ad0",
   "metadata": {
    "tags": []
   },
   "outputs": [],
   "source": [
    "counts_pri = join_df_clean[\"priority\"].value_counts()\n",
    "counts_pri"
   ]
  },
  {
   "cell_type": "code",
   "execution_count": null,
   "id": "057e5bff-fa8a-4a4f-bc0f-5a1a0b59b0ec",
   "metadata": {
    "tags": []
   },
   "outputs": [],
   "source": [
    "# Change the `priority` values to categorical\n",
    "\n",
    "# create a dictionary to map old values to new values\n",
    "priority_map = {0: 'Dispatch immediately', 1: 'Dispatch immediately', 2: 'Dispatch', 3: 'Dispatch', 4: 'non-urgent', 9: 'non-urgent'}\n",
    "join_df_clean[\"priority\"] = join_df_clean[\"priority\"].replace(priority_map)\n",
    "join_df_clean"
   ]
  },
  {
   "cell_type": "code",
   "execution_count": null,
   "id": "487c7de3-9c1e-421f-b862-25e4b95744bc",
   "metadata": {
    "tags": []
   },
   "outputs": [],
   "source": [
    "counts_priority = join_df_clean[\"priority\"].value_counts()\n",
    "counts_priority"
   ]
  },
  {
   "cell_type": "code",
   "execution_count": null,
   "id": "633a41ab-d302-4038-940a-28816880bb73",
   "metadata": {
    "tags": []
   },
   "outputs": [],
   "source": [
    "import matplotlib.pyplot as plt\n",
    "\n",
    "%matplotlib inline\n",
    "%config InlineBackend.figure_format='retina'\n",
    "\n",
    "join_df_clean.groupby(\"priority\").count()[\"incident_num\"].plot(\n",
    "    kind=\"bar\", title=\"Breakdown by Priority Rating\")\n",
    "\n",
    "plt.xlabel(\"Priority\")\n",
    "plt.ylabel(\"Incident Count\")"
   ]
  },
  {
   "cell_type": "markdown",
   "id": "b1f503d6-a526-4800-beaf-8d686d4840bd",
   "metadata": {},
   "source": [
    "# RIPA dataset"
   ]
  },
  {
   "cell_type": "code",
   "execution_count": null,
   "id": "c9fb7c70-72c7-4f61-8881-ab682777e74a",
   "metadata": {
    "tags": []
   },
   "outputs": [],
   "source": [
    "# display(ripa_df)"
   ]
  },
  {
   "cell_type": "markdown",
   "id": "40767c1a-e6ad-4f0f-a8b9-cf601729fe7c",
   "metadata": {},
   "source": [
    "Somtimes null values are not detectable in the dataframe, so there's a possibility that the empty values are not actually null values. Instead, they may be empty string (`''`), whitespace characters, or other non-null values. So, we decided to replace all empty strings in the dataframe with `NaN` values. "
   ]
  },
  {
   "cell_type": "code",
   "execution_count": null,
   "id": "d999c22a-cf05-4d37-a327-7a71fbbdcb4b",
   "metadata": {
    "tags": []
   },
   "outputs": [],
   "source": [
    "# ripa_df.replace('', np.nan, inplace=True)"
   ]
  },
  {
   "cell_type": "code",
   "execution_count": null,
   "id": "6fb3cff8-bb10-481d-8e87-d37a047b89ec",
   "metadata": {
    "tags": []
   },
   "outputs": [],
   "source": [
    "# ripa_df.head(5)"
   ]
  },
  {
   "cell_type": "code",
   "execution_count": null,
   "id": "5fdae7db-4430-4302-9fb7-9ebf4e132472",
   "metadata": {
    "tags": []
   },
   "outputs": [],
   "source": [
    "# ripa_df.info()"
   ]
  },
  {
   "cell_type": "code",
   "execution_count": null,
   "id": "25b1f65e-da71-4813-be31-44b7462d6e80",
   "metadata": {
    "tags": []
   },
   "outputs": [],
   "source": [
    "# ripa_df.describe()"
   ]
  },
  {
   "cell_type": "markdown",
   "id": "8252b6c1-d059-44d6-b9f5-5d7cbada0c75",
   "metadata": {},
   "source": [
    "<!-- ### Check null values -->"
   ]
  },
  {
   "cell_type": "code",
   "execution_count": null,
   "id": "85fa14e8-11bf-4267-a989-25159380de3d",
   "metadata": {
    "tags": []
   },
   "outputs": [],
   "source": [
    "# missing_values = [x for x in ripa_df.columns if ripa_df[x].isnull().sum()>0]\n",
    "# ripa_df[missing_values].isnull().sum()"
   ]
  },
  {
   "cell_type": "code",
   "execution_count": null,
   "id": "1c7a9993-4259-4c38-83c2-fad3e899e4d3",
   "metadata": {
    "tags": []
   },
   "outputs": [],
   "source": [
    "# DQR_RIPA = Data_Quality_Report(ripa_df)\n",
    "# DQR_RIPA"
   ]
  },
  {
   "cell_type": "markdown",
   "id": "8f785a07-610f-4081-892a-8a356afac405",
   "metadata": {},
   "source": [
    "### Dropping columns with more than 60% missing values"
   ]
  },
  {
   "cell_type": "code",
   "execution_count": null,
   "id": "9625ab40-3b26-4148-8797-e63f32e72fca",
   "metadata": {
    "tags": []
   },
   "outputs": [],
   "source": [
    "# Removing unnecessary columns\n",
    "# drop_columns_with_max_missing_values(ripa_df)"
   ]
  },
  {
   "cell_type": "markdown",
   "id": "a8f4ed7a-8902-435f-9f7f-d4e58ebfd978",
   "metadata": {},
   "source": [
    "Great! we dropped the columns that included more than 60% missing values. "
   ]
  },
  {
   "cell_type": "code",
   "execution_count": null,
   "id": "f4fdc761-5006-4f75-b1f1-b863458c3663",
   "metadata": {
    "tags": []
   },
   "outputs": [],
   "source": [
    "# ripa_df.isnull().sum()"
   ]
  },
  {
   "cell_type": "code",
   "execution_count": null,
   "id": "f109482d-4cd6-4b0d-887b-9a892388f4c8",
   "metadata": {
    "tags": []
   },
   "outputs": [],
   "source": [
    "# ripa_df = ripa_df.dropna(axis=0)"
   ]
  },
  {
   "cell_type": "code",
   "execution_count": null,
   "id": "df25437a-4bff-44b3-a956-1b7ae17ea83a",
   "metadata": {
    "tags": []
   },
   "outputs": [],
   "source": [
    "# ripa_df.isnull().sum()"
   ]
  },
  {
   "cell_type": "markdown",
   "id": "804104ce-f43a-4a37-9d0b-b89687f7683a",
   "metadata": {},
   "source": [
    "### change the data types of the columns that should be an integer or float"
   ]
  },
  {
   "cell_type": "code",
   "execution_count": null,
   "id": "8eaa938e-a4b4-43de-8a4d-411b2e62e275",
   "metadata": {
    "tags": []
   },
   "outputs": [],
   "source": [
    "# integer_columns = [\"stop_id\", \"exp_years\", \"stopduration\", \"stop_in_response_to_cfs\", \"office_assignment_key\", \"address_block\", \"isschool\", \"beat\", \"pid\", \"isstudent\", \"perceived_limited_english\", \"perceived_age\", \\\n",
    "#                    \"gender_nonconforming\", \"gend\"]"
   ]
  },
  {
   "cell_type": "code",
   "execution_count": null,
   "id": "eee70afd-d543-4d77-9798-22250184cdc6",
   "metadata": {
    "tags": []
   },
   "outputs": [],
   "source": [
    "# function to convert the data type of selected columns\n",
    "# def convert_columns_to_integer(df, columns):\n",
    "#     df[columns] = df[columns].astype(int)\n",
    "#     return df"
   ]
  },
  {
   "cell_type": "code",
   "execution_count": null,
   "id": "502ca0c1-31c2-489c-9501-7ea95636c90d",
   "metadata": {},
   "outputs": [],
   "source": [
    "# convert_columns_to_integer(ripa_df, integer_columns)"
   ]
  },
  {
   "cell_type": "code",
   "execution_count": null,
   "id": "4ff9098b-403a-4688-b9f2-89bae7f0657f",
   "metadata": {
    "tags": []
   },
   "outputs": [],
   "source": [
    "# ripa_df.dtypes"
   ]
  },
  {
   "cell_type": "markdown",
   "id": "c8ee20f6-0610-4ba2-957d-c2bdd0ea1c78",
   "metadata": {
    "tags": []
   },
   "source": [
    "## **Basic Statistical Concepts**\n",
    "\n",
    "* **Mean**: The mean is one of the measures of central tendency. Simply put, the mean is the average of the values in the given set. The observed values are totaled and divided by the total number of observations to determine the mean.\n",
    "If $x_i$ is $i^{th}$ observation then mean of all $x_i$ ranging from $ 1\\leq i\\leq n $ denoted by $\\bar x$ is given as\n",
    "\n",
    "$$ \\bar{x} = \\sum_{i=1}^{n}\\frac{x_i}{n} $$\n",
    "\n",
    "\n",
    "* **Variance**: Variance is a measure of variation. It is calculated by averaging the squared deviations from the mean.\n",
    "The degree of spread in your data set is indicated by variation. The greater the spread of the data, the greater the variance in proportion to the mean.\n",
    "Here's the formula for variance of a sample.\n",
    "\n",
    "$$S^2 = \\frac{\\sum_{i=1}^{n}(x_i-\\bar x)^2}{n-1}$$\n",
    "\n",
    "\n",
    "* **Standard Deviation**: The standard deviation is a measure that shows how much variation (such as spread, dispersion, and spread) exists from the mean. The standard deviation represents a \"typical\" departure from the mean. It is a popular measure of variability since it returns to the data set's original units of measurement.\n",
    "Here's the formula for standard deviation of a sample.\n",
    "\n",
    "$$S = \\sqrt \\frac{\\sum_{i=1}^{n}(x_i-\\bar x)^2}{n-1}$$"
   ]
  },
  {
   "cell_type": "markdown",
   "id": "6efb1624-c6cd-47fa-937a-76e8d0d4df78",
   "metadata": {},
   "source": []
  },
  {
   "cell_type": "code",
   "execution_count": null,
   "id": "a12ff66d-447c-4100-b527-4001e05afe31",
   "metadata": {},
   "outputs": [],
   "source": []
  }
 ],
 "metadata": {
  "availableInstances": [
   {
    "_defaultOrder": 0,
    "_isFastLaunch": true,
    "category": "General purpose",
    "gpuNum": 0,
    "memoryGiB": 4,
    "name": "ml.t3.medium",
    "vcpuNum": 2
   },
   {
    "_defaultOrder": 1,
    "_isFastLaunch": false,
    "category": "General purpose",
    "gpuNum": 0,
    "memoryGiB": 8,
    "name": "ml.t3.large",
    "vcpuNum": 2
   },
   {
    "_defaultOrder": 2,
    "_isFastLaunch": false,
    "category": "General purpose",
    "gpuNum": 0,
    "memoryGiB": 16,
    "name": "ml.t3.xlarge",
    "vcpuNum": 4
   },
   {
    "_defaultOrder": 3,
    "_isFastLaunch": false,
    "category": "General purpose",
    "gpuNum": 0,
    "memoryGiB": 32,
    "name": "ml.t3.2xlarge",
    "vcpuNum": 8
   },
   {
    "_defaultOrder": 4,
    "_isFastLaunch": true,
    "category": "General purpose",
    "gpuNum": 0,
    "memoryGiB": 8,
    "name": "ml.m5.large",
    "vcpuNum": 2
   },
   {
    "_defaultOrder": 5,
    "_isFastLaunch": false,
    "category": "General purpose",
    "gpuNum": 0,
    "memoryGiB": 16,
    "name": "ml.m5.xlarge",
    "vcpuNum": 4
   },
   {
    "_defaultOrder": 6,
    "_isFastLaunch": false,
    "category": "General purpose",
    "gpuNum": 0,
    "memoryGiB": 32,
    "name": "ml.m5.2xlarge",
    "vcpuNum": 8
   },
   {
    "_defaultOrder": 7,
    "_isFastLaunch": false,
    "category": "General purpose",
    "gpuNum": 0,
    "memoryGiB": 64,
    "name": "ml.m5.4xlarge",
    "vcpuNum": 16
   },
   {
    "_defaultOrder": 8,
    "_isFastLaunch": false,
    "category": "General purpose",
    "gpuNum": 0,
    "memoryGiB": 128,
    "name": "ml.m5.8xlarge",
    "vcpuNum": 32
   },
   {
    "_defaultOrder": 9,
    "_isFastLaunch": false,
    "category": "General purpose",
    "gpuNum": 0,
    "memoryGiB": 192,
    "name": "ml.m5.12xlarge",
    "vcpuNum": 48
   },
   {
    "_defaultOrder": 10,
    "_isFastLaunch": false,
    "category": "General purpose",
    "gpuNum": 0,
    "memoryGiB": 256,
    "name": "ml.m5.16xlarge",
    "vcpuNum": 64
   },
   {
    "_defaultOrder": 11,
    "_isFastLaunch": false,
    "category": "General purpose",
    "gpuNum": 0,
    "memoryGiB": 384,
    "name": "ml.m5.24xlarge",
    "vcpuNum": 96
   },
   {
    "_defaultOrder": 12,
    "_isFastLaunch": false,
    "category": "General purpose",
    "gpuNum": 0,
    "memoryGiB": 8,
    "name": "ml.m5d.large",
    "vcpuNum": 2
   },
   {
    "_defaultOrder": 13,
    "_isFastLaunch": false,
    "category": "General purpose",
    "gpuNum": 0,
    "memoryGiB": 16,
    "name": "ml.m5d.xlarge",
    "vcpuNum": 4
   },
   {
    "_defaultOrder": 14,
    "_isFastLaunch": false,
    "category": "General purpose",
    "gpuNum": 0,
    "memoryGiB": 32,
    "name": "ml.m5d.2xlarge",
    "vcpuNum": 8
   },
   {
    "_defaultOrder": 15,
    "_isFastLaunch": false,
    "category": "General purpose",
    "gpuNum": 0,
    "memoryGiB": 64,
    "name": "ml.m5d.4xlarge",
    "vcpuNum": 16
   },
   {
    "_defaultOrder": 16,
    "_isFastLaunch": false,
    "category": "General purpose",
    "gpuNum": 0,
    "memoryGiB": 128,
    "name": "ml.m5d.8xlarge",
    "vcpuNum": 32
   },
   {
    "_defaultOrder": 17,
    "_isFastLaunch": false,
    "category": "General purpose",
    "gpuNum": 0,
    "memoryGiB": 192,
    "name": "ml.m5d.12xlarge",
    "vcpuNum": 48
   },
   {
    "_defaultOrder": 18,
    "_isFastLaunch": false,
    "category": "General purpose",
    "gpuNum": 0,
    "memoryGiB": 256,
    "name": "ml.m5d.16xlarge",
    "vcpuNum": 64
   },
   {
    "_defaultOrder": 19,
    "_isFastLaunch": false,
    "category": "General purpose",
    "gpuNum": 0,
    "memoryGiB": 384,
    "name": "ml.m5d.24xlarge",
    "vcpuNum": 96
   },
   {
    "_defaultOrder": 20,
    "_isFastLaunch": true,
    "category": "Compute optimized",
    "gpuNum": 0,
    "memoryGiB": 4,
    "name": "ml.c5.large",
    "vcpuNum": 2
   },
   {
    "_defaultOrder": 21,
    "_isFastLaunch": false,
    "category": "Compute optimized",
    "gpuNum": 0,
    "memoryGiB": 8,
    "name": "ml.c5.xlarge",
    "vcpuNum": 4
   },
   {
    "_defaultOrder": 22,
    "_isFastLaunch": false,
    "category": "Compute optimized",
    "gpuNum": 0,
    "memoryGiB": 16,
    "name": "ml.c5.2xlarge",
    "vcpuNum": 8
   },
   {
    "_defaultOrder": 23,
    "_isFastLaunch": false,
    "category": "Compute optimized",
    "gpuNum": 0,
    "memoryGiB": 32,
    "name": "ml.c5.4xlarge",
    "vcpuNum": 16
   },
   {
    "_defaultOrder": 24,
    "_isFastLaunch": false,
    "category": "Compute optimized",
    "gpuNum": 0,
    "memoryGiB": 72,
    "name": "ml.c5.9xlarge",
    "vcpuNum": 36
   },
   {
    "_defaultOrder": 25,
    "_isFastLaunch": false,
    "category": "Compute optimized",
    "gpuNum": 0,
    "memoryGiB": 96,
    "name": "ml.c5.12xlarge",
    "vcpuNum": 48
   },
   {
    "_defaultOrder": 26,
    "_isFastLaunch": false,
    "category": "Compute optimized",
    "gpuNum": 0,
    "memoryGiB": 144,
    "name": "ml.c5.18xlarge",
    "vcpuNum": 72
   },
   {
    "_defaultOrder": 27,
    "_isFastLaunch": false,
    "category": "Compute optimized",
    "gpuNum": 0,
    "memoryGiB": 192,
    "name": "ml.c5.24xlarge",
    "vcpuNum": 96
   },
   {
    "_defaultOrder": 28,
    "_isFastLaunch": true,
    "category": "Accelerated computing",
    "gpuNum": 1,
    "memoryGiB": 16,
    "name": "ml.g4dn.xlarge",
    "vcpuNum": 4
   },
   {
    "_defaultOrder": 29,
    "_isFastLaunch": false,
    "category": "Accelerated computing",
    "gpuNum": 1,
    "memoryGiB": 32,
    "name": "ml.g4dn.2xlarge",
    "vcpuNum": 8
   },
   {
    "_defaultOrder": 30,
    "_isFastLaunch": false,
    "category": "Accelerated computing",
    "gpuNum": 1,
    "memoryGiB": 64,
    "name": "ml.g4dn.4xlarge",
    "vcpuNum": 16
   },
   {
    "_defaultOrder": 31,
    "_isFastLaunch": false,
    "category": "Accelerated computing",
    "gpuNum": 1,
    "memoryGiB": 128,
    "name": "ml.g4dn.8xlarge",
    "vcpuNum": 32
   },
   {
    "_defaultOrder": 32,
    "_isFastLaunch": false,
    "category": "Accelerated computing",
    "gpuNum": 4,
    "memoryGiB": 192,
    "name": "ml.g4dn.12xlarge",
    "vcpuNum": 48
   },
   {
    "_defaultOrder": 33,
    "_isFastLaunch": false,
    "category": "Accelerated computing",
    "gpuNum": 1,
    "memoryGiB": 256,
    "name": "ml.g4dn.16xlarge",
    "vcpuNum": 64
   },
   {
    "_defaultOrder": 34,
    "_isFastLaunch": false,
    "category": "Accelerated computing",
    "gpuNum": 1,
    "memoryGiB": 61,
    "name": "ml.p3.2xlarge",
    "vcpuNum": 8
   },
   {
    "_defaultOrder": 35,
    "_isFastLaunch": false,
    "category": "Accelerated computing",
    "gpuNum": 4,
    "memoryGiB": 244,
    "name": "ml.p3.8xlarge",
    "vcpuNum": 32
   },
   {
    "_defaultOrder": 36,
    "_isFastLaunch": false,
    "category": "Accelerated computing",
    "gpuNum": 8,
    "memoryGiB": 488,
    "name": "ml.p3.16xlarge",
    "vcpuNum": 64
   },
   {
    "_defaultOrder": 37,
    "_isFastLaunch": false,
    "category": "Accelerated computing",
    "gpuNum": 8,
    "memoryGiB": 768,
    "name": "ml.p3dn.24xlarge",
    "vcpuNum": 96
   },
   {
    "_defaultOrder": 38,
    "_isFastLaunch": false,
    "category": "Memory Optimized",
    "gpuNum": 0,
    "memoryGiB": 16,
    "name": "ml.r5.large",
    "vcpuNum": 2
   },
   {
    "_defaultOrder": 39,
    "_isFastLaunch": false,
    "category": "Memory Optimized",
    "gpuNum": 0,
    "memoryGiB": 32,
    "name": "ml.r5.xlarge",
    "vcpuNum": 4
   },
   {
    "_defaultOrder": 40,
    "_isFastLaunch": false,
    "category": "Memory Optimized",
    "gpuNum": 0,
    "memoryGiB": 64,
    "name": "ml.r5.2xlarge",
    "vcpuNum": 8
   },
   {
    "_defaultOrder": 41,
    "_isFastLaunch": false,
    "category": "Memory Optimized",
    "gpuNum": 0,
    "memoryGiB": 128,
    "name": "ml.r5.4xlarge",
    "vcpuNum": 16
   },
   {
    "_defaultOrder": 42,
    "_isFastLaunch": false,
    "category": "Memory Optimized",
    "gpuNum": 0,
    "memoryGiB": 256,
    "name": "ml.r5.8xlarge",
    "vcpuNum": 32
   },
   {
    "_defaultOrder": 43,
    "_isFastLaunch": false,
    "category": "Memory Optimized",
    "gpuNum": 0,
    "memoryGiB": 384,
    "name": "ml.r5.12xlarge",
    "vcpuNum": 48
   },
   {
    "_defaultOrder": 44,
    "_isFastLaunch": false,
    "category": "Memory Optimized",
    "gpuNum": 0,
    "memoryGiB": 512,
    "name": "ml.r5.16xlarge",
    "vcpuNum": 64
   },
   {
    "_defaultOrder": 45,
    "_isFastLaunch": false,
    "category": "Memory Optimized",
    "gpuNum": 0,
    "memoryGiB": 768,
    "name": "ml.r5.24xlarge",
    "vcpuNum": 96
   },
   {
    "_defaultOrder": 46,
    "_isFastLaunch": false,
    "category": "Accelerated computing",
    "gpuNum": 1,
    "memoryGiB": 16,
    "name": "ml.g5.xlarge",
    "vcpuNum": 4
   },
   {
    "_defaultOrder": 47,
    "_isFastLaunch": false,
    "category": "Accelerated computing",
    "gpuNum": 1,
    "memoryGiB": 32,
    "name": "ml.g5.2xlarge",
    "vcpuNum": 8
   },
   {
    "_defaultOrder": 48,
    "_isFastLaunch": false,
    "category": "Accelerated computing",
    "gpuNum": 1,
    "memoryGiB": 64,
    "name": "ml.g5.4xlarge",
    "vcpuNum": 16
   },
   {
    "_defaultOrder": 49,
    "_isFastLaunch": false,
    "category": "Accelerated computing",
    "gpuNum": 1,
    "memoryGiB": 128,
    "name": "ml.g5.8xlarge",
    "vcpuNum": 32
   },
   {
    "_defaultOrder": 50,
    "_isFastLaunch": false,
    "category": "Accelerated computing",
    "gpuNum": 1,
    "memoryGiB": 256,
    "name": "ml.g5.16xlarge",
    "vcpuNum": 64
   },
   {
    "_defaultOrder": 51,
    "_isFastLaunch": false,
    "category": "Accelerated computing",
    "gpuNum": 4,
    "memoryGiB": 192,
    "name": "ml.g5.12xlarge",
    "vcpuNum": 48
   },
   {
    "_defaultOrder": 52,
    "_isFastLaunch": false,
    "category": "Accelerated computing",
    "gpuNum": 4,
    "memoryGiB": 384,
    "name": "ml.g5.24xlarge",
    "vcpuNum": 96
   },
   {
    "_defaultOrder": 53,
    "_isFastLaunch": false,
    "category": "Accelerated computing",
    "gpuNum": 8,
    "memoryGiB": 768,
    "name": "ml.g5.48xlarge",
    "vcpuNum": 192
   }
  ],
  "instance_type": "ml.t3.medium",
  "kernelspec": {
   "display_name": "Python 3 (Data Science)",
   "language": "python",
   "name": "python3__SAGEMAKER_INTERNAL__arn:aws:sagemaker:us-east-1:081325390199:image/datascience-1.0"
  },
  "language_info": {
   "codemirror_mode": {
    "name": "ipython",
    "version": 3
   },
   "file_extension": ".py",
   "mimetype": "text/x-python",
   "name": "python",
   "nbconvert_exporter": "python",
   "pygments_lexer": "ipython3",
   "version": "3.7.10"
  }
 },
 "nbformat": 4,
 "nbformat_minor": 5
}

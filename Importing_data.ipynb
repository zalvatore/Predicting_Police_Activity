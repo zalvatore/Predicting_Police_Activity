{
 "cells": [
  {
   "cell_type": "code",
   "execution_count": 156,
   "id": "9d156e05-db52-404f-a6e4-20dc678d01db",
   "metadata": {
    "tags": []
   },
   "outputs": [],
   "source": [
    "import sagemaker\n",
    "import boto3\n",
    "from datetime import datetime\n",
    "from io import StringIO\n",
    "import pandas as pd\n",
    "\n",
    "from pyathena import connect"
   ]
  },
  {
   "cell_type": "code",
   "execution_count": 157,
   "id": "d8aac005-f80e-4f02-b0d4-880ac293dad8",
   "metadata": {
    "tags": []
   },
   "outputs": [
    {
     "name": "stdout",
     "output_type": "stream",
     "text": [
      "Bucket - >  sagemaker-us-east-1-859074047513\n",
      "Role - >  arn:aws:iam::859074047513:role/LabRole\n",
      "Region - >  us-east-1\n",
      "S3 - >  <botocore.client.S3 object at 0x7f379d9552d0>\n",
      "S3 Resource - >  s3.ServiceResource()\n"
     ]
    }
   ],
   "source": [
    "sess = sagemaker.Session() #Intialzie session\n",
    "\n",
    "bucket = sess.default_bucket()\n",
    "RD_Bucket = 'policedatasetbucket' #Raw Data\n",
    "role = sagemaker.get_execution_role()\n",
    "region = boto3.Session().region_name\n",
    "s3 = boto3.client('s3') # Create an S3 client\n",
    "s3_resource = boto3.resource('s3') # Create an S3 resource\n",
    "\n",
    "\n",
    "print('Bucket - > ',bucket)\n",
    "print('Role - > ',role)\n",
    "print('Region - > ',region)\n",
    "print('S3 - > ',s3)\n",
    "print('S3 Resource - > ',s3_resource)"
   ]
  },
  {
   "cell_type": "code",
   "execution_count": 158,
   "id": "81047620-9804-4f4e-bfeb-2d0f3f56ad1b",
   "metadata": {
    "tags": []
   },
   "outputs": [],
   "source": [
    "# Function to verify if bucket exist, if not create\n",
    "def verify_create_bucket(bucket_name):\n",
    "    response = s3.list_buckets()\n",
    "    for bucket in response['Buckets']:\n",
    "        if bucket['Name'] == bucket_name:\n",
    "            print(f\"The {bucket_name} bucket exists.\")\n",
    "            break\n",
    "    else:\n",
    "        print(f\"The {bucket_name} bucket does not exist, creating\")\n",
    "        !aws s3 mb s3://{bucket}/"
   ]
  },
  {
   "cell_type": "code",
   "execution_count": 159,
   "id": "b32f6c00-23cc-421a-9d0e-b8edb489698f",
   "metadata": {
    "tags": []
   },
   "outputs": [
    {
     "name": "stdout",
     "output_type": "stream",
     "text": [
      "The sagemaker-us-east-1-859074047513 bucket exists.\n"
     ]
    }
   ],
   "source": [
    "verify_create_bucket(bucket)"
   ]
  },
  {
   "cell_type": "code",
   "execution_count": 160,
   "id": "737f9d7e-1908-4b41-b70c-1629ebe4483d",
   "metadata": {
    "tags": []
   },
   "outputs": [],
   "source": [
    "#function to download yearly data\n",
    "# def Get_Data(year):\n",
    "#     url = f\"https://seshat.datasd.org/pd/pd_calls_for_service_{year}_datasd.csv\"\n",
    "#     df = pd.read_csv(url)\n",
    "#     return df"
   ]
  },
  {
   "cell_type": "code",
   "execution_count": 161,
   "id": "48e9f100-c763-458a-80d4-e92e392c380f",
   "metadata": {
    "tags": []
   },
   "outputs": [],
   "source": [
    "# List of years since 2018\n",
    "# Years = list(range(2018,datetime.now().year+1))\n",
    "# Years"
   ]
  },
  {
   "cell_type": "code",
   "execution_count": 162,
   "id": "f1eb0cd5-a6d6-4216-81dd-cac47baadf50",
   "metadata": {
    "tags": []
   },
   "outputs": [],
   "source": [
    "#iterate over years\n",
    "# for year in Years:\n",
    "#     year_df = Get_Data(year)\n",
    "#     csv_buffer = StringIO()\n",
    "#     year_df.to_csv(csv_buffer, index=False)\n",
    "#     file = 'SDPD_Calls_' + str(year) + '.csv'\n",
    "#     s3_resource.Object(bucket,file).put(Body=csv_buffer.getvalue())\n",
    "#     print(file,'loaded in',bucket,'bucket')"
   ]
  },
  {
   "cell_type": "code",
   "execution_count": 163,
   "id": "3b9fa40d-81ef-4f9f-af03-812ef65bbf3a",
   "metadata": {
    "tags": []
   },
   "outputs": [],
   "source": [
    "# def URL_2_Bucket(url,file_name):\n",
    "#     df = pd.read_csv(url, low_memory=False)\n",
    "#     csv_buffer = StringIO()\n",
    "#     df.to_csv(csv_buffer, index=False)\n",
    "#     file = file_name + '.csv'\n",
    "#     s3_resource.Object(RD_Bucket,file).put(Body=csv_buffer.getvalue())\n",
    "#     print(file,'loaded in',RD_Bucket,'bucket')\n",
    "    "
   ]
  },
  {
   "cell_type": "code",
   "execution_count": 164,
   "id": "b98b86f1-f78d-4f78-80ff-46033260db2e",
   "metadata": {
    "tags": []
   },
   "outputs": [],
   "source": [
    "# type_url = f\"http://seshat.datasd.org/pd/pd_cfs_calltypes_datasd.csv\"\n",
    "# dipo_url = f\"http://seshat.datasd.org/pd/pd_dispo_codes_datasd.csv\"\n",
    "# ripa_stops_url = \"https://seshat.datasd.org/pd/ripa_stops_datasd.csv\"\n",
    "# ripa_stops_dic = \"https://seshat.datasd.org/pd/ripa_stops_dictionary_datasd.csv\""
   ]
  },
  {
   "cell_type": "code",
   "execution_count": 165,
   "id": "a81b7417-bfea-4627-8f83-b021f56b7cf5",
   "metadata": {
    "tags": []
   },
   "outputs": [],
   "source": [
    "# URL_2_Bucket(type_url,'Type')\n",
    "# URL_2_Bucket(dipo_url,'Dispo')\n",
    "# URL_2_Bucket(ripa_stops_url,'Ripa_Stops')\n",
    "# URL_2_Bucket(ripa_stops_dic,'Ripa_Stops_Dic')"
   ]
  },
  {
   "cell_type": "code",
   "execution_count": 166,
   "id": "d8bff752-e061-4333-8578-681fb70f6343",
   "metadata": {},
   "outputs": [],
   "source": [
    "ingest_create_athena_db_passed = False"
   ]
  },
  {
   "cell_type": "markdown",
   "id": "96fff9d0-848c-4e9f-8880-75d6c8780f31",
   "metadata": {},
   "source": [
    "# Create Athena Database"
   ]
  },
  {
   "cell_type": "code",
   "execution_count": 167,
   "id": "9240964a-b6c1-4287-be93-c68435fbe4b3",
   "metadata": {
    "tags": []
   },
   "outputs": [],
   "source": [
    "database_name = \"sd_police_db\""
   ]
  },
  {
   "cell_type": "code",
   "execution_count": 168,
   "id": "d86e4265-de80-4c0d-b305-89898dc8b99a",
   "metadata": {
    "tags": []
   },
   "outputs": [],
   "source": [
    "# Set S3 staging directory -- this is a temporary directory used for Athena queries\n",
    "s3_staging_dir = \"s3://{0}/athena/staging\".format(bucket)"
   ]
  },
  {
   "cell_type": "code",
   "execution_count": 169,
   "id": "84ff73e0-57d1-4939-98c1-9554a659e512",
   "metadata": {
    "tags": []
   },
   "outputs": [],
   "source": [
    "conn = connect(region_name=region, s3_staging_dir=s3_staging_dir)\n"
   ]
  },
  {
   "cell_type": "code",
   "execution_count": 170,
   "id": "85d9e741-1d3a-4082-8fd2-e3b84034fd7e",
   "metadata": {
    "tags": []
   },
   "outputs": [
    {
     "name": "stdout",
     "output_type": "stream",
     "text": [
      "CREATE DATABASE IF NOT EXISTS sd_police_db\n"
     ]
    }
   ],
   "source": [
    "statement = \"CREATE DATABASE IF NOT EXISTS {}\".format(database_name)\n",
    "print(statement)"
   ]
  },
  {
   "cell_type": "code",
   "execution_count": 171,
   "id": "a7f71d57-3a91-4767-9e72-b44602f23bb7",
   "metadata": {
    "tags": []
   },
   "outputs": [
    {
     "data": {
      "text/html": [
       "<div>\n",
       "<style scoped>\n",
       "    .dataframe tbody tr th:only-of-type {\n",
       "        vertical-align: middle;\n",
       "    }\n",
       "\n",
       "    .dataframe tbody tr th {\n",
       "        vertical-align: top;\n",
       "    }\n",
       "\n",
       "    .dataframe thead th {\n",
       "        text-align: right;\n",
       "    }\n",
       "</style>\n",
       "<table border=\"1\" class=\"dataframe\">\n",
       "  <thead>\n",
       "    <tr style=\"text-align: right;\">\n",
       "      <th></th>\n",
       "    </tr>\n",
       "  </thead>\n",
       "  <tbody>\n",
       "  </tbody>\n",
       "</table>\n",
       "</div>"
      ],
      "text/plain": [
       "Empty DataFrame\n",
       "Columns: []\n",
       "Index: []"
      ]
     },
     "execution_count": 171,
     "metadata": {},
     "output_type": "execute_result"
    }
   ],
   "source": [
    "import pandas as pd\n",
    "\n",
    "pd.read_sql(statement, conn)"
   ]
  },
  {
   "cell_type": "code",
   "execution_count": 172,
   "id": "3abd2cbc-cdfa-428f-9979-a1f17d70aed6",
   "metadata": {
    "tags": []
   },
   "outputs": [
    {
     "data": {
      "text/html": [
       "<div>\n",
       "<style scoped>\n",
       "    .dataframe tbody tr th:only-of-type {\n",
       "        vertical-align: middle;\n",
       "    }\n",
       "\n",
       "    .dataframe tbody tr th {\n",
       "        vertical-align: top;\n",
       "    }\n",
       "\n",
       "    .dataframe thead th {\n",
       "        text-align: right;\n",
       "    }\n",
       "</style>\n",
       "<table border=\"1\" class=\"dataframe\">\n",
       "  <thead>\n",
       "    <tr style=\"text-align: right;\">\n",
       "      <th></th>\n",
       "      <th>database_name</th>\n",
       "    </tr>\n",
       "  </thead>\n",
       "  <tbody>\n",
       "    <tr>\n",
       "      <th>0</th>\n",
       "      <td>default</td>\n",
       "    </tr>\n",
       "    <tr>\n",
       "      <th>1</th>\n",
       "      <td>dsoaws</td>\n",
       "    </tr>\n",
       "    <tr>\n",
       "      <th>2</th>\n",
       "      <td>sd_police_db</td>\n",
       "    </tr>\n",
       "  </tbody>\n",
       "</table>\n",
       "</div>"
      ],
      "text/plain": [
       "  database_name\n",
       "0       default\n",
       "1        dsoaws\n",
       "2  sd_police_db"
      ]
     },
     "execution_count": 172,
     "metadata": {},
     "output_type": "execute_result"
    }
   ],
   "source": [
    "# Show databases\n",
    "statement = \"SHOW DATABASES\"\n",
    "\n",
    "df_show = pd.read_sql(statement, conn)\n",
    "df_show.head(5)"
   ]
  },
  {
   "cell_type": "markdown",
   "id": "b339df0c-c62e-4870-a35c-07cc8ca468e9",
   "metadata": {},
   "source": [
    "# Drop Database if Needed"
   ]
  },
  {
   "cell_type": "code",
   "execution_count": 173,
   "id": "7a0922ff-46fa-4779-8a35-b8f9329eb82b",
   "metadata": {
    "tags": []
   },
   "outputs": [],
   "source": [
    "# drop_db_name = \"dsoaw\"\n",
    "# drop_db_query = f\"DROP DATABASE IF EXISTS {drop_db_name}\"\n",
    "\n",
    "# df_show = pd.read_sql(drop_db_query, conn)\n",
    "# df_show.head()"
   ]
  },
  {
   "cell_type": "markdown",
   "id": "14b2878f-98a3-494b-b204-053b62b77df1",
   "metadata": {},
   "source": [
    "# Drop Table if Needed"
   ]
  },
  {
   "cell_type": "code",
   "execution_count": 174,
   "id": "c9db4d7a-48da-4a46-8e1c-e866c5260051",
   "metadata": {
    "tags": []
   },
   "outputs": [
    {
     "data": {
      "text/html": [
       "<div>\n",
       "<style scoped>\n",
       "    .dataframe tbody tr th:only-of-type {\n",
       "        vertical-align: middle;\n",
       "    }\n",
       "\n",
       "    .dataframe tbody tr th {\n",
       "        vertical-align: top;\n",
       "    }\n",
       "\n",
       "    .dataframe thead th {\n",
       "        text-align: right;\n",
       "    }\n",
       "</style>\n",
       "<table border=\"1\" class=\"dataframe\">\n",
       "  <thead>\n",
       "    <tr style=\"text-align: right;\">\n",
       "      <th></th>\n",
       "    </tr>\n",
       "  </thead>\n",
       "  <tbody>\n",
       "  </tbody>\n",
       "</table>\n",
       "</div>"
      ],
      "text/plain": [
       "Empty DataFrame\n",
       "Columns: []\n",
       "Index: []"
      ]
     },
     "execution_count": 174,
     "metadata": {},
     "output_type": "execute_result"
    }
   ],
   "source": [
    "# drop_table_name = \"table_sd_ripa\" \n",
    "\n",
    "# drop_table_query = f\"DROP TABLE IF EXISTS {database_name}.{drop_table_name}\"\n",
    "\n",
    "# df_show1 = pd.read_sql(drop_table_query, conn)\n",
    "# df_show1.head()"
   ]
  },
  {
   "cell_type": "code",
   "execution_count": 175,
   "id": "1d225736-e41d-4594-b51e-debc5971cd3a",
   "metadata": {
    "tags": []
   },
   "outputs": [],
   "source": [
    "if database_name in df_show.values:\n",
    "    ingest_create_athena_db_passed = True"
   ]
  },
  {
   "cell_type": "code",
   "execution_count": 176,
   "id": "f4624f2a-1283-4687-89cb-5330cd53474a",
   "metadata": {
    "tags": []
   },
   "outputs": [
    {
     "name": "stdout",
     "output_type": "stream",
     "text": [
      "Stored 'ingest_create_athena_db_passed' (bool)\n"
     ]
    }
   ],
   "source": [
    "%store ingest_create_athena_db_passed"
   ]
  },
  {
   "cell_type": "markdown",
   "id": "9b5f12ce-83a1-4a06-b4bb-f6d8ac68b781",
   "metadata": {
    "tags": []
   },
   "source": [
    "# S3 Bucket Folder Information for 2021"
   ]
  },
  {
   "cell_type": "code",
   "execution_count": 177,
   "id": "c231517a-0908-4feb-88ef-c401e1452405",
   "metadata": {
    "tags": []
   },
   "outputs": [
    {
     "name": "stdout",
     "output_type": "stream",
     "text": [
      "s3://sagemaker-us-east-1-859074047513/policedatasetsd/csv\n"
     ]
    }
   ],
   "source": [
    "s3_private_path_csv = \"s3://{}/policedatasetsd/csv\".format(bucket)\n",
    "print(s3_private_path_csv)"
   ]
  },
  {
   "cell_type": "code",
   "execution_count": 178,
   "id": "9c2e78da-ce51-4fa2-894d-ab081c7ad061",
   "metadata": {
    "tags": []
   },
   "outputs": [],
   "source": [
    "table_name = \"table_sd_2021\""
   ]
  },
  {
   "cell_type": "code",
   "execution_count": 179,
   "id": "bff96feb-861b-4cc7-b2d1-97b8f7c5d539",
   "metadata": {
    "tags": []
   },
   "outputs": [
    {
     "name": "stdout",
     "output_type": "stream",
     "text": [
      "CREATE EXTERNAL TABLE IF NOT EXISTS sd_police_db.table_sd_2021(\n",
      "incident_num string,\n",
      "date_time string,\n",
      "day_of_week int,\n",
      "address_number_primary int,\n",
      "address_dir_primary string,\n",
      "address_road_primary string,\n",
      "address_sfx_primary string,\n",
      "address_dir_intersecting string,\n",
      "address_road_intersecting string,\n",
      "address_sfx_intersecting string,\n",
      "call_type string,\n",
      "disposition string,\n",
      "beat int,\n",
      "priority int) \n",
      "\n",
      "ROW FORMAT DELIMITED FIELDS TERMINATED BY ',' LOCATION 's3://sagemaker-us-east-1-859074047513/policedatasetsd/csv'\n",
      "TBLPROPERTIES ('skip.header.line.count'='1')\n"
     ]
    }
   ],
   "source": [
    "# SQL statement to execute\n",
    "statement = \"\"\"CREATE EXTERNAL TABLE IF NOT EXISTS {}.{}(\n",
    "incident_num string,\n",
    "date_time string,\n",
    "day_of_week int,\n",
    "address_number_primary int,\n",
    "address_dir_primary string,\n",
    "address_road_primary string,\n",
    "address_sfx_primary string,\n",
    "address_dir_intersecting string,\n",
    "address_road_intersecting string,\n",
    "address_sfx_intersecting string,\n",
    "call_type string,\n",
    "disposition string,\n",
    "beat int,\n",
    "priority int) \n",
    "\n",
    "ROW FORMAT DELIMITED FIELDS TERMINATED BY ',' LOCATION '{}'\n",
    "TBLPROPERTIES ('skip.header.line.count'='1')\"\"\".format(database_name, table_name, s3_private_path_csv)\n",
    "\n",
    "print(statement)"
   ]
  },
  {
   "cell_type": "code",
   "execution_count": 180,
   "id": "3c8764cd-d7fd-4275-9e19-a2532d178126",
   "metadata": {
    "tags": []
   },
   "outputs": [
    {
     "data": {
      "text/html": [
       "<div>\n",
       "<style scoped>\n",
       "    .dataframe tbody tr th:only-of-type {\n",
       "        vertical-align: middle;\n",
       "    }\n",
       "\n",
       "    .dataframe tbody tr th {\n",
       "        vertical-align: top;\n",
       "    }\n",
       "\n",
       "    .dataframe thead th {\n",
       "        text-align: right;\n",
       "    }\n",
       "</style>\n",
       "<table border=\"1\" class=\"dataframe\">\n",
       "  <thead>\n",
       "    <tr style=\"text-align: right;\">\n",
       "      <th></th>\n",
       "    </tr>\n",
       "  </thead>\n",
       "  <tbody>\n",
       "  </tbody>\n",
       "</table>\n",
       "</div>"
      ],
      "text/plain": [
       "Empty DataFrame\n",
       "Columns: []\n",
       "Index: []"
      ]
     },
     "execution_count": 180,
     "metadata": {},
     "output_type": "execute_result"
    }
   ],
   "source": [
    "import pandas as pd\n",
    "\n",
    "pd.read_sql(statement, conn)"
   ]
  },
  {
   "cell_type": "markdown",
   "id": "f441a570-7879-4b73-b640-fe7a73181b62",
   "metadata": {},
   "source": [
    "# Varify Tables in a Specified Database"
   ]
  },
  {
   "cell_type": "code",
   "execution_count": 181,
   "id": "de6a0eec-fde5-442f-9c8e-a658c2fde1e2",
   "metadata": {
    "tags": []
   },
   "outputs": [
    {
     "data": {
      "text/html": [
       "<div>\n",
       "<style scoped>\n",
       "    .dataframe tbody tr th:only-of-type {\n",
       "        vertical-align: middle;\n",
       "    }\n",
       "\n",
       "    .dataframe tbody tr th {\n",
       "        vertical-align: top;\n",
       "    }\n",
       "\n",
       "    .dataframe thead th {\n",
       "        text-align: right;\n",
       "    }\n",
       "</style>\n",
       "<table border=\"1\" class=\"dataframe\">\n",
       "  <thead>\n",
       "    <tr style=\"text-align: right;\">\n",
       "      <th></th>\n",
       "      <th>tab_name</th>\n",
       "    </tr>\n",
       "  </thead>\n",
       "  <tbody>\n",
       "    <tr>\n",
       "      <th>0</th>\n",
       "      <td>table_sd_2021</td>\n",
       "    </tr>\n",
       "    <tr>\n",
       "      <th>1</th>\n",
       "      <td>table_sd_2022</td>\n",
       "    </tr>\n",
       "    <tr>\n",
       "      <th>2</th>\n",
       "      <td>table_sd_2023</td>\n",
       "    </tr>\n",
       "  </tbody>\n",
       "</table>\n",
       "</div>"
      ],
      "text/plain": [
       "        tab_name\n",
       "0  table_sd_2021\n",
       "1  table_sd_2022\n",
       "2  table_sd_2023"
      ]
     },
     "execution_count": 181,
     "metadata": {},
     "output_type": "execute_result"
    }
   ],
   "source": [
    "database_name = \"sd_police_db\"\n",
    "statement = \"SHOW TABLES in {}\".format(database_name)\n",
    "\n",
    "df_show = pd.read_sql(statement, conn)\n",
    "df_show.head(5)"
   ]
  },
  {
   "cell_type": "code",
   "execution_count": 206,
   "id": "863c537f-f030-46d9-9438-3f289f221378",
   "metadata": {
    "tags": []
   },
   "outputs": [],
   "source": [
    "pd.read_sql(statement, conn)\n",
    "\n",
    "df_2021 = pd.read_sql(f\"SELECT * FROM {database_name}.{table_name}\", conn)"
   ]
  },
  {
   "cell_type": "markdown",
   "id": "9778020f-2b08-4e07-945e-023afbcc7e12",
   "metadata": {},
   "source": [
    "# S3 Bucket Folder Information for 2022"
   ]
  },
  {
   "cell_type": "code",
   "execution_count": 183,
   "id": "ae3e1659-dd40-4a5e-ab89-53253d0ec740",
   "metadata": {
    "tags": []
   },
   "outputs": [
    {
     "name": "stdout",
     "output_type": "stream",
     "text": [
      "s3://sagemaker-us-east-1-859074047513/policedatasetsd22/csv\n"
     ]
    }
   ],
   "source": [
    "s3_private_path_csv1 = \"s3://{}/policedatasetsd22/csv\".format(bucket)\n",
    "print(s3_private_path_csv1)"
   ]
  },
  {
   "cell_type": "code",
   "execution_count": 184,
   "id": "ed95f016-b77b-41af-9392-9034addf1c4b",
   "metadata": {
    "tags": []
   },
   "outputs": [],
   "source": [
    "table_name1 = \"table_sd_2022\""
   ]
  },
  {
   "cell_type": "code",
   "execution_count": 185,
   "id": "b9508276-fc5f-415a-80dd-cdb6358585bb",
   "metadata": {
    "tags": []
   },
   "outputs": [
    {
     "name": "stdout",
     "output_type": "stream",
     "text": [
      "CREATE EXTERNAL TABLE IF NOT EXISTS sd_police_db.table_sd_2022(\n",
      "incident_num string,\n",
      "date_time string,\n",
      "day_of_week int,\n",
      "address_number_primary int,\n",
      "address_dir_primary string,\n",
      "address_road_primary string,\n",
      "address_sfx_primary string,\n",
      "address_dir_intersecting string,\n",
      "address_road_intersecting string,\n",
      "address_sfx_intersecting string,\n",
      "call_type string,\n",
      "disposition string,\n",
      "beat int,\n",
      "priority int) \n",
      "\n",
      "ROW FORMAT DELIMITED FIELDS TERMINATED BY ',' LOCATION 's3://sagemaker-us-east-1-859074047513/policedatasetsd22/csv'\n",
      "TBLPROPERTIES ('skip.header.line.count'='1')\n"
     ]
    }
   ],
   "source": [
    "# SQL statement to execute\n",
    "statement_1 = \"\"\"CREATE EXTERNAL TABLE IF NOT EXISTS {}.{}(\n",
    "incident_num string,\n",
    "date_time string,\n",
    "day_of_week int,\n",
    "address_number_primary int,\n",
    "address_dir_primary string,\n",
    "address_road_primary string,\n",
    "address_sfx_primary string,\n",
    "address_dir_intersecting string,\n",
    "address_road_intersecting string,\n",
    "address_sfx_intersecting string,\n",
    "call_type string,\n",
    "disposition string,\n",
    "beat int,\n",
    "priority int) \n",
    "\n",
    "ROW FORMAT DELIMITED FIELDS TERMINATED BY ',' LOCATION '{}'\n",
    "TBLPROPERTIES ('skip.header.line.count'='1')\"\"\".format(database_name, table_name1, s3_private_path_csv1)\n",
    "\n",
    "print(statement_1)"
   ]
  },
  {
   "cell_type": "code",
   "execution_count": 186,
   "id": "5ca55f80-8cb7-4352-b6a0-663ced484019",
   "metadata": {
    "tags": []
   },
   "outputs": [
    {
     "data": {
      "text/html": [
       "<div>\n",
       "<style scoped>\n",
       "    .dataframe tbody tr th:only-of-type {\n",
       "        vertical-align: middle;\n",
       "    }\n",
       "\n",
       "    .dataframe tbody tr th {\n",
       "        vertical-align: top;\n",
       "    }\n",
       "\n",
       "    .dataframe thead th {\n",
       "        text-align: right;\n",
       "    }\n",
       "</style>\n",
       "<table border=\"1\" class=\"dataframe\">\n",
       "  <thead>\n",
       "    <tr style=\"text-align: right;\">\n",
       "      <th></th>\n",
       "    </tr>\n",
       "  </thead>\n",
       "  <tbody>\n",
       "  </tbody>\n",
       "</table>\n",
       "</div>"
      ],
      "text/plain": [
       "Empty DataFrame\n",
       "Columns: []\n",
       "Index: []"
      ]
     },
     "execution_count": 186,
     "metadata": {},
     "output_type": "execute_result"
    }
   ],
   "source": [
    "import pandas as pd\n",
    "\n",
    "pd.read_sql(statement_1, conn)"
   ]
  },
  {
   "cell_type": "code",
   "execution_count": 187,
   "id": "9cb7f9ff-7a85-46d7-bd64-f961d5338e01",
   "metadata": {
    "tags": []
   },
   "outputs": [
    {
     "data": {
      "text/html": [
       "<div>\n",
       "<style scoped>\n",
       "    .dataframe tbody tr th:only-of-type {\n",
       "        vertical-align: middle;\n",
       "    }\n",
       "\n",
       "    .dataframe tbody tr th {\n",
       "        vertical-align: top;\n",
       "    }\n",
       "\n",
       "    .dataframe thead th {\n",
       "        text-align: right;\n",
       "    }\n",
       "</style>\n",
       "<table border=\"1\" class=\"dataframe\">\n",
       "  <thead>\n",
       "    <tr style=\"text-align: right;\">\n",
       "      <th></th>\n",
       "      <th>tab_name</th>\n",
       "    </tr>\n",
       "  </thead>\n",
       "  <tbody>\n",
       "    <tr>\n",
       "      <th>0</th>\n",
       "      <td>table_sd_2021</td>\n",
       "    </tr>\n",
       "    <tr>\n",
       "      <th>1</th>\n",
       "      <td>table_sd_2022</td>\n",
       "    </tr>\n",
       "    <tr>\n",
       "      <th>2</th>\n",
       "      <td>table_sd_2023</td>\n",
       "    </tr>\n",
       "  </tbody>\n",
       "</table>\n",
       "</div>"
      ],
      "text/plain": [
       "        tab_name\n",
       "0  table_sd_2021\n",
       "1  table_sd_2022\n",
       "2  table_sd_2023"
      ]
     },
     "execution_count": 187,
     "metadata": {},
     "output_type": "execute_result"
    }
   ],
   "source": [
    "database_name = \"sd_police_db\"\n",
    "statement = \"SHOW TABLES in {}\".format(database_name)\n",
    "\n",
    "df_show = pd.read_sql(statement, conn)\n",
    "df_show.head(5)"
   ]
  },
  {
   "cell_type": "code",
   "execution_count": 208,
   "id": "c9b89c5d-8e29-4a5b-93b1-47eace952e7c",
   "metadata": {
    "tags": []
   },
   "outputs": [],
   "source": [
    "pd.read_sql(statement_1, conn)\n",
    "\n",
    "df_2022 = pd.read_sql(f\"SELECT * FROM {database_name}.{table_name1}\", conn)"
   ]
  },
  {
   "cell_type": "markdown",
   "id": "2879e9a4-0095-4372-ad14-8383e962984a",
   "metadata": {},
   "source": [
    "# S3 Bucket Folder Information for 2023"
   ]
  },
  {
   "cell_type": "code",
   "execution_count": 189,
   "id": "e7eeb68d-dfaa-45e5-af00-493744856540",
   "metadata": {
    "tags": []
   },
   "outputs": [
    {
     "name": "stdout",
     "output_type": "stream",
     "text": [
      "s3://sagemaker-us-east-1-859074047513/policedatasetsd23/csv\n"
     ]
    }
   ],
   "source": [
    "s3_private_path_csv2 = \"s3://{}/policedatasetsd23/csv\".format(bucket)\n",
    "print(s3_private_path_csv2)"
   ]
  },
  {
   "cell_type": "code",
   "execution_count": 190,
   "id": "035cce18-4e55-4751-a141-1bab5dc24f67",
   "metadata": {
    "tags": []
   },
   "outputs": [],
   "source": [
    "table_name2 = \"table_sd_2023\""
   ]
  },
  {
   "cell_type": "code",
   "execution_count": 191,
   "id": "c0d7a0d6-79bf-4949-a9fe-9d6f652ec7c0",
   "metadata": {
    "tags": []
   },
   "outputs": [
    {
     "name": "stdout",
     "output_type": "stream",
     "text": [
      "CREATE EXTERNAL TABLE IF NOT EXISTS sd_police_db.table_sd_2023(\n",
      "incident_num string,\n",
      "date_time string,\n",
      "day_of_week int,\n",
      "address_number_primary int,\n",
      "address_dir_primary string,\n",
      "address_road_primary string,\n",
      "address_sfx_primary string,\n",
      "address_dir_intersecting string,\n",
      "address_road_intersecting string,\n",
      "address_sfx_intersecting string,\n",
      "call_type string,\n",
      "disposition string,\n",
      "beat int,\n",
      "priority int) \n",
      "\n",
      "ROW FORMAT DELIMITED FIELDS TERMINATED BY ',' LOCATION 's3://sagemaker-us-east-1-859074047513/policedatasetsd23/csv'\n",
      "TBLPROPERTIES ('skip.header.line.count'='1')\n"
     ]
    }
   ],
   "source": [
    "# SQL statement to execute\n",
    "statement_2 = \"\"\"CREATE EXTERNAL TABLE IF NOT EXISTS {}.{}(\n",
    "incident_num string,\n",
    "date_time string,\n",
    "day_of_week int,\n",
    "address_number_primary int,\n",
    "address_dir_primary string,\n",
    "address_road_primary string,\n",
    "address_sfx_primary string,\n",
    "address_dir_intersecting string,\n",
    "address_road_intersecting string,\n",
    "address_sfx_intersecting string,\n",
    "call_type string,\n",
    "disposition string,\n",
    "beat int,\n",
    "priority int) \n",
    "\n",
    "ROW FORMAT DELIMITED FIELDS TERMINATED BY ',' LOCATION '{}'\n",
    "TBLPROPERTIES ('skip.header.line.count'='1')\"\"\".format(database_name, table_name2, s3_private_path_csv2)\n",
    "\n",
    "print(statement_2)"
   ]
  },
  {
   "cell_type": "code",
   "execution_count": 192,
   "id": "0f6aa8f6-039f-4740-bbc1-e6253b64412c",
   "metadata": {
    "tags": []
   },
   "outputs": [
    {
     "data": {
      "text/html": [
       "<div>\n",
       "<style scoped>\n",
       "    .dataframe tbody tr th:only-of-type {\n",
       "        vertical-align: middle;\n",
       "    }\n",
       "\n",
       "    .dataframe tbody tr th {\n",
       "        vertical-align: top;\n",
       "    }\n",
       "\n",
       "    .dataframe thead th {\n",
       "        text-align: right;\n",
       "    }\n",
       "</style>\n",
       "<table border=\"1\" class=\"dataframe\">\n",
       "  <thead>\n",
       "    <tr style=\"text-align: right;\">\n",
       "      <th></th>\n",
       "    </tr>\n",
       "  </thead>\n",
       "  <tbody>\n",
       "  </tbody>\n",
       "</table>\n",
       "</div>"
      ],
      "text/plain": [
       "Empty DataFrame\n",
       "Columns: []\n",
       "Index: []"
      ]
     },
     "execution_count": 192,
     "metadata": {},
     "output_type": "execute_result"
    }
   ],
   "source": [
    "import pandas as pd\n",
    "\n",
    "pd.read_sql(statement_2, conn)"
   ]
  },
  {
   "cell_type": "code",
   "execution_count": 193,
   "id": "5b0bb471-8e55-4ce3-9e70-2158585475db",
   "metadata": {
    "tags": []
   },
   "outputs": [
    {
     "data": {
      "text/html": [
       "<div>\n",
       "<style scoped>\n",
       "    .dataframe tbody tr th:only-of-type {\n",
       "        vertical-align: middle;\n",
       "    }\n",
       "\n",
       "    .dataframe tbody tr th {\n",
       "        vertical-align: top;\n",
       "    }\n",
       "\n",
       "    .dataframe thead th {\n",
       "        text-align: right;\n",
       "    }\n",
       "</style>\n",
       "<table border=\"1\" class=\"dataframe\">\n",
       "  <thead>\n",
       "    <tr style=\"text-align: right;\">\n",
       "      <th></th>\n",
       "      <th>tab_name</th>\n",
       "    </tr>\n",
       "  </thead>\n",
       "  <tbody>\n",
       "    <tr>\n",
       "      <th>0</th>\n",
       "      <td>table_sd_2021</td>\n",
       "    </tr>\n",
       "    <tr>\n",
       "      <th>1</th>\n",
       "      <td>table_sd_2022</td>\n",
       "    </tr>\n",
       "    <tr>\n",
       "      <th>2</th>\n",
       "      <td>table_sd_2023</td>\n",
       "    </tr>\n",
       "  </tbody>\n",
       "</table>\n",
       "</div>"
      ],
      "text/plain": [
       "        tab_name\n",
       "0  table_sd_2021\n",
       "1  table_sd_2022\n",
       "2  table_sd_2023"
      ]
     },
     "execution_count": 193,
     "metadata": {},
     "output_type": "execute_result"
    }
   ],
   "source": [
    "database_name = \"sd_police_db\"\n",
    "statement = \"SHOW TABLES in {}\".format(database_name)\n",
    "\n",
    "df_show = pd.read_sql(statement, conn)\n",
    "df_show.head(5)"
   ]
  },
  {
   "cell_type": "code",
   "execution_count": 209,
   "id": "0ad1d875-3913-4c22-a9f0-cea2357bb75a",
   "metadata": {
    "tags": []
   },
   "outputs": [],
   "source": [
    "pd.read_sql(statement_2, conn)\n",
    "\n",
    "df_2023 = pd.read_sql(f\"SELECT * FROM {database_name}.{table_name2}\", conn)"
   ]
  },
  {
   "cell_type": "markdown",
   "id": "a9c1d5d0-23aa-4e18-9060-bebfec94d1a1",
   "metadata": {},
   "source": [
    "# S3 Bucket Folder Information for RIPA Dataset"
   ]
  },
  {
   "cell_type": "code",
   "execution_count": 195,
   "id": "3e634335-37d8-42a7-bbac-7cb9ab74dc1d",
   "metadata": {
    "tags": []
   },
   "outputs": [
    {
     "name": "stdout",
     "output_type": "stream",
     "text": [
      "s3://sagemaker-us-east-1-859074047513/ripapolicedatasetsd/csv\n"
     ]
    }
   ],
   "source": [
    "s3_private_path_csv_ripa = \"s3://{}/ripapolicedatasetsd/csv\".format(bucket)\n",
    "print(s3_private_path_csv_ripa)"
   ]
  },
  {
   "cell_type": "code",
   "execution_count": 196,
   "id": "a8e886b2-3039-422c-87d8-f4c2799d7916",
   "metadata": {
    "tags": []
   },
   "outputs": [],
   "source": [
    "table_name3 = \"table_sd_ripa\""
   ]
  },
  {
   "cell_type": "code",
   "execution_count": 197,
   "id": "daa77558-b150-440b-a028-e820038a1c2e",
   "metadata": {
    "tags": []
   },
   "outputs": [
    {
     "name": "stdout",
     "output_type": "stream",
     "text": [
      "CREATE EXTERNAL TABLE IF NOT EXISTS sd_police_db.table_sd_ripa(\n",
      "`stop_id` string,\n",
      "`ori` string,\n",
      "`agency` string,\n",
      "`exp_years` string,\n",
      "`date_stop` string,\n",
      "`time_stop` string,\n",
      "`stopduration` string,\n",
      "`stop_in_response_to_cfs` string,\n",
      "`office_assignment_key` string,\n",
      "`assignment` string,\n",
      "`intersection` string,\n",
      "`address_block` string,\n",
      "`land_mark` string,\n",
      "`address_street` string,\n",
      "`highway_exit` string,\n",
      "`isschool` string,\n",
      "`school_name` string,\n",
      "`address_city` string,\n",
      "`beat` string,\n",
      "`beat_name` string,\n",
      "`pid` string,\n",
      "`isstudent` string,\n",
      "`perceived_limited_english` string,\n",
      "`perceived_age` string,\n",
      "`perceived_gender` string,\n",
      "`gender_nonconforming` string,\n",
      "`gend` string,\n",
      "`gend_nc` string,\n",
      "`perceived_lgbt` string\n",
      ") \n",
      "\n",
      "ROW FORMAT SERDE 'org.apache.hadoop.hive.serde2.OpenCSVSerde' \n",
      "WITH SERDEPROPERTIES (\"separatorChar\" = \",\") \n",
      "LOCATION 's3://sagemaker-us-east-1-859074047513/ripapolicedatasetsd/csv'\n",
      "TBLPROPERTIES ('skip.header.line.count'='1')\n"
     ]
    }
   ],
   "source": [
    "# SQL statement to execute\n",
    "statement_3 = \"\"\"CREATE EXTERNAL TABLE IF NOT EXISTS {}.{}(\n",
    "`stop_id` string,\n",
    "`ori` string,\n",
    "`agency` string,\n",
    "`exp_years` string,\n",
    "`date_stop` string,\n",
    "`time_stop` string,\n",
    "`stopduration` string,\n",
    "`stop_in_response_to_cfs` string,\n",
    "`office_assignment_key` string,\n",
    "`assignment` string,\n",
    "`intersection` string,\n",
    "`address_block` string,\n",
    "`land_mark` string,\n",
    "`address_street` string,\n",
    "`highway_exit` string,\n",
    "`isschool` string,\n",
    "`school_name` string,\n",
    "`address_city` string,\n",
    "`beat` string,\n",
    "`beat_name` string,\n",
    "`pid` string,\n",
    "`isstudent` string,\n",
    "`perceived_limited_english` string,\n",
    "`perceived_age` string,\n",
    "`perceived_gender` string,\n",
    "`gender_nonconforming` string,\n",
    "`gend` string,\n",
    "`gend_nc` string,\n",
    "`perceived_lgbt` string\n",
    ") \n",
    "\n",
    "ROW FORMAT SERDE 'org.apache.hadoop.hive.serde2.OpenCSVSerde' \n",
    "WITH SERDEPROPERTIES (\"separatorChar\" = \",\") \n",
    "LOCATION '{}'\n",
    "TBLPROPERTIES ('skip.header.line.count'='1')\"\"\".format(database_name, table_name3, s3_private_path_csv_ripa)\n",
    "\n",
    "\n",
    "print(statement_3)"
   ]
  },
  {
   "cell_type": "code",
   "execution_count": 198,
   "id": "02dc4281-84d8-470d-a73e-ee23cdd4ed7c",
   "metadata": {
    "tags": []
   },
   "outputs": [
    {
     "data": {
      "text/html": [
       "<div>\n",
       "<style scoped>\n",
       "    .dataframe tbody tr th:only-of-type {\n",
       "        vertical-align: middle;\n",
       "    }\n",
       "\n",
       "    .dataframe tbody tr th {\n",
       "        vertical-align: top;\n",
       "    }\n",
       "\n",
       "    .dataframe thead th {\n",
       "        text-align: right;\n",
       "    }\n",
       "</style>\n",
       "<table border=\"1\" class=\"dataframe\">\n",
       "  <thead>\n",
       "    <tr style=\"text-align: right;\">\n",
       "      <th></th>\n",
       "    </tr>\n",
       "  </thead>\n",
       "  <tbody>\n",
       "  </tbody>\n",
       "</table>\n",
       "</div>"
      ],
      "text/plain": [
       "Empty DataFrame\n",
       "Columns: []\n",
       "Index: []"
      ]
     },
     "execution_count": 198,
     "metadata": {},
     "output_type": "execute_result"
    }
   ],
   "source": [
    "import pandas as pd\n",
    "\n",
    "pd.read_sql(statement_3, conn)"
   ]
  },
  {
   "cell_type": "code",
   "execution_count": 199,
   "id": "b6740d8c-3a74-49b9-a918-b6e284cf1de4",
   "metadata": {
    "tags": []
   },
   "outputs": [
    {
     "data": {
      "text/html": [
       "<div>\n",
       "<style scoped>\n",
       "    .dataframe tbody tr th:only-of-type {\n",
       "        vertical-align: middle;\n",
       "    }\n",
       "\n",
       "    .dataframe tbody tr th {\n",
       "        vertical-align: top;\n",
       "    }\n",
       "\n",
       "    .dataframe thead th {\n",
       "        text-align: right;\n",
       "    }\n",
       "</style>\n",
       "<table border=\"1\" class=\"dataframe\">\n",
       "  <thead>\n",
       "    <tr style=\"text-align: right;\">\n",
       "      <th></th>\n",
       "      <th>tab_name</th>\n",
       "    </tr>\n",
       "  </thead>\n",
       "  <tbody>\n",
       "    <tr>\n",
       "      <th>0</th>\n",
       "      <td>table_sd_2021</td>\n",
       "    </tr>\n",
       "    <tr>\n",
       "      <th>1</th>\n",
       "      <td>table_sd_2022</td>\n",
       "    </tr>\n",
       "    <tr>\n",
       "      <th>2</th>\n",
       "      <td>table_sd_2023</td>\n",
       "    </tr>\n",
       "    <tr>\n",
       "      <th>3</th>\n",
       "      <td>table_sd_ripa</td>\n",
       "    </tr>\n",
       "  </tbody>\n",
       "</table>\n",
       "</div>"
      ],
      "text/plain": [
       "        tab_name\n",
       "0  table_sd_2021\n",
       "1  table_sd_2022\n",
       "2  table_sd_2023\n",
       "3  table_sd_ripa"
      ]
     },
     "execution_count": 199,
     "metadata": {},
     "output_type": "execute_result"
    }
   ],
   "source": [
    "database_name = \"sd_police_db\"\n",
    "statement = \"SHOW TABLES in {}\".format(database_name)\n",
    "\n",
    "df_show = pd.read_sql(statement, conn)\n",
    "df_show.head(5)"
   ]
  },
  {
   "cell_type": "code",
   "execution_count": 210,
   "id": "a9a83a64-381d-46ce-8f03-805af772bfd7",
   "metadata": {
    "tags": []
   },
   "outputs": [],
   "source": [
    "pd.read_sql(statement_3, conn)\n",
    "\n",
    "ripa_df = pd.read_sql(f\"SELECT * FROM {database_name}.{table_name3}\", conn)"
   ]
  },
  {
   "cell_type": "markdown",
   "id": "60dea0bc-2e49-49e7-a2f9-522f569e4d28",
   "metadata": {},
   "source": [
    "# Join The Three datasets 2021, 2022, 2023"
   ]
  },
  {
   "cell_type": "code",
   "execution_count": 213,
   "id": "625f3c88-9f3b-4f12-a436-06f4148d5219",
   "metadata": {
    "tags": []
   },
   "outputs": [
    {
     "name": "stdout",
     "output_type": "stream",
     "text": [
      "shape of the dataframe police dataframe (568947, 14)\n",
      "shape of the dataframe police dataframe (499256, 14)\n",
      "shape of the dataframe police dataframe (99811, 14)\n"
     ]
    }
   ],
   "source": [
    "# shape of the dataframes\n",
    "print(f'shape of the dataframe police dataframe {df_2021.shape}')\n",
    "print(f'shape of the dataframe police dataframe {df_2022.shape}')\n",
    "print(f'shape of the dataframe police dataframe {df_2023.shape}')"
   ]
  },
  {
   "cell_type": "code",
   "execution_count": 231,
   "id": "61235d8e-62f0-4ffd-8fc2-a01779213967",
   "metadata": {
    "tags": []
   },
   "outputs": [
    {
     "data": {
      "text/html": [
       "<div>\n",
       "<style scoped>\n",
       "    .dataframe tbody tr th:only-of-type {\n",
       "        vertical-align: middle;\n",
       "    }\n",
       "\n",
       "    .dataframe tbody tr th {\n",
       "        vertical-align: top;\n",
       "    }\n",
       "\n",
       "    .dataframe thead th {\n",
       "        text-align: right;\n",
       "    }\n",
       "</style>\n",
       "<table border=\"1\" class=\"dataframe\">\n",
       "  <thead>\n",
       "    <tr style=\"text-align: right;\">\n",
       "      <th></th>\n",
       "      <th>incident_num</th>\n",
       "      <th>date_time</th>\n",
       "      <th>day_of_week</th>\n",
       "      <th>address_number_primary</th>\n",
       "      <th>address_dir_primary</th>\n",
       "      <th>address_road_primary</th>\n",
       "      <th>address_sfx_primary</th>\n",
       "      <th>address_dir_intersecting</th>\n",
       "      <th>address_road_intersecting</th>\n",
       "      <th>address_sfx_intersecting</th>\n",
       "      <th>call_type</th>\n",
       "      <th>disposition</th>\n",
       "      <th>beat</th>\n",
       "      <th>priority</th>\n",
       "    </tr>\n",
       "  </thead>\n",
       "  <tbody>\n",
       "    <tr>\n",
       "      <th>0</th>\n",
       "      <td>E21060046805</td>\n",
       "      <td>2021-06-28 07:36:28</td>\n",
       "      <td>2</td>\n",
       "      <td>5200</td>\n",
       "      <td></td>\n",
       "      <td>52ND</td>\n",
       "      <td>PL</td>\n",
       "      <td></td>\n",
       "      <td></td>\n",
       "      <td></td>\n",
       "      <td>SELENF</td>\n",
       "      <td>O</td>\n",
       "      <td>826</td>\n",
       "      <td>3</td>\n",
       "    </tr>\n",
       "    <tr>\n",
       "      <th>1</th>\n",
       "      <td>E21060046806</td>\n",
       "      <td>2021-06-28 07:36:33</td>\n",
       "      <td>2</td>\n",
       "      <td>3400</td>\n",
       "      <td></td>\n",
       "      <td>SPORTS ARENA</td>\n",
       "      <td>BLV</td>\n",
       "      <td></td>\n",
       "      <td></td>\n",
       "      <td></td>\n",
       "      <td>459A</td>\n",
       "      <td>K</td>\n",
       "      <td>611</td>\n",
       "      <td>3</td>\n",
       "    </tr>\n",
       "    <tr>\n",
       "      <th>2</th>\n",
       "      <td>E21060046807</td>\n",
       "      <td>2021-06-28 07:37:42</td>\n",
       "      <td>2</td>\n",
       "      <td>6200</td>\n",
       "      <td></td>\n",
       "      <td>MADELINE</td>\n",
       "      <td>ST</td>\n",
       "      <td></td>\n",
       "      <td></td>\n",
       "      <td></td>\n",
       "      <td>586</td>\n",
       "      <td>O</td>\n",
       "      <td>821</td>\n",
       "      <td>2</td>\n",
       "    </tr>\n",
       "    <tr>\n",
       "      <th>3</th>\n",
       "      <td>E21060046808</td>\n",
       "      <td>2021-06-28 07:38:22</td>\n",
       "      <td>2</td>\n",
       "      <td>1700</td>\n",
       "      <td></td>\n",
       "      <td>02ND</td>\n",
       "      <td>AVE</td>\n",
       "      <td></td>\n",
       "      <td></td>\n",
       "      <td></td>\n",
       "      <td>FU</td>\n",
       "      <td>O</td>\n",
       "      <td>529</td>\n",
       "      <td>2</td>\n",
       "    </tr>\n",
       "    <tr>\n",
       "      <th>4</th>\n",
       "      <td>E21060046809</td>\n",
       "      <td>2021-06-28 07:40:14</td>\n",
       "      <td>2</td>\n",
       "      <td>9200</td>\n",
       "      <td></td>\n",
       "      <td>AERO</td>\n",
       "      <td>DR</td>\n",
       "      <td></td>\n",
       "      <td></td>\n",
       "      <td></td>\n",
       "      <td>COURT</td>\n",
       "      <td>K</td>\n",
       "      <td>311</td>\n",
       "      <td>4</td>\n",
       "    </tr>\n",
       "    <tr>\n",
       "      <th>...</th>\n",
       "      <td>...</td>\n",
       "      <td>...</td>\n",
       "      <td>...</td>\n",
       "      <td>...</td>\n",
       "      <td>...</td>\n",
       "      <td>...</td>\n",
       "      <td>...</td>\n",
       "      <td>...</td>\n",
       "      <td>...</td>\n",
       "      <td>...</td>\n",
       "      <td>...</td>\n",
       "      <td>...</td>\n",
       "      <td>...</td>\n",
       "      <td>...</td>\n",
       "    </tr>\n",
       "    <tr>\n",
       "      <th>99806</th>\n",
       "      <td>E23030022386</td>\n",
       "      <td>2023-03-15 23:25:50</td>\n",
       "      <td>4</td>\n",
       "      <td>2500</td>\n",
       "      <td></td>\n",
       "      <td>IMPERIAL</td>\n",
       "      <td>AVE</td>\n",
       "      <td></td>\n",
       "      <td></td>\n",
       "      <td></td>\n",
       "      <td>INFO</td>\n",
       "      <td>K</td>\n",
       "      <td>512</td>\n",
       "      <td>2</td>\n",
       "    </tr>\n",
       "    <tr>\n",
       "      <th>99807</th>\n",
       "      <td>E23030022400</td>\n",
       "      <td>2023-03-15 23:44:05</td>\n",
       "      <td>4</td>\n",
       "      <td>800</td>\n",
       "      <td></td>\n",
       "      <td>27TH (SB)</td>\n",
       "      <td>ST</td>\n",
       "      <td></td>\n",
       "      <td></td>\n",
       "      <td></td>\n",
       "      <td>5150</td>\n",
       "      <td>K</td>\n",
       "      <td>724</td>\n",
       "      <td>1</td>\n",
       "    </tr>\n",
       "    <tr>\n",
       "      <th>99808</th>\n",
       "      <td>E23030022401</td>\n",
       "      <td>2023-03-15 23:44:23</td>\n",
       "      <td>4</td>\n",
       "      <td>14700</td>\n",
       "      <td></td>\n",
       "      <td>VALLE DEL SUR</td>\n",
       "      <td>CT</td>\n",
       "      <td></td>\n",
       "      <td></td>\n",
       "      <td></td>\n",
       "      <td>459A</td>\n",
       "      <td>CAN</td>\n",
       "      <td>937</td>\n",
       "      <td>2</td>\n",
       "    </tr>\n",
       "    <tr>\n",
       "      <th>99809</th>\n",
       "      <td>E23030022404</td>\n",
       "      <td>2023-03-15 23:46:26</td>\n",
       "      <td>4</td>\n",
       "      <td>400</td>\n",
       "      <td></td>\n",
       "      <td>17TH</td>\n",
       "      <td>ST</td>\n",
       "      <td></td>\n",
       "      <td></td>\n",
       "      <td></td>\n",
       "      <td>SELENF</td>\n",
       "      <td>K</td>\n",
       "      <td>521</td>\n",
       "      <td>3</td>\n",
       "    </tr>\n",
       "    <tr>\n",
       "      <th>99810</th>\n",
       "      <td>E23030022407</td>\n",
       "      <td>2023-03-15 23:53:07</td>\n",
       "      <td>4</td>\n",
       "      <td>600</td>\n",
       "      <td></td>\n",
       "      <td>15TH</td>\n",
       "      <td>ST</td>\n",
       "      <td></td>\n",
       "      <td></td>\n",
       "      <td></td>\n",
       "      <td>SELENF</td>\n",
       "      <td>K</td>\n",
       "      <td>521</td>\n",
       "      <td>3</td>\n",
       "    </tr>\n",
       "  </tbody>\n",
       "</table>\n",
       "<p>1168014 rows × 14 columns</p>\n",
       "</div>"
      ],
      "text/plain": [
       "       incident_num            date_time  day_of_week  address_number_primary  \\\n",
       "0      E21060046805  2021-06-28 07:36:28            2                    5200   \n",
       "1      E21060046806  2021-06-28 07:36:33            2                    3400   \n",
       "2      E21060046807  2021-06-28 07:37:42            2                    6200   \n",
       "3      E21060046808  2021-06-28 07:38:22            2                    1700   \n",
       "4      E21060046809  2021-06-28 07:40:14            2                    9200   \n",
       "...             ...                  ...          ...                     ...   \n",
       "99806  E23030022386  2023-03-15 23:25:50            4                    2500   \n",
       "99807  E23030022400  2023-03-15 23:44:05            4                     800   \n",
       "99808  E23030022401  2023-03-15 23:44:23            4                   14700   \n",
       "99809  E23030022404  2023-03-15 23:46:26            4                     400   \n",
       "99810  E23030022407  2023-03-15 23:53:07            4                     600   \n",
       "\n",
       "      address_dir_primary address_road_primary address_sfx_primary  \\\n",
       "0                                         52ND                  PL   \n",
       "1                                 SPORTS ARENA                 BLV   \n",
       "2                                     MADELINE                  ST   \n",
       "3                                         02ND                 AVE   \n",
       "4                                         AERO                  DR   \n",
       "...                   ...                  ...                 ...   \n",
       "99806                                 IMPERIAL                 AVE   \n",
       "99807                                27TH (SB)                  ST   \n",
       "99808                            VALLE DEL SUR                  CT   \n",
       "99809                                     17TH                  ST   \n",
       "99810                                     15TH                  ST   \n",
       "\n",
       "      address_dir_intersecting address_road_intersecting  \\\n",
       "0                                                          \n",
       "1                                                          \n",
       "2                                                          \n",
       "3                                                          \n",
       "4                                                          \n",
       "...                        ...                       ...   \n",
       "99806                                                      \n",
       "99807                                                      \n",
       "99808                                                      \n",
       "99809                                                      \n",
       "99810                                                      \n",
       "\n",
       "      address_sfx_intersecting call_type disposition  beat  priority  \n",
       "0                                 SELENF           O   826         3  \n",
       "1                                   459A           K   611         3  \n",
       "2                                    586           O   821         2  \n",
       "3                                     FU           O   529         2  \n",
       "4                                  COURT           K   311         4  \n",
       "...                        ...       ...         ...   ...       ...  \n",
       "99806                               INFO           K   512         2  \n",
       "99807                               5150           K   724         1  \n",
       "99808                               459A         CAN   937         2  \n",
       "99809                             SELENF           K   521         3  \n",
       "99810                             SELENF           K   521         3  \n",
       "\n",
       "[1168014 rows x 14 columns]"
      ]
     },
     "execution_count": 231,
     "metadata": {},
     "output_type": "execute_result"
    }
   ],
   "source": [
    "join_df = pd.concat([df_2021, df_2022, df_2023], axis=0)\n",
    "join_df"
   ]
  },
  {
   "cell_type": "code",
   "execution_count": 232,
   "id": "351315dc-11c5-4ac7-be5f-1fd38d251f3c",
   "metadata": {
    "tags": []
   },
   "outputs": [
    {
     "data": {
      "text/plain": [
       "incident_num                 object\n",
       "date_time                    object\n",
       "day_of_week                   int64\n",
       "address_number_primary        int64\n",
       "address_dir_primary          object\n",
       "address_road_primary         object\n",
       "address_sfx_primary          object\n",
       "address_dir_intersecting     object\n",
       "address_road_intersecting    object\n",
       "address_sfx_intersecting     object\n",
       "call_type                    object\n",
       "disposition                  object\n",
       "beat                          int64\n",
       "priority                      int64\n",
       "dtype: object"
      ]
     },
     "execution_count": 232,
     "metadata": {},
     "output_type": "execute_result"
    }
   ],
   "source": [
    "# Data types \n",
    "join_df.dtypes"
   ]
  },
  {
   "cell_type": "code",
   "execution_count": 233,
   "id": "47dd47f5-4bd0-4a1c-bafe-887c8f28d6eb",
   "metadata": {
    "tags": []
   },
   "outputs": [
    {
     "data": {
      "text/html": [
       "<div>\n",
       "<style scoped>\n",
       "    .dataframe tbody tr th:only-of-type {\n",
       "        vertical-align: middle;\n",
       "    }\n",
       "\n",
       "    .dataframe tbody tr th {\n",
       "        vertical-align: top;\n",
       "    }\n",
       "\n",
       "    .dataframe thead th {\n",
       "        text-align: right;\n",
       "    }\n",
       "</style>\n",
       "<table border=\"1\" class=\"dataframe\">\n",
       "  <thead>\n",
       "    <tr style=\"text-align: right;\">\n",
       "      <th></th>\n",
       "      <th>incident_num</th>\n",
       "      <th>date_time</th>\n",
       "      <th>day_of_week</th>\n",
       "      <th>address_number_primary</th>\n",
       "      <th>address_dir_primary</th>\n",
       "      <th>address_road_primary</th>\n",
       "      <th>address_sfx_primary</th>\n",
       "      <th>address_dir_intersecting</th>\n",
       "      <th>address_road_intersecting</th>\n",
       "      <th>address_sfx_intersecting</th>\n",
       "      <th>call_type</th>\n",
       "      <th>disposition</th>\n",
       "      <th>beat</th>\n",
       "      <th>priority</th>\n",
       "    </tr>\n",
       "  </thead>\n",
       "  <tbody>\n",
       "    <tr>\n",
       "      <th>0</th>\n",
       "      <td>E21060046805</td>\n",
       "      <td>2021-06-28 07:36:28</td>\n",
       "      <td>2</td>\n",
       "      <td>5200</td>\n",
       "      <td></td>\n",
       "      <td>52ND</td>\n",
       "      <td>PL</td>\n",
       "      <td></td>\n",
       "      <td></td>\n",
       "      <td></td>\n",
       "      <td>SELENF</td>\n",
       "      <td>O</td>\n",
       "      <td>826</td>\n",
       "      <td>3</td>\n",
       "    </tr>\n",
       "    <tr>\n",
       "      <th>1</th>\n",
       "      <td>E21060046806</td>\n",
       "      <td>2021-06-28 07:36:33</td>\n",
       "      <td>2</td>\n",
       "      <td>3400</td>\n",
       "      <td></td>\n",
       "      <td>SPORTS ARENA</td>\n",
       "      <td>BLV</td>\n",
       "      <td></td>\n",
       "      <td></td>\n",
       "      <td></td>\n",
       "      <td>459A</td>\n",
       "      <td>K</td>\n",
       "      <td>611</td>\n",
       "      <td>3</td>\n",
       "    </tr>\n",
       "    <tr>\n",
       "      <th>2</th>\n",
       "      <td>E21060046807</td>\n",
       "      <td>2021-06-28 07:37:42</td>\n",
       "      <td>2</td>\n",
       "      <td>6200</td>\n",
       "      <td></td>\n",
       "      <td>MADELINE</td>\n",
       "      <td>ST</td>\n",
       "      <td></td>\n",
       "      <td></td>\n",
       "      <td></td>\n",
       "      <td>586</td>\n",
       "      <td>O</td>\n",
       "      <td>821</td>\n",
       "      <td>2</td>\n",
       "    </tr>\n",
       "    <tr>\n",
       "      <th>3</th>\n",
       "      <td>E21060046808</td>\n",
       "      <td>2021-06-28 07:38:22</td>\n",
       "      <td>2</td>\n",
       "      <td>1700</td>\n",
       "      <td></td>\n",
       "      <td>02ND</td>\n",
       "      <td>AVE</td>\n",
       "      <td></td>\n",
       "      <td></td>\n",
       "      <td></td>\n",
       "      <td>FU</td>\n",
       "      <td>O</td>\n",
       "      <td>529</td>\n",
       "      <td>2</td>\n",
       "    </tr>\n",
       "    <tr>\n",
       "      <th>4</th>\n",
       "      <td>E21060046809</td>\n",
       "      <td>2021-06-28 07:40:14</td>\n",
       "      <td>2</td>\n",
       "      <td>9200</td>\n",
       "      <td></td>\n",
       "      <td>AERO</td>\n",
       "      <td>DR</td>\n",
       "      <td></td>\n",
       "      <td></td>\n",
       "      <td></td>\n",
       "      <td>COURT</td>\n",
       "      <td>K</td>\n",
       "      <td>311</td>\n",
       "      <td>4</td>\n",
       "    </tr>\n",
       "    <tr>\n",
       "      <th>...</th>\n",
       "      <td>...</td>\n",
       "      <td>...</td>\n",
       "      <td>...</td>\n",
       "      <td>...</td>\n",
       "      <td>...</td>\n",
       "      <td>...</td>\n",
       "      <td>...</td>\n",
       "      <td>...</td>\n",
       "      <td>...</td>\n",
       "      <td>...</td>\n",
       "      <td>...</td>\n",
       "      <td>...</td>\n",
       "      <td>...</td>\n",
       "      <td>...</td>\n",
       "    </tr>\n",
       "    <tr>\n",
       "      <th>99806</th>\n",
       "      <td>E23030022386</td>\n",
       "      <td>2023-03-15 23:25:50</td>\n",
       "      <td>4</td>\n",
       "      <td>2500</td>\n",
       "      <td></td>\n",
       "      <td>IMPERIAL</td>\n",
       "      <td>AVE</td>\n",
       "      <td></td>\n",
       "      <td></td>\n",
       "      <td></td>\n",
       "      <td>INFO</td>\n",
       "      <td>K</td>\n",
       "      <td>512</td>\n",
       "      <td>2</td>\n",
       "    </tr>\n",
       "    <tr>\n",
       "      <th>99807</th>\n",
       "      <td>E23030022400</td>\n",
       "      <td>2023-03-15 23:44:05</td>\n",
       "      <td>4</td>\n",
       "      <td>800</td>\n",
       "      <td></td>\n",
       "      <td>27TH (SB)</td>\n",
       "      <td>ST</td>\n",
       "      <td></td>\n",
       "      <td></td>\n",
       "      <td></td>\n",
       "      <td>5150</td>\n",
       "      <td>K</td>\n",
       "      <td>724</td>\n",
       "      <td>1</td>\n",
       "    </tr>\n",
       "    <tr>\n",
       "      <th>99808</th>\n",
       "      <td>E23030022401</td>\n",
       "      <td>2023-03-15 23:44:23</td>\n",
       "      <td>4</td>\n",
       "      <td>14700</td>\n",
       "      <td></td>\n",
       "      <td>VALLE DEL SUR</td>\n",
       "      <td>CT</td>\n",
       "      <td></td>\n",
       "      <td></td>\n",
       "      <td></td>\n",
       "      <td>459A</td>\n",
       "      <td>CAN</td>\n",
       "      <td>937</td>\n",
       "      <td>2</td>\n",
       "    </tr>\n",
       "    <tr>\n",
       "      <th>99809</th>\n",
       "      <td>E23030022404</td>\n",
       "      <td>2023-03-15 23:46:26</td>\n",
       "      <td>4</td>\n",
       "      <td>400</td>\n",
       "      <td></td>\n",
       "      <td>17TH</td>\n",
       "      <td>ST</td>\n",
       "      <td></td>\n",
       "      <td></td>\n",
       "      <td></td>\n",
       "      <td>SELENF</td>\n",
       "      <td>K</td>\n",
       "      <td>521</td>\n",
       "      <td>3</td>\n",
       "    </tr>\n",
       "    <tr>\n",
       "      <th>99810</th>\n",
       "      <td>E23030022407</td>\n",
       "      <td>2023-03-15 23:53:07</td>\n",
       "      <td>4</td>\n",
       "      <td>600</td>\n",
       "      <td></td>\n",
       "      <td>15TH</td>\n",
       "      <td>ST</td>\n",
       "      <td></td>\n",
       "      <td></td>\n",
       "      <td></td>\n",
       "      <td>SELENF</td>\n",
       "      <td>K</td>\n",
       "      <td>521</td>\n",
       "      <td>3</td>\n",
       "    </tr>\n",
       "  </tbody>\n",
       "</table>\n",
       "<p>1168014 rows × 14 columns</p>\n",
       "</div>"
      ],
      "text/plain": [
       "       incident_num           date_time  day_of_week  address_number_primary  \\\n",
       "0      E21060046805 2021-06-28 07:36:28            2                    5200   \n",
       "1      E21060046806 2021-06-28 07:36:33            2                    3400   \n",
       "2      E21060046807 2021-06-28 07:37:42            2                    6200   \n",
       "3      E21060046808 2021-06-28 07:38:22            2                    1700   \n",
       "4      E21060046809 2021-06-28 07:40:14            2                    9200   \n",
       "...             ...                 ...          ...                     ...   \n",
       "99806  E23030022386 2023-03-15 23:25:50            4                    2500   \n",
       "99807  E23030022400 2023-03-15 23:44:05            4                     800   \n",
       "99808  E23030022401 2023-03-15 23:44:23            4                   14700   \n",
       "99809  E23030022404 2023-03-15 23:46:26            4                     400   \n",
       "99810  E23030022407 2023-03-15 23:53:07            4                     600   \n",
       "\n",
       "      address_dir_primary address_road_primary address_sfx_primary  \\\n",
       "0                                         52ND                  PL   \n",
       "1                                 SPORTS ARENA                 BLV   \n",
       "2                                     MADELINE                  ST   \n",
       "3                                         02ND                 AVE   \n",
       "4                                         AERO                  DR   \n",
       "...                   ...                  ...                 ...   \n",
       "99806                                 IMPERIAL                 AVE   \n",
       "99807                                27TH (SB)                  ST   \n",
       "99808                            VALLE DEL SUR                  CT   \n",
       "99809                                     17TH                  ST   \n",
       "99810                                     15TH                  ST   \n",
       "\n",
       "      address_dir_intersecting address_road_intersecting  \\\n",
       "0                                                          \n",
       "1                                                          \n",
       "2                                                          \n",
       "3                                                          \n",
       "4                                                          \n",
       "...                        ...                       ...   \n",
       "99806                                                      \n",
       "99807                                                      \n",
       "99808                                                      \n",
       "99809                                                      \n",
       "99810                                                      \n",
       "\n",
       "      address_sfx_intersecting call_type disposition  beat  priority  \n",
       "0                                 SELENF           O   826         3  \n",
       "1                                   459A           K   611         3  \n",
       "2                                    586           O   821         2  \n",
       "3                                     FU           O   529         2  \n",
       "4                                  COURT           K   311         4  \n",
       "...                        ...       ...         ...   ...       ...  \n",
       "99806                               INFO           K   512         2  \n",
       "99807                               5150           K   724         1  \n",
       "99808                               459A         CAN   937         2  \n",
       "99809                             SELENF           K   521         3  \n",
       "99810                             SELENF           K   521         3  \n",
       "\n",
       "[1168014 rows x 14 columns]"
      ]
     },
     "execution_count": 233,
     "metadata": {},
     "output_type": "execute_result"
    }
   ],
   "source": [
    "from datetime import datetime\n",
    "\n",
    "join_df[\"date_time\"] = pd.to_datetime(join_df[\"date_time\"])\n",
    "join_df"
   ]
  },
  {
   "cell_type": "code",
   "execution_count": 234,
   "id": "22e815da-ff99-4c92-af8f-1940b74d2778",
   "metadata": {
    "tags": []
   },
   "outputs": [
    {
     "data": {
      "text/plain": [
       "incident_num                         object\n",
       "date_time                    datetime64[ns]\n",
       "day_of_week                           int64\n",
       "address_number_primary                int64\n",
       "address_dir_primary                  object\n",
       "address_road_primary                 object\n",
       "address_sfx_primary                  object\n",
       "address_dir_intersecting             object\n",
       "address_road_intersecting            object\n",
       "address_sfx_intersecting             object\n",
       "call_type                            object\n",
       "disposition                          object\n",
       "beat                                  int64\n",
       "priority                              int64\n",
       "dtype: object"
      ]
     },
     "execution_count": 234,
     "metadata": {},
     "output_type": "execute_result"
    }
   ],
   "source": [
    "join_df.dtypes"
   ]
  },
  {
   "cell_type": "code",
   "execution_count": 236,
   "id": "658bd55f-290d-41dd-a75d-495c55998254",
   "metadata": {
    "tags": []
   },
   "outputs": [
    {
     "data": {
      "text/html": [
       "<div>\n",
       "<style scoped>\n",
       "    .dataframe tbody tr th:only-of-type {\n",
       "        vertical-align: middle;\n",
       "    }\n",
       "\n",
       "    .dataframe tbody tr th {\n",
       "        vertical-align: top;\n",
       "    }\n",
       "\n",
       "    .dataframe thead th {\n",
       "        text-align: right;\n",
       "    }\n",
       "</style>\n",
       "<table border=\"1\" class=\"dataframe\">\n",
       "  <thead>\n",
       "    <tr style=\"text-align: right;\">\n",
       "      <th></th>\n",
       "      <th>incident_num</th>\n",
       "      <th>date_time</th>\n",
       "      <th>day_of_week</th>\n",
       "      <th>address_number_primary</th>\n",
       "      <th>address_dir_primary</th>\n",
       "      <th>address_road_primary</th>\n",
       "      <th>address_sfx_primary</th>\n",
       "      <th>address_dir_intersecting</th>\n",
       "      <th>address_road_intersecting</th>\n",
       "      <th>address_sfx_intersecting</th>\n",
       "      <th>call_type</th>\n",
       "      <th>disposition</th>\n",
       "      <th>beat</th>\n",
       "      <th>priority</th>\n",
       "    </tr>\n",
       "  </thead>\n",
       "  <tbody>\n",
       "    <tr>\n",
       "      <th>8941</th>\n",
       "      <td>E21010000001</td>\n",
       "      <td>2021-01-01 00:00:11</td>\n",
       "      <td>6</td>\n",
       "      <td>5000</td>\n",
       "      <td></td>\n",
       "      <td>CHAPARRAL</td>\n",
       "      <td>WAY</td>\n",
       "      <td></td>\n",
       "      <td></td>\n",
       "      <td></td>\n",
       "      <td>AU1</td>\n",
       "      <td>W</td>\n",
       "      <td>326</td>\n",
       "      <td>1</td>\n",
       "    </tr>\n",
       "    <tr>\n",
       "      <th>8942</th>\n",
       "      <td>E21010000002</td>\n",
       "      <td>2021-01-01 00:00:14</td>\n",
       "      <td>6</td>\n",
       "      <td>500</td>\n",
       "      <td></td>\n",
       "      <td>05TH</td>\n",
       "      <td>AVE</td>\n",
       "      <td></td>\n",
       "      <td></td>\n",
       "      <td></td>\n",
       "      <td>1186</td>\n",
       "      <td>CAN</td>\n",
       "      <td>523</td>\n",
       "      <td>3</td>\n",
       "    </tr>\n",
       "    <tr>\n",
       "      <th>8943</th>\n",
       "      <td>E21010000003</td>\n",
       "      <td>2021-01-01 00:00:26</td>\n",
       "      <td>6</td>\n",
       "      <td>3600</td>\n",
       "      <td></td>\n",
       "      <td>38TH</td>\n",
       "      <td>ST</td>\n",
       "      <td></td>\n",
       "      <td></td>\n",
       "      <td></td>\n",
       "      <td>AU1</td>\n",
       "      <td>DUP</td>\n",
       "      <td>839</td>\n",
       "      <td>1</td>\n",
       "    </tr>\n",
       "    <tr>\n",
       "      <th>8944</th>\n",
       "      <td>E21010000004</td>\n",
       "      <td>2021-01-01 00:00:31</td>\n",
       "      <td>6</td>\n",
       "      <td>2700</td>\n",
       "      <td></td>\n",
       "      <td>WORDEN</td>\n",
       "      <td>ST</td>\n",
       "      <td></td>\n",
       "      <td></td>\n",
       "      <td></td>\n",
       "      <td>AU1</td>\n",
       "      <td>W</td>\n",
       "      <td>613</td>\n",
       "      <td>1</td>\n",
       "    </tr>\n",
       "    <tr>\n",
       "      <th>8945</th>\n",
       "      <td>E21010000006</td>\n",
       "      <td>2021-01-01 00:01:20</td>\n",
       "      <td>6</td>\n",
       "      <td>800</td>\n",
       "      <td></td>\n",
       "      <td>SAN DIEGO</td>\n",
       "      <td>PL</td>\n",
       "      <td></td>\n",
       "      <td></td>\n",
       "      <td></td>\n",
       "      <td>INFO</td>\n",
       "      <td>W</td>\n",
       "      <td>121</td>\n",
       "      <td>2</td>\n",
       "    </tr>\n",
       "    <tr>\n",
       "      <th>...</th>\n",
       "      <td>...</td>\n",
       "      <td>...</td>\n",
       "      <td>...</td>\n",
       "      <td>...</td>\n",
       "      <td>...</td>\n",
       "      <td>...</td>\n",
       "      <td>...</td>\n",
       "      <td>...</td>\n",
       "      <td>...</td>\n",
       "      <td>...</td>\n",
       "      <td>...</td>\n",
       "      <td>...</td>\n",
       "      <td>...</td>\n",
       "      <td>...</td>\n",
       "    </tr>\n",
       "    <tr>\n",
       "      <th>99806</th>\n",
       "      <td>E23030022386</td>\n",
       "      <td>2023-03-15 23:25:50</td>\n",
       "      <td>4</td>\n",
       "      <td>2500</td>\n",
       "      <td></td>\n",
       "      <td>IMPERIAL</td>\n",
       "      <td>AVE</td>\n",
       "      <td></td>\n",
       "      <td></td>\n",
       "      <td></td>\n",
       "      <td>INFO</td>\n",
       "      <td>K</td>\n",
       "      <td>512</td>\n",
       "      <td>2</td>\n",
       "    </tr>\n",
       "    <tr>\n",
       "      <th>99807</th>\n",
       "      <td>E23030022400</td>\n",
       "      <td>2023-03-15 23:44:05</td>\n",
       "      <td>4</td>\n",
       "      <td>800</td>\n",
       "      <td></td>\n",
       "      <td>27TH (SB)</td>\n",
       "      <td>ST</td>\n",
       "      <td></td>\n",
       "      <td></td>\n",
       "      <td></td>\n",
       "      <td>5150</td>\n",
       "      <td>K</td>\n",
       "      <td>724</td>\n",
       "      <td>1</td>\n",
       "    </tr>\n",
       "    <tr>\n",
       "      <th>99808</th>\n",
       "      <td>E23030022401</td>\n",
       "      <td>2023-03-15 23:44:23</td>\n",
       "      <td>4</td>\n",
       "      <td>14700</td>\n",
       "      <td></td>\n",
       "      <td>VALLE DEL SUR</td>\n",
       "      <td>CT</td>\n",
       "      <td></td>\n",
       "      <td></td>\n",
       "      <td></td>\n",
       "      <td>459A</td>\n",
       "      <td>CAN</td>\n",
       "      <td>937</td>\n",
       "      <td>2</td>\n",
       "    </tr>\n",
       "    <tr>\n",
       "      <th>99809</th>\n",
       "      <td>E23030022404</td>\n",
       "      <td>2023-03-15 23:46:26</td>\n",
       "      <td>4</td>\n",
       "      <td>400</td>\n",
       "      <td></td>\n",
       "      <td>17TH</td>\n",
       "      <td>ST</td>\n",
       "      <td></td>\n",
       "      <td></td>\n",
       "      <td></td>\n",
       "      <td>SELENF</td>\n",
       "      <td>K</td>\n",
       "      <td>521</td>\n",
       "      <td>3</td>\n",
       "    </tr>\n",
       "    <tr>\n",
       "      <th>99810</th>\n",
       "      <td>E23030022407</td>\n",
       "      <td>2023-03-15 23:53:07</td>\n",
       "      <td>4</td>\n",
       "      <td>600</td>\n",
       "      <td></td>\n",
       "      <td>15TH</td>\n",
       "      <td>ST</td>\n",
       "      <td></td>\n",
       "      <td></td>\n",
       "      <td></td>\n",
       "      <td>SELENF</td>\n",
       "      <td>K</td>\n",
       "      <td>521</td>\n",
       "      <td>3</td>\n",
       "    </tr>\n",
       "  </tbody>\n",
       "</table>\n",
       "<p>1168014 rows × 14 columns</p>\n",
       "</div>"
      ],
      "text/plain": [
       "       incident_num           date_time  day_of_week  address_number_primary  \\\n",
       "8941   E21010000001 2021-01-01 00:00:11            6                    5000   \n",
       "8942   E21010000002 2021-01-01 00:00:14            6                     500   \n",
       "8943   E21010000003 2021-01-01 00:00:26            6                    3600   \n",
       "8944   E21010000004 2021-01-01 00:00:31            6                    2700   \n",
       "8945   E21010000006 2021-01-01 00:01:20            6                     800   \n",
       "...             ...                 ...          ...                     ...   \n",
       "99806  E23030022386 2023-03-15 23:25:50            4                    2500   \n",
       "99807  E23030022400 2023-03-15 23:44:05            4                     800   \n",
       "99808  E23030022401 2023-03-15 23:44:23            4                   14700   \n",
       "99809  E23030022404 2023-03-15 23:46:26            4                     400   \n",
       "99810  E23030022407 2023-03-15 23:53:07            4                     600   \n",
       "\n",
       "      address_dir_primary address_road_primary address_sfx_primary  \\\n",
       "8941                                 CHAPARRAL                 WAY   \n",
       "8942                                      05TH                 AVE   \n",
       "8943                                      38TH                  ST   \n",
       "8944                                    WORDEN                  ST   \n",
       "8945                                 SAN DIEGO                  PL   \n",
       "...                   ...                  ...                 ...   \n",
       "99806                                 IMPERIAL                 AVE   \n",
       "99807                                27TH (SB)                  ST   \n",
       "99808                            VALLE DEL SUR                  CT   \n",
       "99809                                     17TH                  ST   \n",
       "99810                                     15TH                  ST   \n",
       "\n",
       "      address_dir_intersecting address_road_intersecting  \\\n",
       "8941                                                       \n",
       "8942                                                       \n",
       "8943                                                       \n",
       "8944                                                       \n",
       "8945                                                       \n",
       "...                        ...                       ...   \n",
       "99806                                                      \n",
       "99807                                                      \n",
       "99808                                                      \n",
       "99809                                                      \n",
       "99810                                                      \n",
       "\n",
       "      address_sfx_intersecting call_type disposition  beat  priority  \n",
       "8941                                 AU1           W   326         1  \n",
       "8942                                1186         CAN   523         3  \n",
       "8943                                 AU1         DUP   839         1  \n",
       "8944                                 AU1           W   613         1  \n",
       "8945                                INFO           W   121         2  \n",
       "...                        ...       ...         ...   ...       ...  \n",
       "99806                               INFO           K   512         2  \n",
       "99807                               5150           K   724         1  \n",
       "99808                               459A         CAN   937         2  \n",
       "99809                             SELENF           K   521         3  \n",
       "99810                             SELENF           K   521         3  \n",
       "\n",
       "[1168014 rows x 14 columns]"
      ]
     },
     "execution_count": 236,
     "metadata": {},
     "output_type": "execute_result"
    }
   ],
   "source": [
    "join_df.sort_values(by=\"date_time\", ascending = True)"
   ]
  },
  {
   "cell_type": "code",
   "execution_count": 238,
   "id": "55ce2b21-1841-4d0c-b9d3-264612ffa0e7",
   "metadata": {
    "tags": []
   },
   "outputs": [
    {
     "data": {
      "text/plain": [
       "12705"
      ]
     },
     "execution_count": 238,
     "metadata": {},
     "output_type": "execute_result"
    }
   ],
   "source": [
    "# get unique values of the address_road_primary\n",
    "join_df[\"address_road_primary\"].nunique()"
   ]
  },
  {
   "cell_type": "code",
   "execution_count": null,
   "id": "85e79944-0fca-4339-aeb8-ba01b76352d0",
   "metadata": {},
   "outputs": [],
   "source": []
  }
 ],
 "metadata": {
  "availableInstances": [
   {
    "_defaultOrder": 0,
    "_isFastLaunch": true,
    "category": "General purpose",
    "gpuNum": 0,
    "memoryGiB": 4,
    "name": "ml.t3.medium",
    "vcpuNum": 2
   },
   {
    "_defaultOrder": 1,
    "_isFastLaunch": false,
    "category": "General purpose",
    "gpuNum": 0,
    "memoryGiB": 8,
    "name": "ml.t3.large",
    "vcpuNum": 2
   },
   {
    "_defaultOrder": 2,
    "_isFastLaunch": false,
    "category": "General purpose",
    "gpuNum": 0,
    "memoryGiB": 16,
    "name": "ml.t3.xlarge",
    "vcpuNum": 4
   },
   {
    "_defaultOrder": 3,
    "_isFastLaunch": false,
    "category": "General purpose",
    "gpuNum": 0,
    "memoryGiB": 32,
    "name": "ml.t3.2xlarge",
    "vcpuNum": 8
   },
   {
    "_defaultOrder": 4,
    "_isFastLaunch": true,
    "category": "General purpose",
    "gpuNum": 0,
    "memoryGiB": 8,
    "name": "ml.m5.large",
    "vcpuNum": 2
   },
   {
    "_defaultOrder": 5,
    "_isFastLaunch": false,
    "category": "General purpose",
    "gpuNum": 0,
    "memoryGiB": 16,
    "name": "ml.m5.xlarge",
    "vcpuNum": 4
   },
   {
    "_defaultOrder": 6,
    "_isFastLaunch": false,
    "category": "General purpose",
    "gpuNum": 0,
    "memoryGiB": 32,
    "name": "ml.m5.2xlarge",
    "vcpuNum": 8
   },
   {
    "_defaultOrder": 7,
    "_isFastLaunch": false,
    "category": "General purpose",
    "gpuNum": 0,
    "memoryGiB": 64,
    "name": "ml.m5.4xlarge",
    "vcpuNum": 16
   },
   {
    "_defaultOrder": 8,
    "_isFastLaunch": false,
    "category": "General purpose",
    "gpuNum": 0,
    "memoryGiB": 128,
    "name": "ml.m5.8xlarge",
    "vcpuNum": 32
   },
   {
    "_defaultOrder": 9,
    "_isFastLaunch": false,
    "category": "General purpose",
    "gpuNum": 0,
    "memoryGiB": 192,
    "name": "ml.m5.12xlarge",
    "vcpuNum": 48
   },
   {
    "_defaultOrder": 10,
    "_isFastLaunch": false,
    "category": "General purpose",
    "gpuNum": 0,
    "memoryGiB": 256,
    "name": "ml.m5.16xlarge",
    "vcpuNum": 64
   },
   {
    "_defaultOrder": 11,
    "_isFastLaunch": false,
    "category": "General purpose",
    "gpuNum": 0,
    "memoryGiB": 384,
    "name": "ml.m5.24xlarge",
    "vcpuNum": 96
   },
   {
    "_defaultOrder": 12,
    "_isFastLaunch": false,
    "category": "General purpose",
    "gpuNum": 0,
    "memoryGiB": 8,
    "name": "ml.m5d.large",
    "vcpuNum": 2
   },
   {
    "_defaultOrder": 13,
    "_isFastLaunch": false,
    "category": "General purpose",
    "gpuNum": 0,
    "memoryGiB": 16,
    "name": "ml.m5d.xlarge",
    "vcpuNum": 4
   },
   {
    "_defaultOrder": 14,
    "_isFastLaunch": false,
    "category": "General purpose",
    "gpuNum": 0,
    "memoryGiB": 32,
    "name": "ml.m5d.2xlarge",
    "vcpuNum": 8
   },
   {
    "_defaultOrder": 15,
    "_isFastLaunch": false,
    "category": "General purpose",
    "gpuNum": 0,
    "memoryGiB": 64,
    "name": "ml.m5d.4xlarge",
    "vcpuNum": 16
   },
   {
    "_defaultOrder": 16,
    "_isFastLaunch": false,
    "category": "General purpose",
    "gpuNum": 0,
    "memoryGiB": 128,
    "name": "ml.m5d.8xlarge",
    "vcpuNum": 32
   },
   {
    "_defaultOrder": 17,
    "_isFastLaunch": false,
    "category": "General purpose",
    "gpuNum": 0,
    "memoryGiB": 192,
    "name": "ml.m5d.12xlarge",
    "vcpuNum": 48
   },
   {
    "_defaultOrder": 18,
    "_isFastLaunch": false,
    "category": "General purpose",
    "gpuNum": 0,
    "memoryGiB": 256,
    "name": "ml.m5d.16xlarge",
    "vcpuNum": 64
   },
   {
    "_defaultOrder": 19,
    "_isFastLaunch": false,
    "category": "General purpose",
    "gpuNum": 0,
    "memoryGiB": 384,
    "name": "ml.m5d.24xlarge",
    "vcpuNum": 96
   },
   {
    "_defaultOrder": 20,
    "_isFastLaunch": true,
    "category": "Compute optimized",
    "gpuNum": 0,
    "memoryGiB": 4,
    "name": "ml.c5.large",
    "vcpuNum": 2
   },
   {
    "_defaultOrder": 21,
    "_isFastLaunch": false,
    "category": "Compute optimized",
    "gpuNum": 0,
    "memoryGiB": 8,
    "name": "ml.c5.xlarge",
    "vcpuNum": 4
   },
   {
    "_defaultOrder": 22,
    "_isFastLaunch": false,
    "category": "Compute optimized",
    "gpuNum": 0,
    "memoryGiB": 16,
    "name": "ml.c5.2xlarge",
    "vcpuNum": 8
   },
   {
    "_defaultOrder": 23,
    "_isFastLaunch": false,
    "category": "Compute optimized",
    "gpuNum": 0,
    "memoryGiB": 32,
    "name": "ml.c5.4xlarge",
    "vcpuNum": 16
   },
   {
    "_defaultOrder": 24,
    "_isFastLaunch": false,
    "category": "Compute optimized",
    "gpuNum": 0,
    "memoryGiB": 72,
    "name": "ml.c5.9xlarge",
    "vcpuNum": 36
   },
   {
    "_defaultOrder": 25,
    "_isFastLaunch": false,
    "category": "Compute optimized",
    "gpuNum": 0,
    "memoryGiB": 96,
    "name": "ml.c5.12xlarge",
    "vcpuNum": 48
   },
   {
    "_defaultOrder": 26,
    "_isFastLaunch": false,
    "category": "Compute optimized",
    "gpuNum": 0,
    "memoryGiB": 144,
    "name": "ml.c5.18xlarge",
    "vcpuNum": 72
   },
   {
    "_defaultOrder": 27,
    "_isFastLaunch": false,
    "category": "Compute optimized",
    "gpuNum": 0,
    "memoryGiB": 192,
    "name": "ml.c5.24xlarge",
    "vcpuNum": 96
   },
   {
    "_defaultOrder": 28,
    "_isFastLaunch": true,
    "category": "Accelerated computing",
    "gpuNum": 1,
    "memoryGiB": 16,
    "name": "ml.g4dn.xlarge",
    "vcpuNum": 4
   },
   {
    "_defaultOrder": 29,
    "_isFastLaunch": false,
    "category": "Accelerated computing",
    "gpuNum": 1,
    "memoryGiB": 32,
    "name": "ml.g4dn.2xlarge",
    "vcpuNum": 8
   },
   {
    "_defaultOrder": 30,
    "_isFastLaunch": false,
    "category": "Accelerated computing",
    "gpuNum": 1,
    "memoryGiB": 64,
    "name": "ml.g4dn.4xlarge",
    "vcpuNum": 16
   },
   {
    "_defaultOrder": 31,
    "_isFastLaunch": false,
    "category": "Accelerated computing",
    "gpuNum": 1,
    "memoryGiB": 128,
    "name": "ml.g4dn.8xlarge",
    "vcpuNum": 32
   },
   {
    "_defaultOrder": 32,
    "_isFastLaunch": false,
    "category": "Accelerated computing",
    "gpuNum": 4,
    "memoryGiB": 192,
    "name": "ml.g4dn.12xlarge",
    "vcpuNum": 48
   },
   {
    "_defaultOrder": 33,
    "_isFastLaunch": false,
    "category": "Accelerated computing",
    "gpuNum": 1,
    "memoryGiB": 256,
    "name": "ml.g4dn.16xlarge",
    "vcpuNum": 64
   },
   {
    "_defaultOrder": 34,
    "_isFastLaunch": false,
    "category": "Accelerated computing",
    "gpuNum": 1,
    "memoryGiB": 61,
    "name": "ml.p3.2xlarge",
    "vcpuNum": 8
   },
   {
    "_defaultOrder": 35,
    "_isFastLaunch": false,
    "category": "Accelerated computing",
    "gpuNum": 4,
    "memoryGiB": 244,
    "name": "ml.p3.8xlarge",
    "vcpuNum": 32
   },
   {
    "_defaultOrder": 36,
    "_isFastLaunch": false,
    "category": "Accelerated computing",
    "gpuNum": 8,
    "memoryGiB": 488,
    "name": "ml.p3.16xlarge",
    "vcpuNum": 64
   },
   {
    "_defaultOrder": 37,
    "_isFastLaunch": false,
    "category": "Accelerated computing",
    "gpuNum": 8,
    "memoryGiB": 768,
    "name": "ml.p3dn.24xlarge",
    "vcpuNum": 96
   },
   {
    "_defaultOrder": 38,
    "_isFastLaunch": false,
    "category": "Memory Optimized",
    "gpuNum": 0,
    "memoryGiB": 16,
    "name": "ml.r5.large",
    "vcpuNum": 2
   },
   {
    "_defaultOrder": 39,
    "_isFastLaunch": false,
    "category": "Memory Optimized",
    "gpuNum": 0,
    "memoryGiB": 32,
    "name": "ml.r5.xlarge",
    "vcpuNum": 4
   },
   {
    "_defaultOrder": 40,
    "_isFastLaunch": false,
    "category": "Memory Optimized",
    "gpuNum": 0,
    "memoryGiB": 64,
    "name": "ml.r5.2xlarge",
    "vcpuNum": 8
   },
   {
    "_defaultOrder": 41,
    "_isFastLaunch": false,
    "category": "Memory Optimized",
    "gpuNum": 0,
    "memoryGiB": 128,
    "name": "ml.r5.4xlarge",
    "vcpuNum": 16
   },
   {
    "_defaultOrder": 42,
    "_isFastLaunch": false,
    "category": "Memory Optimized",
    "gpuNum": 0,
    "memoryGiB": 256,
    "name": "ml.r5.8xlarge",
    "vcpuNum": 32
   },
   {
    "_defaultOrder": 43,
    "_isFastLaunch": false,
    "category": "Memory Optimized",
    "gpuNum": 0,
    "memoryGiB": 384,
    "name": "ml.r5.12xlarge",
    "vcpuNum": 48
   },
   {
    "_defaultOrder": 44,
    "_isFastLaunch": false,
    "category": "Memory Optimized",
    "gpuNum": 0,
    "memoryGiB": 512,
    "name": "ml.r5.16xlarge",
    "vcpuNum": 64
   },
   {
    "_defaultOrder": 45,
    "_isFastLaunch": false,
    "category": "Memory Optimized",
    "gpuNum": 0,
    "memoryGiB": 768,
    "name": "ml.r5.24xlarge",
    "vcpuNum": 96
   },
   {
    "_defaultOrder": 46,
    "_isFastLaunch": false,
    "category": "Accelerated computing",
    "gpuNum": 1,
    "memoryGiB": 16,
    "name": "ml.g5.xlarge",
    "vcpuNum": 4
   },
   {
    "_defaultOrder": 47,
    "_isFastLaunch": false,
    "category": "Accelerated computing",
    "gpuNum": 1,
    "memoryGiB": 32,
    "name": "ml.g5.2xlarge",
    "vcpuNum": 8
   },
   {
    "_defaultOrder": 48,
    "_isFastLaunch": false,
    "category": "Accelerated computing",
    "gpuNum": 1,
    "memoryGiB": 64,
    "name": "ml.g5.4xlarge",
    "vcpuNum": 16
   },
   {
    "_defaultOrder": 49,
    "_isFastLaunch": false,
    "category": "Accelerated computing",
    "gpuNum": 1,
    "memoryGiB": 128,
    "name": "ml.g5.8xlarge",
    "vcpuNum": 32
   },
   {
    "_defaultOrder": 50,
    "_isFastLaunch": false,
    "category": "Accelerated computing",
    "gpuNum": 1,
    "memoryGiB": 256,
    "name": "ml.g5.16xlarge",
    "vcpuNum": 64
   },
   {
    "_defaultOrder": 51,
    "_isFastLaunch": false,
    "category": "Accelerated computing",
    "gpuNum": 4,
    "memoryGiB": 192,
    "name": "ml.g5.12xlarge",
    "vcpuNum": 48
   },
   {
    "_defaultOrder": 52,
    "_isFastLaunch": false,
    "category": "Accelerated computing",
    "gpuNum": 4,
    "memoryGiB": 384,
    "name": "ml.g5.24xlarge",
    "vcpuNum": 96
   },
   {
    "_defaultOrder": 53,
    "_isFastLaunch": false,
    "category": "Accelerated computing",
    "gpuNum": 8,
    "memoryGiB": 768,
    "name": "ml.g5.48xlarge",
    "vcpuNum": 192
   }
  ],
  "instance_type": "ml.t3.medium",
  "kernelspec": {
   "display_name": "Python 3 (Data Science)",
   "language": "python",
   "name": "python3__SAGEMAKER_INTERNAL__arn:aws:sagemaker:us-east-1:081325390199:image/datascience-1.0"
  },
  "language_info": {
   "codemirror_mode": {
    "name": "ipython",
    "version": 3
   },
   "file_extension": ".py",
   "mimetype": "text/x-python",
   "name": "python",
   "nbconvert_exporter": "python",
   "pygments_lexer": "ipython3",
   "version": "3.7.10"
  }
 },
 "nbformat": 4,
 "nbformat_minor": 5
}

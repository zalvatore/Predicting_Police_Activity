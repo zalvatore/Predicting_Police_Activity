{
 "cells": [
  {
   "cell_type": "code",
   "execution_count": 1,
   "id": "9d156e05-db52-404f-a6e4-20dc678d01db",
   "metadata": {
    "tags": []
   },
   "outputs": [],
   "source": [
    "import sagemaker\n",
    "import boto3\n",
    "from datetime import datetime\n",
    "from io import StringIO\n",
    "import pandas as pd\n",
    "import numpy as np\n",
    "import matplotlib.pyplot as plt\n",
    "import seaborn as sns\n",
    "import warnings\n",
    "import plotly.express as px\n",
    "from imblearn.over_sampling import SMOTE\n",
    "from collections import Counter\n",
    "from matplotlib import pyplot\n",
    "\n",
    "warnings.filterwarnings('ignore')\n",
    "\n",
    "\n",
    "\n",
    "from pyathena import connect"
   ]
  },
  {
   "cell_type": "code",
   "execution_count": 3,
   "id": "d8aac005-f80e-4f02-b0d4-880ac293dad8",
   "metadata": {
    "tags": []
   },
   "outputs": [
    {
     "name": "stdout",
     "output_type": "stream",
     "text": [
      "Bucket - >  sagemaker-us-east-1-859074047513\n",
      "Role - >  arn:aws:iam::859074047513:role/LabRole\n",
      "Region - >  us-east-1\n",
      "S3 - >  <botocore.client.S3 object at 0x7f5ab8142810>\n",
      "S3 Resource - >  s3.ServiceResource()\n"
     ]
    }
   ],
   "source": [
    "sess = sagemaker.Session() #Intialzie session\n",
    "\n",
    "bucket = sess.default_bucket()\n",
    "# RD_Bucket = 'policedatasetbucket' #Raw Data\n",
    "role = sagemaker.get_execution_role()\n",
    "region = boto3.Session().region_name\n",
    "s3 = boto3.client('s3') # Create an S3 client\n",
    "s3_resource = boto3.resource('s3') # Create an S3 resource\n",
    "\n",
    "\n",
    "print('Bucket - > ',bucket)\n",
    "print('Role - > ',role)\n",
    "print('Region - > ',region)\n",
    "print('S3 - > ',s3)\n",
    "print('S3 Resource - > ',s3_resource)"
   ]
  },
  {
   "cell_type": "code",
   "execution_count": 4,
   "id": "81047620-9804-4f4e-bfeb-2d0f3f56ad1b",
   "metadata": {
    "tags": []
   },
   "outputs": [],
   "source": [
    "# Function to verify if bucket exist, if not create\n",
    "def verify_create_bucket(bucket_name):\n",
    "    response = s3.list_buckets()\n",
    "    for bucket in response['Buckets']:\n",
    "        if bucket['Name'] == bucket_name:\n",
    "            print(f\"The {bucket_name} bucket exists.\")\n",
    "            break\n",
    "    else:\n",
    "        print(f\"The {bucket_name} bucket does not exist, creating\")\n",
    "        !aws s3 mb s3://{bucket}/"
   ]
  },
  {
   "cell_type": "code",
   "execution_count": null,
   "id": "b32f6c00-23cc-421a-9d0e-b8edb489698f",
   "metadata": {
    "tags": []
   },
   "outputs": [],
   "source": [
    "verify_create_bucket(bucket)"
   ]
  },
  {
   "cell_type": "code",
   "execution_count": null,
   "id": "737f9d7e-1908-4b41-b70c-1629ebe4483d",
   "metadata": {
    "tags": []
   },
   "outputs": [],
   "source": [
    "#function to download yearly data\n",
    "# def Get_Data(year):\n",
    "#     url = f\"https://seshat.datasd.org/pd/pd_calls_for_service_{year}_datasd.csv\"\n",
    "#     df = pd.read_csv(url)\n",
    "#     return df"
   ]
  },
  {
   "cell_type": "code",
   "execution_count": null,
   "id": "48e9f100-c763-458a-80d4-e92e392c380f",
   "metadata": {
    "tags": []
   },
   "outputs": [],
   "source": [
    "# List of years since 2018\n",
    "# Years = list(range(2018,datetime.now().year+1))\n",
    "# Years"
   ]
  },
  {
   "cell_type": "code",
   "execution_count": null,
   "id": "f1eb0cd5-a6d6-4216-81dd-cac47baadf50",
   "metadata": {
    "tags": []
   },
   "outputs": [],
   "source": [
    "#iterate over years\n",
    "# for year in Years:\n",
    "#     year_df = Get_Data(year)\n",
    "#     csv_buffer = StringIO()\n",
    "#     year_df.to_csv(csv_buffer, index=False)\n",
    "#     file = 'SDPD_Calls_' + str(year) + '.csv'\n",
    "#     s3_resource.Object(bucket,file).put(Body=csv_buffer.getvalue())\n",
    "#     print(file,'loaded in',bucket,'bucket')"
   ]
  },
  {
   "cell_type": "code",
   "execution_count": null,
   "id": "3b9fa40d-81ef-4f9f-af03-812ef65bbf3a",
   "metadata": {
    "tags": []
   },
   "outputs": [],
   "source": [
    "# def URL_2_Bucket(url,file_name):\n",
    "#     df = pd.read_csv(url, low_memory=False)\n",
    "#     csv_buffer = StringIO()\n",
    "#     df.to_csv(csv_buffer, index=False)\n",
    "#     file = file_name + '.csv'\n",
    "#     s3_resource.Object(RD_Bucket,file).put(Body=csv_buffer.getvalue())\n",
    "#     print(file,'loaded in',RD_Bucket,'bucket')\n",
    "    "
   ]
  },
  {
   "cell_type": "code",
   "execution_count": null,
   "id": "b98b86f1-f78d-4f78-80ff-46033260db2e",
   "metadata": {
    "tags": []
   },
   "outputs": [],
   "source": [
    "# type_url = f\"http://seshat.datasd.org/pd/pd_cfs_calltypes_datasd.csv\"\n",
    "# dipo_url = f\"http://seshat.datasd.org/pd/pd_dispo_codes_datasd.csv\"\n",
    "# ripa_stops_url = \"https://seshat.datasd.org/pd/ripa_stops_datasd.csv\"\n",
    "# ripa_stops_dic = \"https://seshat.datasd.org/pd/ripa_stops_dictionary_datasd.csv\""
   ]
  },
  {
   "cell_type": "code",
   "execution_count": null,
   "id": "a81b7417-bfea-4627-8f83-b021f56b7cf5",
   "metadata": {
    "tags": []
   },
   "outputs": [],
   "source": [
    "# URL_2_Bucket(type_url,'Type')\n",
    "# URL_2_Bucket(dipo_url,'Dispo')\n",
    "# URL_2_Bucket(ripa_stops_url,'Ripa_Stops')\n",
    "# URL_2_Bucket(ripa_stops_dic,'Ripa_Stops_Dic')"
   ]
  },
  {
   "cell_type": "code",
   "execution_count": null,
   "id": "d8bff752-e061-4333-8578-681fb70f6343",
   "metadata": {},
   "outputs": [],
   "source": [
    "ingest_create_athena_db_passed = False"
   ]
  },
  {
   "cell_type": "markdown",
   "id": "96fff9d0-848c-4e9f-8880-75d6c8780f31",
   "metadata": {},
   "source": [
    "# Create Athena Database"
   ]
  },
  {
   "cell_type": "code",
   "execution_count": null,
   "id": "9240964a-b6c1-4287-be93-c68435fbe4b3",
   "metadata": {
    "tags": []
   },
   "outputs": [],
   "source": [
    "database_name = \"sd_police_db\""
   ]
  },
  {
   "cell_type": "code",
   "execution_count": null,
   "id": "d86e4265-de80-4c0d-b305-89898dc8b99a",
   "metadata": {
    "tags": []
   },
   "outputs": [],
   "source": [
    "# Set S3 staging directory -- this is a temporary directory used for Athena queries\n",
    "s3_staging_dir = \"s3://{0}/athena/staging\".format(bucket)"
   ]
  },
  {
   "cell_type": "code",
   "execution_count": null,
   "id": "84ff73e0-57d1-4939-98c1-9554a659e512",
   "metadata": {
    "tags": []
   },
   "outputs": [],
   "source": [
    "conn = connect(region_name=region, s3_staging_dir=s3_staging_dir)\n"
   ]
  },
  {
   "cell_type": "code",
   "execution_count": null,
   "id": "85d9e741-1d3a-4082-8fd2-e3b84034fd7e",
   "metadata": {
    "tags": []
   },
   "outputs": [],
   "source": [
    "statement = \"CREATE DATABASE IF NOT EXISTS {}\".format(database_name)\n",
    "print(statement)"
   ]
  },
  {
   "cell_type": "code",
   "execution_count": null,
   "id": "a7f71d57-3a91-4767-9e72-b44602f23bb7",
   "metadata": {
    "tags": []
   },
   "outputs": [],
   "source": [
    "import pandas as pd\n",
    "\n",
    "pd.read_sql(statement, conn)"
   ]
  },
  {
   "cell_type": "code",
   "execution_count": null,
   "id": "3abd2cbc-cdfa-428f-9979-a1f17d70aed6",
   "metadata": {
    "tags": []
   },
   "outputs": [],
   "source": [
    "# Show databases\n",
    "statement = \"SHOW DATABASES\"\n",
    "\n",
    "df_show = pd.read_sql(statement, conn)\n",
    "df_show.head(5)"
   ]
  },
  {
   "cell_type": "markdown",
   "id": "b339df0c-c62e-4870-a35c-07cc8ca468e9",
   "metadata": {},
   "source": [
    "# Drop Database if Needed"
   ]
  },
  {
   "cell_type": "code",
   "execution_count": null,
   "id": "7a0922ff-46fa-4779-8a35-b8f9329eb82b",
   "metadata": {
    "tags": []
   },
   "outputs": [],
   "source": [
    "# drop_db_name = \"dsoaw\"\n",
    "# drop_db_query = f\"DROP DATABASE IF EXISTS {drop_db_name}\"\n",
    "\n",
    "# df_show = pd.read_sql(drop_db_query, conn)\n",
    "# df_show.head()"
   ]
  },
  {
   "cell_type": "markdown",
   "id": "14b2878f-98a3-494b-b204-053b62b77df1",
   "metadata": {},
   "source": [
    "# Drop Table if Needed"
   ]
  },
  {
   "cell_type": "code",
   "execution_count": null,
   "id": "c9db4d7a-48da-4a46-8e1c-e866c5260051",
   "metadata": {
    "tags": []
   },
   "outputs": [],
   "source": [
    "# drop_table_name = \"table_sd_ripa\" \n",
    "\n",
    "# drop_table_query = f\"DROP TABLE IF EXISTS {database_name}.{drop_table_name}\"\n",
    "\n",
    "# df_show1 = pd.read_sql(drop_table_query, conn)\n",
    "# df_show1.head()"
   ]
  },
  {
   "cell_type": "code",
   "execution_count": null,
   "id": "1d225736-e41d-4594-b51e-debc5971cd3a",
   "metadata": {
    "tags": []
   },
   "outputs": [],
   "source": [
    "if database_name in df_show.values:\n",
    "    ingest_create_athena_db_passed = True"
   ]
  },
  {
   "cell_type": "code",
   "execution_count": null,
   "id": "f4624f2a-1283-4687-89cb-5330cd53474a",
   "metadata": {
    "tags": []
   },
   "outputs": [],
   "source": [
    "%store ingest_create_athena_db_passed"
   ]
  },
  {
   "cell_type": "markdown",
   "id": "9b5f12ce-83a1-4a06-b4bb-f6d8ac68b781",
   "metadata": {
    "tags": []
   },
   "source": [
    "# S3 Bucket Folder Information for 2021"
   ]
  },
  {
   "cell_type": "code",
   "execution_count": null,
   "id": "c231517a-0908-4feb-88ef-c401e1452405",
   "metadata": {
    "tags": []
   },
   "outputs": [],
   "source": [
    "s3_private_path_csv = \"s3://{}/SanDiego-Police-Dataset/policedatasetsd/csv\".format(bucket)\n",
    "print(s3_private_path_csv)"
   ]
  },
  {
   "cell_type": "code",
   "execution_count": null,
   "id": "9c2e78da-ce51-4fa2-894d-ab081c7ad061",
   "metadata": {
    "tags": []
   },
   "outputs": [],
   "source": [
    "table_name = \"table_sd_2021\""
   ]
  },
  {
   "cell_type": "code",
   "execution_count": null,
   "id": "bff96feb-861b-4cc7-b2d1-97b8f7c5d539",
   "metadata": {
    "tags": []
   },
   "outputs": [],
   "source": [
    "# SQL statement to execute\n",
    "statement = \"\"\"CREATE EXTERNAL TABLE IF NOT EXISTS {}.{}(\n",
    "incident_num string,\n",
    "date_time string,\n",
    "day_of_week int,\n",
    "address_number_primary int,\n",
    "address_dir_primary string,\n",
    "address_road_primary string,\n",
    "address_sfx_primary string,\n",
    "address_dir_intersecting string,\n",
    "address_road_intersecting string,\n",
    "address_sfx_intersecting string,\n",
    "call_type string,\n",
    "disposition string,\n",
    "beat int,\n",
    "priority int) \n",
    "\n",
    "ROW FORMAT DELIMITED FIELDS TERMINATED BY ',' NULL DEFINED AS '' LOCATION '{}'\n",
    "TBLPROPERTIES ('skip.header.line.count'='1')\"\"\".format(database_name, table_name, s3_private_path_csv)\n",
    "\n",
    "print(statement)"
   ]
  },
  {
   "cell_type": "code",
   "execution_count": null,
   "id": "3c8764cd-d7fd-4275-9e19-a2532d178126",
   "metadata": {
    "tags": []
   },
   "outputs": [],
   "source": [
    "import pandas as pd\n",
    "\n",
    "pd.read_sql(statement, conn)"
   ]
  },
  {
   "cell_type": "markdown",
   "id": "f441a570-7879-4b73-b640-fe7a73181b62",
   "metadata": {},
   "source": [
    "# Varify Tables in a Specified Database"
   ]
  },
  {
   "cell_type": "code",
   "execution_count": null,
   "id": "de6a0eec-fde5-442f-9c8e-a658c2fde1e2",
   "metadata": {
    "tags": []
   },
   "outputs": [],
   "source": [
    "database_name = \"sd_police_db\"\n",
    "statement = \"SHOW TABLES in {}\".format(database_name)\n",
    "\n",
    "df_show = pd.read_sql(statement, conn)\n",
    "\n",
    "df_show.head(5)"
   ]
  },
  {
   "cell_type": "code",
   "execution_count": null,
   "id": "863c537f-f030-46d9-9438-3f289f221378",
   "metadata": {
    "tags": []
   },
   "outputs": [],
   "source": [
    "pd.read_sql(statement, conn)\n",
    "\n",
    "df_2021 = pd.read_sql(f\"SELECT * FROM {database_name}.{table_name}\", conn)"
   ]
  },
  {
   "cell_type": "markdown",
   "id": "9778020f-2b08-4e07-945e-023afbcc7e12",
   "metadata": {},
   "source": [
    "# S3 Bucket Folder Information for 2022"
   ]
  },
  {
   "cell_type": "code",
   "execution_count": null,
   "id": "ae3e1659-dd40-4a5e-ab89-53253d0ec740",
   "metadata": {
    "tags": []
   },
   "outputs": [],
   "source": [
    "s3_private_path_csv1 = \"s3://{}/SanDiego-Police-Dataset/policedatasetsd22/csv\".format(bucket)\n",
    "print(s3_private_path_csv1)"
   ]
  },
  {
   "cell_type": "code",
   "execution_count": null,
   "id": "ed95f016-b77b-41af-9392-9034addf1c4b",
   "metadata": {
    "tags": []
   },
   "outputs": [],
   "source": [
    "table_name1 = \"table_sd_2022\""
   ]
  },
  {
   "cell_type": "code",
   "execution_count": null,
   "id": "b9508276-fc5f-415a-80dd-cdb6358585bb",
   "metadata": {
    "tags": []
   },
   "outputs": [],
   "source": [
    "# SQL statement to execute\n",
    "statement_1 = \"\"\"CREATE EXTERNAL TABLE IF NOT EXISTS {}.{}(\n",
    "incident_num string,\n",
    "date_time string,\n",
    "day_of_week int,\n",
    "address_number_primary int,\n",
    "address_dir_primary string,\n",
    "address_road_primary string,\n",
    "address_sfx_primary string,\n",
    "address_dir_intersecting string,\n",
    "address_road_intersecting string,\n",
    "address_sfx_intersecting string,\n",
    "call_type string,\n",
    "disposition string,\n",
    "beat int,\n",
    "priority int) \n",
    "\n",
    "ROW FORMAT DELIMITED FIELDS TERMINATED BY ',' NULL DEFINED AS '' LOCATION '{}'\n",
    "TBLPROPERTIES ('skip.header.line.count'='1')\"\"\".format(database_name, table_name1, s3_private_path_csv1)\n",
    "\n",
    "print(statement_1)"
   ]
  },
  {
   "cell_type": "code",
   "execution_count": null,
   "id": "5ca55f80-8cb7-4352-b6a0-663ced484019",
   "metadata": {
    "tags": []
   },
   "outputs": [],
   "source": [
    "import pandas as pd\n",
    "\n",
    "pd.read_sql(statement_1, conn)"
   ]
  },
  {
   "cell_type": "code",
   "execution_count": null,
   "id": "9cb7f9ff-7a85-46d7-bd64-f961d5338e01",
   "metadata": {
    "tags": []
   },
   "outputs": [],
   "source": [
    "database_name = \"sd_police_db\"\n",
    "statement = \"SHOW TABLES in {}\".format(database_name)\n",
    "\n",
    "df_show = pd.read_sql(statement, conn)\n",
    "df_show.head(5)"
   ]
  },
  {
   "cell_type": "code",
   "execution_count": null,
   "id": "c9b89c5d-8e29-4a5b-93b1-47eace952e7c",
   "metadata": {
    "tags": []
   },
   "outputs": [],
   "source": [
    "pd.read_sql(statement_1, conn)\n",
    "\n",
    "df_2022 = pd.read_sql(f\"SELECT * FROM {database_name}.{table_name1}\", conn)"
   ]
  },
  {
   "cell_type": "code",
   "execution_count": null,
   "id": "abefad77-d4b6-4be9-b8f1-5c4b5649e9fd",
   "metadata": {
    "tags": []
   },
   "outputs": [],
   "source": [
    "df_2022"
   ]
  },
  {
   "cell_type": "markdown",
   "id": "2879e9a4-0095-4372-ad14-8383e962984a",
   "metadata": {},
   "source": [
    "# S3 Bucket Folder Information for 2023"
   ]
  },
  {
   "cell_type": "code",
   "execution_count": null,
   "id": "e7eeb68d-dfaa-45e5-af00-493744856540",
   "metadata": {
    "tags": []
   },
   "outputs": [],
   "source": [
    "s3_private_path_csv2 = \"s3://{}/SanDiego-Police-Dataset/policedatasetsd23/csv\".format(bucket)\n",
    "print(s3_private_path_csv2)"
   ]
  },
  {
   "cell_type": "code",
   "execution_count": null,
   "id": "035cce18-4e55-4751-a141-1bab5dc24f67",
   "metadata": {
    "tags": []
   },
   "outputs": [],
   "source": [
    "table_name2 = \"table_sd_2023\""
   ]
  },
  {
   "cell_type": "code",
   "execution_count": null,
   "id": "c0d7a0d6-79bf-4949-a9fe-9d6f652ec7c0",
   "metadata": {
    "tags": []
   },
   "outputs": [],
   "source": [
    "# SQL statement to execute\n",
    "statement_2 = \"\"\"CREATE EXTERNAL TABLE IF NOT EXISTS {}.{}(\n",
    "incident_num string,\n",
    "date_time string,\n",
    "day_of_week int,\n",
    "address_number_primary int,\n",
    "address_dir_primary string,\n",
    "address_road_primary string,\n",
    "address_sfx_primary string,\n",
    "address_dir_intersecting string,\n",
    "address_road_intersecting string,\n",
    "address_sfx_intersecting string,\n",
    "call_type string,\n",
    "disposition string,\n",
    "beat int,\n",
    "priority int) \n",
    "\n",
    "ROW FORMAT DELIMITED FIELDS TERMINATED BY ',' NULL DEFINED AS '' LOCATION '{}'\n",
    "TBLPROPERTIES ('skip.header.line.count'='1',\n",
    "                'serialization.null.format'='')\"\"\".format(database_name, table_name2, s3_private_path_csv2)\n",
    "\n",
    "print(statement_2)"
   ]
  },
  {
   "cell_type": "code",
   "execution_count": null,
   "id": "0f6aa8f6-039f-4740-bbc1-e6253b64412c",
   "metadata": {
    "tags": []
   },
   "outputs": [],
   "source": [
    "import pandas as pd\n",
    "\n",
    "pd.read_sql(statement_2, conn)"
   ]
  },
  {
   "cell_type": "code",
   "execution_count": null,
   "id": "5b0bb471-8e55-4ce3-9e70-2158585475db",
   "metadata": {
    "tags": []
   },
   "outputs": [],
   "source": [
    "database_name = \"sd_police_db\"\n",
    "statement = \"SHOW TABLES in {}\".format(database_name)\n",
    "\n",
    "df_show = pd.read_sql(statement, conn)\n",
    "df_show.head(5)"
   ]
  },
  {
   "cell_type": "code",
   "execution_count": null,
   "id": "0ad1d875-3913-4c22-a9f0-cea2357bb75a",
   "metadata": {
    "tags": []
   },
   "outputs": [],
   "source": [
    "pd.read_sql(statement_2, conn)\n",
    "\n",
    "df_2023 = pd.read_sql(f\"SELECT * FROM {database_name}.{table_name2}\", conn)"
   ]
  },
  {
   "cell_type": "code",
   "execution_count": null,
   "id": "a8f9cb31-b55c-4626-b107-d7939f1993c1",
   "metadata": {
    "tags": []
   },
   "outputs": [],
   "source": [
    "df_2023"
   ]
  },
  {
   "cell_type": "markdown",
   "id": "1977fbf7-f366-49fd-865b-e03621b40f77",
   "metadata": {},
   "source": [
    "# S3 Bucket Folder Information for Police Call Type"
   ]
  },
  {
   "cell_type": "code",
   "execution_count": null,
   "id": "d9ae0a8e-4963-4ea9-842d-3058f64f0faa",
   "metadata": {
    "tags": []
   },
   "outputs": [],
   "source": [
    "s3_private_path_csvcall = \"s3://{}/SanDiego-Police-Dataset/policecalltypes/csv/\".format(bucket)\n",
    "print(s3_private_path_csvcall)"
   ]
  },
  {
   "cell_type": "code",
   "execution_count": null,
   "id": "11d8f6e7-9f64-4d76-a59a-8c19243cf76c",
   "metadata": {
    "tags": []
   },
   "outputs": [],
   "source": [
    "table_name_call = \"table_call_type\""
   ]
  },
  {
   "cell_type": "code",
   "execution_count": null,
   "id": "fa24d798-2874-443a-976d-daf6a73bc742",
   "metadata": {
    "tags": []
   },
   "outputs": [],
   "source": [
    "# SQL statement to execute\n",
    "statement_calltype = \"\"\"CREATE EXTERNAL TABLE IF NOT EXISTS {}.{}(\n",
    "call_type string,\n",
    "description string\n",
    ") \n",
    "\n",
    "ROW FORMAT DELIMITED FIELDS TERMINATED BY ',' NULL DEFINED AS '' LOCATION '{}'\n",
    "TBLPROPERTIES ('skip.header.line.count'='1',\n",
    "                'serialization.null.format'='')\"\"\".format(database_name, table_name_call, s3_private_path_csvcall)\n",
    "\n",
    "print(statement_calltype)"
   ]
  },
  {
   "cell_type": "code",
   "execution_count": null,
   "id": "f43e3879-95cc-4a94-bb06-a3b9114121b7",
   "metadata": {
    "tags": []
   },
   "outputs": [],
   "source": [
    "import pandas as pd\n",
    "\n",
    "pd.read_sql(statement_calltype, conn)"
   ]
  },
  {
   "cell_type": "code",
   "execution_count": null,
   "id": "a5a69be0-1b3a-480b-9425-96eef0a958a0",
   "metadata": {
    "tags": []
   },
   "outputs": [],
   "source": [
    "pd.read_sql(statement_calltype, conn)\n",
    "\n",
    "df_call = pd.read_sql(f\"SELECT * FROM {database_name}.{table_name_call}\", conn)"
   ]
  },
  {
   "cell_type": "code",
   "execution_count": null,
   "id": "397a71a5-d6d8-4926-9827-c1681d127874",
   "metadata": {
    "tags": []
   },
   "outputs": [],
   "source": [
    "df_call"
   ]
  },
  {
   "cell_type": "markdown",
   "id": "078761ab-40f5-426a-bc3e-4a2a16e3f7f7",
   "metadata": {},
   "source": [
    "# Join The Three datasets 2021, 2022, 2023"
   ]
  },
  {
   "cell_type": "code",
   "execution_count": null,
   "id": "e13770c3-be4c-407e-9cf0-e718f2c4c444",
   "metadata": {
    "tags": []
   },
   "outputs": [],
   "source": [
    "police_call_df = pd.read_sql(f\"SELECT * FROM {database_name}.{table_name} UNION ALL \\\n",
    "                               SELECT * FROM {database_name}.{table_name1} UNION ALL \\\n",
    "                               SELECT * FROM {database_name}.{table_name2}\", conn)"
   ]
  },
  {
   "cell_type": "code",
   "execution_count": null,
   "id": "df0d9d40-b96e-4681-93e6-a6aadaa9cd3e",
   "metadata": {
    "tags": []
   },
   "outputs": [],
   "source": [
    "display(police_call_df)"
   ]
  },
  {
   "cell_type": "markdown",
   "id": "d2b6a904-cafa-42a2-ac96-534331c83001",
   "metadata": {},
   "source": [
    "### Checking the data types, removing missing values, duplicated values"
   ]
  },
  {
   "cell_type": "code",
   "execution_count": null,
   "id": "625f3c88-9f3b-4f12-a436-06f4148d5219",
   "metadata": {
    "tags": []
   },
   "outputs": [],
   "source": [
    "# shape of the dataframes\n",
    "print(f'shape of the dataframe police dataframe {df_2021.shape}')\n",
    "print(f'shape of the dataframe police dataframe {df_2022.shape}')\n",
    "print(f'shape of the dataframe police dataframe {df_2023.shape}')"
   ]
  },
  {
   "cell_type": "code",
   "execution_count": null,
   "id": "ab6f12b2-bede-48bf-ba39-fc02e8cf389f",
   "metadata": {
    "tags": []
   },
   "outputs": [],
   "source": [
    "police_call_df.describe(include='all')"
   ]
  },
  {
   "cell_type": "code",
   "execution_count": null,
   "id": "351315dc-11c5-4ac7-be5f-1fd38d251f3c",
   "metadata": {
    "tags": []
   },
   "outputs": [],
   "source": [
    "# Data types \n",
    "police_call_df.dtypes"
   ]
  },
  {
   "cell_type": "code",
   "execution_count": null,
   "id": "47dd47f5-4bd0-4a1c-bafe-887c8f28d6eb",
   "metadata": {
    "tags": []
   },
   "outputs": [],
   "source": [
    "from datetime import datetime\n",
    "\n",
    "police_call_df[\"date_time\"] = pd.to_datetime(police_call_df[\"date_time\"])\n",
    "police_call_df"
   ]
  },
  {
   "cell_type": "code",
   "execution_count": null,
   "id": "22e815da-ff99-4c92-af8f-1940b74d2778",
   "metadata": {
    "tags": []
   },
   "outputs": [],
   "source": [
    "police_call_df.dtypes"
   ]
  },
  {
   "cell_type": "code",
   "execution_count": null,
   "id": "184c6c3f-dc34-4786-9a24-b38bdd3955c9",
   "metadata": {
    "tags": []
   },
   "outputs": [],
   "source": [
    "police_call_df.info()"
   ]
  },
  {
   "cell_type": "markdown",
   "id": "89127ea0-0515-40e6-ab90-a6c90b7f1609",
   "metadata": {},
   "source": [
    "Our first file contains 1,168,014 rows and 14 columns.</br>\n",
    "Out of 14 columns 4 are int type, 8 are strings/object, and 1 is datetime type.</br>\n",
    "Out of 14 columns 8 columns have null/missing values. \n"
   ]
  },
  {
   "cell_type": "code",
   "execution_count": null,
   "id": "6538eb35-5264-4337-b31d-82c54d75b89b",
   "metadata": {
    "tags": []
   },
   "outputs": [],
   "source": [
    "# check null values\n",
    "police_call_df.isna().sum()"
   ]
  },
  {
   "cell_type": "code",
   "execution_count": null,
   "id": "cf8623f1-d8f0-41f0-b21a-6c66dfadb77f",
   "metadata": {
    "tags": []
   },
   "outputs": [],
   "source": [
    "from tqdm import tqdm\n",
    "\n",
    "def Data_Quality_Report(df):\n",
    "\n",
    "    #Initial table\n",
    "    freqDF = pd.DataFrame(columns=['Feature',\n",
    "                                   'Mode',\n",
    "                                   'Mode Freq.',\n",
    "                                   'Mode %',\n",
    "                                   '2nd Mode',\n",
    "                                   '2nd Mode Freq.',\n",
    "                                   '2nd Mode %'])\n",
    "    for col in tqdm(df.columns):\n",
    "        try:\n",
    "            #print(col)\n",
    "            freq = df[col].value_counts()\n",
    "            freqdf = freq.to_frame()\n",
    "            fRow = freqdf.iloc[0]\n",
    "            #try:\n",
    "            secRow = freqdf.iloc[1]\n",
    "            #except:\n",
    "            #secRow = 0\n",
    "            fPrct = fRow[0] / len(df[col])\n",
    "            #try:\n",
    "            secPrct = secRow[0] / len(df[col])\n",
    "            #except:\n",
    "                #secPrct = 0\n",
    "            try:\n",
    "                mode1 = int(fRow.name)\n",
    "            except:\n",
    "                mode1 = fRow.name\n",
    "            try:\n",
    "                mode2 = int(secRow.name)\n",
    "            except:\n",
    "                try:\n",
    "                    mode2 = secRow.name\n",
    "                except:\n",
    "                    mode2 = 0\n",
    "            freqDF = freqDF.append({'Feature':col,\n",
    "                                    'Mode':mode1,\n",
    "                                    'Mode Freq.':fRow[0],\n",
    "                                    'Mode %':fPrct,\\\n",
    "                                    '2nd Mode':mode2,\n",
    "                                    '2nd Mode Freq.':secRow[0],\n",
    "                                    '2nd Mode %':secPrct},\n",
    "                                    ignore_index=True)\n",
    "        except:\n",
    "            pass\n",
    "\n",
    "    freqDF = freqDF.set_index('Feature')\n",
    "\n",
    "    #Nulls, Counts, Cardinality\n",
    "    NUllFeatures = round(df.isnull().sum() / df.shape[0],4)\\\n",
    "          .sort_values(ascending=False)\n",
    "    Count = df.count()\n",
    "    uni = df.nunique()\n",
    "\n",
    "    #Formating\n",
    "    NUllFeatures.to_frame(name=\"% Miss.\")\n",
    "    Count.to_frame(name=\"Count\")\n",
    "    uni.to_frame()\n",
    "    result = pd.concat([Count, NUllFeatures,uni], axis=1)\n",
    "    result.columns =[\"Count\",\"% Miss.\",\"Card.\"]\n",
    "    result = pd.concat([result, freqDF], axis=1)\n",
    "    \"\"\"\n",
    "    result = result.style.format({'% Miss.': \"{:.1%}\",\n",
    "                         'Mode %': \"{:.0%}\",\n",
    "                         '2nd Mode %': \"{:.0%}\",\n",
    "                         'Count': \"{:,}\",\n",
    "                         'Card.': \"{:,}\",\n",
    "                         'Mode Freq.': \"{:,}\",\n",
    "                        '2nd Mode Freq.': \"{:,}\"})\"\"\"\n",
    "    return result"
   ]
  },
  {
   "cell_type": "markdown",
   "id": "00490fbf-d13d-4197-9a2c-cf7ef0f86a6a",
   "metadata": {},
   "source": [
    "# Data Cleaning "
   ]
  },
  {
   "cell_type": "code",
   "execution_count": null,
   "id": "5d10e5ad-d41f-470c-a786-d0100d3e6de4",
   "metadata": {
    "tags": []
   },
   "outputs": [],
   "source": [
    "# DQR_Calls = Data_Quality_Report(join_df)\n",
    "# DQR_Calls"
   ]
  },
  {
   "cell_type": "markdown",
   "id": "6bbdda9d-8ffe-44cf-9d5f-014561df2277",
   "metadata": {},
   "source": [
    "As we can see the `address_sfx_intersecting` and `address_dir_intersecting` have no values and we can drop these columns.</br>\n",
    "Also the `address_dir_primary` and `address_road_intersecting` have more than 80% missing values; therefore we can consider removing these columns too. "
   ]
  },
  {
   "cell_type": "markdown",
   "id": "ebb61632-9979-4d23-b3aa-e2e5135bda63",
   "metadata": {},
   "source": [
    "#### Dropping columns with more than 60% missing values"
   ]
  },
  {
   "cell_type": "code",
   "execution_count": null,
   "id": "ef3d73d9-1a92-4d47-a098-13e5a9ff82c7",
   "metadata": {
    "tags": []
   },
   "outputs": [],
   "source": [
    "# Removing unnecessary columns\n",
    "def drop_columns_with_max_missing_values(df):\n",
    "    mis_var = [x for x in df.columns if df[x].isnull().sum() > 0]\n",
    "    df[mis_var].isnull().sum()\n",
    "\n",
    "    limit = np.abs((df.shape[0] * 0.6))\n",
    "    var_to_be_dropped = [x for x in mis_var if df[x].isnull().sum() > limit]\n",
    "    print('Columns with more than 60% missing values: \\n\\n', var_to_be_dropped)\n",
    "\n",
    "    df.drop(columns=var_to_be_dropped, axis=1, inplace=True)\n",
    "    return df\n",
    "\n",
    "df = drop_columns_with_max_missing_values(police_call_df)"
   ]
  },
  {
   "cell_type": "code",
   "execution_count": null,
   "id": "a1021b5a-9ff1-49a6-aef5-1b4d4c5646b9",
   "metadata": {
    "tags": []
   },
   "outputs": [],
   "source": [
    "police_call_df.drop([\"incident_num\"],axis=1,inplace=True)"
   ]
  },
  {
   "cell_type": "code",
   "execution_count": null,
   "id": "4b781b25-4e5e-46db-bfaa-76a4bfbc3a71",
   "metadata": {
    "tags": []
   },
   "outputs": [],
   "source": [
    "police_call_df.shape"
   ]
  },
  {
   "cell_type": "markdown",
   "id": "6993c2bc-5652-48d3-89f8-c58d411721b6",
   "metadata": {},
   "source": [
    "We dropped the unnecesssary columns from the dataset"
   ]
  },
  {
   "cell_type": "code",
   "execution_count": null,
   "id": "02e11048-afcb-4b9c-920e-03bab322f3db",
   "metadata": {
    "tags": []
   },
   "outputs": [],
   "source": [
    "# check duplicated values\n",
    "police_call_df.duplicated().sum()"
   ]
  },
  {
   "cell_type": "markdown",
   "id": "00b5e832-c25c-4d6e-b11b-e546191ba1e2",
   "metadata": {},
   "source": [
    "We don't have any duplicated values in dataset"
   ]
  },
  {
   "cell_type": "code",
   "execution_count": null,
   "id": "b5f7aef9-9d18-441b-b886-7dc928b99bf9",
   "metadata": {
    "tags": []
   },
   "outputs": [],
   "source": [
    "police_call_df.isnull().sum()"
   ]
  },
  {
   "cell_type": "code",
   "execution_count": null,
   "id": "09a2e997-92fe-4653-86d3-50966f6f6930",
   "metadata": {
    "tags": []
   },
   "outputs": [],
   "source": [
    "# Extract date and time components into separate columns\n",
    "police_call_df[\"date\"] = police_call_df[\"date_time\"].dt.date\n",
    "police_call_df[\"time\"] = police_call_df[\"date_time\"].dt.time"
   ]
  },
  {
   "cell_type": "code",
   "execution_count": null,
   "id": "1c5f3674-bc63-45ad-8628-1f39c65c879c",
   "metadata": {
    "tags": []
   },
   "outputs": [],
   "source": [
    "police_call_df.drop([\"date_time\"],axis=1,inplace=True)"
   ]
  },
  {
   "cell_type": "code",
   "execution_count": null,
   "id": "03884b68-5589-475c-95f0-9f6e5fb2bf13",
   "metadata": {
    "tags": []
   },
   "outputs": [],
   "source": [
    "police_call_df.head(10)"
   ]
  },
  {
   "cell_type": "code",
   "execution_count": null,
   "id": "5c289aab-70f9-4a5c-8589-acd691947f82",
   "metadata": {
    "tags": []
   },
   "outputs": [],
   "source": [
    "\n",
    "police_call_df['date'] = pd.to_datetime(police_call_df['date'],format='%Y-%m-%d')\n",
    "\n",
    "police_call_df[\"month\"] = police_call_df[\"date\"].dt.month\n",
    "police_call_df[\"year\"] = police_call_df[\"date\"].dt.year\n",
    "police_call_df"
   ]
  },
  {
   "cell_type": "code",
   "execution_count": null,
   "id": "6f72e999-96bf-4771-8f5c-33af2de54bbe",
   "metadata": {
    "tags": []
   },
   "outputs": [],
   "source": [
    "# Change the day_of_week column to their specific day\n",
    "\n",
    "# Replace the numbers with day names\n",
    "day_mapping = {\n",
    "    1: 'Sunday',\n",
    "    2: 'Monday',\n",
    "    3: 'Tuesday',\n",
    "    4: 'Wednesday',\n",
    "    5: 'Thursday',\n",
    "    6: 'Friday',\n",
    "    7: 'Saturday'\n",
    "}\n",
    "\n",
    "police_call_df['day_of_week'] = police_call_df['day_of_week'].replace(day_mapping)"
   ]
  },
  {
   "cell_type": "code",
   "execution_count": null,
   "id": "5e9135be-dca1-4498-851b-40bb32790038",
   "metadata": {
    "tags": []
   },
   "outputs": [],
   "source": [
    "police_call_df"
   ]
  },
  {
   "cell_type": "code",
   "execution_count": null,
   "id": "91f8fded-d5da-4f40-91e0-fa27fd44a829",
   "metadata": {
    "tags": []
   },
   "outputs": [],
   "source": [
    "# Convert 'time' column to datetime.time objects\n",
    "police_call_df['time'] = pd.to_datetime(police_call_df['time'], format='%H:%M:%S').dt.time\n",
    "\n",
    "def time_to_minutes(t):\n",
    "    return t.hour * 60 + t.minute\n",
    "\n",
    "# Apply the function to the time column\n",
    "police_call_df['minutes'] = police_call_df['time'].apply(time_to_minutes)\n",
    "\n",
    "# Define bin edges in mins\n",
    "bin_range = [i * 60 for i in range(0, 25, 1)]\n",
    "\n",
    "# Define bin labels \n",
    "bin_labels = [f\"{i:02d}-{i+1:02d}\" for i in range(0, 24)]\n",
    "\n",
    "police_call_df['time_group'] = pd.cut(police_call_df['minutes'], bins=bin_range, labels=bin_labels, right=False)\n",
    "\n",
    "police_call_df.drop(columns=['minutes'],axis=1, inplace=True)"
   ]
  },
  {
   "cell_type": "code",
   "execution_count": null,
   "id": "2e94b702-f49f-453b-9f37-5b78ff326567",
   "metadata": {
    "tags": []
   },
   "outputs": [],
   "source": [
    "police_call_df.sort_values(by=\"date\",ascending=True)"
   ]
  },
  {
   "cell_type": "code",
   "execution_count": null,
   "id": "0aa3ef18-05a5-471d-aee0-3c43b7253302",
   "metadata": {
    "tags": []
   },
   "outputs": [],
   "source": [
    "# Adding a new column based on the time_group\n",
    "def time_group_category(time_group):\n",
    "    start_hr = int(time_group.split('-')[0])\n",
    "    \n",
    "    if 6 <= start_hr < 12:\n",
    "        return 'Morning'\n",
    "    elif 12 <= start_hr < 18:\n",
    "        return 'Afternoon'\n",
    "    elif 18 <= start_hr < 22:\n",
    "        return 'Evening'\n",
    "    else:\n",
    "        return 'Night'\n",
    "\n",
    "police_call_df[\"time_cat\"] = police_call_df[\"time_group\"].apply(time_group_category)"
   ]
  },
  {
   "cell_type": "code",
   "execution_count": null,
   "id": "24900aed-c3cc-4221-9ec3-9a20275485e0",
   "metadata": {
    "tags": []
   },
   "outputs": [],
   "source": [
    "police_call_df.drop([\"time_group\"],axis=1,inplace=True)"
   ]
  },
  {
   "cell_type": "code",
   "execution_count": null,
   "id": "8d1ac15f-25db-42f5-8932-e54130078519",
   "metadata": {
    "tags": []
   },
   "outputs": [],
   "source": [
    "# Converting the month col values to their specific month such as 1=January, 2=February, and so on\n",
    "month_map = {1: 'January', 2: 'February', 3: 'March', 4: 'April',\n",
    "             5: 'May', 6: 'June', 7: 'July', 8: 'August',\n",
    "             9: 'September', 10: 'October', 11: 'November', 12: 'December'}\n",
    "\n",
    "police_call_df[\"month\"] = police_call_df[\"month\"].map(month_map)"
   ]
  },
  {
   "cell_type": "code",
   "execution_count": null,
   "id": "f0a14f2b-7282-453b-b0ef-ade183a42e8e",
   "metadata": {
    "tags": []
   },
   "outputs": [],
   "source": [
    "police_call_df"
   ]
  },
  {
   "cell_type": "code",
   "execution_count": null,
   "id": "e3f9acab-f6f7-479f-932a-dcc6e43ca4ea",
   "metadata": {
    "tags": []
   },
   "outputs": [],
   "source": [
    "# Remove rows that contain missing values\n",
    "police_call_df = police_call_df.dropna(axis=0)"
   ]
  },
  {
   "cell_type": "code",
   "execution_count": null,
   "id": "a9318d78-7196-489a-abc1-dee72a7e5725",
   "metadata": {
    "tags": []
   },
   "outputs": [],
   "source": [
    "police_call_df.isnull().sum()"
   ]
  },
  {
   "cell_type": "markdown",
   "id": "1a0d568b-b303-4ab4-b0ca-7f492ac9d794",
   "metadata": {},
   "source": [
    "### Join Data Call type Dataframe to the Main Police Call Dataframe"
   ]
  },
  {
   "cell_type": "code",
   "execution_count": null,
   "id": "a79f0325-78c2-4c0d-84f6-81a1c314bde7",
   "metadata": {
    "tags": []
   },
   "outputs": [],
   "source": [
    "# Merge DataFrames \n",
    "main_df = police_call_df.merge(df_call,\n",
    "                                  left_on='call_type',\n",
    "                                  right_on='call_type',\n",
    "                                  how='left')"
   ]
  },
  {
   "cell_type": "code",
   "execution_count": null,
   "id": "403010d4-5cb9-4864-ab66-7383ba3a701b",
   "metadata": {
    "tags": []
   },
   "outputs": [],
   "source": [
    "main_df.isnull().sum()"
   ]
  },
  {
   "cell_type": "code",
   "execution_count": null,
   "id": "6617e0ed-6f78-482a-a113-72794d040ecd",
   "metadata": {
    "tags": []
   },
   "outputs": [],
   "source": [
    "missing_rows = main_df[main_df['description'].isnull()]\n",
    "missing_rows"
   ]
  },
  {
   "cell_type": "markdown",
   "id": "d47fdbd4-8145-4183-ad35-44734d1ab370",
   "metadata": {},
   "source": [
    "So we can we have some error types here and we're going to replace them with their correct stored values. "
   ]
  },
  {
   "cell_type": "code",
   "execution_count": null,
   "id": "551ade1c-92fc-4a71-834b-3bc7b8c62940",
   "metadata": {
    "tags": []
   },
   "outputs": [],
   "source": [
    "dic_errors = {'1016P':'1016PT', 'DRAGNET-': 'DRAGNET', 'found':'FOUND', 'plate':'PLATE', '211a': '211A'}"
   ]
  },
  {
   "cell_type": "code",
   "execution_count": null,
   "id": "d164a40e-a1e3-4871-b1eb-dedc3578913f",
   "metadata": {
    "tags": []
   },
   "outputs": [],
   "source": [
    "main_df_1= main_df.replace(dic_errors)"
   ]
  },
  {
   "cell_type": "code",
   "execution_count": null,
   "id": "8a4756dc-e05e-45ee-bb37-1b9939abf86b",
   "metadata": {
    "tags": []
   },
   "outputs": [],
   "source": [
    "main_df_1.drop([\"description\"],axis=1,inplace=True)"
   ]
  },
  {
   "cell_type": "code",
   "execution_count": null,
   "id": "892d9bdf-0a11-4097-ac63-b6d306a4ff66",
   "metadata": {
    "tags": []
   },
   "outputs": [],
   "source": [
    "merged_main_df = main_df_1.merge(df_call,\n",
    "                                  left_on='call_type',\n",
    "                                  right_on='call_type',\n",
    "                                  how='left')"
   ]
  },
  {
   "cell_type": "code",
   "execution_count": null,
   "id": "e61314dd-ec26-41fd-8ee0-ed934e2af592",
   "metadata": {
    "tags": []
   },
   "outputs": [],
   "source": [
    "merged_main_df.isnull().sum()"
   ]
  },
  {
   "cell_type": "code",
   "execution_count": null,
   "id": "318fd10d-4f47-41fc-92af-88b96f423f5c",
   "metadata": {
    "tags": []
   },
   "outputs": [],
   "source": [
    "merged_main_df"
   ]
  },
  {
   "cell_type": "code",
   "execution_count": null,
   "id": "c6873a91-6f5e-4e3b-8f22-bd0e0eec7dc7",
   "metadata": {},
   "outputs": [],
   "source": []
  },
  {
   "cell_type": "markdown",
   "id": "06698bb4-0dc9-4529-8ec6-31a7d25cbfeb",
   "metadata": {},
   "source": [
    "### Converting the Tagret (`Priority`) variable to Three Different Groups ( `Distpatch Immediately`, `Distpatch`, `Non-urgent`) "
   ]
  },
  {
   "cell_type": "markdown",
   "id": "2f5b382a-af09-49d5-901e-a632f7d5351b",
   "metadata": {},
   "source": [
    "***Priority Zero***: Dispatch Immediately. Priority E calls involve an imminent\n",
    "threat to life. Examples include: officer or person down, no detail accidents and\n",
    "attempted suicide.\n",
    "\n",
    "***Priority On***e: Dispatch Immediately. Priority One calls involve serious crimes\n",
    "in progress or a threat to life. Examples include: missing children, child abuse,\n",
    "domestic violence, disturbances involving weapons/violence and bomb threats.\n",
    "\n",
    "***Priority Two***: Dispatch as quickly as possible. Priority Two calls involve\n",
    "complaints regarding less serious crimes in which there is no threat to life.\n",
    "Examples include: prowlers who have left, preserve the peace, crime reports for\n",
    "residents standing by at an inconvenient location, blocked driveway when the\n",
    "caller is waiting to leave, injured animals, loud parties with mitigating\n",
    "circumstances.\n",
    "\n",
    "***Priority Three***: Dispatch as quickly as possible. Priority Three calls involve\n",
    "minor crimes or requests for service which are not urgent. Examples include:\n",
    "investigating a cold crime, loud parties involving noise only.\n",
    "\n",
    "***Priority Four***: Dispatch when no higher priority calls are waiting. Priority\n",
    "Four calls involve minor requests for police service. Examples include: found\n",
    "property, most parking violations, etc.\n",
    "\n",
    "***Priority Nine***: Calls that are formatted for the Telephone Report Unit (TRU).\n",
    "Priority Nine calls involve requests for police service, which have limited or no\n",
    "suspect information. Examples include: petty theft, vehicle break-in and false\n",
    "use of another’s identity.\n",
    "\n",
    "The dispatch priority system is designed to be only a guide as a higher or lower\n",
    "priority may be more appropriate."
   ]
  },
  {
   "cell_type": "code",
   "execution_count": null,
   "id": "484d1298-b387-4407-b1bf-d6f6163400c6",
   "metadata": {
    "tags": []
   },
   "outputs": [],
   "source": [
    "merged_main_df[\"priority\"] = merged_main_df[\"priority\"].astype(\"category\")"
   ]
  },
  {
   "cell_type": "code",
   "execution_count": null,
   "id": "66acb390-29d4-4d6a-b036-86a457822854",
   "metadata": {
    "tags": []
   },
   "outputs": [],
   "source": [
    "merged_main_df[\"priority\"].value_counts()"
   ]
  },
  {
   "cell_type": "markdown",
   "id": "6254313d-e0e3-489d-89a2-5344101b56d3",
   "metadata": {
    "tags": []
   },
   "source": [
    "Since we don't have priority `5` in our dictionary and it's not been interpreted, we can consider removing from the dataset. "
   ]
  },
  {
   "cell_type": "code",
   "execution_count": null,
   "id": "a3c86b0a-8d29-444a-9770-6d4d6480a20b",
   "metadata": {
    "tags": []
   },
   "outputs": [],
   "source": [
    "priority_5 = merged_main_df[merged_main_df[\"priority\"]==5]\n",
    "priority_5"
   ]
  },
  {
   "cell_type": "code",
   "execution_count": null,
   "id": "9e61f013-b339-436b-8c82-f6864f018e94",
   "metadata": {
    "tags": []
   },
   "outputs": [],
   "source": [
    "# Dropping the priority 5\n",
    "merged_main_df.drop(merged_main_df[merged_main_df[\"priority\"]==5].index,inplace=True) "
   ]
  },
  {
   "cell_type": "code",
   "execution_count": null,
   "id": "17e5e79a-3692-46f2-9cd2-82392b9522b7",
   "metadata": {
    "tags": []
   },
   "outputs": [],
   "source": [
    "merged_main_df"
   ]
  },
  {
   "cell_type": "code",
   "execution_count": null,
   "id": "139cb314-3b7c-4423-bca8-ca30a4823dee",
   "metadata": {
    "tags": []
   },
   "outputs": [],
   "source": [
    "import matplotlib.pyplot as plt\n",
    "\n",
    "%matplotlib inline\n",
    "%config InlineBackend.figure_format='retina'\n",
    "\n",
    "merged_main_df.groupby(\"priority\").count()[\"day_of_week\"].plot(\n",
    "    kind=\"bar\", title=\"Breakdown by Priority Rating\")\n",
    "\n",
    "plt.xlabel(\"Priority\")\n",
    "plt.ylabel(\"Incident Count\")"
   ]
  },
  {
   "cell_type": "code",
   "execution_count": null,
   "id": "057e5bff-fa8a-4a4f-bc0f-5a1a0b59b0ec",
   "metadata": {
    "tags": []
   },
   "outputs": [],
   "source": [
    "# Change the `priority` values to categorical\n",
    "\n",
    "# create a dictionary to map old values to new values\n",
    "priority_map = {0: 'Dispatch immediately', 1: 'Dispatch immediately', 2: 'Dispatch', 3: 'Dispatch', 4: 'non-urgent', 9: 'non-urgent'}\n",
    "\n",
    "merged_main_df[\"priority\"] = merged_main_df[\"priority\"].replace(priority_map)\n",
    "merged_main_df"
   ]
  },
  {
   "cell_type": "code",
   "execution_count": null,
   "id": "487c7de3-9c1e-421f-b862-25e4b95744bc",
   "metadata": {
    "tags": []
   },
   "outputs": [],
   "source": [
    "counts_priority = merged_main_df[\"priority\"].value_counts()\n",
    "counts_priority"
   ]
  },
  {
   "cell_type": "code",
   "execution_count": null,
   "id": "633a41ab-d302-4038-940a-28816880bb73",
   "metadata": {
    "tags": []
   },
   "outputs": [],
   "source": [
    "merged_main_df.groupby(\"priority\").count()[\"day_of_week\"].plot(\n",
    "    kind=\"bar\", title=\"Breakdown by Priority Rating\")\n",
    "\n",
    "plt.xlabel(\"Priority\")\n",
    "plt.ylabel(\"Incident Count\")"
   ]
  },
  {
   "cell_type": "markdown",
   "id": "7c99059a-2bc3-4c0d-b606-10bbb826e11a",
   "metadata": {},
   "source": [
    "## Save the File Into the Bucket"
   ]
  },
  {
   "cell_type": "code",
   "execution_count": null,
   "id": "3486a170-9787-4fe0-9529-b576e940da7c",
   "metadata": {},
   "outputs": [],
   "source": [
    "def move_2_bucket(bucket,subfolder_name,subfolder_name1,subfolder_name2,file_name,df):\n",
    "    csv_buffer = StringIO()\n",
    "    df.to_csv(csv_buffer, index=False)\n",
    "    s3_resource.Object(bucket,\n",
    "                       subfolder_name + subfolder_name1 + subfolder_name2 + file_name).put(Body=csv_buffer.getvalue())\n",
    "    print(file_name,'loaded in',bucket,'bucket')"
   ]
  },
  {
   "cell_type": "code",
   "execution_count": null,
   "id": "77db68df-36f8-466b-973c-145155db5503",
   "metadata": {
    "tags": []
   },
   "outputs": [],
   "source": [
    "move_2_bucket(bucket,'SanDiego-Police-Dataset/','Main_Cleaned_File/','csv/','main_cleaned.csv',merged_main_df)"
   ]
  }
 ],
 "metadata": {
  "availableInstances": [
   {
    "_defaultOrder": 0,
    "_isFastLaunch": true,
    "category": "General purpose",
    "gpuNum": 0,
    "hideHardwareSpecs": false,
    "memoryGiB": 4,
    "name": "ml.t3.medium",
    "vcpuNum": 2
   },
   {
    "_defaultOrder": 1,
    "_isFastLaunch": false,
    "category": "General purpose",
    "gpuNum": 0,
    "hideHardwareSpecs": false,
    "memoryGiB": 8,
    "name": "ml.t3.large",
    "vcpuNum": 2
   },
   {
    "_defaultOrder": 2,
    "_isFastLaunch": false,
    "category": "General purpose",
    "gpuNum": 0,
    "hideHardwareSpecs": false,
    "memoryGiB": 16,
    "name": "ml.t3.xlarge",
    "vcpuNum": 4
   },
   {
    "_defaultOrder": 3,
    "_isFastLaunch": false,
    "category": "General purpose",
    "gpuNum": 0,
    "hideHardwareSpecs": false,
    "memoryGiB": 32,
    "name": "ml.t3.2xlarge",
    "vcpuNum": 8
   },
   {
    "_defaultOrder": 4,
    "_isFastLaunch": true,
    "category": "General purpose",
    "gpuNum": 0,
    "hideHardwareSpecs": false,
    "memoryGiB": 8,
    "name": "ml.m5.large",
    "vcpuNum": 2
   },
   {
    "_defaultOrder": 5,
    "_isFastLaunch": false,
    "category": "General purpose",
    "gpuNum": 0,
    "hideHardwareSpecs": false,
    "memoryGiB": 16,
    "name": "ml.m5.xlarge",
    "vcpuNum": 4
   },
   {
    "_defaultOrder": 6,
    "_isFastLaunch": false,
    "category": "General purpose",
    "gpuNum": 0,
    "hideHardwareSpecs": false,
    "memoryGiB": 32,
    "name": "ml.m5.2xlarge",
    "vcpuNum": 8
   },
   {
    "_defaultOrder": 7,
    "_isFastLaunch": false,
    "category": "General purpose",
    "gpuNum": 0,
    "hideHardwareSpecs": false,
    "memoryGiB": 64,
    "name": "ml.m5.4xlarge",
    "vcpuNum": 16
   },
   {
    "_defaultOrder": 8,
    "_isFastLaunch": false,
    "category": "General purpose",
    "gpuNum": 0,
    "hideHardwareSpecs": false,
    "memoryGiB": 128,
    "name": "ml.m5.8xlarge",
    "vcpuNum": 32
   },
   {
    "_defaultOrder": 9,
    "_isFastLaunch": false,
    "category": "General purpose",
    "gpuNum": 0,
    "hideHardwareSpecs": false,
    "memoryGiB": 192,
    "name": "ml.m5.12xlarge",
    "vcpuNum": 48
   },
   {
    "_defaultOrder": 10,
    "_isFastLaunch": false,
    "category": "General purpose",
    "gpuNum": 0,
    "hideHardwareSpecs": false,
    "memoryGiB": 256,
    "name": "ml.m5.16xlarge",
    "vcpuNum": 64
   },
   {
    "_defaultOrder": 11,
    "_isFastLaunch": false,
    "category": "General purpose",
    "gpuNum": 0,
    "hideHardwareSpecs": false,
    "memoryGiB": 384,
    "name": "ml.m5.24xlarge",
    "vcpuNum": 96
   },
   {
    "_defaultOrder": 12,
    "_isFastLaunch": false,
    "category": "General purpose",
    "gpuNum": 0,
    "hideHardwareSpecs": false,
    "memoryGiB": 8,
    "name": "ml.m5d.large",
    "vcpuNum": 2
   },
   {
    "_defaultOrder": 13,
    "_isFastLaunch": false,
    "category": "General purpose",
    "gpuNum": 0,
    "hideHardwareSpecs": false,
    "memoryGiB": 16,
    "name": "ml.m5d.xlarge",
    "vcpuNum": 4
   },
   {
    "_defaultOrder": 14,
    "_isFastLaunch": false,
    "category": "General purpose",
    "gpuNum": 0,
    "hideHardwareSpecs": false,
    "memoryGiB": 32,
    "name": "ml.m5d.2xlarge",
    "vcpuNum": 8
   },
   {
    "_defaultOrder": 15,
    "_isFastLaunch": false,
    "category": "General purpose",
    "gpuNum": 0,
    "hideHardwareSpecs": false,
    "memoryGiB": 64,
    "name": "ml.m5d.4xlarge",
    "vcpuNum": 16
   },
   {
    "_defaultOrder": 16,
    "_isFastLaunch": false,
    "category": "General purpose",
    "gpuNum": 0,
    "hideHardwareSpecs": false,
    "memoryGiB": 128,
    "name": "ml.m5d.8xlarge",
    "vcpuNum": 32
   },
   {
    "_defaultOrder": 17,
    "_isFastLaunch": false,
    "category": "General purpose",
    "gpuNum": 0,
    "hideHardwareSpecs": false,
    "memoryGiB": 192,
    "name": "ml.m5d.12xlarge",
    "vcpuNum": 48
   },
   {
    "_defaultOrder": 18,
    "_isFastLaunch": false,
    "category": "General purpose",
    "gpuNum": 0,
    "hideHardwareSpecs": false,
    "memoryGiB": 256,
    "name": "ml.m5d.16xlarge",
    "vcpuNum": 64
   },
   {
    "_defaultOrder": 19,
    "_isFastLaunch": false,
    "category": "General purpose",
    "gpuNum": 0,
    "hideHardwareSpecs": false,
    "memoryGiB": 384,
    "name": "ml.m5d.24xlarge",
    "vcpuNum": 96
   },
   {
    "_defaultOrder": 20,
    "_isFastLaunch": false,
    "category": "General purpose",
    "gpuNum": 0,
    "hideHardwareSpecs": true,
    "memoryGiB": 0,
    "name": "ml.geospatial.interactive",
    "supportedImageNames": [
     "sagemaker-geospatial-v1-0"
    ],
    "vcpuNum": 0
   },
   {
    "_defaultOrder": 21,
    "_isFastLaunch": true,
    "category": "Compute optimized",
    "gpuNum": 0,
    "hideHardwareSpecs": false,
    "memoryGiB": 4,
    "name": "ml.c5.large",
    "vcpuNum": 2
   },
   {
    "_defaultOrder": 22,
    "_isFastLaunch": false,
    "category": "Compute optimized",
    "gpuNum": 0,
    "hideHardwareSpecs": false,
    "memoryGiB": 8,
    "name": "ml.c5.xlarge",
    "vcpuNum": 4
   },
   {
    "_defaultOrder": 23,
    "_isFastLaunch": false,
    "category": "Compute optimized",
    "gpuNum": 0,
    "hideHardwareSpecs": false,
    "memoryGiB": 16,
    "name": "ml.c5.2xlarge",
    "vcpuNum": 8
   },
   {
    "_defaultOrder": 24,
    "_isFastLaunch": false,
    "category": "Compute optimized",
    "gpuNum": 0,
    "hideHardwareSpecs": false,
    "memoryGiB": 32,
    "name": "ml.c5.4xlarge",
    "vcpuNum": 16
   },
   {
    "_defaultOrder": 25,
    "_isFastLaunch": false,
    "category": "Compute optimized",
    "gpuNum": 0,
    "hideHardwareSpecs": false,
    "memoryGiB": 72,
    "name": "ml.c5.9xlarge",
    "vcpuNum": 36
   },
   {
    "_defaultOrder": 26,
    "_isFastLaunch": false,
    "category": "Compute optimized",
    "gpuNum": 0,
    "hideHardwareSpecs": false,
    "memoryGiB": 96,
    "name": "ml.c5.12xlarge",
    "vcpuNum": 48
   },
   {
    "_defaultOrder": 27,
    "_isFastLaunch": false,
    "category": "Compute optimized",
    "gpuNum": 0,
    "hideHardwareSpecs": false,
    "memoryGiB": 144,
    "name": "ml.c5.18xlarge",
    "vcpuNum": 72
   },
   {
    "_defaultOrder": 28,
    "_isFastLaunch": false,
    "category": "Compute optimized",
    "gpuNum": 0,
    "hideHardwareSpecs": false,
    "memoryGiB": 192,
    "name": "ml.c5.24xlarge",
    "vcpuNum": 96
   },
   {
    "_defaultOrder": 29,
    "_isFastLaunch": true,
    "category": "Accelerated computing",
    "gpuNum": 1,
    "hideHardwareSpecs": false,
    "memoryGiB": 16,
    "name": "ml.g4dn.xlarge",
    "vcpuNum": 4
   },
   {
    "_defaultOrder": 30,
    "_isFastLaunch": false,
    "category": "Accelerated computing",
    "gpuNum": 1,
    "hideHardwareSpecs": false,
    "memoryGiB": 32,
    "name": "ml.g4dn.2xlarge",
    "vcpuNum": 8
   },
   {
    "_defaultOrder": 31,
    "_isFastLaunch": false,
    "category": "Accelerated computing",
    "gpuNum": 1,
    "hideHardwareSpecs": false,
    "memoryGiB": 64,
    "name": "ml.g4dn.4xlarge",
    "vcpuNum": 16
   },
   {
    "_defaultOrder": 32,
    "_isFastLaunch": false,
    "category": "Accelerated computing",
    "gpuNum": 1,
    "hideHardwareSpecs": false,
    "memoryGiB": 128,
    "name": "ml.g4dn.8xlarge",
    "vcpuNum": 32
   },
   {
    "_defaultOrder": 33,
    "_isFastLaunch": false,
    "category": "Accelerated computing",
    "gpuNum": 4,
    "hideHardwareSpecs": false,
    "memoryGiB": 192,
    "name": "ml.g4dn.12xlarge",
    "vcpuNum": 48
   },
   {
    "_defaultOrder": 34,
    "_isFastLaunch": false,
    "category": "Accelerated computing",
    "gpuNum": 1,
    "hideHardwareSpecs": false,
    "memoryGiB": 256,
    "name": "ml.g4dn.16xlarge",
    "vcpuNum": 64
   },
   {
    "_defaultOrder": 35,
    "_isFastLaunch": false,
    "category": "Accelerated computing",
    "gpuNum": 1,
    "hideHardwareSpecs": false,
    "memoryGiB": 61,
    "name": "ml.p3.2xlarge",
    "vcpuNum": 8
   },
   {
    "_defaultOrder": 36,
    "_isFastLaunch": false,
    "category": "Accelerated computing",
    "gpuNum": 4,
    "hideHardwareSpecs": false,
    "memoryGiB": 244,
    "name": "ml.p3.8xlarge",
    "vcpuNum": 32
   },
   {
    "_defaultOrder": 37,
    "_isFastLaunch": false,
    "category": "Accelerated computing",
    "gpuNum": 8,
    "hideHardwareSpecs": false,
    "memoryGiB": 488,
    "name": "ml.p3.16xlarge",
    "vcpuNum": 64
   },
   {
    "_defaultOrder": 38,
    "_isFastLaunch": false,
    "category": "Accelerated computing",
    "gpuNum": 8,
    "hideHardwareSpecs": false,
    "memoryGiB": 768,
    "name": "ml.p3dn.24xlarge",
    "vcpuNum": 96
   },
   {
    "_defaultOrder": 39,
    "_isFastLaunch": false,
    "category": "Memory Optimized",
    "gpuNum": 0,
    "hideHardwareSpecs": false,
    "memoryGiB": 16,
    "name": "ml.r5.large",
    "vcpuNum": 2
   },
   {
    "_defaultOrder": 40,
    "_isFastLaunch": false,
    "category": "Memory Optimized",
    "gpuNum": 0,
    "hideHardwareSpecs": false,
    "memoryGiB": 32,
    "name": "ml.r5.xlarge",
    "vcpuNum": 4
   },
   {
    "_defaultOrder": 41,
    "_isFastLaunch": false,
    "category": "Memory Optimized",
    "gpuNum": 0,
    "hideHardwareSpecs": false,
    "memoryGiB": 64,
    "name": "ml.r5.2xlarge",
    "vcpuNum": 8
   },
   {
    "_defaultOrder": 42,
    "_isFastLaunch": false,
    "category": "Memory Optimized",
    "gpuNum": 0,
    "hideHardwareSpecs": false,
    "memoryGiB": 128,
    "name": "ml.r5.4xlarge",
    "vcpuNum": 16
   },
   {
    "_defaultOrder": 43,
    "_isFastLaunch": false,
    "category": "Memory Optimized",
    "gpuNum": 0,
    "hideHardwareSpecs": false,
    "memoryGiB": 256,
    "name": "ml.r5.8xlarge",
    "vcpuNum": 32
   },
   {
    "_defaultOrder": 44,
    "_isFastLaunch": false,
    "category": "Memory Optimized",
    "gpuNum": 0,
    "hideHardwareSpecs": false,
    "memoryGiB": 384,
    "name": "ml.r5.12xlarge",
    "vcpuNum": 48
   },
   {
    "_defaultOrder": 45,
    "_isFastLaunch": false,
    "category": "Memory Optimized",
    "gpuNum": 0,
    "hideHardwareSpecs": false,
    "memoryGiB": 512,
    "name": "ml.r5.16xlarge",
    "vcpuNum": 64
   },
   {
    "_defaultOrder": 46,
    "_isFastLaunch": false,
    "category": "Memory Optimized",
    "gpuNum": 0,
    "hideHardwareSpecs": false,
    "memoryGiB": 768,
    "name": "ml.r5.24xlarge",
    "vcpuNum": 96
   },
   {
    "_defaultOrder": 47,
    "_isFastLaunch": false,
    "category": "Accelerated computing",
    "gpuNum": 1,
    "hideHardwareSpecs": false,
    "memoryGiB": 16,
    "name": "ml.g5.xlarge",
    "vcpuNum": 4
   },
   {
    "_defaultOrder": 48,
    "_isFastLaunch": false,
    "category": "Accelerated computing",
    "gpuNum": 1,
    "hideHardwareSpecs": false,
    "memoryGiB": 32,
    "name": "ml.g5.2xlarge",
    "vcpuNum": 8
   },
   {
    "_defaultOrder": 49,
    "_isFastLaunch": false,
    "category": "Accelerated computing",
    "gpuNum": 1,
    "hideHardwareSpecs": false,
    "memoryGiB": 64,
    "name": "ml.g5.4xlarge",
    "vcpuNum": 16
   },
   {
    "_defaultOrder": 50,
    "_isFastLaunch": false,
    "category": "Accelerated computing",
    "gpuNum": 1,
    "hideHardwareSpecs": false,
    "memoryGiB": 128,
    "name": "ml.g5.8xlarge",
    "vcpuNum": 32
   },
   {
    "_defaultOrder": 51,
    "_isFastLaunch": false,
    "category": "Accelerated computing",
    "gpuNum": 1,
    "hideHardwareSpecs": false,
    "memoryGiB": 256,
    "name": "ml.g5.16xlarge",
    "vcpuNum": 64
   },
   {
    "_defaultOrder": 52,
    "_isFastLaunch": false,
    "category": "Accelerated computing",
    "gpuNum": 4,
    "hideHardwareSpecs": false,
    "memoryGiB": 192,
    "name": "ml.g5.12xlarge",
    "vcpuNum": 48
   },
   {
    "_defaultOrder": 53,
    "_isFastLaunch": false,
    "category": "Accelerated computing",
    "gpuNum": 4,
    "hideHardwareSpecs": false,
    "memoryGiB": 384,
    "name": "ml.g5.24xlarge",
    "vcpuNum": 96
   },
   {
    "_defaultOrder": 54,
    "_isFastLaunch": false,
    "category": "Accelerated computing",
    "gpuNum": 8,
    "hideHardwareSpecs": false,
    "memoryGiB": 768,
    "name": "ml.g5.48xlarge",
    "vcpuNum": 192
   }
  ],
  "instance_type": "ml.m5.large",
  "kernelspec": {
   "display_name": "Python 3 (Data Science)",
   "language": "python",
   "name": "python3__SAGEMAKER_INTERNAL__arn:aws:sagemaker:us-east-1:081325390199:image/datascience-1.0"
  },
  "language_info": {
   "codemirror_mode": {
    "name": "ipython",
    "version": 3
   },
   "file_extension": ".py",
   "mimetype": "text/x-python",
   "name": "python",
   "nbconvert_exporter": "python",
   "pygments_lexer": "ipython3",
   "version": "3.7.10"
  }
 },
 "nbformat": 4,
 "nbformat_minor": 5
}

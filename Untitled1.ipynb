{
 "cells": [
  {
   "cell_type": "code",
   "execution_count": 2,
   "id": "9d156e05-db52-404f-a6e4-20dc678d01db",
   "metadata": {
    "tags": []
   },
   "outputs": [],
   "source": [
    "import sagemaker\n",
    "import boto3\n",
    "from datetime import datetime\n",
    "from io import StringIO\n",
    "import pandas as pd\n",
    "\n",
    "from pyathena import connect"
   ]
  },
  {
   "cell_type": "code",
   "execution_count": 3,
   "id": "d8aac005-f80e-4f02-b0d4-880ac293dad8",
   "metadata": {
    "tags": []
   },
   "outputs": [
    {
     "name": "stdout",
     "output_type": "stream",
     "text": [
      "Bucket - >  sagemaker-us-east-1-859074047513\n",
      "Role - >  arn:aws:iam::859074047513:role/LabRole\n",
      "Region - >  us-east-1\n",
      "S3 - >  <botocore.client.S3 object at 0x7f379c4258d0>\n",
      "S3 Resource - >  s3.ServiceResource()\n"
     ]
    }
   ],
   "source": [
    "sess = sagemaker.Session() #Intialzie session\n",
    "\n",
    "bucket = sess.default_bucket()\n",
    "RD_Bucket = 'policedatasetbucket' #Raw Data\n",
    "role = sagemaker.get_execution_role()\n",
    "region = boto3.Session().region_name\n",
    "s3 = boto3.client('s3') # Create an S3 client\n",
    "s3_resource = boto3.resource('s3') # Create an S3 resource\n",
    "\n",
    "\n",
    "print('Bucket - > ',bucket)\n",
    "print('Role - > ',role)\n",
    "print('Region - > ',region)\n",
    "print('S3 - > ',s3)\n",
    "print('S3 Resource - > ',s3_resource)"
   ]
  },
  {
   "cell_type": "code",
   "execution_count": 4,
   "id": "81047620-9804-4f4e-bfeb-2d0f3f56ad1b",
   "metadata": {
    "tags": []
   },
   "outputs": [],
   "source": [
    "# Function to verify if bucket exist, if not create\n",
    "def verify_create_bucket(bucket_name):\n",
    "    response = s3.list_buckets()\n",
    "    for bucket in response['Buckets']:\n",
    "        if bucket['Name'] == bucket_name:\n",
    "            print(f\"The {bucket_name} bucket exists.\")\n",
    "            break\n",
    "    else:\n",
    "        print(f\"The {bucket_name} bucket does not exist, creating\")\n",
    "        !aws s3 mb s3://{bucket}/"
   ]
  },
  {
   "cell_type": "code",
   "execution_count": 5,
   "id": "b32f6c00-23cc-421a-9d0e-b8edb489698f",
   "metadata": {
    "tags": []
   },
   "outputs": [
    {
     "name": "stdout",
     "output_type": "stream",
     "text": [
      "The sagemaker-us-east-1-859074047513 bucket exists.\n"
     ]
    }
   ],
   "source": [
    "verify_create_bucket(bucket)"
   ]
  },
  {
   "cell_type": "code",
   "execution_count": null,
   "id": "737f9d7e-1908-4b41-b70c-1629ebe4483d",
   "metadata": {
    "tags": []
   },
   "outputs": [],
   "source": [
    "#function to download yearly data\n",
    "# def Get_Data(year):\n",
    "#     url = f\"https://seshat.datasd.org/pd/pd_calls_for_service_{year}_datasd.csv\"\n",
    "#     df = pd.read_csv(url)\n",
    "#     return df"
   ]
  },
  {
   "cell_type": "code",
   "execution_count": null,
   "id": "48e9f100-c763-458a-80d4-e92e392c380f",
   "metadata": {
    "tags": []
   },
   "outputs": [],
   "source": [
    "# List of years since 2018\n",
    "# Years = list(range(2018,datetime.now().year+1))\n",
    "# Years"
   ]
  },
  {
   "cell_type": "code",
   "execution_count": null,
   "id": "f1eb0cd5-a6d6-4216-81dd-cac47baadf50",
   "metadata": {
    "tags": []
   },
   "outputs": [],
   "source": [
    "#iterate over years\n",
    "# for year in Years:\n",
    "#     year_df = Get_Data(year)\n",
    "#     csv_buffer = StringIO()\n",
    "#     year_df.to_csv(csv_buffer, index=False)\n",
    "#     file = 'SDPD_Calls_' + str(year) + '.csv'\n",
    "#     s3_resource.Object(bucket,file).put(Body=csv_buffer.getvalue())\n",
    "#     print(file,'loaded in',bucket,'bucket')"
   ]
  },
  {
   "cell_type": "code",
   "execution_count": null,
   "id": "3b9fa40d-81ef-4f9f-af03-812ef65bbf3a",
   "metadata": {
    "tags": []
   },
   "outputs": [],
   "source": [
    "# def URL_2_Bucket(url,file_name):\n",
    "#     df = pd.read_csv(url, low_memory=False)\n",
    "#     csv_buffer = StringIO()\n",
    "#     df.to_csv(csv_buffer, index=False)\n",
    "#     file = file_name + '.csv'\n",
    "#     s3_resource.Object(RD_Bucket,file).put(Body=csv_buffer.getvalue())\n",
    "#     print(file,'loaded in',RD_Bucket,'bucket')\n",
    "    "
   ]
  },
  {
   "cell_type": "code",
   "execution_count": null,
   "id": "b98b86f1-f78d-4f78-80ff-46033260db2e",
   "metadata": {
    "tags": []
   },
   "outputs": [],
   "source": [
    "# type_url = f\"http://seshat.datasd.org/pd/pd_cfs_calltypes_datasd.csv\"\n",
    "# dipo_url = f\"http://seshat.datasd.org/pd/pd_dispo_codes_datasd.csv\"\n",
    "# ripa_stops_url = \"https://seshat.datasd.org/pd/ripa_stops_datasd.csv\"\n",
    "# ripa_stops_dic = \"https://seshat.datasd.org/pd/ripa_stops_dictionary_datasd.csv\""
   ]
  },
  {
   "cell_type": "code",
   "execution_count": null,
   "id": "a81b7417-bfea-4627-8f83-b021f56b7cf5",
   "metadata": {
    "tags": []
   },
   "outputs": [],
   "source": [
    "# URL_2_Bucket(type_url,'Type')\n",
    "# URL_2_Bucket(dipo_url,'Dispo')\n",
    "# URL_2_Bucket(ripa_stops_url,'Ripa_Stops')\n",
    "# URL_2_Bucket(ripa_stops_dic,'Ripa_Stops_Dic')"
   ]
  },
  {
   "cell_type": "code",
   "execution_count": null,
   "id": "d8bff752-e061-4333-8578-681fb70f6343",
   "metadata": {},
   "outputs": [],
   "source": [
    "ingest_create_athena_db_passed = False"
   ]
  },
  {
   "cell_type": "markdown",
   "id": "96fff9d0-848c-4e9f-8880-75d6c8780f31",
   "metadata": {},
   "source": [
    "# Create Athena Database"
   ]
  },
  {
   "cell_type": "code",
   "execution_count": 11,
   "id": "9240964a-b6c1-4287-be93-c68435fbe4b3",
   "metadata": {
    "tags": []
   },
   "outputs": [],
   "source": [
    "database_name = \"sd_police_db\""
   ]
  },
  {
   "cell_type": "code",
   "execution_count": 12,
   "id": "d86e4265-de80-4c0d-b305-89898dc8b99a",
   "metadata": {
    "tags": []
   },
   "outputs": [],
   "source": [
    "# Set S3 staging directory -- this is a temporary directory used for Athena queries\n",
    "s3_staging_dir = \"s3://{0}/athena/staging\".format(bucket)"
   ]
  },
  {
   "cell_type": "code",
   "execution_count": 13,
   "id": "84ff73e0-57d1-4939-98c1-9554a659e512",
   "metadata": {
    "tags": []
   },
   "outputs": [],
   "source": [
    "conn = connect(region_name=region, s3_staging_dir=s3_staging_dir)\n"
   ]
  },
  {
   "cell_type": "code",
   "execution_count": 14,
   "id": "85d9e741-1d3a-4082-8fd2-e3b84034fd7e",
   "metadata": {
    "tags": []
   },
   "outputs": [
    {
     "name": "stdout",
     "output_type": "stream",
     "text": [
      "CREATE DATABASE IF NOT EXISTS sd_police_db\n"
     ]
    }
   ],
   "source": [
    "statement = \"CREATE DATABASE IF NOT EXISTS {}\".format(database_name)\n",
    "print(statement)"
   ]
  },
  {
   "cell_type": "code",
   "execution_count": 15,
   "id": "a7f71d57-3a91-4767-9e72-b44602f23bb7",
   "metadata": {
    "tags": []
   },
   "outputs": [
    {
     "data": {
      "text/html": [
       "<div>\n",
       "<style scoped>\n",
       "    .dataframe tbody tr th:only-of-type {\n",
       "        vertical-align: middle;\n",
       "    }\n",
       "\n",
       "    .dataframe tbody tr th {\n",
       "        vertical-align: top;\n",
       "    }\n",
       "\n",
       "    .dataframe thead th {\n",
       "        text-align: right;\n",
       "    }\n",
       "</style>\n",
       "<table border=\"1\" class=\"dataframe\">\n",
       "  <thead>\n",
       "    <tr style=\"text-align: right;\">\n",
       "      <th></th>\n",
       "    </tr>\n",
       "  </thead>\n",
       "  <tbody>\n",
       "  </tbody>\n",
       "</table>\n",
       "</div>"
      ],
      "text/plain": [
       "Empty DataFrame\n",
       "Columns: []\n",
       "Index: []"
      ]
     },
     "execution_count": 15,
     "metadata": {},
     "output_type": "execute_result"
    }
   ],
   "source": [
    "import pandas as pd\n",
    "\n",
    "pd.read_sql(statement, conn)"
   ]
  },
  {
   "cell_type": "code",
   "execution_count": 18,
   "id": "3abd2cbc-cdfa-428f-9979-a1f17d70aed6",
   "metadata": {
    "tags": []
   },
   "outputs": [
    {
     "data": {
      "text/html": [
       "<div>\n",
       "<style scoped>\n",
       "    .dataframe tbody tr th:only-of-type {\n",
       "        vertical-align: middle;\n",
       "    }\n",
       "\n",
       "    .dataframe tbody tr th {\n",
       "        vertical-align: top;\n",
       "    }\n",
       "\n",
       "    .dataframe thead th {\n",
       "        text-align: right;\n",
       "    }\n",
       "</style>\n",
       "<table border=\"1\" class=\"dataframe\">\n",
       "  <thead>\n",
       "    <tr style=\"text-align: right;\">\n",
       "      <th></th>\n",
       "      <th>database_name</th>\n",
       "    </tr>\n",
       "  </thead>\n",
       "  <tbody>\n",
       "    <tr>\n",
       "      <th>0</th>\n",
       "      <td>default</td>\n",
       "    </tr>\n",
       "    <tr>\n",
       "      <th>1</th>\n",
       "      <td>dsoaws</td>\n",
       "    </tr>\n",
       "    <tr>\n",
       "      <th>2</th>\n",
       "      <td>sd_police_db</td>\n",
       "    </tr>\n",
       "  </tbody>\n",
       "</table>\n",
       "</div>"
      ],
      "text/plain": [
       "  database_name\n",
       "0       default\n",
       "1        dsoaws\n",
       "2  sd_police_db"
      ]
     },
     "execution_count": 18,
     "metadata": {},
     "output_type": "execute_result"
    }
   ],
   "source": [
    "# Show databases\n",
    "statement = \"SHOW DATABASES\"\n",
    "\n",
    "df_show = pd.read_sql(statement, conn)\n",
    "df_show.head(5)"
   ]
  },
  {
   "cell_type": "markdown",
   "id": "b339df0c-c62e-4870-a35c-07cc8ca468e9",
   "metadata": {},
   "source": [
    "# Drop Database if Needed"
   ]
  },
  {
   "cell_type": "code",
   "execution_count": 17,
   "id": "7a0922ff-46fa-4779-8a35-b8f9329eb82b",
   "metadata": {
    "tags": []
   },
   "outputs": [
    {
     "data": {
      "text/html": [
       "<div>\n",
       "<style scoped>\n",
       "    .dataframe tbody tr th:only-of-type {\n",
       "        vertical-align: middle;\n",
       "    }\n",
       "\n",
       "    .dataframe tbody tr th {\n",
       "        vertical-align: top;\n",
       "    }\n",
       "\n",
       "    .dataframe thead th {\n",
       "        text-align: right;\n",
       "    }\n",
       "</style>\n",
       "<table border=\"1\" class=\"dataframe\">\n",
       "  <thead>\n",
       "    <tr style=\"text-align: right;\">\n",
       "      <th></th>\n",
       "    </tr>\n",
       "  </thead>\n",
       "  <tbody>\n",
       "  </tbody>\n",
       "</table>\n",
       "</div>"
      ],
      "text/plain": [
       "Empty DataFrame\n",
       "Columns: []\n",
       "Index: []"
      ]
     },
     "execution_count": 17,
     "metadata": {},
     "output_type": "execute_result"
    }
   ],
   "source": [
    "drop_db_name = \"dsoaw\"\n",
    "drop_db_query = f\"DROP DATABASE IF EXISTS {drop_db_name}\"\n",
    "\n",
    "df_show = pd.read_sql(drop_db_query, conn)\n",
    "df_show.head()"
   ]
  },
  {
   "cell_type": "markdown",
   "id": "14b2878f-98a3-494b-b204-053b62b77df1",
   "metadata": {},
   "source": [
    "# Drop Table if Needed"
   ]
  },
  {
   "cell_type": "code",
   "execution_count": 19,
   "id": "1d225736-e41d-4594-b51e-debc5971cd3a",
   "metadata": {
    "tags": []
   },
   "outputs": [],
   "source": [
    "if database_name in df_show.values:\n",
    "    ingest_create_athena_db_passed = True"
   ]
  },
  {
   "cell_type": "code",
   "execution_count": 20,
   "id": "f4624f2a-1283-4687-89cb-5330cd53474a",
   "metadata": {
    "tags": []
   },
   "outputs": [
    {
     "name": "stdout",
     "output_type": "stream",
     "text": [
      "Stored 'ingest_create_athena_db_passed' (bool)\n"
     ]
    }
   ],
   "source": [
    "%store ingest_create_athena_db_passed"
   ]
  },
  {
   "cell_type": "markdown",
   "id": "9b5f12ce-83a1-4a06-b4bb-f6d8ac68b781",
   "metadata": {
    "tags": []
   },
   "source": [
    "# S3 Bucket Folder Information"
   ]
  },
  {
   "cell_type": "code",
   "execution_count": 27,
   "id": "c231517a-0908-4feb-88ef-c401e1452405",
   "metadata": {
    "tags": []
   },
   "outputs": [
    {
     "name": "stdout",
     "output_type": "stream",
     "text": [
      "s3://sagemaker-us-east-1-859074047513/policedatasetsd/csv\n"
     ]
    }
   ],
   "source": [
    "s3_private_path_csv = \"s3://{}/policedatasetsd/csv\".format(bucket)\n",
    "print(s3_private_path_csv)"
   ]
  },
  {
   "cell_type": "code",
   "execution_count": 39,
   "id": "9c2e78da-ce51-4fa2-894d-ab081c7ad061",
   "metadata": {
    "tags": []
   },
   "outputs": [],
   "source": [
    "table_name = \"table_sd_2021\""
   ]
  },
  {
   "cell_type": "code",
   "execution_count": 40,
   "id": "bff96feb-861b-4cc7-b2d1-97b8f7c5d539",
   "metadata": {
    "tags": []
   },
   "outputs": [
    {
     "name": "stdout",
     "output_type": "stream",
     "text": [
      "CREATE EXTERNAL TABLE IF NOT EXISTS sd_police_db.table_sd_2021(\n",
      "incident_num string,\n",
      "date_time string,\n",
      "day_of_week int,\n",
      "address_number_primary int,\n",
      "address_dir_primary string,\n",
      "address_road_primary string,\n",
      "address_sfx_primary string,\n",
      "address_dir_intersecting string,\n",
      "address_road_intersecting string,\n",
      "address_sfx_intersecting string,\n",
      "call_type string,\n",
      "disposition string,\n",
      "beat int,\n",
      "priority int) \n",
      "\n",
      "ROW FORMAT DELIMITED FIELDS TERMINATED BY ',' LOCATION 's3://sagemaker-us-east-1-859074047513/policedatasetsd/csv'\n",
      "TBLPROPERTIES ('skip.header.line.count'='1')\n"
     ]
    }
   ],
   "source": [
    "# SQL statement to execute\n",
    "statement = \"\"\"CREATE EXTERNAL TABLE IF NOT EXISTS {}.{}(\n",
    "incident_num string,\n",
    "date_time string,\n",
    "day_of_week int,\n",
    "address_number_primary int,\n",
    "address_dir_primary string,\n",
    "address_road_primary string,\n",
    "address_sfx_primary string,\n",
    "address_dir_intersecting string,\n",
    "address_road_intersecting string,\n",
    "address_sfx_intersecting string,\n",
    "call_type string,\n",
    "disposition string,\n",
    "beat int,\n",
    "priority int) \n",
    "\n",
    "ROW FORMAT DELIMITED FIELDS TERMINATED BY ',' LOCATION '{}'\n",
    "TBLPROPERTIES ('skip.header.line.count'='1')\"\"\".format(database_name, table_name, s3_private_path_csv)\n",
    "\n",
    "print(statement)"
   ]
  },
  {
   "cell_type": "code",
   "execution_count": 41,
   "id": "3c8764cd-d7fd-4275-9e19-a2532d178126",
   "metadata": {
    "tags": []
   },
   "outputs": [
    {
     "data": {
      "text/html": [
       "<div>\n",
       "<style scoped>\n",
       "    .dataframe tbody tr th:only-of-type {\n",
       "        vertical-align: middle;\n",
       "    }\n",
       "\n",
       "    .dataframe tbody tr th {\n",
       "        vertical-align: top;\n",
       "    }\n",
       "\n",
       "    .dataframe thead th {\n",
       "        text-align: right;\n",
       "    }\n",
       "</style>\n",
       "<table border=\"1\" class=\"dataframe\">\n",
       "  <thead>\n",
       "    <tr style=\"text-align: right;\">\n",
       "      <th></th>\n",
       "    </tr>\n",
       "  </thead>\n",
       "  <tbody>\n",
       "  </tbody>\n",
       "</table>\n",
       "</div>"
      ],
      "text/plain": [
       "Empty DataFrame\n",
       "Columns: []\n",
       "Index: []"
      ]
     },
     "execution_count": 41,
     "metadata": {},
     "output_type": "execute_result"
    }
   ],
   "source": [
    "import pandas as pd\n",
    "\n",
    "pd.read_sql(statement, conn)"
   ]
  },
  {
   "cell_type": "markdown",
   "id": "f441a570-7879-4b73-b640-fe7a73181b62",
   "metadata": {},
   "source": [
    "# Varify Tables in a Specified Database"
   ]
  },
  {
   "cell_type": "code",
   "execution_count": 42,
   "id": "de6a0eec-fde5-442f-9c8e-a658c2fde1e2",
   "metadata": {
    "tags": []
   },
   "outputs": [
    {
     "data": {
      "text/html": [
       "<div>\n",
       "<style scoped>\n",
       "    .dataframe tbody tr th:only-of-type {\n",
       "        vertical-align: middle;\n",
       "    }\n",
       "\n",
       "    .dataframe tbody tr th {\n",
       "        vertical-align: top;\n",
       "    }\n",
       "\n",
       "    .dataframe thead th {\n",
       "        text-align: right;\n",
       "    }\n",
       "</style>\n",
       "<table border=\"1\" class=\"dataframe\">\n",
       "  <thead>\n",
       "    <tr style=\"text-align: right;\">\n",
       "      <th></th>\n",
       "      <th>tab_name</th>\n",
       "    </tr>\n",
       "  </thead>\n",
       "  <tbody>\n",
       "    <tr>\n",
       "      <th>0</th>\n",
       "      <td>table_sd_2021</td>\n",
       "    </tr>\n",
       "  </tbody>\n",
       "</table>\n",
       "</div>"
      ],
      "text/plain": [
       "        tab_name\n",
       "0  table_sd_2021"
      ]
     },
     "execution_count": 42,
     "metadata": {},
     "output_type": "execute_result"
    }
   ],
   "source": [
    "database_name = \"sd_police_db\"\n",
    "statement = \"SHOW TABLES in {}\".format(database_name)\n",
    "\n",
    "df_show = pd.read_sql(statement, conn)\n",
    "df_show.head(5)"
   ]
  },
  {
   "cell_type": "code",
   "execution_count": 46,
   "id": "863c537f-f030-46d9-9438-3f289f221378",
   "metadata": {
    "tags": []
   },
   "outputs": [
    {
     "data": {
      "text/html": [
       "<div>\n",
       "<style scoped>\n",
       "    .dataframe tbody tr th:only-of-type {\n",
       "        vertical-align: middle;\n",
       "    }\n",
       "\n",
       "    .dataframe tbody tr th {\n",
       "        vertical-align: top;\n",
       "    }\n",
       "\n",
       "    .dataframe thead th {\n",
       "        text-align: right;\n",
       "    }\n",
       "</style>\n",
       "<table border=\"1\" class=\"dataframe\">\n",
       "  <thead>\n",
       "    <tr style=\"text-align: right;\">\n",
       "      <th></th>\n",
       "      <th>incident_num</th>\n",
       "      <th>date_time</th>\n",
       "      <th>day_of_week</th>\n",
       "      <th>address_number_primary</th>\n",
       "      <th>address_dir_primary</th>\n",
       "      <th>address_road_primary</th>\n",
       "      <th>address_sfx_primary</th>\n",
       "      <th>address_dir_intersecting</th>\n",
       "      <th>address_road_intersecting</th>\n",
       "      <th>address_sfx_intersecting</th>\n",
       "      <th>call_type</th>\n",
       "      <th>disposition</th>\n",
       "      <th>beat</th>\n",
       "      <th>priority</th>\n",
       "    </tr>\n",
       "  </thead>\n",
       "  <tbody>\n",
       "    <tr>\n",
       "      <th>0</th>\n",
       "      <td>E21010000001</td>\n",
       "      <td>2021-01-01 00:00:11</td>\n",
       "      <td>6</td>\n",
       "      <td>5000</td>\n",
       "      <td></td>\n",
       "      <td>CHAPARRAL</td>\n",
       "      <td>WAY</td>\n",
       "      <td></td>\n",
       "      <td></td>\n",
       "      <td></td>\n",
       "      <td>AU1</td>\n",
       "      <td>W</td>\n",
       "      <td>326</td>\n",
       "      <td>1</td>\n",
       "    </tr>\n",
       "    <tr>\n",
       "      <th>1</th>\n",
       "      <td>E21010000002</td>\n",
       "      <td>2021-01-01 00:00:14</td>\n",
       "      <td>6</td>\n",
       "      <td>500</td>\n",
       "      <td></td>\n",
       "      <td>05TH</td>\n",
       "      <td>AVE</td>\n",
       "      <td></td>\n",
       "      <td></td>\n",
       "      <td></td>\n",
       "      <td>1186</td>\n",
       "      <td>CAN</td>\n",
       "      <td>523</td>\n",
       "      <td>3</td>\n",
       "    </tr>\n",
       "    <tr>\n",
       "      <th>2</th>\n",
       "      <td>E21010000003</td>\n",
       "      <td>2021-01-01 00:00:26</td>\n",
       "      <td>6</td>\n",
       "      <td>3600</td>\n",
       "      <td></td>\n",
       "      <td>38TH</td>\n",
       "      <td>ST</td>\n",
       "      <td></td>\n",
       "      <td></td>\n",
       "      <td></td>\n",
       "      <td>AU1</td>\n",
       "      <td>DUP</td>\n",
       "      <td>839</td>\n",
       "      <td>1</td>\n",
       "    </tr>\n",
       "    <tr>\n",
       "      <th>3</th>\n",
       "      <td>E21010000004</td>\n",
       "      <td>2021-01-01 00:00:31</td>\n",
       "      <td>6</td>\n",
       "      <td>2700</td>\n",
       "      <td></td>\n",
       "      <td>WORDEN</td>\n",
       "      <td>ST</td>\n",
       "      <td></td>\n",
       "      <td></td>\n",
       "      <td></td>\n",
       "      <td>AU1</td>\n",
       "      <td>W</td>\n",
       "      <td>613</td>\n",
       "      <td>1</td>\n",
       "    </tr>\n",
       "    <tr>\n",
       "      <th>4</th>\n",
       "      <td>E21010000006</td>\n",
       "      <td>2021-01-01 00:01:20</td>\n",
       "      <td>6</td>\n",
       "      <td>800</td>\n",
       "      <td></td>\n",
       "      <td>SAN DIEGO</td>\n",
       "      <td>PL</td>\n",
       "      <td></td>\n",
       "      <td></td>\n",
       "      <td></td>\n",
       "      <td>INFO</td>\n",
       "      <td>W</td>\n",
       "      <td>121</td>\n",
       "      <td>2</td>\n",
       "    </tr>\n",
       "    <tr>\n",
       "      <th>5</th>\n",
       "      <td>E21010000007</td>\n",
       "      <td>2021-01-01 00:01:41</td>\n",
       "      <td>6</td>\n",
       "      <td>8500</td>\n",
       "      <td></td>\n",
       "      <td>LAKE MURRAY</td>\n",
       "      <td>BLV</td>\n",
       "      <td></td>\n",
       "      <td></td>\n",
       "      <td></td>\n",
       "      <td>FIREHZRD</td>\n",
       "      <td>CAN</td>\n",
       "      <td>324</td>\n",
       "      <td>2</td>\n",
       "    </tr>\n",
       "    <tr>\n",
       "      <th>6</th>\n",
       "      <td>E21010000008</td>\n",
       "      <td>2021-01-01 00:02:19</td>\n",
       "      <td>6</td>\n",
       "      <td>5400</td>\n",
       "      <td></td>\n",
       "      <td>CHURCHWARD</td>\n",
       "      <td>ST</td>\n",
       "      <td></td>\n",
       "      <td></td>\n",
       "      <td></td>\n",
       "      <td>1131A</td>\n",
       "      <td>U</td>\n",
       "      <td>432</td>\n",
       "      <td>1</td>\n",
       "    </tr>\n",
       "    <tr>\n",
       "      <th>7</th>\n",
       "      <td>E21010000009</td>\n",
       "      <td>2021-01-01 00:03:06</td>\n",
       "      <td>6</td>\n",
       "      <td>0</td>\n",
       "      <td></td>\n",
       "      <td>INFO LOG</td>\n",
       "      <td></td>\n",
       "      <td></td>\n",
       "      <td></td>\n",
       "      <td></td>\n",
       "      <td>503CAR</td>\n",
       "      <td>W</td>\n",
       "      <td>-1</td>\n",
       "      <td>2</td>\n",
       "    </tr>\n",
       "    <tr>\n",
       "      <th>8</th>\n",
       "      <td>E21010000010</td>\n",
       "      <td>2021-01-01 00:03:38</td>\n",
       "      <td>6</td>\n",
       "      <td>0</td>\n",
       "      <td></td>\n",
       "      <td>SHOPS INFO LOG</td>\n",
       "      <td></td>\n",
       "      <td></td>\n",
       "      <td></td>\n",
       "      <td></td>\n",
       "      <td>SHOPS</td>\n",
       "      <td>W</td>\n",
       "      <td>-1</td>\n",
       "      <td>4</td>\n",
       "    </tr>\n",
       "    <tr>\n",
       "      <th>9</th>\n",
       "      <td>E21010000011</td>\n",
       "      <td>2021-01-01 00:03:44</td>\n",
       "      <td>6</td>\n",
       "      <td>0</td>\n",
       "      <td></td>\n",
       "      <td>38TH</td>\n",
       "      <td>ST</td>\n",
       "      <td></td>\n",
       "      <td>UNIVERSITY</td>\n",
       "      <td></td>\n",
       "      <td>AU1</td>\n",
       "      <td>DUP</td>\n",
       "      <td>838</td>\n",
       "      <td>1</td>\n",
       "    </tr>\n",
       "  </tbody>\n",
       "</table>\n",
       "</div>"
      ],
      "text/plain": [
       "   incident_num            date_time  day_of_week  address_number_primary  \\\n",
       "0  E21010000001  2021-01-01 00:00:11            6                    5000   \n",
       "1  E21010000002  2021-01-01 00:00:14            6                     500   \n",
       "2  E21010000003  2021-01-01 00:00:26            6                    3600   \n",
       "3  E21010000004  2021-01-01 00:00:31            6                    2700   \n",
       "4  E21010000006  2021-01-01 00:01:20            6                     800   \n",
       "5  E21010000007  2021-01-01 00:01:41            6                    8500   \n",
       "6  E21010000008  2021-01-01 00:02:19            6                    5400   \n",
       "7  E21010000009  2021-01-01 00:03:06            6                       0   \n",
       "8  E21010000010  2021-01-01 00:03:38            6                       0   \n",
       "9  E21010000011  2021-01-01 00:03:44            6                       0   \n",
       "\n",
       "  address_dir_primary address_road_primary address_sfx_primary  \\\n",
       "0                                CHAPARRAL                 WAY   \n",
       "1                                     05TH                 AVE   \n",
       "2                                     38TH                  ST   \n",
       "3                                   WORDEN                  ST   \n",
       "4                                SAN DIEGO                  PL   \n",
       "5                              LAKE MURRAY                 BLV   \n",
       "6                               CHURCHWARD                  ST   \n",
       "7                                 INFO LOG                       \n",
       "8                           SHOPS INFO LOG                       \n",
       "9                                     38TH                  ST   \n",
       "\n",
       "  address_dir_intersecting address_road_intersecting address_sfx_intersecting  \\\n",
       "0                                                                               \n",
       "1                                                                               \n",
       "2                                                                               \n",
       "3                                                                               \n",
       "4                                                                               \n",
       "5                                                                               \n",
       "6                                                                               \n",
       "7                                                                               \n",
       "8                                                                               \n",
       "9                                         UNIVERSITY                            \n",
       "\n",
       "  call_type disposition  beat  priority  \n",
       "0       AU1           W   326         1  \n",
       "1      1186         CAN   523         3  \n",
       "2       AU1         DUP   839         1  \n",
       "3       AU1           W   613         1  \n",
       "4      INFO           W   121         2  \n",
       "5  FIREHZRD         CAN   324         2  \n",
       "6     1131A           U   432         1  \n",
       "7    503CAR           W    -1         2  \n",
       "8     SHOPS           W    -1         4  \n",
       "9       AU1         DUP   838         1  "
      ]
     },
     "execution_count": 46,
     "metadata": {},
     "output_type": "execute_result"
    }
   ],
   "source": [
    "pd.read_sql(statement, conn)\n",
    "\n",
    "pd.read_sql(f\"SELECT * FROM {database_name}.{table_name} limit 10\", conn)"
   ]
  },
  {
   "cell_type": "markdown",
   "id": "acfd0cf5-a294-4616-9212-7479de3edaed",
   "metadata": {},
   "source": [
    "# Drop Table if Needed"
   ]
  },
  {
   "cell_type": "code",
   "execution_count": 37,
   "id": "9c355285-f12c-4693-aaba-cef3f485f167",
   "metadata": {
    "tags": []
   },
   "outputs": [
    {
     "data": {
      "text/html": [
       "<div>\n",
       "<style scoped>\n",
       "    .dataframe tbody tr th:only-of-type {\n",
       "        vertical-align: middle;\n",
       "    }\n",
       "\n",
       "    .dataframe tbody tr th {\n",
       "        vertical-align: top;\n",
       "    }\n",
       "\n",
       "    .dataframe thead th {\n",
       "        text-align: right;\n",
       "    }\n",
       "</style>\n",
       "<table border=\"1\" class=\"dataframe\">\n",
       "  <thead>\n",
       "    <tr style=\"text-align: right;\">\n",
       "      <th></th>\n",
       "    </tr>\n",
       "  </thead>\n",
       "  <tbody>\n",
       "  </tbody>\n",
       "</table>\n",
       "</div>"
      ],
      "text/plain": [
       "Empty DataFrame\n",
       "Columns: []\n",
       "Index: []"
      ]
     },
     "execution_count": 37,
     "metadata": {},
     "output_type": "execute_result"
    }
   ],
   "source": [
    "drop_table_name = \"table_sd_2021\" \n",
    "\n",
    "drop_table_query = f\"DROP TABLE IF EXISTS {database_name}.{drop_table_name}\"\n",
    "\n",
    "df_show1 = pd.read_sql(drop_table_query, conn)\n",
    "df_show1.head()"
   ]
  },
  {
   "cell_type": "code",
   "execution_count": null,
   "id": "70f36646-3d47-41e9-a1eb-544b286687df",
   "metadata": {},
   "outputs": [],
   "source": []
  }
 ],
 "metadata": {
  "availableInstances": [
   {
    "_defaultOrder": 0,
    "_isFastLaunch": true,
    "category": "General purpose",
    "gpuNum": 0,
    "memoryGiB": 4,
    "name": "ml.t3.medium",
    "vcpuNum": 2
   },
   {
    "_defaultOrder": 1,
    "_isFastLaunch": false,
    "category": "General purpose",
    "gpuNum": 0,
    "memoryGiB": 8,
    "name": "ml.t3.large",
    "vcpuNum": 2
   },
   {
    "_defaultOrder": 2,
    "_isFastLaunch": false,
    "category": "General purpose",
    "gpuNum": 0,
    "memoryGiB": 16,
    "name": "ml.t3.xlarge",
    "vcpuNum": 4
   },
   {
    "_defaultOrder": 3,
    "_isFastLaunch": false,
    "category": "General purpose",
    "gpuNum": 0,
    "memoryGiB": 32,
    "name": "ml.t3.2xlarge",
    "vcpuNum": 8
   },
   {
    "_defaultOrder": 4,
    "_isFastLaunch": true,
    "category": "General purpose",
    "gpuNum": 0,
    "memoryGiB": 8,
    "name": "ml.m5.large",
    "vcpuNum": 2
   },
   {
    "_defaultOrder": 5,
    "_isFastLaunch": false,
    "category": "General purpose",
    "gpuNum": 0,
    "memoryGiB": 16,
    "name": "ml.m5.xlarge",
    "vcpuNum": 4
   },
   {
    "_defaultOrder": 6,
    "_isFastLaunch": false,
    "category": "General purpose",
    "gpuNum": 0,
    "memoryGiB": 32,
    "name": "ml.m5.2xlarge",
    "vcpuNum": 8
   },
   {
    "_defaultOrder": 7,
    "_isFastLaunch": false,
    "category": "General purpose",
    "gpuNum": 0,
    "memoryGiB": 64,
    "name": "ml.m5.4xlarge",
    "vcpuNum": 16
   },
   {
    "_defaultOrder": 8,
    "_isFastLaunch": false,
    "category": "General purpose",
    "gpuNum": 0,
    "memoryGiB": 128,
    "name": "ml.m5.8xlarge",
    "vcpuNum": 32
   },
   {
    "_defaultOrder": 9,
    "_isFastLaunch": false,
    "category": "General purpose",
    "gpuNum": 0,
    "memoryGiB": 192,
    "name": "ml.m5.12xlarge",
    "vcpuNum": 48
   },
   {
    "_defaultOrder": 10,
    "_isFastLaunch": false,
    "category": "General purpose",
    "gpuNum": 0,
    "memoryGiB": 256,
    "name": "ml.m5.16xlarge",
    "vcpuNum": 64
   },
   {
    "_defaultOrder": 11,
    "_isFastLaunch": false,
    "category": "General purpose",
    "gpuNum": 0,
    "memoryGiB": 384,
    "name": "ml.m5.24xlarge",
    "vcpuNum": 96
   },
   {
    "_defaultOrder": 12,
    "_isFastLaunch": false,
    "category": "General purpose",
    "gpuNum": 0,
    "memoryGiB": 8,
    "name": "ml.m5d.large",
    "vcpuNum": 2
   },
   {
    "_defaultOrder": 13,
    "_isFastLaunch": false,
    "category": "General purpose",
    "gpuNum": 0,
    "memoryGiB": 16,
    "name": "ml.m5d.xlarge",
    "vcpuNum": 4
   },
   {
    "_defaultOrder": 14,
    "_isFastLaunch": false,
    "category": "General purpose",
    "gpuNum": 0,
    "memoryGiB": 32,
    "name": "ml.m5d.2xlarge",
    "vcpuNum": 8
   },
   {
    "_defaultOrder": 15,
    "_isFastLaunch": false,
    "category": "General purpose",
    "gpuNum": 0,
    "memoryGiB": 64,
    "name": "ml.m5d.4xlarge",
    "vcpuNum": 16
   },
   {
    "_defaultOrder": 16,
    "_isFastLaunch": false,
    "category": "General purpose",
    "gpuNum": 0,
    "memoryGiB": 128,
    "name": "ml.m5d.8xlarge",
    "vcpuNum": 32
   },
   {
    "_defaultOrder": 17,
    "_isFastLaunch": false,
    "category": "General purpose",
    "gpuNum": 0,
    "memoryGiB": 192,
    "name": "ml.m5d.12xlarge",
    "vcpuNum": 48
   },
   {
    "_defaultOrder": 18,
    "_isFastLaunch": false,
    "category": "General purpose",
    "gpuNum": 0,
    "memoryGiB": 256,
    "name": "ml.m5d.16xlarge",
    "vcpuNum": 64
   },
   {
    "_defaultOrder": 19,
    "_isFastLaunch": false,
    "category": "General purpose",
    "gpuNum": 0,
    "memoryGiB": 384,
    "name": "ml.m5d.24xlarge",
    "vcpuNum": 96
   },
   {
    "_defaultOrder": 20,
    "_isFastLaunch": true,
    "category": "Compute optimized",
    "gpuNum": 0,
    "memoryGiB": 4,
    "name": "ml.c5.large",
    "vcpuNum": 2
   },
   {
    "_defaultOrder": 21,
    "_isFastLaunch": false,
    "category": "Compute optimized",
    "gpuNum": 0,
    "memoryGiB": 8,
    "name": "ml.c5.xlarge",
    "vcpuNum": 4
   },
   {
    "_defaultOrder": 22,
    "_isFastLaunch": false,
    "category": "Compute optimized",
    "gpuNum": 0,
    "memoryGiB": 16,
    "name": "ml.c5.2xlarge",
    "vcpuNum": 8
   },
   {
    "_defaultOrder": 23,
    "_isFastLaunch": false,
    "category": "Compute optimized",
    "gpuNum": 0,
    "memoryGiB": 32,
    "name": "ml.c5.4xlarge",
    "vcpuNum": 16
   },
   {
    "_defaultOrder": 24,
    "_isFastLaunch": false,
    "category": "Compute optimized",
    "gpuNum": 0,
    "memoryGiB": 72,
    "name": "ml.c5.9xlarge",
    "vcpuNum": 36
   },
   {
    "_defaultOrder": 25,
    "_isFastLaunch": false,
    "category": "Compute optimized",
    "gpuNum": 0,
    "memoryGiB": 96,
    "name": "ml.c5.12xlarge",
    "vcpuNum": 48
   },
   {
    "_defaultOrder": 26,
    "_isFastLaunch": false,
    "category": "Compute optimized",
    "gpuNum": 0,
    "memoryGiB": 144,
    "name": "ml.c5.18xlarge",
    "vcpuNum": 72
   },
   {
    "_defaultOrder": 27,
    "_isFastLaunch": false,
    "category": "Compute optimized",
    "gpuNum": 0,
    "memoryGiB": 192,
    "name": "ml.c5.24xlarge",
    "vcpuNum": 96
   },
   {
    "_defaultOrder": 28,
    "_isFastLaunch": true,
    "category": "Accelerated computing",
    "gpuNum": 1,
    "memoryGiB": 16,
    "name": "ml.g4dn.xlarge",
    "vcpuNum": 4
   },
   {
    "_defaultOrder": 29,
    "_isFastLaunch": false,
    "category": "Accelerated computing",
    "gpuNum": 1,
    "memoryGiB": 32,
    "name": "ml.g4dn.2xlarge",
    "vcpuNum": 8
   },
   {
    "_defaultOrder": 30,
    "_isFastLaunch": false,
    "category": "Accelerated computing",
    "gpuNum": 1,
    "memoryGiB": 64,
    "name": "ml.g4dn.4xlarge",
    "vcpuNum": 16
   },
   {
    "_defaultOrder": 31,
    "_isFastLaunch": false,
    "category": "Accelerated computing",
    "gpuNum": 1,
    "memoryGiB": 128,
    "name": "ml.g4dn.8xlarge",
    "vcpuNum": 32
   },
   {
    "_defaultOrder": 32,
    "_isFastLaunch": false,
    "category": "Accelerated computing",
    "gpuNum": 4,
    "memoryGiB": 192,
    "name": "ml.g4dn.12xlarge",
    "vcpuNum": 48
   },
   {
    "_defaultOrder": 33,
    "_isFastLaunch": false,
    "category": "Accelerated computing",
    "gpuNum": 1,
    "memoryGiB": 256,
    "name": "ml.g4dn.16xlarge",
    "vcpuNum": 64
   },
   {
    "_defaultOrder": 34,
    "_isFastLaunch": false,
    "category": "Accelerated computing",
    "gpuNum": 1,
    "memoryGiB": 61,
    "name": "ml.p3.2xlarge",
    "vcpuNum": 8
   },
   {
    "_defaultOrder": 35,
    "_isFastLaunch": false,
    "category": "Accelerated computing",
    "gpuNum": 4,
    "memoryGiB": 244,
    "name": "ml.p3.8xlarge",
    "vcpuNum": 32
   },
   {
    "_defaultOrder": 36,
    "_isFastLaunch": false,
    "category": "Accelerated computing",
    "gpuNum": 8,
    "memoryGiB": 488,
    "name": "ml.p3.16xlarge",
    "vcpuNum": 64
   },
   {
    "_defaultOrder": 37,
    "_isFastLaunch": false,
    "category": "Accelerated computing",
    "gpuNum": 8,
    "memoryGiB": 768,
    "name": "ml.p3dn.24xlarge",
    "vcpuNum": 96
   },
   {
    "_defaultOrder": 38,
    "_isFastLaunch": false,
    "category": "Memory Optimized",
    "gpuNum": 0,
    "memoryGiB": 16,
    "name": "ml.r5.large",
    "vcpuNum": 2
   },
   {
    "_defaultOrder": 39,
    "_isFastLaunch": false,
    "category": "Memory Optimized",
    "gpuNum": 0,
    "memoryGiB": 32,
    "name": "ml.r5.xlarge",
    "vcpuNum": 4
   },
   {
    "_defaultOrder": 40,
    "_isFastLaunch": false,
    "category": "Memory Optimized",
    "gpuNum": 0,
    "memoryGiB": 64,
    "name": "ml.r5.2xlarge",
    "vcpuNum": 8
   },
   {
    "_defaultOrder": 41,
    "_isFastLaunch": false,
    "category": "Memory Optimized",
    "gpuNum": 0,
    "memoryGiB": 128,
    "name": "ml.r5.4xlarge",
    "vcpuNum": 16
   },
   {
    "_defaultOrder": 42,
    "_isFastLaunch": false,
    "category": "Memory Optimized",
    "gpuNum": 0,
    "memoryGiB": 256,
    "name": "ml.r5.8xlarge",
    "vcpuNum": 32
   },
   {
    "_defaultOrder": 43,
    "_isFastLaunch": false,
    "category": "Memory Optimized",
    "gpuNum": 0,
    "memoryGiB": 384,
    "name": "ml.r5.12xlarge",
    "vcpuNum": 48
   },
   {
    "_defaultOrder": 44,
    "_isFastLaunch": false,
    "category": "Memory Optimized",
    "gpuNum": 0,
    "memoryGiB": 512,
    "name": "ml.r5.16xlarge",
    "vcpuNum": 64
   },
   {
    "_defaultOrder": 45,
    "_isFastLaunch": false,
    "category": "Memory Optimized",
    "gpuNum": 0,
    "memoryGiB": 768,
    "name": "ml.r5.24xlarge",
    "vcpuNum": 96
   },
   {
    "_defaultOrder": 46,
    "_isFastLaunch": false,
    "category": "Accelerated computing",
    "gpuNum": 1,
    "memoryGiB": 16,
    "name": "ml.g5.xlarge",
    "vcpuNum": 4
   },
   {
    "_defaultOrder": 47,
    "_isFastLaunch": false,
    "category": "Accelerated computing",
    "gpuNum": 1,
    "memoryGiB": 32,
    "name": "ml.g5.2xlarge",
    "vcpuNum": 8
   },
   {
    "_defaultOrder": 48,
    "_isFastLaunch": false,
    "category": "Accelerated computing",
    "gpuNum": 1,
    "memoryGiB": 64,
    "name": "ml.g5.4xlarge",
    "vcpuNum": 16
   },
   {
    "_defaultOrder": 49,
    "_isFastLaunch": false,
    "category": "Accelerated computing",
    "gpuNum": 1,
    "memoryGiB": 128,
    "name": "ml.g5.8xlarge",
    "vcpuNum": 32
   },
   {
    "_defaultOrder": 50,
    "_isFastLaunch": false,
    "category": "Accelerated computing",
    "gpuNum": 1,
    "memoryGiB": 256,
    "name": "ml.g5.16xlarge",
    "vcpuNum": 64
   },
   {
    "_defaultOrder": 51,
    "_isFastLaunch": false,
    "category": "Accelerated computing",
    "gpuNum": 4,
    "memoryGiB": 192,
    "name": "ml.g5.12xlarge",
    "vcpuNum": 48
   },
   {
    "_defaultOrder": 52,
    "_isFastLaunch": false,
    "category": "Accelerated computing",
    "gpuNum": 4,
    "memoryGiB": 384,
    "name": "ml.g5.24xlarge",
    "vcpuNum": 96
   },
   {
    "_defaultOrder": 53,
    "_isFastLaunch": false,
    "category": "Accelerated computing",
    "gpuNum": 8,
    "memoryGiB": 768,
    "name": "ml.g5.48xlarge",
    "vcpuNum": 192
   }
  ],
  "instance_type": "ml.t3.medium",
  "kernelspec": {
   "display_name": "Python 3 (Data Science)",
   "language": "python",
   "name": "python3__SAGEMAKER_INTERNAL__arn:aws:sagemaker:us-east-1:081325390199:image/datascience-1.0"
  },
  "language_info": {
   "codemirror_mode": {
    "name": "ipython",
    "version": 3
   },
   "file_extension": ".py",
   "mimetype": "text/x-python",
   "name": "python",
   "nbconvert_exporter": "python",
   "pygments_lexer": "ipython3",
   "version": "3.7.10"
  }
 },
 "nbformat": 4,
 "nbformat_minor": 5
}

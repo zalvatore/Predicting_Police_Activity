{
 "cells": [
  {
   "cell_type": "markdown",
   "id": "27fd6b5a-d02d-498c-82c5-e46ea15a33c7",
   "metadata": {
    "tags": []
   },
   "source": [
    "# Plotly Endpoint - Dashbaord"
   ]
  },
  {
   "cell_type": "markdown",
   "id": "5c4f0f7e-3ac4-4534-b5d9-1c842f7c65de",
   "metadata": {},
   "source": [
    "***"
   ]
  },
  {
   "cell_type": "code",
   "execution_count": 5,
   "id": "bb476497-4f9d-49f6-a372-bed0a361135f",
   "metadata": {
    "tags": []
   },
   "outputs": [],
   "source": [
    "## Libraries"
   ]
  },
  {
   "cell_type": "code",
   "execution_count": 46,
   "id": "b3691fba-735f-41bf-b9f7-c22cee06c9c8",
   "metadata": {
    "tags": []
   },
   "outputs": [],
   "source": [
    "import requests\n",
    "import plotly.graph_objs as go\n",
    "import json\n",
    "import boto3\n",
    "import pandas as pd\n",
    "import plotly.graph_objects as go\n",
    "import plotly.express as px"
   ]
  },
  {
   "cell_type": "code",
   "execution_count": 81,
   "id": "3d790ed1-d4b7-40cc-8b4d-3cdeef9add81",
   "metadata": {
    "tags": []
   },
   "outputs": [
    {
     "name": "stdout",
     "output_type": "stream",
     "text": [
      "\u001b[33mWARNING: The directory '/root/.cache/pip' or its parent directory is not owned or is not writable by the current user. The cache has been disabled. Check the permissions and owner of that directory. If executing pip with sudo, you should use sudo's -H flag.\u001b[0m\u001b[33m\n",
      "\u001b[0mRequirement already satisfied: kaleido in /opt/conda/lib/python3.7/site-packages (0.2.1)\n",
      "\u001b[33mWARNING: Running pip as the 'root' user can result in broken permissions and conflicting behaviour with the system package manager. It is recommended to use a virtual environment instead: https://pip.pypa.io/warnings/venv\u001b[0m\u001b[33m\n",
      "\u001b[0m"
     ]
    }
   ],
   "source": [
    "! pip install -U kaleido"
   ]
  },
  {
   "cell_type": "code",
   "execution_count": 82,
   "id": "f41b8c7a-3870-4812-8335-fde31bb375dc",
   "metadata": {
    "tags": []
   },
   "outputs": [],
   "source": [
    "#Get EndPoint\n",
    "%store -r final_endpoint"
   ]
  },
  {
   "cell_type": "code",
   "execution_count": 83,
   "id": "5676a904-3581-40d8-9954-ea510bfe4298",
   "metadata": {
    "tags": []
   },
   "outputs": [],
   "source": [
    "endpoint_name = final_endpoint\n",
    "region_name = boto3.Session().region_name\n",
    "runtime_client = boto3.client('sagemaker-runtime', region_name=region_name)"
   ]
  },
  {
   "cell_type": "markdown",
   "id": "f92600a2-0bb9-4d4f-a617-2898c42f13b4",
   "metadata": {},
   "source": [
    "***"
   ]
  },
  {
   "cell_type": "markdown",
   "id": "285de7f5-8b58-477a-8a2e-667980c7eed6",
   "metadata": {},
   "source": [
    "## Get data from Endpoint"
   ]
  },
  {
   "cell_type": "code",
   "execution_count": 84,
   "id": "7adfecb4-b486-42d6-b3f5-9f4a45c86687",
   "metadata": {},
   "outputs": [],
   "source": [
    "data = {\n",
    "    'instances': [\n",
    "        {\n",
    "            'start': '2023-04-01 00:00:00',\n",
    "            'target': [0.1, 0.2, 0.3, 0.4, 0.5],\n",
    "        }\n",
    "    ],\n",
    "    'configuration': {\n",
    "        'num_samples': 100,\n",
    "        'output_types': ['mean', 'quantiles', 'samples'],\n",
    "        'quantiles': ['0.1', '0.5', '0.9']\n",
    "    }\n",
    "}\n",
    "\n",
    "# Convert the payload to JSON\n",
    "payload = json.dumps(data)"
   ]
  },
  {
   "cell_type": "code",
   "execution_count": 85,
   "id": "2080952e-3230-4c41-8bb6-2d4b30bb211d",
   "metadata": {
    "tags": []
   },
   "outputs": [],
   "source": [
    "# Send a request to the endpoint with the payload\n",
    "response = runtime_client.invoke_endpoint(EndpointName=endpoint_name,\n",
    "                                          ContentType='application/json',\n",
    "                                          Body=payload)\n",
    "\n",
    "# Read the response and parse it as JSON\n",
    "response_body = response['Body']\n",
    "result = json.loads(response_body.read().decode())"
   ]
  },
  {
   "cell_type": "markdown",
   "id": "7b2ebe8e-86a1-4ebb-8d1a-8743f72bd7cf",
   "metadata": {},
   "source": [
    "***"
   ]
  },
  {
   "cell_type": "markdown",
   "id": "42361fc3-5223-4c11-8664-3147908b3a3a",
   "metadata": {},
   "source": [
    "## Vizualize"
   ]
  },
  {
   "cell_type": "code",
   "execution_count": 86,
   "id": "cd0ca656-0a20-4015-9e11-b920ddc237a8",
   "metadata": {},
   "outputs": [],
   "source": [
    "# Extract the forecasted and quantiles from the response data\n",
    "forecast_data = result['predictions'][0]['mean']\n",
    "Q1= result['predictions'][0]['quantiles']['0.1']\n",
    "Q5= result['predictions'][0]['quantiles']['0.5']\n",
    "Q9= result['predictions'][0]['quantiles']['0.9']\n",
    "\n",
    "df = pd.DataFrame({\n",
    "    'timestamp': pd.date_range(start='2023-04-01 00:00:00', periods=len(forecast_data), freq='H'),\n",
    "    'forecast': forecast_data,\n",
    "    'Q1': Q1,\n",
    "    'Q5': Q5,\n",
    "    'Q9': Q9\n",
    "})\n"
   ]
  },
  {
   "cell_type": "code",
   "execution_count": 88,
   "id": "af3a39ec-c14b-4b99-850c-1794eed36a1a",
   "metadata": {
    "tags": []
   },
   "outputs": [
    {
     "data": {
      "application/vnd.plotly.v1+json": {
       "config": {
        "plotlyServerURL": "https://plot.ly"
       },
       "data": [
        {
         "mode": "lines",
         "name": "Quantile 90%",
         "type": "scatter",
         "x": [
          "2023-04-01T00:00:00",
          "2023-04-01T01:00:00",
          "2023-04-01T02:00:00",
          "2023-04-01T03:00:00",
          "2023-04-01T04:00:00",
          "2023-04-01T05:00:00",
          "2023-04-01T06:00:00",
          "2023-04-01T07:00:00",
          "2023-04-01T08:00:00",
          "2023-04-01T09:00:00",
          "2023-04-01T10:00:00",
          "2023-04-01T11:00:00",
          "2023-04-01T12:00:00",
          "2023-04-01T13:00:00",
          "2023-04-01T14:00:00",
          "2023-04-01T15:00:00",
          "2023-04-01T16:00:00",
          "2023-04-01T17:00:00",
          "2023-04-01T18:00:00",
          "2023-04-01T19:00:00",
          "2023-04-01T20:00:00",
          "2023-04-01T21:00:00",
          "2023-04-01T22:00:00",
          "2023-04-01T23:00:00",
          "2023-04-02T00:00:00",
          "2023-04-02T01:00:00",
          "2023-04-02T02:00:00",
          "2023-04-02T03:00:00",
          "2023-04-02T04:00:00",
          "2023-04-02T05:00:00",
          "2023-04-02T06:00:00",
          "2023-04-02T07:00:00",
          "2023-04-02T08:00:00",
          "2023-04-02T09:00:00",
          "2023-04-02T10:00:00",
          "2023-04-02T11:00:00",
          "2023-04-02T12:00:00",
          "2023-04-02T13:00:00",
          "2023-04-02T14:00:00",
          "2023-04-02T15:00:00",
          "2023-04-02T16:00:00",
          "2023-04-02T17:00:00",
          "2023-04-02T18:00:00",
          "2023-04-02T19:00:00",
          "2023-04-02T20:00:00",
          "2023-04-02T21:00:00",
          "2023-04-02T22:00:00",
          "2023-04-02T23:00:00"
         ],
         "y": [
          0.2953501344,
          0.298812598,
          0.2982462347,
          0.259719342,
          0.2214100063,
          0.2479550391,
          0.262568146,
          0.2743184865,
          0.2655386627,
          0.2700963616,
          0.292732209,
          0.2802924514,
          0.2867447138,
          0.2980722487,
          0.2992570996,
          0.2980357409,
          0.3128786087,
          0.3156681955,
          0.3565460742,
          0.3145041168,
          0.3285832703,
          0.3750065267,
          0.3785303235,
          0.3819537163,
          0.3180397153,
          0.3206332624,
          0.3038653433,
          0.2675815225,
          0.2515232265,
          0.2441675961,
          0.2567921281,
          0.2695286274,
          0.2777529657,
          0.2681663036,
          0.2837430537,
          0.2836164236,
          0.2874859571,
          0.3092205822,
          0.3212851286,
          0.3426408768,
          0.371373713,
          0.3849920928,
          0.4031762779,
          0.344515413,
          0.2885759175,
          0.3009780645,
          0.3007355034,
          0.254837513
         ]
        },
        {
         "fill": "tonexty",
         "mode": "lines",
         "name": "80% CI",
         "type": "scatter",
         "x": [
          "2023-04-01T00:00:00",
          "2023-04-01T01:00:00",
          "2023-04-01T02:00:00",
          "2023-04-01T03:00:00",
          "2023-04-01T04:00:00",
          "2023-04-01T05:00:00",
          "2023-04-01T06:00:00",
          "2023-04-01T07:00:00",
          "2023-04-01T08:00:00",
          "2023-04-01T09:00:00",
          "2023-04-01T10:00:00",
          "2023-04-01T11:00:00",
          "2023-04-01T12:00:00",
          "2023-04-01T13:00:00",
          "2023-04-01T14:00:00",
          "2023-04-01T15:00:00",
          "2023-04-01T16:00:00",
          "2023-04-01T17:00:00",
          "2023-04-01T18:00:00",
          "2023-04-01T19:00:00",
          "2023-04-01T20:00:00",
          "2023-04-01T21:00:00",
          "2023-04-01T22:00:00",
          "2023-04-01T23:00:00",
          "2023-04-02T00:00:00",
          "2023-04-02T01:00:00",
          "2023-04-02T02:00:00",
          "2023-04-02T03:00:00",
          "2023-04-02T04:00:00",
          "2023-04-02T05:00:00",
          "2023-04-02T06:00:00",
          "2023-04-02T07:00:00",
          "2023-04-02T08:00:00",
          "2023-04-02T09:00:00",
          "2023-04-02T10:00:00",
          "2023-04-02T11:00:00",
          "2023-04-02T12:00:00",
          "2023-04-02T13:00:00",
          "2023-04-02T14:00:00",
          "2023-04-02T15:00:00",
          "2023-04-02T16:00:00",
          "2023-04-02T17:00:00",
          "2023-04-02T18:00:00",
          "2023-04-02T19:00:00",
          "2023-04-02T20:00:00",
          "2023-04-02T21:00:00",
          "2023-04-02T22:00:00",
          "2023-04-02T23:00:00"
         ],
         "y": [
          0.359515816,
          0.3745208979,
          0.3872381747,
          0.3539466262,
          0.3233453631,
          0.3425934613,
          0.3642975092,
          0.3710922599,
          0.3630650043,
          0.375507921,
          0.375954181,
          0.3827744424,
          0.3910568953,
          0.3983395398,
          0.4085155427,
          0.419814229,
          0.4137250185,
          0.448661387,
          0.4678225219,
          0.4254558384,
          0.4223445058,
          0.4589241445,
          0.4953885376,
          0.5090101361,
          0.4559433758,
          0.4234230518,
          0.4297782183,
          0.4001783133,
          0.3676635325,
          0.3683560491,
          0.4016682506,
          0.3843934238,
          0.4069905877,
          0.4080905914,
          0.417124778,
          0.424913317,
          0.4343187213,
          0.4463522732,
          0.4609313607,
          0.4781554639,
          0.4915037751,
          0.5231685042,
          0.5624361634,
          0.4976714551,
          0.435454011,
          0.4401771426,
          0.4611506462,
          0.4376070797
         ]
        },
        {
         "mode": "lines",
         "name": "Quantile 10%",
         "type": "scatter",
         "x": [
          "2023-04-01T00:00:00",
          "2023-04-01T01:00:00",
          "2023-04-01T02:00:00",
          "2023-04-01T03:00:00",
          "2023-04-01T04:00:00",
          "2023-04-01T05:00:00",
          "2023-04-01T06:00:00",
          "2023-04-01T07:00:00",
          "2023-04-01T08:00:00",
          "2023-04-01T09:00:00",
          "2023-04-01T10:00:00",
          "2023-04-01T11:00:00",
          "2023-04-01T12:00:00",
          "2023-04-01T13:00:00",
          "2023-04-01T14:00:00",
          "2023-04-01T15:00:00",
          "2023-04-01T16:00:00",
          "2023-04-01T17:00:00",
          "2023-04-01T18:00:00",
          "2023-04-01T19:00:00",
          "2023-04-01T20:00:00",
          "2023-04-01T21:00:00",
          "2023-04-01T22:00:00",
          "2023-04-01T23:00:00",
          "2023-04-02T00:00:00",
          "2023-04-02T01:00:00",
          "2023-04-02T02:00:00",
          "2023-04-02T03:00:00",
          "2023-04-02T04:00:00",
          "2023-04-02T05:00:00",
          "2023-04-02T06:00:00",
          "2023-04-02T07:00:00",
          "2023-04-02T08:00:00",
          "2023-04-02T09:00:00",
          "2023-04-02T10:00:00",
          "2023-04-02T11:00:00",
          "2023-04-02T12:00:00",
          "2023-04-02T13:00:00",
          "2023-04-02T14:00:00",
          "2023-04-02T15:00:00",
          "2023-04-02T16:00:00",
          "2023-04-02T17:00:00",
          "2023-04-02T18:00:00",
          "2023-04-02T19:00:00",
          "2023-04-02T20:00:00",
          "2023-04-02T21:00:00",
          "2023-04-02T22:00:00",
          "2023-04-02T23:00:00"
         ],
         "y": [
          0.359515816,
          0.3745208979,
          0.3872381747,
          0.3539466262,
          0.3233453631,
          0.3425934613,
          0.3642975092,
          0.3710922599,
          0.3630650043,
          0.375507921,
          0.375954181,
          0.3827744424,
          0.3910568953,
          0.3983395398,
          0.4085155427,
          0.419814229,
          0.4137250185,
          0.448661387,
          0.4678225219,
          0.4254558384,
          0.4223445058,
          0.4589241445,
          0.4953885376,
          0.5090101361,
          0.4559433758,
          0.4234230518,
          0.4297782183,
          0.4001783133,
          0.3676635325,
          0.3683560491,
          0.4016682506,
          0.3843934238,
          0.4069905877,
          0.4080905914,
          0.417124778,
          0.424913317,
          0.4343187213,
          0.4463522732,
          0.4609313607,
          0.4781554639,
          0.4915037751,
          0.5231685042,
          0.5624361634,
          0.4976714551,
          0.435454011,
          0.4401771426,
          0.4611506462,
          0.4376070797
         ]
        },
        {
         "mode": "lines",
         "name": "Forcast",
         "type": "scatter",
         "x": [
          "2023-04-01T00:00:00",
          "2023-04-01T01:00:00",
          "2023-04-01T02:00:00",
          "2023-04-01T03:00:00",
          "2023-04-01T04:00:00",
          "2023-04-01T05:00:00",
          "2023-04-01T06:00:00",
          "2023-04-01T07:00:00",
          "2023-04-01T08:00:00",
          "2023-04-01T09:00:00",
          "2023-04-01T10:00:00",
          "2023-04-01T11:00:00",
          "2023-04-01T12:00:00",
          "2023-04-01T13:00:00",
          "2023-04-01T14:00:00",
          "2023-04-01T15:00:00",
          "2023-04-01T16:00:00",
          "2023-04-01T17:00:00",
          "2023-04-01T18:00:00",
          "2023-04-01T19:00:00",
          "2023-04-01T20:00:00",
          "2023-04-01T21:00:00",
          "2023-04-01T22:00:00",
          "2023-04-01T23:00:00",
          "2023-04-02T00:00:00",
          "2023-04-02T01:00:00",
          "2023-04-02T02:00:00",
          "2023-04-02T03:00:00",
          "2023-04-02T04:00:00",
          "2023-04-02T05:00:00",
          "2023-04-02T06:00:00",
          "2023-04-02T07:00:00",
          "2023-04-02T08:00:00",
          "2023-04-02T09:00:00",
          "2023-04-02T10:00:00",
          "2023-04-02T11:00:00",
          "2023-04-02T12:00:00",
          "2023-04-02T13:00:00",
          "2023-04-02T14:00:00",
          "2023-04-02T15:00:00",
          "2023-04-02T16:00:00",
          "2023-04-02T17:00:00",
          "2023-04-02T18:00:00",
          "2023-04-02T19:00:00",
          "2023-04-02T20:00:00",
          "2023-04-02T21:00:00",
          "2023-04-02T22:00:00",
          "2023-04-02T23:00:00"
         ],
         "y": [
          0.3287089169,
          0.3336951733,
          0.3416624367,
          0.2998749614,
          0.2694407105,
          0.2920181155,
          0.3132550716,
          0.3220172226,
          0.3102006912,
          0.3221882284,
          0.3331713974,
          0.3325346112,
          0.334594965,
          0.3428413272,
          0.3513357043,
          0.3547403812,
          0.3658403456,
          0.3787387013,
          0.4061781764,
          0.3704212606,
          0.3774360418,
          0.4126342535,
          0.4340756238,
          0.4423721731,
          0.3903822005,
          0.3753370643,
          0.3625240028,
          0.3292165399,
          0.3051394522,
          0.3069798648,
          0.3276492059,
          0.3271787763,
          0.3309959471,
          0.3383753598,
          0.3500866294,
          0.3526791036,
          0.3626146317,
          0.3727163374,
          0.3857353628,
          0.405785799,
          0.4276358783,
          0.4493352175,
          0.4840280414,
          0.4315648973,
          0.3612518311,
          0.365670085,
          0.3728136122,
          0.3487367332
         ]
        }
       ],
       "layout": {
        "autosize": false,
        "height": 600,
        "margin": {
         "b": 10,
         "l": 50,
         "pad": 4,
         "r": 25,
         "t": 50
        },
        "template": {
         "data": {
          "bar": [
           {
            "error_x": {
             "color": "rgb(36,36,36)"
            },
            "error_y": {
             "color": "rgb(36,36,36)"
            },
            "marker": {
             "line": {
              "color": "white",
              "width": 0.5
             },
             "pattern": {
              "fillmode": "overlay",
              "size": 10,
              "solidity": 0.2
             }
            },
            "type": "bar"
           }
          ],
          "barpolar": [
           {
            "marker": {
             "line": {
              "color": "white",
              "width": 0.5
             },
             "pattern": {
              "fillmode": "overlay",
              "size": 10,
              "solidity": 0.2
             }
            },
            "type": "barpolar"
           }
          ],
          "carpet": [
           {
            "aaxis": {
             "endlinecolor": "rgb(36,36,36)",
             "gridcolor": "white",
             "linecolor": "white",
             "minorgridcolor": "white",
             "startlinecolor": "rgb(36,36,36)"
            },
            "baxis": {
             "endlinecolor": "rgb(36,36,36)",
             "gridcolor": "white",
             "linecolor": "white",
             "minorgridcolor": "white",
             "startlinecolor": "rgb(36,36,36)"
            },
            "type": "carpet"
           }
          ],
          "choropleth": [
           {
            "colorbar": {
             "outlinewidth": 1,
             "tickcolor": "rgb(36,36,36)",
             "ticks": "outside"
            },
            "type": "choropleth"
           }
          ],
          "contour": [
           {
            "colorbar": {
             "outlinewidth": 1,
             "tickcolor": "rgb(36,36,36)",
             "ticks": "outside"
            },
            "colorscale": [
             [
              0,
              "#440154"
             ],
             [
              0.1111111111111111,
              "#482878"
             ],
             [
              0.2222222222222222,
              "#3e4989"
             ],
             [
              0.3333333333333333,
              "#31688e"
             ],
             [
              0.4444444444444444,
              "#26828e"
             ],
             [
              0.5555555555555556,
              "#1f9e89"
             ],
             [
              0.6666666666666666,
              "#35b779"
             ],
             [
              0.7777777777777778,
              "#6ece58"
             ],
             [
              0.8888888888888888,
              "#b5de2b"
             ],
             [
              1,
              "#fde725"
             ]
            ],
            "type": "contour"
           }
          ],
          "contourcarpet": [
           {
            "colorbar": {
             "outlinewidth": 1,
             "tickcolor": "rgb(36,36,36)",
             "ticks": "outside"
            },
            "type": "contourcarpet"
           }
          ],
          "heatmap": [
           {
            "colorbar": {
             "outlinewidth": 1,
             "tickcolor": "rgb(36,36,36)",
             "ticks": "outside"
            },
            "colorscale": [
             [
              0,
              "#440154"
             ],
             [
              0.1111111111111111,
              "#482878"
             ],
             [
              0.2222222222222222,
              "#3e4989"
             ],
             [
              0.3333333333333333,
              "#31688e"
             ],
             [
              0.4444444444444444,
              "#26828e"
             ],
             [
              0.5555555555555556,
              "#1f9e89"
             ],
             [
              0.6666666666666666,
              "#35b779"
             ],
             [
              0.7777777777777778,
              "#6ece58"
             ],
             [
              0.8888888888888888,
              "#b5de2b"
             ],
             [
              1,
              "#fde725"
             ]
            ],
            "type": "heatmap"
           }
          ],
          "heatmapgl": [
           {
            "colorbar": {
             "outlinewidth": 1,
             "tickcolor": "rgb(36,36,36)",
             "ticks": "outside"
            },
            "colorscale": [
             [
              0,
              "#440154"
             ],
             [
              0.1111111111111111,
              "#482878"
             ],
             [
              0.2222222222222222,
              "#3e4989"
             ],
             [
              0.3333333333333333,
              "#31688e"
             ],
             [
              0.4444444444444444,
              "#26828e"
             ],
             [
              0.5555555555555556,
              "#1f9e89"
             ],
             [
              0.6666666666666666,
              "#35b779"
             ],
             [
              0.7777777777777778,
              "#6ece58"
             ],
             [
              0.8888888888888888,
              "#b5de2b"
             ],
             [
              1,
              "#fde725"
             ]
            ],
            "type": "heatmapgl"
           }
          ],
          "histogram": [
           {
            "marker": {
             "line": {
              "color": "white",
              "width": 0.6
             }
            },
            "type": "histogram"
           }
          ],
          "histogram2d": [
           {
            "colorbar": {
             "outlinewidth": 1,
             "tickcolor": "rgb(36,36,36)",
             "ticks": "outside"
            },
            "colorscale": [
             [
              0,
              "#440154"
             ],
             [
              0.1111111111111111,
              "#482878"
             ],
             [
              0.2222222222222222,
              "#3e4989"
             ],
             [
              0.3333333333333333,
              "#31688e"
             ],
             [
              0.4444444444444444,
              "#26828e"
             ],
             [
              0.5555555555555556,
              "#1f9e89"
             ],
             [
              0.6666666666666666,
              "#35b779"
             ],
             [
              0.7777777777777778,
              "#6ece58"
             ],
             [
              0.8888888888888888,
              "#b5de2b"
             ],
             [
              1,
              "#fde725"
             ]
            ],
            "type": "histogram2d"
           }
          ],
          "histogram2dcontour": [
           {
            "colorbar": {
             "outlinewidth": 1,
             "tickcolor": "rgb(36,36,36)",
             "ticks": "outside"
            },
            "colorscale": [
             [
              0,
              "#440154"
             ],
             [
              0.1111111111111111,
              "#482878"
             ],
             [
              0.2222222222222222,
              "#3e4989"
             ],
             [
              0.3333333333333333,
              "#31688e"
             ],
             [
              0.4444444444444444,
              "#26828e"
             ],
             [
              0.5555555555555556,
              "#1f9e89"
             ],
             [
              0.6666666666666666,
              "#35b779"
             ],
             [
              0.7777777777777778,
              "#6ece58"
             ],
             [
              0.8888888888888888,
              "#b5de2b"
             ],
             [
              1,
              "#fde725"
             ]
            ],
            "type": "histogram2dcontour"
           }
          ],
          "mesh3d": [
           {
            "colorbar": {
             "outlinewidth": 1,
             "tickcolor": "rgb(36,36,36)",
             "ticks": "outside"
            },
            "type": "mesh3d"
           }
          ],
          "parcoords": [
           {
            "line": {
             "colorbar": {
              "outlinewidth": 1,
              "tickcolor": "rgb(36,36,36)",
              "ticks": "outside"
             }
            },
            "type": "parcoords"
           }
          ],
          "pie": [
           {
            "automargin": true,
            "type": "pie"
           }
          ],
          "scatter": [
           {
            "fillpattern": {
             "fillmode": "overlay",
             "size": 10,
             "solidity": 0.2
            },
            "type": "scatter"
           }
          ],
          "scatter3d": [
           {
            "line": {
             "colorbar": {
              "outlinewidth": 1,
              "tickcolor": "rgb(36,36,36)",
              "ticks": "outside"
             }
            },
            "marker": {
             "colorbar": {
              "outlinewidth": 1,
              "tickcolor": "rgb(36,36,36)",
              "ticks": "outside"
             }
            },
            "type": "scatter3d"
           }
          ],
          "scattercarpet": [
           {
            "marker": {
             "colorbar": {
              "outlinewidth": 1,
              "tickcolor": "rgb(36,36,36)",
              "ticks": "outside"
             }
            },
            "type": "scattercarpet"
           }
          ],
          "scattergeo": [
           {
            "marker": {
             "colorbar": {
              "outlinewidth": 1,
              "tickcolor": "rgb(36,36,36)",
              "ticks": "outside"
             }
            },
            "type": "scattergeo"
           }
          ],
          "scattergl": [
           {
            "marker": {
             "colorbar": {
              "outlinewidth": 1,
              "tickcolor": "rgb(36,36,36)",
              "ticks": "outside"
             }
            },
            "type": "scattergl"
           }
          ],
          "scattermapbox": [
           {
            "marker": {
             "colorbar": {
              "outlinewidth": 1,
              "tickcolor": "rgb(36,36,36)",
              "ticks": "outside"
             }
            },
            "type": "scattermapbox"
           }
          ],
          "scatterpolar": [
           {
            "marker": {
             "colorbar": {
              "outlinewidth": 1,
              "tickcolor": "rgb(36,36,36)",
              "ticks": "outside"
             }
            },
            "type": "scatterpolar"
           }
          ],
          "scatterpolargl": [
           {
            "marker": {
             "colorbar": {
              "outlinewidth": 1,
              "tickcolor": "rgb(36,36,36)",
              "ticks": "outside"
             }
            },
            "type": "scatterpolargl"
           }
          ],
          "scatterternary": [
           {
            "marker": {
             "colorbar": {
              "outlinewidth": 1,
              "tickcolor": "rgb(36,36,36)",
              "ticks": "outside"
             }
            },
            "type": "scatterternary"
           }
          ],
          "surface": [
           {
            "colorbar": {
             "outlinewidth": 1,
             "tickcolor": "rgb(36,36,36)",
             "ticks": "outside"
            },
            "colorscale": [
             [
              0,
              "#440154"
             ],
             [
              0.1111111111111111,
              "#482878"
             ],
             [
              0.2222222222222222,
              "#3e4989"
             ],
             [
              0.3333333333333333,
              "#31688e"
             ],
             [
              0.4444444444444444,
              "#26828e"
             ],
             [
              0.5555555555555556,
              "#1f9e89"
             ],
             [
              0.6666666666666666,
              "#35b779"
             ],
             [
              0.7777777777777778,
              "#6ece58"
             ],
             [
              0.8888888888888888,
              "#b5de2b"
             ],
             [
              1,
              "#fde725"
             ]
            ],
            "type": "surface"
           }
          ],
          "table": [
           {
            "cells": {
             "fill": {
              "color": "rgb(237,237,237)"
             },
             "line": {
              "color": "white"
             }
            },
            "header": {
             "fill": {
              "color": "rgb(217,217,217)"
             },
             "line": {
              "color": "white"
             }
            },
            "type": "table"
           }
          ]
         },
         "layout": {
          "annotationdefaults": {
           "arrowhead": 0,
           "arrowwidth": 1
          },
          "autotypenumbers": "strict",
          "coloraxis": {
           "colorbar": {
            "outlinewidth": 1,
            "tickcolor": "rgb(36,36,36)",
            "ticks": "outside"
           }
          },
          "colorscale": {
           "diverging": [
            [
             0,
             "rgb(103,0,31)"
            ],
            [
             0.1,
             "rgb(178,24,43)"
            ],
            [
             0.2,
             "rgb(214,96,77)"
            ],
            [
             0.3,
             "rgb(244,165,130)"
            ],
            [
             0.4,
             "rgb(253,219,199)"
            ],
            [
             0.5,
             "rgb(247,247,247)"
            ],
            [
             0.6,
             "rgb(209,229,240)"
            ],
            [
             0.7,
             "rgb(146,197,222)"
            ],
            [
             0.8,
             "rgb(67,147,195)"
            ],
            [
             0.9,
             "rgb(33,102,172)"
            ],
            [
             1,
             "rgb(5,48,97)"
            ]
           ],
           "sequential": [
            [
             0,
             "#440154"
            ],
            [
             0.1111111111111111,
             "#482878"
            ],
            [
             0.2222222222222222,
             "#3e4989"
            ],
            [
             0.3333333333333333,
             "#31688e"
            ],
            [
             0.4444444444444444,
             "#26828e"
            ],
            [
             0.5555555555555556,
             "#1f9e89"
            ],
            [
             0.6666666666666666,
             "#35b779"
            ],
            [
             0.7777777777777778,
             "#6ece58"
            ],
            [
             0.8888888888888888,
             "#b5de2b"
            ],
            [
             1,
             "#fde725"
            ]
           ],
           "sequentialminus": [
            [
             0,
             "#440154"
            ],
            [
             0.1111111111111111,
             "#482878"
            ],
            [
             0.2222222222222222,
             "#3e4989"
            ],
            [
             0.3333333333333333,
             "#31688e"
            ],
            [
             0.4444444444444444,
             "#26828e"
            ],
            [
             0.5555555555555556,
             "#1f9e89"
            ],
            [
             0.6666666666666666,
             "#35b779"
            ],
            [
             0.7777777777777778,
             "#6ece58"
            ],
            [
             0.8888888888888888,
             "#b5de2b"
            ],
            [
             1,
             "#fde725"
            ]
           ]
          },
          "colorway": [
           "#1F77B4",
           "#FF7F0E",
           "#2CA02C",
           "#D62728",
           "#9467BD",
           "#8C564B",
           "#E377C2",
           "#7F7F7F",
           "#BCBD22",
           "#17BECF"
          ],
          "font": {
           "color": "rgb(36,36,36)"
          },
          "geo": {
           "bgcolor": "white",
           "lakecolor": "white",
           "landcolor": "white",
           "showlakes": true,
           "showland": true,
           "subunitcolor": "white"
          },
          "hoverlabel": {
           "align": "left"
          },
          "hovermode": "closest",
          "mapbox": {
           "style": "light"
          },
          "paper_bgcolor": "white",
          "plot_bgcolor": "white",
          "polar": {
           "angularaxis": {
            "gridcolor": "rgb(232,232,232)",
            "linecolor": "rgb(36,36,36)",
            "showgrid": false,
            "showline": true,
            "ticks": "outside"
           },
           "bgcolor": "white",
           "radialaxis": {
            "gridcolor": "rgb(232,232,232)",
            "linecolor": "rgb(36,36,36)",
            "showgrid": false,
            "showline": true,
            "ticks": "outside"
           }
          },
          "scene": {
           "xaxis": {
            "backgroundcolor": "white",
            "gridcolor": "rgb(232,232,232)",
            "gridwidth": 2,
            "linecolor": "rgb(36,36,36)",
            "showbackground": true,
            "showgrid": false,
            "showline": true,
            "ticks": "outside",
            "zeroline": false,
            "zerolinecolor": "rgb(36,36,36)"
           },
           "yaxis": {
            "backgroundcolor": "white",
            "gridcolor": "rgb(232,232,232)",
            "gridwidth": 2,
            "linecolor": "rgb(36,36,36)",
            "showbackground": true,
            "showgrid": false,
            "showline": true,
            "ticks": "outside",
            "zeroline": false,
            "zerolinecolor": "rgb(36,36,36)"
           },
           "zaxis": {
            "backgroundcolor": "white",
            "gridcolor": "rgb(232,232,232)",
            "gridwidth": 2,
            "linecolor": "rgb(36,36,36)",
            "showbackground": true,
            "showgrid": false,
            "showline": true,
            "ticks": "outside",
            "zeroline": false,
            "zerolinecolor": "rgb(36,36,36)"
           }
          },
          "shapedefaults": {
           "fillcolor": "black",
           "line": {
            "width": 0
           },
           "opacity": 0.3
          },
          "ternary": {
           "aaxis": {
            "gridcolor": "rgb(232,232,232)",
            "linecolor": "rgb(36,36,36)",
            "showgrid": false,
            "showline": true,
            "ticks": "outside"
           },
           "baxis": {
            "gridcolor": "rgb(232,232,232)",
            "linecolor": "rgb(36,36,36)",
            "showgrid": false,
            "showline": true,
            "ticks": "outside"
           },
           "bgcolor": "white",
           "caxis": {
            "gridcolor": "rgb(232,232,232)",
            "linecolor": "rgb(36,36,36)",
            "showgrid": false,
            "showline": true,
            "ticks": "outside"
           }
          },
          "title": {
           "x": 0.05
          },
          "xaxis": {
           "automargin": true,
           "gridcolor": "rgb(232,232,232)",
           "linecolor": "rgb(36,36,36)",
           "showgrid": false,
           "showline": true,
           "ticks": "outside",
           "title": {
            "standoff": 15
           },
           "zeroline": false,
           "zerolinecolor": "rgb(36,36,36)"
          },
          "yaxis": {
           "automargin": true,
           "gridcolor": "rgb(232,232,232)",
           "linecolor": "rgb(36,36,36)",
           "showgrid": false,
           "showline": true,
           "ticks": "outside",
           "title": {
            "standoff": 15
           },
           "zeroline": false,
           "zerolinecolor": "rgb(36,36,36)"
          }
         }
        },
        "title": {
         "text": "Number of Calls next 48 hours"
        },
        "width": 1000,
        "xaxis": {
         "autorange": true,
         "range": [
          "2023-04-01",
          "2023-04-02 23:00"
         ],
         "title": {
          "text": "Date"
         },
         "type": "date"
        },
        "yaxis": {
         "autorange": true,
         "range": [
          0.2024641086833333,
          0.5813820610166667
         ],
         "title": {
          "text": "Calls"
         },
         "type": "linear"
        }
       }
      },
      "image/png": "[encoded data removed]",
      "text/html": [
       "<div>                            <div id=\"4d8ffbb5-e076-4f04-99e2-5f9ffe9351e4\" class=\"plotly-graph-div\" style=\"height:600px; width:1000px;\"></div>            <script type=\"text/javascript\">                require([\"plotly\"], function(Plotly) {                    window.PLOTLYENV=window.PLOTLYENV || {};                                    if (document.getElementById(\"4d8ffbb5-e076-4f04-99e2-5f9ffe9351e4\")) {                    Plotly.newPlot(                        \"4d8ffbb5-e076-4f04-99e2-5f9ffe9351e4\",                        [{\"mode\":\"lines\",\"name\":\"Quantile 90%\",\"x\":[\"2023-04-01T00:00:00\",\"2023-04-01T01:00:00\",\"2023-04-01T02:00:00\",\"2023-04-01T03:00:00\",\"2023-04-01T04:00:00\",\"2023-04-01T05:00:00\",\"2023-04-01T06:00:00\",\"2023-04-01T07:00:00\",\"2023-04-01T08:00:00\",\"2023-04-01T09:00:00\",\"2023-04-01T10:00:00\",\"2023-04-01T11:00:00\",\"2023-04-01T12:00:00\",\"2023-04-01T13:00:00\",\"2023-04-01T14:00:00\",\"2023-04-01T15:00:00\",\"2023-04-01T16:00:00\",\"2023-04-01T17:00:00\",\"2023-04-01T18:00:00\",\"2023-04-01T19:00:00\",\"2023-04-01T20:00:00\",\"2023-04-01T21:00:00\",\"2023-04-01T22:00:00\",\"2023-04-01T23:00:00\",\"2023-04-02T00:00:00\",\"2023-04-02T01:00:00\",\"2023-04-02T02:00:00\",\"2023-04-02T03:00:00\",\"2023-04-02T04:00:00\",\"2023-04-02T05:00:00\",\"2023-04-02T06:00:00\",\"2023-04-02T07:00:00\",\"2023-04-02T08:00:00\",\"2023-04-02T09:00:00\",\"2023-04-02T10:00:00\",\"2023-04-02T11:00:00\",\"2023-04-02T12:00:00\",\"2023-04-02T13:00:00\",\"2023-04-02T14:00:00\",\"2023-04-02T15:00:00\",\"2023-04-02T16:00:00\",\"2023-04-02T17:00:00\",\"2023-04-02T18:00:00\",\"2023-04-02T19:00:00\",\"2023-04-02T20:00:00\",\"2023-04-02T21:00:00\",\"2023-04-02T22:00:00\",\"2023-04-02T23:00:00\"],\"y\":[0.2953501344,0.298812598,0.2982462347,0.259719342,0.2214100063,0.2479550391,0.262568146,0.2743184865,0.2655386627,0.2700963616,0.292732209,0.2802924514,0.2867447138,0.2980722487,0.2992570996,0.2980357409,0.3128786087,0.3156681955,0.3565460742,0.3145041168,0.3285832703,0.3750065267,0.3785303235,0.3819537163,0.3180397153,0.3206332624,0.3038653433,0.2675815225,0.2515232265,0.2441675961,0.2567921281,0.2695286274,0.2777529657,0.2681663036,0.2837430537,0.2836164236,0.2874859571,0.3092205822,0.3212851286,0.3426408768,0.371373713,0.3849920928,0.4031762779,0.344515413,0.2885759175,0.3009780645,0.3007355034,0.254837513],\"type\":\"scatter\"},{\"fill\":\"tonexty\",\"mode\":\"lines\",\"name\":\"80% CI\",\"x\":[\"2023-04-01T00:00:00\",\"2023-04-01T01:00:00\",\"2023-04-01T02:00:00\",\"2023-04-01T03:00:00\",\"2023-04-01T04:00:00\",\"2023-04-01T05:00:00\",\"2023-04-01T06:00:00\",\"2023-04-01T07:00:00\",\"2023-04-01T08:00:00\",\"2023-04-01T09:00:00\",\"2023-04-01T10:00:00\",\"2023-04-01T11:00:00\",\"2023-04-01T12:00:00\",\"2023-04-01T13:00:00\",\"2023-04-01T14:00:00\",\"2023-04-01T15:00:00\",\"2023-04-01T16:00:00\",\"2023-04-01T17:00:00\",\"2023-04-01T18:00:00\",\"2023-04-01T19:00:00\",\"2023-04-01T20:00:00\",\"2023-04-01T21:00:00\",\"2023-04-01T22:00:00\",\"2023-04-01T23:00:00\",\"2023-04-02T00:00:00\",\"2023-04-02T01:00:00\",\"2023-04-02T02:00:00\",\"2023-04-02T03:00:00\",\"2023-04-02T04:00:00\",\"2023-04-02T05:00:00\",\"2023-04-02T06:00:00\",\"2023-04-02T07:00:00\",\"2023-04-02T08:00:00\",\"2023-04-02T09:00:00\",\"2023-04-02T10:00:00\",\"2023-04-02T11:00:00\",\"2023-04-02T12:00:00\",\"2023-04-02T13:00:00\",\"2023-04-02T14:00:00\",\"2023-04-02T15:00:00\",\"2023-04-02T16:00:00\",\"2023-04-02T17:00:00\",\"2023-04-02T18:00:00\",\"2023-04-02T19:00:00\",\"2023-04-02T20:00:00\",\"2023-04-02T21:00:00\",\"2023-04-02T22:00:00\",\"2023-04-02T23:00:00\"],\"y\":[0.359515816,0.3745208979,0.3872381747,0.3539466262,0.3233453631,0.3425934613,0.3642975092,0.3710922599,0.3630650043,0.375507921,0.375954181,0.3827744424,0.3910568953,0.3983395398,0.4085155427,0.419814229,0.4137250185,0.448661387,0.4678225219,0.4254558384,0.4223445058,0.4589241445,0.4953885376,0.5090101361,0.4559433758,0.4234230518,0.4297782183,0.4001783133,0.3676635325,0.3683560491,0.4016682506,0.3843934238,0.4069905877,0.4080905914,0.417124778,0.424913317,0.4343187213,0.4463522732,0.4609313607,0.4781554639,0.4915037751,0.5231685042,0.5624361634,0.4976714551,0.435454011,0.4401771426,0.4611506462,0.4376070797],\"type\":\"scatter\"},{\"mode\":\"lines\",\"name\":\"Quantile 10%\",\"x\":[\"2023-04-01T00:00:00\",\"2023-04-01T01:00:00\",\"2023-04-01T02:00:00\",\"2023-04-01T03:00:00\",\"2023-04-01T04:00:00\",\"2023-04-01T05:00:00\",\"2023-04-01T06:00:00\",\"2023-04-01T07:00:00\",\"2023-04-01T08:00:00\",\"2023-04-01T09:00:00\",\"2023-04-01T10:00:00\",\"2023-04-01T11:00:00\",\"2023-04-01T12:00:00\",\"2023-04-01T13:00:00\",\"2023-04-01T14:00:00\",\"2023-04-01T15:00:00\",\"2023-04-01T16:00:00\",\"2023-04-01T17:00:00\",\"2023-04-01T18:00:00\",\"2023-04-01T19:00:00\",\"2023-04-01T20:00:00\",\"2023-04-01T21:00:00\",\"2023-04-01T22:00:00\",\"2023-04-01T23:00:00\",\"2023-04-02T00:00:00\",\"2023-04-02T01:00:00\",\"2023-04-02T02:00:00\",\"2023-04-02T03:00:00\",\"2023-04-02T04:00:00\",\"2023-04-02T05:00:00\",\"2023-04-02T06:00:00\",\"2023-04-02T07:00:00\",\"2023-04-02T08:00:00\",\"2023-04-02T09:00:00\",\"2023-04-02T10:00:00\",\"2023-04-02T11:00:00\",\"2023-04-02T12:00:00\",\"2023-04-02T13:00:00\",\"2023-04-02T14:00:00\",\"2023-04-02T15:00:00\",\"2023-04-02T16:00:00\",\"2023-04-02T17:00:00\",\"2023-04-02T18:00:00\",\"2023-04-02T19:00:00\",\"2023-04-02T20:00:00\",\"2023-04-02T21:00:00\",\"2023-04-02T22:00:00\",\"2023-04-02T23:00:00\"],\"y\":[0.359515816,0.3745208979,0.3872381747,0.3539466262,0.3233453631,0.3425934613,0.3642975092,0.3710922599,0.3630650043,0.375507921,0.375954181,0.3827744424,0.3910568953,0.3983395398,0.4085155427,0.419814229,0.4137250185,0.448661387,0.4678225219,0.4254558384,0.4223445058,0.4589241445,0.4953885376,0.5090101361,0.4559433758,0.4234230518,0.4297782183,0.4001783133,0.3676635325,0.3683560491,0.4016682506,0.3843934238,0.4069905877,0.4080905914,0.417124778,0.424913317,0.4343187213,0.4463522732,0.4609313607,0.4781554639,0.4915037751,0.5231685042,0.5624361634,0.4976714551,0.435454011,0.4401771426,0.4611506462,0.4376070797],\"type\":\"scatter\"},{\"mode\":\"lines\",\"name\":\"Forcast\",\"x\":[\"2023-04-01T00:00:00\",\"2023-04-01T01:00:00\",\"2023-04-01T02:00:00\",\"2023-04-01T03:00:00\",\"2023-04-01T04:00:00\",\"2023-04-01T05:00:00\",\"2023-04-01T06:00:00\",\"2023-04-01T07:00:00\",\"2023-04-01T08:00:00\",\"2023-04-01T09:00:00\",\"2023-04-01T10:00:00\",\"2023-04-01T11:00:00\",\"2023-04-01T12:00:00\",\"2023-04-01T13:00:00\",\"2023-04-01T14:00:00\",\"2023-04-01T15:00:00\",\"2023-04-01T16:00:00\",\"2023-04-01T17:00:00\",\"2023-04-01T18:00:00\",\"2023-04-01T19:00:00\",\"2023-04-01T20:00:00\",\"2023-04-01T21:00:00\",\"2023-04-01T22:00:00\",\"2023-04-01T23:00:00\",\"2023-04-02T00:00:00\",\"2023-04-02T01:00:00\",\"2023-04-02T02:00:00\",\"2023-04-02T03:00:00\",\"2023-04-02T04:00:00\",\"2023-04-02T05:00:00\",\"2023-04-02T06:00:00\",\"2023-04-02T07:00:00\",\"2023-04-02T08:00:00\",\"2023-04-02T09:00:00\",\"2023-04-02T10:00:00\",\"2023-04-02T11:00:00\",\"2023-04-02T12:00:00\",\"2023-04-02T13:00:00\",\"2023-04-02T14:00:00\",\"2023-04-02T15:00:00\",\"2023-04-02T16:00:00\",\"2023-04-02T17:00:00\",\"2023-04-02T18:00:00\",\"2023-04-02T19:00:00\",\"2023-04-02T20:00:00\",\"2023-04-02T21:00:00\",\"2023-04-02T22:00:00\",\"2023-04-02T23:00:00\"],\"y\":[0.3287089169,0.3336951733,0.3416624367,0.2998749614,0.2694407105,0.2920181155,0.3132550716,0.3220172226,0.3102006912,0.3221882284,0.3331713974,0.3325346112,0.334594965,0.3428413272,0.3513357043,0.3547403812,0.3658403456,0.3787387013,0.4061781764,0.3704212606,0.3774360418,0.4126342535,0.4340756238,0.4423721731,0.3903822005,0.3753370643,0.3625240028,0.3292165399,0.3051394522,0.3069798648,0.3276492059,0.3271787763,0.3309959471,0.3383753598,0.3500866294,0.3526791036,0.3626146317,0.3727163374,0.3857353628,0.405785799,0.4276358783,0.4493352175,0.4840280414,0.4315648973,0.3612518311,0.365670085,0.3728136122,0.3487367332],\"type\":\"scatter\"}],                        {\"template\":{\"data\":{\"barpolar\":[{\"marker\":{\"line\":{\"color\":\"white\",\"width\":0.5},\"pattern\":{\"fillmode\":\"overlay\",\"size\":10,\"solidity\":0.2}},\"type\":\"barpolar\"}],\"bar\":[{\"error_x\":{\"color\":\"rgb(36,36,36)\"},\"error_y\":{\"color\":\"rgb(36,36,36)\"},\"marker\":{\"line\":{\"color\":\"white\",\"width\":0.5},\"pattern\":{\"fillmode\":\"overlay\",\"size\":10,\"solidity\":0.2}},\"type\":\"bar\"}],\"carpet\":[{\"aaxis\":{\"endlinecolor\":\"rgb(36,36,36)\",\"gridcolor\":\"white\",\"linecolor\":\"white\",\"minorgridcolor\":\"white\",\"startlinecolor\":\"rgb(36,36,36)\"},\"baxis\":{\"endlinecolor\":\"rgb(36,36,36)\",\"gridcolor\":\"white\",\"linecolor\":\"white\",\"minorgridcolor\":\"white\",\"startlinecolor\":\"rgb(36,36,36)\"},\"type\":\"carpet\"}],\"choropleth\":[{\"colorbar\":{\"outlinewidth\":1,\"tickcolor\":\"rgb(36,36,36)\",\"ticks\":\"outside\"},\"type\":\"choropleth\"}],\"contourcarpet\":[{\"colorbar\":{\"outlinewidth\":1,\"tickcolor\":\"rgb(36,36,36)\",\"ticks\":\"outside\"},\"type\":\"contourcarpet\"}],\"contour\":[{\"colorbar\":{\"outlinewidth\":1,\"tickcolor\":\"rgb(36,36,36)\",\"ticks\":\"outside\"},\"colorscale\":[[0.0,\"#440154\"],[0.1111111111111111,\"#482878\"],[0.2222222222222222,\"#3e4989\"],[0.3333333333333333,\"#31688e\"],[0.4444444444444444,\"#26828e\"],[0.5555555555555556,\"#1f9e89\"],[0.6666666666666666,\"#35b779\"],[0.7777777777777778,\"#6ece58\"],[0.8888888888888888,\"#b5de2b\"],[1.0,\"#fde725\"]],\"type\":\"contour\"}],\"heatmapgl\":[{\"colorbar\":{\"outlinewidth\":1,\"tickcolor\":\"rgb(36,36,36)\",\"ticks\":\"outside\"},\"colorscale\":[[0.0,\"#440154\"],[0.1111111111111111,\"#482878\"],[0.2222222222222222,\"#3e4989\"],[0.3333333333333333,\"#31688e\"],[0.4444444444444444,\"#26828e\"],[0.5555555555555556,\"#1f9e89\"],[0.6666666666666666,\"#35b779\"],[0.7777777777777778,\"#6ece58\"],[0.8888888888888888,\"#b5de2b\"],[1.0,\"#fde725\"]],\"type\":\"heatmapgl\"}],\"heatmap\":[{\"colorbar\":{\"outlinewidth\":1,\"tickcolor\":\"rgb(36,36,36)\",\"ticks\":\"outside\"},\"colorscale\":[[0.0,\"#440154\"],[0.1111111111111111,\"#482878\"],[0.2222222222222222,\"#3e4989\"],[0.3333333333333333,\"#31688e\"],[0.4444444444444444,\"#26828e\"],[0.5555555555555556,\"#1f9e89\"],[0.6666666666666666,\"#35b779\"],[0.7777777777777778,\"#6ece58\"],[0.8888888888888888,\"#b5de2b\"],[1.0,\"#fde725\"]],\"type\":\"heatmap\"}],\"histogram2dcontour\":[{\"colorbar\":{\"outlinewidth\":1,\"tickcolor\":\"rgb(36,36,36)\",\"ticks\":\"outside\"},\"colorscale\":[[0.0,\"#440154\"],[0.1111111111111111,\"#482878\"],[0.2222222222222222,\"#3e4989\"],[0.3333333333333333,\"#31688e\"],[0.4444444444444444,\"#26828e\"],[0.5555555555555556,\"#1f9e89\"],[0.6666666666666666,\"#35b779\"],[0.7777777777777778,\"#6ece58\"],[0.8888888888888888,\"#b5de2b\"],[1.0,\"#fde725\"]],\"type\":\"histogram2dcontour\"}],\"histogram2d\":[{\"colorbar\":{\"outlinewidth\":1,\"tickcolor\":\"rgb(36,36,36)\",\"ticks\":\"outside\"},\"colorscale\":[[0.0,\"#440154\"],[0.1111111111111111,\"#482878\"],[0.2222222222222222,\"#3e4989\"],[0.3333333333333333,\"#31688e\"],[0.4444444444444444,\"#26828e\"],[0.5555555555555556,\"#1f9e89\"],[0.6666666666666666,\"#35b779\"],[0.7777777777777778,\"#6ece58\"],[0.8888888888888888,\"#b5de2b\"],[1.0,\"#fde725\"]],\"type\":\"histogram2d\"}],\"histogram\":[{\"marker\":{\"line\":{\"color\":\"white\",\"width\":0.6}},\"type\":\"histogram\"}],\"mesh3d\":[{\"colorbar\":{\"outlinewidth\":1,\"tickcolor\":\"rgb(36,36,36)\",\"ticks\":\"outside\"},\"type\":\"mesh3d\"}],\"parcoords\":[{\"line\":{\"colorbar\":{\"outlinewidth\":1,\"tickcolor\":\"rgb(36,36,36)\",\"ticks\":\"outside\"}},\"type\":\"parcoords\"}],\"pie\":[{\"automargin\":true,\"type\":\"pie\"}],\"scatter3d\":[{\"line\":{\"colorbar\":{\"outlinewidth\":1,\"tickcolor\":\"rgb(36,36,36)\",\"ticks\":\"outside\"}},\"marker\":{\"colorbar\":{\"outlinewidth\":1,\"tickcolor\":\"rgb(36,36,36)\",\"ticks\":\"outside\"}},\"type\":\"scatter3d\"}],\"scattercarpet\":[{\"marker\":{\"colorbar\":{\"outlinewidth\":1,\"tickcolor\":\"rgb(36,36,36)\",\"ticks\":\"outside\"}},\"type\":\"scattercarpet\"}],\"scattergeo\":[{\"marker\":{\"colorbar\":{\"outlinewidth\":1,\"tickcolor\":\"rgb(36,36,36)\",\"ticks\":\"outside\"}},\"type\":\"scattergeo\"}],\"scattergl\":[{\"marker\":{\"colorbar\":{\"outlinewidth\":1,\"tickcolor\":\"rgb(36,36,36)\",\"ticks\":\"outside\"}},\"type\":\"scattergl\"}],\"scattermapbox\":[{\"marker\":{\"colorbar\":{\"outlinewidth\":1,\"tickcolor\":\"rgb(36,36,36)\",\"ticks\":\"outside\"}},\"type\":\"scattermapbox\"}],\"scatterpolargl\":[{\"marker\":{\"colorbar\":{\"outlinewidth\":1,\"tickcolor\":\"rgb(36,36,36)\",\"ticks\":\"outside\"}},\"type\":\"scatterpolargl\"}],\"scatterpolar\":[{\"marker\":{\"colorbar\":{\"outlinewidth\":1,\"tickcolor\":\"rgb(36,36,36)\",\"ticks\":\"outside\"}},\"type\":\"scatterpolar\"}],\"scatter\":[{\"fillpattern\":{\"fillmode\":\"overlay\",\"size\":10,\"solidity\":0.2},\"type\":\"scatter\"}],\"scatterternary\":[{\"marker\":{\"colorbar\":{\"outlinewidth\":1,\"tickcolor\":\"rgb(36,36,36)\",\"ticks\":\"outside\"}},\"type\":\"scatterternary\"}],\"surface\":[{\"colorbar\":{\"outlinewidth\":1,\"tickcolor\":\"rgb(36,36,36)\",\"ticks\":\"outside\"},\"colorscale\":[[0.0,\"#440154\"],[0.1111111111111111,\"#482878\"],[0.2222222222222222,\"#3e4989\"],[0.3333333333333333,\"#31688e\"],[0.4444444444444444,\"#26828e\"],[0.5555555555555556,\"#1f9e89\"],[0.6666666666666666,\"#35b779\"],[0.7777777777777778,\"#6ece58\"],[0.8888888888888888,\"#b5de2b\"],[1.0,\"#fde725\"]],\"type\":\"surface\"}],\"table\":[{\"cells\":{\"fill\":{\"color\":\"rgb(237,237,237)\"},\"line\":{\"color\":\"white\"}},\"header\":{\"fill\":{\"color\":\"rgb(217,217,217)\"},\"line\":{\"color\":\"white\"}},\"type\":\"table\"}]},\"layout\":{\"annotationdefaults\":{\"arrowhead\":0,\"arrowwidth\":1},\"autotypenumbers\":\"strict\",\"coloraxis\":{\"colorbar\":{\"outlinewidth\":1,\"tickcolor\":\"rgb(36,36,36)\",\"ticks\":\"outside\"}},\"colorscale\":{\"diverging\":[[0.0,\"rgb(103,0,31)\"],[0.1,\"rgb(178,24,43)\"],[0.2,\"rgb(214,96,77)\"],[0.3,\"rgb(244,165,130)\"],[0.4,\"rgb(253,219,199)\"],[0.5,\"rgb(247,247,247)\"],[0.6,\"rgb(209,229,240)\"],[0.7,\"rgb(146,197,222)\"],[0.8,\"rgb(67,147,195)\"],[0.9,\"rgb(33,102,172)\"],[1.0,\"rgb(5,48,97)\"]],\"sequential\":[[0.0,\"#440154\"],[0.1111111111111111,\"#482878\"],[0.2222222222222222,\"#3e4989\"],[0.3333333333333333,\"#31688e\"],[0.4444444444444444,\"#26828e\"],[0.5555555555555556,\"#1f9e89\"],[0.6666666666666666,\"#35b779\"],[0.7777777777777778,\"#6ece58\"],[0.8888888888888888,\"#b5de2b\"],[1.0,\"#fde725\"]],\"sequentialminus\":[[0.0,\"#440154\"],[0.1111111111111111,\"#482878\"],[0.2222222222222222,\"#3e4989\"],[0.3333333333333333,\"#31688e\"],[0.4444444444444444,\"#26828e\"],[0.5555555555555556,\"#1f9e89\"],[0.6666666666666666,\"#35b779\"],[0.7777777777777778,\"#6ece58\"],[0.8888888888888888,\"#b5de2b\"],[1.0,\"#fde725\"]]},\"colorway\":[\"#1F77B4\",\"#FF7F0E\",\"#2CA02C\",\"#D62728\",\"#9467BD\",\"#8C564B\",\"#E377C2\",\"#7F7F7F\",\"#BCBD22\",\"#17BECF\"],\"font\":{\"color\":\"rgb(36,36,36)\"},\"geo\":{\"bgcolor\":\"white\",\"lakecolor\":\"white\",\"landcolor\":\"white\",\"showlakes\":true,\"showland\":true,\"subunitcolor\":\"white\"},\"hoverlabel\":{\"align\":\"left\"},\"hovermode\":\"closest\",\"mapbox\":{\"style\":\"light\"},\"paper_bgcolor\":\"white\",\"plot_bgcolor\":\"white\",\"polar\":{\"angularaxis\":{\"gridcolor\":\"rgb(232,232,232)\",\"linecolor\":\"rgb(36,36,36)\",\"showgrid\":false,\"showline\":true,\"ticks\":\"outside\"},\"bgcolor\":\"white\",\"radialaxis\":{\"gridcolor\":\"rgb(232,232,232)\",\"linecolor\":\"rgb(36,36,36)\",\"showgrid\":false,\"showline\":true,\"ticks\":\"outside\"}},\"scene\":{\"xaxis\":{\"backgroundcolor\":\"white\",\"gridcolor\":\"rgb(232,232,232)\",\"gridwidth\":2,\"linecolor\":\"rgb(36,36,36)\",\"showbackground\":true,\"showgrid\":false,\"showline\":true,\"ticks\":\"outside\",\"zeroline\":false,\"zerolinecolor\":\"rgb(36,36,36)\"},\"yaxis\":{\"backgroundcolor\":\"white\",\"gridcolor\":\"rgb(232,232,232)\",\"gridwidth\":2,\"linecolor\":\"rgb(36,36,36)\",\"showbackground\":true,\"showgrid\":false,\"showline\":true,\"ticks\":\"outside\",\"zeroline\":false,\"zerolinecolor\":\"rgb(36,36,36)\"},\"zaxis\":{\"backgroundcolor\":\"white\",\"gridcolor\":\"rgb(232,232,232)\",\"gridwidth\":2,\"linecolor\":\"rgb(36,36,36)\",\"showbackground\":true,\"showgrid\":false,\"showline\":true,\"ticks\":\"outside\",\"zeroline\":false,\"zerolinecolor\":\"rgb(36,36,36)\"}},\"shapedefaults\":{\"fillcolor\":\"black\",\"line\":{\"width\":0},\"opacity\":0.3},\"ternary\":{\"aaxis\":{\"gridcolor\":\"rgb(232,232,232)\",\"linecolor\":\"rgb(36,36,36)\",\"showgrid\":false,\"showline\":true,\"ticks\":\"outside\"},\"baxis\":{\"gridcolor\":\"rgb(232,232,232)\",\"linecolor\":\"rgb(36,36,36)\",\"showgrid\":false,\"showline\":true,\"ticks\":\"outside\"},\"bgcolor\":\"white\",\"caxis\":{\"gridcolor\":\"rgb(232,232,232)\",\"linecolor\":\"rgb(36,36,36)\",\"showgrid\":false,\"showline\":true,\"ticks\":\"outside\"}},\"title\":{\"x\":0.05},\"xaxis\":{\"automargin\":true,\"gridcolor\":\"rgb(232,232,232)\",\"linecolor\":\"rgb(36,36,36)\",\"showgrid\":false,\"showline\":true,\"ticks\":\"outside\",\"title\":{\"standoff\":15},\"zeroline\":false,\"zerolinecolor\":\"rgb(36,36,36)\"},\"yaxis\":{\"automargin\":true,\"gridcolor\":\"rgb(232,232,232)\",\"linecolor\":\"rgb(36,36,36)\",\"showgrid\":false,\"showline\":true,\"ticks\":\"outside\",\"title\":{\"standoff\":15},\"zeroline\":false,\"zerolinecolor\":\"rgb(36,36,36)\"}}},\"margin\":{\"l\":50,\"r\":25,\"b\":10,\"t\":50,\"pad\":4},\"title\":{\"text\":\"Number of Calls next 48 hours\"},\"xaxis\":{\"title\":{\"text\":\"Date\"}},\"yaxis\":{\"title\":{\"text\":\"Calls\"}},\"autosize\":false,\"width\":1000,\"height\":600},                        {\"responsive\": true}                    ).then(function(){\n",
       "                            \n",
       "var gd = document.getElementById('4d8ffbb5-e076-4f04-99e2-5f9ffe9351e4');\n",
       "var x = new MutationObserver(function (mutations, observer) {{\n",
       "        var display = window.getComputedStyle(gd).display;\n",
       "        if (!display || display === 'none') {{\n",
       "            console.log([gd, 'removed!']);\n",
       "            Plotly.purge(gd);\n",
       "            observer.disconnect();\n",
       "        }}\n",
       "}});\n",
       "\n",
       "// Listen for the removal of the full notebook cells\n",
       "var notebookContainer = gd.closest('#notebook-container');\n",
       "if (notebookContainer) {{\n",
       "    x.observe(notebookContainer, {childList: true});\n",
       "}}\n",
       "\n",
       "// Listen for the clearing of the current output cell\n",
       "var outputEl = gd.closest('.output');\n",
       "if (outputEl) {{\n",
       "    x.observe(outputEl, {childList: true});\n",
       "}}\n",
       "\n",
       "                        })                };                });            </script>        </div>"
      ]
     },
     "metadata": {},
     "output_type": "display_data"
    }
   ],
   "source": [
    "# create the chart\n",
    "fig = go.Figure()\n",
    "\n",
    "time=df['timestamp']\n",
    "CI_90=df['Q9']\n",
    "CI_10=df['Q1']\n",
    "forcast = df['forecast']\n",
    "\n",
    "trace_90 = go.Scatter(x=time, y=CI_10, mode='lines', name='Quantile 90%')\n",
    "fill_trace = go.Scatter(x=time, y=CI_90, mode='lines', name='80% CI', fill='tonexty')\n",
    "trace_10 = go.Scatter(x=time, y=CI_90, mode='lines', name='Quantile 10%')\n",
    "trace_forcast = go.Scatter(x=time, y=forcast, mode='lines', name='Forcast')\n",
    "\n",
    "fig = go.Figure([\n",
    "    trace_90,\n",
    "    fill_trace,\n",
    "    trace_10,\n",
    "    trace_forcast\n",
    "])\n",
    "\n",
    "fig.update_layout(\n",
    "    title='Number of Calls next 48 hours',\n",
    "    xaxis_title='Date',\n",
    "    yaxis_title='Calls',\n",
    "    autosize=False,\n",
    "    width=1000,\n",
    "    height=600,\n",
    "    template='simple_white',\n",
    "    margin=dict(\n",
    "        l=50,\n",
    "        r=25,\n",
    "        b=10,\n",
    "        t=50,\n",
    "        pad=4\n",
    "    ),\n",
    "    #paper_bgcolor=\"ggplot2\",\n",
    ")\n",
    "\n",
    "#filename = 'endpoint_forecast.png'\n",
    "#path = 'Images/' + filename\n",
    "#fig.write_image(path)\n",
    "fig.show()"
   ]
  }
 ],
 "metadata": {
  "availableInstances": [
   {
    "_defaultOrder": 0,
    "_isFastLaunch": true,
    "category": "General purpose",
    "gpuNum": 0,
    "hideHardwareSpecs": false,
    "memoryGiB": 4,
    "name": "ml.t3.medium",
    "vcpuNum": 2
   },
   {
    "_defaultOrder": 1,
    "_isFastLaunch": false,
    "category": "General purpose",
    "gpuNum": 0,
    "hideHardwareSpecs": false,
    "memoryGiB": 8,
    "name": "ml.t3.large",
    "vcpuNum": 2
   },
   {
    "_defaultOrder": 2,
    "_isFastLaunch": false,
    "category": "General purpose",
    "gpuNum": 0,
    "hideHardwareSpecs": false,
    "memoryGiB": 16,
    "name": "ml.t3.xlarge",
    "vcpuNum": 4
   },
   {
    "_defaultOrder": 3,
    "_isFastLaunch": false,
    "category": "General purpose",
    "gpuNum": 0,
    "hideHardwareSpecs": false,
    "memoryGiB": 32,
    "name": "ml.t3.2xlarge",
    "vcpuNum": 8
   },
   {
    "_defaultOrder": 4,
    "_isFastLaunch": true,
    "category": "General purpose",
    "gpuNum": 0,
    "hideHardwareSpecs": false,
    "memoryGiB": 8,
    "name": "ml.m5.large",
    "vcpuNum": 2
   },
   {
    "_defaultOrder": 5,
    "_isFastLaunch": false,
    "category": "General purpose",
    "gpuNum": 0,
    "hideHardwareSpecs": false,
    "memoryGiB": 16,
    "name": "ml.m5.xlarge",
    "vcpuNum": 4
   },
   {
    "_defaultOrder": 6,
    "_isFastLaunch": false,
    "category": "General purpose",
    "gpuNum": 0,
    "hideHardwareSpecs": false,
    "memoryGiB": 32,
    "name": "ml.m5.2xlarge",
    "vcpuNum": 8
   },
   {
    "_defaultOrder": 7,
    "_isFastLaunch": false,
    "category": "General purpose",
    "gpuNum": 0,
    "hideHardwareSpecs": false,
    "memoryGiB": 64,
    "name": "ml.m5.4xlarge",
    "vcpuNum": 16
   },
   {
    "_defaultOrder": 8,
    "_isFastLaunch": false,
    "category": "General purpose",
    "gpuNum": 0,
    "hideHardwareSpecs": false,
    "memoryGiB": 128,
    "name": "ml.m5.8xlarge",
    "vcpuNum": 32
   },
   {
    "_defaultOrder": 9,
    "_isFastLaunch": false,
    "category": "General purpose",
    "gpuNum": 0,
    "hideHardwareSpecs": false,
    "memoryGiB": 192,
    "name": "ml.m5.12xlarge",
    "vcpuNum": 48
   },
   {
    "_defaultOrder": 10,
    "_isFastLaunch": false,
    "category": "General purpose",
    "gpuNum": 0,
    "hideHardwareSpecs": false,
    "memoryGiB": 256,
    "name": "ml.m5.16xlarge",
    "vcpuNum": 64
   },
   {
    "_defaultOrder": 11,
    "_isFastLaunch": false,
    "category": "General purpose",
    "gpuNum": 0,
    "hideHardwareSpecs": false,
    "memoryGiB": 384,
    "name": "ml.m5.24xlarge",
    "vcpuNum": 96
   },
   {
    "_defaultOrder": 12,
    "_isFastLaunch": false,
    "category": "General purpose",
    "gpuNum": 0,
    "hideHardwareSpecs": false,
    "memoryGiB": 8,
    "name": "ml.m5d.large",
    "vcpuNum": 2
   },
   {
    "_defaultOrder": 13,
    "_isFastLaunch": false,
    "category": "General purpose",
    "gpuNum": 0,
    "hideHardwareSpecs": false,
    "memoryGiB": 16,
    "name": "ml.m5d.xlarge",
    "vcpuNum": 4
   },
   {
    "_defaultOrder": 14,
    "_isFastLaunch": false,
    "category": "General purpose",
    "gpuNum": 0,
    "hideHardwareSpecs": false,
    "memoryGiB": 32,
    "name": "ml.m5d.2xlarge",
    "vcpuNum": 8
   },
   {
    "_defaultOrder": 15,
    "_isFastLaunch": false,
    "category": "General purpose",
    "gpuNum": 0,
    "hideHardwareSpecs": false,
    "memoryGiB": 64,
    "name": "ml.m5d.4xlarge",
    "vcpuNum": 16
   },
   {
    "_defaultOrder": 16,
    "_isFastLaunch": false,
    "category": "General purpose",
    "gpuNum": 0,
    "hideHardwareSpecs": false,
    "memoryGiB": 128,
    "name": "ml.m5d.8xlarge",
    "vcpuNum": 32
   },
   {
    "_defaultOrder": 17,
    "_isFastLaunch": false,
    "category": "General purpose",
    "gpuNum": 0,
    "hideHardwareSpecs": false,
    "memoryGiB": 192,
    "name": "ml.m5d.12xlarge",
    "vcpuNum": 48
   },
   {
    "_defaultOrder": 18,
    "_isFastLaunch": false,
    "category": "General purpose",
    "gpuNum": 0,
    "hideHardwareSpecs": false,
    "memoryGiB": 256,
    "name": "ml.m5d.16xlarge",
    "vcpuNum": 64
   },
   {
    "_defaultOrder": 19,
    "_isFastLaunch": false,
    "category": "General purpose",
    "gpuNum": 0,
    "hideHardwareSpecs": false,
    "memoryGiB": 384,
    "name": "ml.m5d.24xlarge",
    "vcpuNum": 96
   },
   {
    "_defaultOrder": 20,
    "_isFastLaunch": false,
    "category": "General purpose",
    "gpuNum": 0,
    "hideHardwareSpecs": true,
    "memoryGiB": 0,
    "name": "ml.geospatial.interactive",
    "supportedImageNames": [
     "sagemaker-geospatial-v1-0"
    ],
    "vcpuNum": 0
   },
   {
    "_defaultOrder": 21,
    "_isFastLaunch": true,
    "category": "Compute optimized",
    "gpuNum": 0,
    "hideHardwareSpecs": false,
    "memoryGiB": 4,
    "name": "ml.c5.large",
    "vcpuNum": 2
   },
   {
    "_defaultOrder": 22,
    "_isFastLaunch": false,
    "category": "Compute optimized",
    "gpuNum": 0,
    "hideHardwareSpecs": false,
    "memoryGiB": 8,
    "name": "ml.c5.xlarge",
    "vcpuNum": 4
   },
   {
    "_defaultOrder": 23,
    "_isFastLaunch": false,
    "category": "Compute optimized",
    "gpuNum": 0,
    "hideHardwareSpecs": false,
    "memoryGiB": 16,
    "name": "ml.c5.2xlarge",
    "vcpuNum": 8
   },
   {
    "_defaultOrder": 24,
    "_isFastLaunch": false,
    "category": "Compute optimized",
    "gpuNum": 0,
    "hideHardwareSpecs": false,
    "memoryGiB": 32,
    "name": "ml.c5.4xlarge",
    "vcpuNum": 16
   },
   {
    "_defaultOrder": 25,
    "_isFastLaunch": false,
    "category": "Compute optimized",
    "gpuNum": 0,
    "hideHardwareSpecs": false,
    "memoryGiB": 72,
    "name": "ml.c5.9xlarge",
    "vcpuNum": 36
   },
   {
    "_defaultOrder": 26,
    "_isFastLaunch": false,
    "category": "Compute optimized",
    "gpuNum": 0,
    "hideHardwareSpecs": false,
    "memoryGiB": 96,
    "name": "ml.c5.12xlarge",
    "vcpuNum": 48
   },
   {
    "_defaultOrder": 27,
    "_isFastLaunch": false,
    "category": "Compute optimized",
    "gpuNum": 0,
    "hideHardwareSpecs": false,
    "memoryGiB": 144,
    "name": "ml.c5.18xlarge",
    "vcpuNum": 72
   },
   {
    "_defaultOrder": 28,
    "_isFastLaunch": false,
    "category": "Compute optimized",
    "gpuNum": 0,
    "hideHardwareSpecs": false,
    "memoryGiB": 192,
    "name": "ml.c5.24xlarge",
    "vcpuNum": 96
   },
   {
    "_defaultOrder": 29,
    "_isFastLaunch": true,
    "category": "Accelerated computing",
    "gpuNum": 1,
    "hideHardwareSpecs": false,
    "memoryGiB": 16,
    "name": "ml.g4dn.xlarge",
    "vcpuNum": 4
   },
   {
    "_defaultOrder": 30,
    "_isFastLaunch": false,
    "category": "Accelerated computing",
    "gpuNum": 1,
    "hideHardwareSpecs": false,
    "memoryGiB": 32,
    "name": "ml.g4dn.2xlarge",
    "vcpuNum": 8
   },
   {
    "_defaultOrder": 31,
    "_isFastLaunch": false,
    "category": "Accelerated computing",
    "gpuNum": 1,
    "hideHardwareSpecs": false,
    "memoryGiB": 64,
    "name": "ml.g4dn.4xlarge",
    "vcpuNum": 16
   },
   {
    "_defaultOrder": 32,
    "_isFastLaunch": false,
    "category": "Accelerated computing",
    "gpuNum": 1,
    "hideHardwareSpecs": false,
    "memoryGiB": 128,
    "name": "ml.g4dn.8xlarge",
    "vcpuNum": 32
   },
   {
    "_defaultOrder": 33,
    "_isFastLaunch": false,
    "category": "Accelerated computing",
    "gpuNum": 4,
    "hideHardwareSpecs": false,
    "memoryGiB": 192,
    "name": "ml.g4dn.12xlarge",
    "vcpuNum": 48
   },
   {
    "_defaultOrder": 34,
    "_isFastLaunch": false,
    "category": "Accelerated computing",
    "gpuNum": 1,
    "hideHardwareSpecs": false,
    "memoryGiB": 256,
    "name": "ml.g4dn.16xlarge",
    "vcpuNum": 64
   },
   {
    "_defaultOrder": 35,
    "_isFastLaunch": false,
    "category": "Accelerated computing",
    "gpuNum": 1,
    "hideHardwareSpecs": false,
    "memoryGiB": 61,
    "name": "ml.p3.2xlarge",
    "vcpuNum": 8
   },
   {
    "_defaultOrder": 36,
    "_isFastLaunch": false,
    "category": "Accelerated computing",
    "gpuNum": 4,
    "hideHardwareSpecs": false,
    "memoryGiB": 244,
    "name": "ml.p3.8xlarge",
    "vcpuNum": 32
   },
   {
    "_defaultOrder": 37,
    "_isFastLaunch": false,
    "category": "Accelerated computing",
    "gpuNum": 8,
    "hideHardwareSpecs": false,
    "memoryGiB": 488,
    "name": "ml.p3.16xlarge",
    "vcpuNum": 64
   },
   {
    "_defaultOrder": 38,
    "_isFastLaunch": false,
    "category": "Accelerated computing",
    "gpuNum": 8,
    "hideHardwareSpecs": false,
    "memoryGiB": 768,
    "name": "ml.p3dn.24xlarge",
    "vcpuNum": 96
   },
   {
    "_defaultOrder": 39,
    "_isFastLaunch": false,
    "category": "Memory Optimized",
    "gpuNum": 0,
    "hideHardwareSpecs": false,
    "memoryGiB": 16,
    "name": "ml.r5.large",
    "vcpuNum": 2
   },
   {
    "_defaultOrder": 40,
    "_isFastLaunch": false,
    "category": "Memory Optimized",
    "gpuNum": 0,
    "hideHardwareSpecs": false,
    "memoryGiB": 32,
    "name": "ml.r5.xlarge",
    "vcpuNum": 4
   },
   {
    "_defaultOrder": 41,
    "_isFastLaunch": false,
    "category": "Memory Optimized",
    "gpuNum": 0,
    "hideHardwareSpecs": false,
    "memoryGiB": 64,
    "name": "ml.r5.2xlarge",
    "vcpuNum": 8
   },
   {
    "_defaultOrder": 42,
    "_isFastLaunch": false,
    "category": "Memory Optimized",
    "gpuNum": 0,
    "hideHardwareSpecs": false,
    "memoryGiB": 128,
    "name": "ml.r5.4xlarge",
    "vcpuNum": 16
   },
   {
    "_defaultOrder": 43,
    "_isFastLaunch": false,
    "category": "Memory Optimized",
    "gpuNum": 0,
    "hideHardwareSpecs": false,
    "memoryGiB": 256,
    "name": "ml.r5.8xlarge",
    "vcpuNum": 32
   },
   {
    "_defaultOrder": 44,
    "_isFastLaunch": false,
    "category": "Memory Optimized",
    "gpuNum": 0,
    "hideHardwareSpecs": false,
    "memoryGiB": 384,
    "name": "ml.r5.12xlarge",
    "vcpuNum": 48
   },
   {
    "_defaultOrder": 45,
    "_isFastLaunch": false,
    "category": "Memory Optimized",
    "gpuNum": 0,
    "hideHardwareSpecs": false,
    "memoryGiB": 512,
    "name": "ml.r5.16xlarge",
    "vcpuNum": 64
   },
   {
    "_defaultOrder": 46,
    "_isFastLaunch": false,
    "category": "Memory Optimized",
    "gpuNum": 0,
    "hideHardwareSpecs": false,
    "memoryGiB": 768,
    "name": "ml.r5.24xlarge",
    "vcpuNum": 96
   },
   {
    "_defaultOrder": 47,
    "_isFastLaunch": false,
    "category": "Accelerated computing",
    "gpuNum": 1,
    "hideHardwareSpecs": false,
    "memoryGiB": 16,
    "name": "ml.g5.xlarge",
    "vcpuNum": 4
   },
   {
    "_defaultOrder": 48,
    "_isFastLaunch": false,
    "category": "Accelerated computing",
    "gpuNum": 1,
    "hideHardwareSpecs": false,
    "memoryGiB": 32,
    "name": "ml.g5.2xlarge",
    "vcpuNum": 8
   },
   {
    "_defaultOrder": 49,
    "_isFastLaunch": false,
    "category": "Accelerated computing",
    "gpuNum": 1,
    "hideHardwareSpecs": false,
    "memoryGiB": 64,
    "name": "ml.g5.4xlarge",
    "vcpuNum": 16
   },
   {
    "_defaultOrder": 50,
    "_isFastLaunch": false,
    "category": "Accelerated computing",
    "gpuNum": 1,
    "hideHardwareSpecs": false,
    "memoryGiB": 128,
    "name": "ml.g5.8xlarge",
    "vcpuNum": 32
   },
   {
    "_defaultOrder": 51,
    "_isFastLaunch": false,
    "category": "Accelerated computing",
    "gpuNum": 1,
    "hideHardwareSpecs": false,
    "memoryGiB": 256,
    "name": "ml.g5.16xlarge",
    "vcpuNum": 64
   },
   {
    "_defaultOrder": 52,
    "_isFastLaunch": false,
    "category": "Accelerated computing",
    "gpuNum": 4,
    "hideHardwareSpecs": false,
    "memoryGiB": 192,
    "name": "ml.g5.12xlarge",
    "vcpuNum": 48
   },
   {
    "_defaultOrder": 53,
    "_isFastLaunch": false,
    "category": "Accelerated computing",
    "gpuNum": 4,
    "hideHardwareSpecs": false,
    "memoryGiB": 384,
    "name": "ml.g5.24xlarge",
    "vcpuNum": 96
   },
   {
    "_defaultOrder": 54,
    "_isFastLaunch": false,
    "category": "Accelerated computing",
    "gpuNum": 8,
    "hideHardwareSpecs": false,
    "memoryGiB": 768,
    "name": "ml.g5.48xlarge",
    "vcpuNum": 192
   }
  ],
  "instance_type": "ml.t3.medium",
  "kernelspec": {
   "display_name": "Python 3 (Data Science)",
   "language": "python",
   "name": "python3__SAGEMAKER_INTERNAL__arn:aws:sagemaker:us-east-1:081325390199:image/datascience-1.0"
  },
  "language_info": {
   "codemirror_mode": {
    "name": "ipython",
    "version": 3
   },
   "file_extension": ".py",
   "mimetype": "text/x-python",
   "name": "python",
   "nbconvert_exporter": "python",
   "pygments_lexer": "ipython3",
   "version": "3.7.10"
  }
 },
 "nbformat": 4,
 "nbformat_minor": 5
}

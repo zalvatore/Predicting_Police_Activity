{
 "cells": [
  {
   "cell_type": "markdown",
   "id": "27fd6b5a-d02d-498c-82c5-e46ea15a33c7",
   "metadata": {
    "tags": []
   },
   "source": [
    "# Plotly Endpoint - Dashbaord"
   ]
  },
  {
   "cell_type": "markdown",
   "id": "5c4f0f7e-3ac4-4534-b5d9-1c842f7c65de",
   "metadata": {},
   "source": [
    "***"
   ]
  },
  {
   "cell_type": "code",
   "execution_count": 144,
   "id": "bb476497-4f9d-49f6-a372-bed0a361135f",
   "metadata": {
    "tags": []
   },
   "outputs": [],
   "source": [
    "## Libraries"
   ]
  },
  {
   "cell_type": "code",
   "execution_count": 133,
   "id": "b3691fba-735f-41bf-b9f7-c22cee06c9c8",
   "metadata": {
    "tags": []
   },
   "outputs": [],
   "source": [
    "import requests\n",
    "import plotly.graph_objs as go\n",
    "import json\n",
    "import boto3\n",
    "import pandas as pd\n",
    "import plotly.graph_objects as go\n",
    "\n",
    "import pandas as pd"
   ]
  },
  {
   "cell_type": "code",
   "execution_count": 6,
   "id": "f41b8c7a-3870-4812-8335-fde31bb375dc",
   "metadata": {
    "tags": []
   },
   "outputs": [],
   "source": [
    "#Get EndPoint\n",
    "%store -r final_endpoint"
   ]
  },
  {
   "cell_type": "code",
   "execution_count": 40,
   "id": "5676a904-3581-40d8-9954-ea510bfe4298",
   "metadata": {
    "tags": []
   },
   "outputs": [],
   "source": [
    "endpoint_name = final_endpoint\n",
    "region_name = boto3.Session().region_name\n",
    "runtime_client = boto3.client('sagemaker-runtime', region_name=region_name)"
   ]
  },
  {
   "cell_type": "markdown",
   "id": "f92600a2-0bb9-4d4f-a617-2898c42f13b4",
   "metadata": {},
   "source": [
    "***"
   ]
  },
  {
   "cell_type": "markdown",
   "id": "285de7f5-8b58-477a-8a2e-667980c7eed6",
   "metadata": {},
   "source": [
    "## Get data from Endpoint"
   ]
  },
  {
   "cell_type": "code",
   "execution_count": 134,
   "id": "7adfecb4-b486-42d6-b3f5-9f4a45c86687",
   "metadata": {},
   "outputs": [],
   "source": [
    "data = {\n",
    "    'instances': [\n",
    "        {\n",
    "            'start': '2023-04-01 00:00:00',\n",
    "            'target': [0.1, 0.2, 0.3, 0.4, 0.5],\n",
    "        }\n",
    "    ],\n",
    "    'configuration': {\n",
    "        'num_samples': 100,\n",
    "        'output_types': ['mean', 'quantiles', 'samples'],\n",
    "        'quantiles': ['0.1', '0.5', '0.9']\n",
    "    }\n",
    "}\n",
    "\n",
    "# Convert the payload to JSON\n",
    "payload = json.dumps(data)"
   ]
  },
  {
   "cell_type": "code",
   "execution_count": 135,
   "id": "2080952e-3230-4c41-8bb6-2d4b30bb211d",
   "metadata": {
    "tags": []
   },
   "outputs": [],
   "source": [
    "# Send a request to the endpoint with the payload\n",
    "response = runtime_client.invoke_endpoint(EndpointName=endpoint_name,\n",
    "                                          ContentType='application/json',\n",
    "                                          Body=payload)\n",
    "\n",
    "# Read the response and parse it as JSON\n",
    "response_body = response['Body']\n",
    "result = json.loads(response_body.read().decode())"
   ]
  },
  {
   "cell_type": "markdown",
   "id": "7b2ebe8e-86a1-4ebb-8d1a-8743f72bd7cf",
   "metadata": {},
   "source": [
    "***"
   ]
  },
  {
   "cell_type": "code",
   "execution_count": 145,
   "id": "cd0ca656-0a20-4015-9e11-b920ddc237a8",
   "metadata": {},
   "outputs": [],
   "source": [
    "# Extract the forecasted and quantiles from the response data\n",
    "forecast_data = result['predictions'][0]['mean']\n",
    "Q1= result['predictions'][0]['quantiles']['0.1']\n",
    "Q5= result['predictions'][0]['quantiles']['0.5']\n",
    "Q9= result['predictions'][0]['quantiles']['0.9']\n",
    "\n",
    "df = pd.DataFrame({\n",
    "    'timestamp': pd.date_range(start='2023-04-01 00:00:00', periods=len(forecast_data), freq='H'),\n",
    "    'forecast': forecast_data,\n",
    "    'Q1': Q1,\n",
    "    'Q5': Q5,\n",
    "    'Q9': Q9\n",
    "})\n"
   ]
  },
  {
   "cell_type": "code",
   "execution_count": 147,
   "id": "af3a39ec-c14b-4b99-850c-1794eed36a1a",
   "metadata": {
    "tags": []
   },
   "outputs": [
    {
     "data": {
      "application/vnd.plotly.v1+json": {
       "config": {
        "plotlyServerURL": "https://plot.ly"
       },
       "data": [
        {
         "mode": "lines",
         "type": "scatter",
         "x": [
          "2023-04-01T00:00:00",
          "2023-04-01T01:00:00",
          "2023-04-01T02:00:00",
          "2023-04-01T03:00:00",
          "2023-04-01T04:00:00",
          "2023-04-01T05:00:00",
          "2023-04-01T06:00:00",
          "2023-04-01T07:00:00",
          "2023-04-01T08:00:00",
          "2023-04-01T09:00:00",
          "2023-04-01T10:00:00",
          "2023-04-01T11:00:00",
          "2023-04-01T12:00:00",
          "2023-04-01T13:00:00",
          "2023-04-01T14:00:00",
          "2023-04-01T15:00:00",
          "2023-04-01T16:00:00",
          "2023-04-01T17:00:00",
          "2023-04-01T18:00:00",
          "2023-04-01T19:00:00",
          "2023-04-01T20:00:00",
          "2023-04-01T21:00:00",
          "2023-04-01T22:00:00",
          "2023-04-01T23:00:00",
          "2023-04-02T00:00:00",
          "2023-04-02T01:00:00",
          "2023-04-02T02:00:00",
          "2023-04-02T03:00:00",
          "2023-04-02T04:00:00",
          "2023-04-02T05:00:00",
          "2023-04-02T06:00:00",
          "2023-04-02T07:00:00",
          "2023-04-02T08:00:00",
          "2023-04-02T09:00:00",
          "2023-04-02T10:00:00",
          "2023-04-02T11:00:00",
          "2023-04-02T12:00:00",
          "2023-04-02T13:00:00",
          "2023-04-02T14:00:00",
          "2023-04-02T15:00:00",
          "2023-04-02T16:00:00",
          "2023-04-02T17:00:00",
          "2023-04-02T18:00:00",
          "2023-04-02T19:00:00",
          "2023-04-02T20:00:00",
          "2023-04-02T21:00:00",
          "2023-04-02T22:00:00",
          "2023-04-02T23:00:00"
         ],
         "y": [
          0.3330557942,
          0.3353070021,
          0.3506273627,
          0.3131193519,
          0.2816186249,
          0.2957805395,
          0.3159857094,
          0.3143434823,
          0.3178191483,
          0.3268519342,
          0.3367300928,
          0.3316242993,
          0.3380298615,
          0.3554654419,
          0.3578691781,
          0.3654072881,
          0.3829176724,
          0.3706510961,
          0.4083257914,
          0.368016094,
          0.3835527301,
          0.4060762525,
          0.4386458993,
          0.4385132194,
          0.3982366323,
          0.3772359788,
          0.3630169928,
          0.3415913284,
          0.3130908906,
          0.3162630498,
          0.3243933022,
          0.3210981488,
          0.3259118795,
          0.333627969,
          0.3411846459,
          0.3432194889,
          0.361119926,
          0.3721236885,
          0.3774771988,
          0.401519686,
          0.4276150763,
          0.4549405277,
          0.4807665646,
          0.431319952,
          0.3703475595,
          0.3709739745,
          0.3796063364,
          0.3646322489
         ]
        },
        {
         "mode": "lines",
         "type": "scatter",
         "x": [
          "2023-04-01T00:00:00",
          "2023-04-01T01:00:00",
          "2023-04-01T02:00:00",
          "2023-04-01T03:00:00",
          "2023-04-01T04:00:00",
          "2023-04-01T05:00:00",
          "2023-04-01T06:00:00",
          "2023-04-01T07:00:00",
          "2023-04-01T08:00:00",
          "2023-04-01T09:00:00",
          "2023-04-01T10:00:00",
          "2023-04-01T11:00:00",
          "2023-04-01T12:00:00",
          "2023-04-01T13:00:00",
          "2023-04-01T14:00:00",
          "2023-04-01T15:00:00",
          "2023-04-01T16:00:00",
          "2023-04-01T17:00:00",
          "2023-04-01T18:00:00",
          "2023-04-01T19:00:00",
          "2023-04-01T20:00:00",
          "2023-04-01T21:00:00",
          "2023-04-01T22:00:00",
          "2023-04-01T23:00:00",
          "2023-04-02T00:00:00",
          "2023-04-02T01:00:00",
          "2023-04-02T02:00:00",
          "2023-04-02T03:00:00",
          "2023-04-02T04:00:00",
          "2023-04-02T05:00:00",
          "2023-04-02T06:00:00",
          "2023-04-02T07:00:00",
          "2023-04-02T08:00:00",
          "2023-04-02T09:00:00",
          "2023-04-02T10:00:00",
          "2023-04-02T11:00:00",
          "2023-04-02T12:00:00",
          "2023-04-02T13:00:00",
          "2023-04-02T14:00:00",
          "2023-04-02T15:00:00",
          "2023-04-02T16:00:00",
          "2023-04-02T17:00:00",
          "2023-04-02T18:00:00",
          "2023-04-02T19:00:00",
          "2023-04-02T20:00:00",
          "2023-04-02T21:00:00",
          "2023-04-02T22:00:00",
          "2023-04-02T23:00:00"
         ],
         "y": [
          0.2951727808,
          0.2951478958,
          0.3062601984,
          0.2709080577,
          0.23273848,
          0.2481571436,
          0.2534410059,
          0.2616105378,
          0.2695146501,
          0.2852911353,
          0.288926512,
          0.2811960876,
          0.2816663682,
          0.2977537513,
          0.3047688007,
          0.3036718965,
          0.3238092065,
          0.3129360974,
          0.3581782579,
          0.3221154511,
          0.3298695683,
          0.3543225527,
          0.3837623,
          0.3909673691,
          0.3417936563,
          0.3050887287,
          0.3071770072,
          0.2807170451,
          0.2501826286,
          0.2521962523,
          0.2598828971,
          0.2539901733,
          0.2631422877,
          0.2646941543,
          0.2904799581,
          0.2716509104,
          0.2911259234,
          0.309266448,
          0.3092358112,
          0.31468454,
          0.3587832451,
          0.3828748465,
          0.4075088799,
          0.3652845025,
          0.2922908962,
          0.2997029424,
          0.3121778369,
          0.2864641547
         ]
        },
        {
         "mode": "lines",
         "type": "scatter",
         "x": [
          "2023-04-01T00:00:00",
          "2023-04-01T01:00:00",
          "2023-04-01T02:00:00",
          "2023-04-01T03:00:00",
          "2023-04-01T04:00:00",
          "2023-04-01T05:00:00",
          "2023-04-01T06:00:00",
          "2023-04-01T07:00:00",
          "2023-04-01T08:00:00",
          "2023-04-01T09:00:00",
          "2023-04-01T10:00:00",
          "2023-04-01T11:00:00",
          "2023-04-01T12:00:00",
          "2023-04-01T13:00:00",
          "2023-04-01T14:00:00",
          "2023-04-01T15:00:00",
          "2023-04-01T16:00:00",
          "2023-04-01T17:00:00",
          "2023-04-01T18:00:00",
          "2023-04-01T19:00:00",
          "2023-04-01T20:00:00",
          "2023-04-01T21:00:00",
          "2023-04-01T22:00:00",
          "2023-04-01T23:00:00",
          "2023-04-02T00:00:00",
          "2023-04-02T01:00:00",
          "2023-04-02T02:00:00",
          "2023-04-02T03:00:00",
          "2023-04-02T04:00:00",
          "2023-04-02T05:00:00",
          "2023-04-02T06:00:00",
          "2023-04-02T07:00:00",
          "2023-04-02T08:00:00",
          "2023-04-02T09:00:00",
          "2023-04-02T10:00:00",
          "2023-04-02T11:00:00",
          "2023-04-02T12:00:00",
          "2023-04-02T13:00:00",
          "2023-04-02T14:00:00",
          "2023-04-02T15:00:00",
          "2023-04-02T16:00:00",
          "2023-04-02T17:00:00",
          "2023-04-02T18:00:00",
          "2023-04-02T19:00:00",
          "2023-04-02T20:00:00",
          "2023-04-02T21:00:00",
          "2023-04-02T22:00:00",
          "2023-04-02T23:00:00"
         ],
         "y": [
          0.3356870711,
          0.3394123912,
          0.3538295329,
          0.3134649992,
          0.279749155,
          0.2957195938,
          0.321436435,
          0.3146449924,
          0.3204724193,
          0.3268069029,
          0.3404826224,
          0.3323193192,
          0.34367764,
          0.3584081233,
          0.3608927727,
          0.365044415,
          0.3830904067,
          0.3700984716,
          0.4031632245,
          0.3626593649,
          0.3798444271,
          0.4083963335,
          0.442994386,
          0.4380286336,
          0.3994324505,
          0.3724643588,
          0.3609929085,
          0.3395264149,
          0.3107824922,
          0.3157091141,
          0.3167979419,
          0.3181195259,
          0.3271432221,
          0.329772085,
          0.3286139965,
          0.3454752564,
          0.3569225967,
          0.3793139756,
          0.3786669374,
          0.3967688084,
          0.4276881814,
          0.4492880106,
          0.4790540338,
          0.4271247089,
          0.3757067323,
          0.3700791299,
          0.3806644976,
          0.3613833487
         ]
        },
        {
         "mode": "lines",
         "type": "scatter",
         "x": [
          "2023-04-01T00:00:00",
          "2023-04-01T01:00:00",
          "2023-04-01T02:00:00",
          "2023-04-01T03:00:00",
          "2023-04-01T04:00:00",
          "2023-04-01T05:00:00",
          "2023-04-01T06:00:00",
          "2023-04-01T07:00:00",
          "2023-04-01T08:00:00",
          "2023-04-01T09:00:00",
          "2023-04-01T10:00:00",
          "2023-04-01T11:00:00",
          "2023-04-01T12:00:00",
          "2023-04-01T13:00:00",
          "2023-04-01T14:00:00",
          "2023-04-01T15:00:00",
          "2023-04-01T16:00:00",
          "2023-04-01T17:00:00",
          "2023-04-01T18:00:00",
          "2023-04-01T19:00:00",
          "2023-04-01T20:00:00",
          "2023-04-01T21:00:00",
          "2023-04-01T22:00:00",
          "2023-04-01T23:00:00",
          "2023-04-02T00:00:00",
          "2023-04-02T01:00:00",
          "2023-04-02T02:00:00",
          "2023-04-02T03:00:00",
          "2023-04-02T04:00:00",
          "2023-04-02T05:00:00",
          "2023-04-02T06:00:00",
          "2023-04-02T07:00:00",
          "2023-04-02T08:00:00",
          "2023-04-02T09:00:00",
          "2023-04-02T10:00:00",
          "2023-04-02T11:00:00",
          "2023-04-02T12:00:00",
          "2023-04-02T13:00:00",
          "2023-04-02T14:00:00",
          "2023-04-02T15:00:00",
          "2023-04-02T16:00:00",
          "2023-04-02T17:00:00",
          "2023-04-02T18:00:00",
          "2023-04-02T19:00:00",
          "2023-04-02T20:00:00",
          "2023-04-02T21:00:00",
          "2023-04-02T22:00:00",
          "2023-04-02T23:00:00"
         ],
         "y": [
          0.3684337139,
          0.3816616237,
          0.3933727145,
          0.3612102568,
          0.3370146453,
          0.3442339301,
          0.3781549335,
          0.3637807965,
          0.365011692,
          0.3743543625,
          0.3855948448,
          0.3866318464,
          0.3880389929,
          0.4213527739,
          0.4161072969,
          0.4262123108,
          0.4360948503,
          0.43421489,
          0.4628967047,
          0.4234287739,
          0.4429659247,
          0.4623137414,
          0.4962957501,
          0.4964632094,
          0.4694113731,
          0.4463999569,
          0.4349643588,
          0.4150780737,
          0.3781363964,
          0.3889691532,
          0.4053528905,
          0.3813119829,
          0.372353673,
          0.4050353169,
          0.417653203,
          0.417522341,
          0.4439041615,
          0.4321992993,
          0.4588805735,
          0.4808230102,
          0.5075265169,
          0.5404834747,
          0.55743891,
          0.5087535977,
          0.4519864619,
          0.4480170012,
          0.454215467,
          0.4386449754
         ]
        }
       ],
       "layout": {
        "autosize": true,
        "template": {
         "data": {
          "bar": [
           {
            "error_x": {
             "color": "#2a3f5f"
            },
            "error_y": {
             "color": "#2a3f5f"
            },
            "marker": {
             "line": {
              "color": "#E5ECF6",
              "width": 0.5
             },
             "pattern": {
              "fillmode": "overlay",
              "size": 10,
              "solidity": 0.2
             }
            },
            "type": "bar"
           }
          ],
          "barpolar": [
           {
            "marker": {
             "line": {
              "color": "#E5ECF6",
              "width": 0.5
             },
             "pattern": {
              "fillmode": "overlay",
              "size": 10,
              "solidity": 0.2
             }
            },
            "type": "barpolar"
           }
          ],
          "carpet": [
           {
            "aaxis": {
             "endlinecolor": "#2a3f5f",
             "gridcolor": "white",
             "linecolor": "white",
             "minorgridcolor": "white",
             "startlinecolor": "#2a3f5f"
            },
            "baxis": {
             "endlinecolor": "#2a3f5f",
             "gridcolor": "white",
             "linecolor": "white",
             "minorgridcolor": "white",
             "startlinecolor": "#2a3f5f"
            },
            "type": "carpet"
           }
          ],
          "choropleth": [
           {
            "colorbar": {
             "outlinewidth": 0,
             "ticks": ""
            },
            "type": "choropleth"
           }
          ],
          "contour": [
           {
            "colorbar": {
             "outlinewidth": 0,
             "ticks": ""
            },
            "colorscale": [
             [
              0,
              "#0d0887"
             ],
             [
              0.1111111111111111,
              "#46039f"
             ],
             [
              0.2222222222222222,
              "#7201a8"
             ],
             [
              0.3333333333333333,
              "#9c179e"
             ],
             [
              0.4444444444444444,
              "#bd3786"
             ],
             [
              0.5555555555555556,
              "#d8576b"
             ],
             [
              0.6666666666666666,
              "#ed7953"
             ],
             [
              0.7777777777777778,
              "#fb9f3a"
             ],
             [
              0.8888888888888888,
              "#fdca26"
             ],
             [
              1,
              "#f0f921"
             ]
            ],
            "type": "contour"
           }
          ],
          "contourcarpet": [
           {
            "colorbar": {
             "outlinewidth": 0,
             "ticks": ""
            },
            "type": "contourcarpet"
           }
          ],
          "heatmap": [
           {
            "colorbar": {
             "outlinewidth": 0,
             "ticks": ""
            },
            "colorscale": [
             [
              0,
              "#0d0887"
             ],
             [
              0.1111111111111111,
              "#46039f"
             ],
             [
              0.2222222222222222,
              "#7201a8"
             ],
             [
              0.3333333333333333,
              "#9c179e"
             ],
             [
              0.4444444444444444,
              "#bd3786"
             ],
             [
              0.5555555555555556,
              "#d8576b"
             ],
             [
              0.6666666666666666,
              "#ed7953"
             ],
             [
              0.7777777777777778,
              "#fb9f3a"
             ],
             [
              0.8888888888888888,
              "#fdca26"
             ],
             [
              1,
              "#f0f921"
             ]
            ],
            "type": "heatmap"
           }
          ],
          "heatmapgl": [
           {
            "colorbar": {
             "outlinewidth": 0,
             "ticks": ""
            },
            "colorscale": [
             [
              0,
              "#0d0887"
             ],
             [
              0.1111111111111111,
              "#46039f"
             ],
             [
              0.2222222222222222,
              "#7201a8"
             ],
             [
              0.3333333333333333,
              "#9c179e"
             ],
             [
              0.4444444444444444,
              "#bd3786"
             ],
             [
              0.5555555555555556,
              "#d8576b"
             ],
             [
              0.6666666666666666,
              "#ed7953"
             ],
             [
              0.7777777777777778,
              "#fb9f3a"
             ],
             [
              0.8888888888888888,
              "#fdca26"
             ],
             [
              1,
              "#f0f921"
             ]
            ],
            "type": "heatmapgl"
           }
          ],
          "histogram": [
           {
            "marker": {
             "pattern": {
              "fillmode": "overlay",
              "size": 10,
              "solidity": 0.2
             }
            },
            "type": "histogram"
           }
          ],
          "histogram2d": [
           {
            "colorbar": {
             "outlinewidth": 0,
             "ticks": ""
            },
            "colorscale": [
             [
              0,
              "#0d0887"
             ],
             [
              0.1111111111111111,
              "#46039f"
             ],
             [
              0.2222222222222222,
              "#7201a8"
             ],
             [
              0.3333333333333333,
              "#9c179e"
             ],
             [
              0.4444444444444444,
              "#bd3786"
             ],
             [
              0.5555555555555556,
              "#d8576b"
             ],
             [
              0.6666666666666666,
              "#ed7953"
             ],
             [
              0.7777777777777778,
              "#fb9f3a"
             ],
             [
              0.8888888888888888,
              "#fdca26"
             ],
             [
              1,
              "#f0f921"
             ]
            ],
            "type": "histogram2d"
           }
          ],
          "histogram2dcontour": [
           {
            "colorbar": {
             "outlinewidth": 0,
             "ticks": ""
            },
            "colorscale": [
             [
              0,
              "#0d0887"
             ],
             [
              0.1111111111111111,
              "#46039f"
             ],
             [
              0.2222222222222222,
              "#7201a8"
             ],
             [
              0.3333333333333333,
              "#9c179e"
             ],
             [
              0.4444444444444444,
              "#bd3786"
             ],
             [
              0.5555555555555556,
              "#d8576b"
             ],
             [
              0.6666666666666666,
              "#ed7953"
             ],
             [
              0.7777777777777778,
              "#fb9f3a"
             ],
             [
              0.8888888888888888,
              "#fdca26"
             ],
             [
              1,
              "#f0f921"
             ]
            ],
            "type": "histogram2dcontour"
           }
          ],
          "mesh3d": [
           {
            "colorbar": {
             "outlinewidth": 0,
             "ticks": ""
            },
            "type": "mesh3d"
           }
          ],
          "parcoords": [
           {
            "line": {
             "colorbar": {
              "outlinewidth": 0,
              "ticks": ""
             }
            },
            "type": "parcoords"
           }
          ],
          "pie": [
           {
            "automargin": true,
            "type": "pie"
           }
          ],
          "scatter": [
           {
            "fillpattern": {
             "fillmode": "overlay",
             "size": 10,
             "solidity": 0.2
            },
            "type": "scatter"
           }
          ],
          "scatter3d": [
           {
            "line": {
             "colorbar": {
              "outlinewidth": 0,
              "ticks": ""
             }
            },
            "marker": {
             "colorbar": {
              "outlinewidth": 0,
              "ticks": ""
             }
            },
            "type": "scatter3d"
           }
          ],
          "scattercarpet": [
           {
            "marker": {
             "colorbar": {
              "outlinewidth": 0,
              "ticks": ""
             }
            },
            "type": "scattercarpet"
           }
          ],
          "scattergeo": [
           {
            "marker": {
             "colorbar": {
              "outlinewidth": 0,
              "ticks": ""
             }
            },
            "type": "scattergeo"
           }
          ],
          "scattergl": [
           {
            "marker": {
             "colorbar": {
              "outlinewidth": 0,
              "ticks": ""
             }
            },
            "type": "scattergl"
           }
          ],
          "scattermapbox": [
           {
            "marker": {
             "colorbar": {
              "outlinewidth": 0,
              "ticks": ""
             }
            },
            "type": "scattermapbox"
           }
          ],
          "scatterpolar": [
           {
            "marker": {
             "colorbar": {
              "outlinewidth": 0,
              "ticks": ""
             }
            },
            "type": "scatterpolar"
           }
          ],
          "scatterpolargl": [
           {
            "marker": {
             "colorbar": {
              "outlinewidth": 0,
              "ticks": ""
             }
            },
            "type": "scatterpolargl"
           }
          ],
          "scatterternary": [
           {
            "marker": {
             "colorbar": {
              "outlinewidth": 0,
              "ticks": ""
             }
            },
            "type": "scatterternary"
           }
          ],
          "surface": [
           {
            "colorbar": {
             "outlinewidth": 0,
             "ticks": ""
            },
            "colorscale": [
             [
              0,
              "#0d0887"
             ],
             [
              0.1111111111111111,
              "#46039f"
             ],
             [
              0.2222222222222222,
              "#7201a8"
             ],
             [
              0.3333333333333333,
              "#9c179e"
             ],
             [
              0.4444444444444444,
              "#bd3786"
             ],
             [
              0.5555555555555556,
              "#d8576b"
             ],
             [
              0.6666666666666666,
              "#ed7953"
             ],
             [
              0.7777777777777778,
              "#fb9f3a"
             ],
             [
              0.8888888888888888,
              "#fdca26"
             ],
             [
              1,
              "#f0f921"
             ]
            ],
            "type": "surface"
           }
          ],
          "table": [
           {
            "cells": {
             "fill": {
              "color": "#EBF0F8"
             },
             "line": {
              "color": "white"
             }
            },
            "header": {
             "fill": {
              "color": "#C8D4E3"
             },
             "line": {
              "color": "white"
             }
            },
            "type": "table"
           }
          ]
         },
         "layout": {
          "annotationdefaults": {
           "arrowcolor": "#2a3f5f",
           "arrowhead": 0,
           "arrowwidth": 1
          },
          "autotypenumbers": "strict",
          "coloraxis": {
           "colorbar": {
            "outlinewidth": 0,
            "ticks": ""
           }
          },
          "colorscale": {
           "diverging": [
            [
             0,
             "#8e0152"
            ],
            [
             0.1,
             "#c51b7d"
            ],
            [
             0.2,
             "#de77ae"
            ],
            [
             0.3,
             "#f1b6da"
            ],
            [
             0.4,
             "#fde0ef"
            ],
            [
             0.5,
             "#f7f7f7"
            ],
            [
             0.6,
             "#e6f5d0"
            ],
            [
             0.7,
             "#b8e186"
            ],
            [
             0.8,
             "#7fbc41"
            ],
            [
             0.9,
             "#4d9221"
            ],
            [
             1,
             "#276419"
            ]
           ],
           "sequential": [
            [
             0,
             "#0d0887"
            ],
            [
             0.1111111111111111,
             "#46039f"
            ],
            [
             0.2222222222222222,
             "#7201a8"
            ],
            [
             0.3333333333333333,
             "#9c179e"
            ],
            [
             0.4444444444444444,
             "#bd3786"
            ],
            [
             0.5555555555555556,
             "#d8576b"
            ],
            [
             0.6666666666666666,
             "#ed7953"
            ],
            [
             0.7777777777777778,
             "#fb9f3a"
            ],
            [
             0.8888888888888888,
             "#fdca26"
            ],
            [
             1,
             "#f0f921"
            ]
           ],
           "sequentialminus": [
            [
             0,
             "#0d0887"
            ],
            [
             0.1111111111111111,
             "#46039f"
            ],
            [
             0.2222222222222222,
             "#7201a8"
            ],
            [
             0.3333333333333333,
             "#9c179e"
            ],
            [
             0.4444444444444444,
             "#bd3786"
            ],
            [
             0.5555555555555556,
             "#d8576b"
            ],
            [
             0.6666666666666666,
             "#ed7953"
            ],
            [
             0.7777777777777778,
             "#fb9f3a"
            ],
            [
             0.8888888888888888,
             "#fdca26"
            ],
            [
             1,
             "#f0f921"
            ]
           ]
          },
          "colorway": [
           "#636efa",
           "#EF553B",
           "#00cc96",
           "#ab63fa",
           "#FFA15A",
           "#19d3f3",
           "#FF6692",
           "#B6E880",
           "#FF97FF",
           "#FECB52"
          ],
          "font": {
           "color": "#2a3f5f"
          },
          "geo": {
           "bgcolor": "white",
           "lakecolor": "white",
           "landcolor": "#E5ECF6",
           "showlakes": true,
           "showland": true,
           "subunitcolor": "white"
          },
          "hoverlabel": {
           "align": "left"
          },
          "hovermode": "closest",
          "mapbox": {
           "style": "light"
          },
          "paper_bgcolor": "white",
          "plot_bgcolor": "#E5ECF6",
          "polar": {
           "angularaxis": {
            "gridcolor": "white",
            "linecolor": "white",
            "ticks": ""
           },
           "bgcolor": "#E5ECF6",
           "radialaxis": {
            "gridcolor": "white",
            "linecolor": "white",
            "ticks": ""
           }
          },
          "scene": {
           "xaxis": {
            "backgroundcolor": "#E5ECF6",
            "gridcolor": "white",
            "gridwidth": 2,
            "linecolor": "white",
            "showbackground": true,
            "ticks": "",
            "zerolinecolor": "white"
           },
           "yaxis": {
            "backgroundcolor": "#E5ECF6",
            "gridcolor": "white",
            "gridwidth": 2,
            "linecolor": "white",
            "showbackground": true,
            "ticks": "",
            "zerolinecolor": "white"
           },
           "zaxis": {
            "backgroundcolor": "#E5ECF6",
            "gridcolor": "white",
            "gridwidth": 2,
            "linecolor": "white",
            "showbackground": true,
            "ticks": "",
            "zerolinecolor": "white"
           }
          },
          "shapedefaults": {
           "line": {
            "color": "#2a3f5f"
           }
          },
          "ternary": {
           "aaxis": {
            "gridcolor": "white",
            "linecolor": "white",
            "ticks": ""
           },
           "baxis": {
            "gridcolor": "white",
            "linecolor": "white",
            "ticks": ""
           },
           "bgcolor": "#E5ECF6",
           "caxis": {
            "gridcolor": "white",
            "linecolor": "white",
            "ticks": ""
           }
          },
          "title": {
           "x": 0.05
          },
          "xaxis": {
           "automargin": true,
           "gridcolor": "white",
           "linecolor": "white",
           "ticks": "",
           "title": {
            "standoff": 15
           },
           "zerolinecolor": "white",
           "zerolinewidth": 2
          },
          "yaxis": {
           "automargin": true,
           "gridcolor": "white",
           "linecolor": "white",
           "ticks": "",
           "title": {
            "standoff": 15
           },
           "zerolinecolor": "white",
           "zerolinewidth": 2
          }
         }
        },
        "title": {
         "text": "Number of Calls next 48 hours"
        },
        "xaxis": {
         "autorange": true,
         "range": [
          "2023-04-01",
          "2023-04-02 23:00"
         ],
         "title": {
          "text": "Date"
         },
         "type": "date"
        },
        "yaxis": {
         "autorange": true,
         "range": [
          0.21469956722222222,
          0.5754778227777778
         ],
         "title": {
          "text": "Value"
         },
         "type": "linear"
        }
       }
      },
      "image/png": "[encoded data removed]",
      "text/html": [
       "<div>                            <div id=\"33d6c52b-6dfb-45d2-8a97-09d735ee2694\" class=\"plotly-graph-div\" style=\"height:525px; width:100%;\"></div>            <script type=\"text/javascript\">                require([\"plotly\"], function(Plotly) {                    window.PLOTLYENV=window.PLOTLYENV || {};                                    if (document.getElementById(\"33d6c52b-6dfb-45d2-8a97-09d735ee2694\")) {                    Plotly.newPlot(                        \"33d6c52b-6dfb-45d2-8a97-09d735ee2694\",                        [{\"mode\":\"lines\",\"x\":[\"2023-04-01T00:00:00\",\"2023-04-01T01:00:00\",\"2023-04-01T02:00:00\",\"2023-04-01T03:00:00\",\"2023-04-01T04:00:00\",\"2023-04-01T05:00:00\",\"2023-04-01T06:00:00\",\"2023-04-01T07:00:00\",\"2023-04-01T08:00:00\",\"2023-04-01T09:00:00\",\"2023-04-01T10:00:00\",\"2023-04-01T11:00:00\",\"2023-04-01T12:00:00\",\"2023-04-01T13:00:00\",\"2023-04-01T14:00:00\",\"2023-04-01T15:00:00\",\"2023-04-01T16:00:00\",\"2023-04-01T17:00:00\",\"2023-04-01T18:00:00\",\"2023-04-01T19:00:00\",\"2023-04-01T20:00:00\",\"2023-04-01T21:00:00\",\"2023-04-01T22:00:00\",\"2023-04-01T23:00:00\",\"2023-04-02T00:00:00\",\"2023-04-02T01:00:00\",\"2023-04-02T02:00:00\",\"2023-04-02T03:00:00\",\"2023-04-02T04:00:00\",\"2023-04-02T05:00:00\",\"2023-04-02T06:00:00\",\"2023-04-02T07:00:00\",\"2023-04-02T08:00:00\",\"2023-04-02T09:00:00\",\"2023-04-02T10:00:00\",\"2023-04-02T11:00:00\",\"2023-04-02T12:00:00\",\"2023-04-02T13:00:00\",\"2023-04-02T14:00:00\",\"2023-04-02T15:00:00\",\"2023-04-02T16:00:00\",\"2023-04-02T17:00:00\",\"2023-04-02T18:00:00\",\"2023-04-02T19:00:00\",\"2023-04-02T20:00:00\",\"2023-04-02T21:00:00\",\"2023-04-02T22:00:00\",\"2023-04-02T23:00:00\"],\"y\":[0.3330557942,0.3353070021,0.3506273627,0.3131193519,0.2816186249,0.2957805395,0.3159857094,0.3143434823,0.3178191483,0.3268519342,0.3367300928,0.3316242993,0.3380298615,0.3554654419,0.3578691781,0.3654072881,0.3829176724,0.3706510961,0.4083257914,0.368016094,0.3835527301,0.4060762525,0.4386458993,0.4385132194,0.3982366323,0.3772359788,0.3630169928,0.3415913284,0.3130908906,0.3162630498,0.3243933022,0.3210981488,0.3259118795,0.333627969,0.3411846459,0.3432194889,0.361119926,0.3721236885,0.3774771988,0.401519686,0.4276150763,0.4549405277,0.4807665646,0.431319952,0.3703475595,0.3709739745,0.3796063364,0.3646322489],\"type\":\"scatter\"},{\"mode\":\"lines\",\"x\":[\"2023-04-01T00:00:00\",\"2023-04-01T01:00:00\",\"2023-04-01T02:00:00\",\"2023-04-01T03:00:00\",\"2023-04-01T04:00:00\",\"2023-04-01T05:00:00\",\"2023-04-01T06:00:00\",\"2023-04-01T07:00:00\",\"2023-04-01T08:00:00\",\"2023-04-01T09:00:00\",\"2023-04-01T10:00:00\",\"2023-04-01T11:00:00\",\"2023-04-01T12:00:00\",\"2023-04-01T13:00:00\",\"2023-04-01T14:00:00\",\"2023-04-01T15:00:00\",\"2023-04-01T16:00:00\",\"2023-04-01T17:00:00\",\"2023-04-01T18:00:00\",\"2023-04-01T19:00:00\",\"2023-04-01T20:00:00\",\"2023-04-01T21:00:00\",\"2023-04-01T22:00:00\",\"2023-04-01T23:00:00\",\"2023-04-02T00:00:00\",\"2023-04-02T01:00:00\",\"2023-04-02T02:00:00\",\"2023-04-02T03:00:00\",\"2023-04-02T04:00:00\",\"2023-04-02T05:00:00\",\"2023-04-02T06:00:00\",\"2023-04-02T07:00:00\",\"2023-04-02T08:00:00\",\"2023-04-02T09:00:00\",\"2023-04-02T10:00:00\",\"2023-04-02T11:00:00\",\"2023-04-02T12:00:00\",\"2023-04-02T13:00:00\",\"2023-04-02T14:00:00\",\"2023-04-02T15:00:00\",\"2023-04-02T16:00:00\",\"2023-04-02T17:00:00\",\"2023-04-02T18:00:00\",\"2023-04-02T19:00:00\",\"2023-04-02T20:00:00\",\"2023-04-02T21:00:00\",\"2023-04-02T22:00:00\",\"2023-04-02T23:00:00\"],\"y\":[0.2951727808,0.2951478958,0.3062601984,0.2709080577,0.23273848,0.2481571436,0.2534410059,0.2616105378,0.2695146501,0.2852911353,0.288926512,0.2811960876,0.2816663682,0.2977537513,0.3047688007,0.3036718965,0.3238092065,0.3129360974,0.3581782579,0.3221154511,0.3298695683,0.3543225527,0.3837623,0.3909673691,0.3417936563,0.3050887287,0.3071770072,0.2807170451,0.2501826286,0.2521962523,0.2598828971,0.2539901733,0.2631422877,0.2646941543,0.2904799581,0.2716509104,0.2911259234,0.309266448,0.3092358112,0.31468454,0.3587832451,0.3828748465,0.4075088799,0.3652845025,0.2922908962,0.2997029424,0.3121778369,0.2864641547],\"type\":\"scatter\"},{\"mode\":\"lines\",\"x\":[\"2023-04-01T00:00:00\",\"2023-04-01T01:00:00\",\"2023-04-01T02:00:00\",\"2023-04-01T03:00:00\",\"2023-04-01T04:00:00\",\"2023-04-01T05:00:00\",\"2023-04-01T06:00:00\",\"2023-04-01T07:00:00\",\"2023-04-01T08:00:00\",\"2023-04-01T09:00:00\",\"2023-04-01T10:00:00\",\"2023-04-01T11:00:00\",\"2023-04-01T12:00:00\",\"2023-04-01T13:00:00\",\"2023-04-01T14:00:00\",\"2023-04-01T15:00:00\",\"2023-04-01T16:00:00\",\"2023-04-01T17:00:00\",\"2023-04-01T18:00:00\",\"2023-04-01T19:00:00\",\"2023-04-01T20:00:00\",\"2023-04-01T21:00:00\",\"2023-04-01T22:00:00\",\"2023-04-01T23:00:00\",\"2023-04-02T00:00:00\",\"2023-04-02T01:00:00\",\"2023-04-02T02:00:00\",\"2023-04-02T03:00:00\",\"2023-04-02T04:00:00\",\"2023-04-02T05:00:00\",\"2023-04-02T06:00:00\",\"2023-04-02T07:00:00\",\"2023-04-02T08:00:00\",\"2023-04-02T09:00:00\",\"2023-04-02T10:00:00\",\"2023-04-02T11:00:00\",\"2023-04-02T12:00:00\",\"2023-04-02T13:00:00\",\"2023-04-02T14:00:00\",\"2023-04-02T15:00:00\",\"2023-04-02T16:00:00\",\"2023-04-02T17:00:00\",\"2023-04-02T18:00:00\",\"2023-04-02T19:00:00\",\"2023-04-02T20:00:00\",\"2023-04-02T21:00:00\",\"2023-04-02T22:00:00\",\"2023-04-02T23:00:00\"],\"y\":[0.3356870711,0.3394123912,0.3538295329,0.3134649992,0.279749155,0.2957195938,0.321436435,0.3146449924,0.3204724193,0.3268069029,0.3404826224,0.3323193192,0.34367764,0.3584081233,0.3608927727,0.365044415,0.3830904067,0.3700984716,0.4031632245,0.3626593649,0.3798444271,0.4083963335,0.442994386,0.4380286336,0.3994324505,0.3724643588,0.3609929085,0.3395264149,0.3107824922,0.3157091141,0.3167979419,0.3181195259,0.3271432221,0.329772085,0.3286139965,0.3454752564,0.3569225967,0.3793139756,0.3786669374,0.3967688084,0.4276881814,0.4492880106,0.4790540338,0.4271247089,0.3757067323,0.3700791299,0.3806644976,0.3613833487],\"type\":\"scatter\"},{\"mode\":\"lines\",\"x\":[\"2023-04-01T00:00:00\",\"2023-04-01T01:00:00\",\"2023-04-01T02:00:00\",\"2023-04-01T03:00:00\",\"2023-04-01T04:00:00\",\"2023-04-01T05:00:00\",\"2023-04-01T06:00:00\",\"2023-04-01T07:00:00\",\"2023-04-01T08:00:00\",\"2023-04-01T09:00:00\",\"2023-04-01T10:00:00\",\"2023-04-01T11:00:00\",\"2023-04-01T12:00:00\",\"2023-04-01T13:00:00\",\"2023-04-01T14:00:00\",\"2023-04-01T15:00:00\",\"2023-04-01T16:00:00\",\"2023-04-01T17:00:00\",\"2023-04-01T18:00:00\",\"2023-04-01T19:00:00\",\"2023-04-01T20:00:00\",\"2023-04-01T21:00:00\",\"2023-04-01T22:00:00\",\"2023-04-01T23:00:00\",\"2023-04-02T00:00:00\",\"2023-04-02T01:00:00\",\"2023-04-02T02:00:00\",\"2023-04-02T03:00:00\",\"2023-04-02T04:00:00\",\"2023-04-02T05:00:00\",\"2023-04-02T06:00:00\",\"2023-04-02T07:00:00\",\"2023-04-02T08:00:00\",\"2023-04-02T09:00:00\",\"2023-04-02T10:00:00\",\"2023-04-02T11:00:00\",\"2023-04-02T12:00:00\",\"2023-04-02T13:00:00\",\"2023-04-02T14:00:00\",\"2023-04-02T15:00:00\",\"2023-04-02T16:00:00\",\"2023-04-02T17:00:00\",\"2023-04-02T18:00:00\",\"2023-04-02T19:00:00\",\"2023-04-02T20:00:00\",\"2023-04-02T21:00:00\",\"2023-04-02T22:00:00\",\"2023-04-02T23:00:00\"],\"y\":[0.3684337139,0.3816616237,0.3933727145,0.3612102568,0.3370146453,0.3442339301,0.3781549335,0.3637807965,0.365011692,0.3743543625,0.3855948448,0.3866318464,0.3880389929,0.4213527739,0.4161072969,0.4262123108,0.4360948503,0.43421489,0.4628967047,0.4234287739,0.4429659247,0.4623137414,0.4962957501,0.4964632094,0.4694113731,0.4463999569,0.4349643588,0.4150780737,0.3781363964,0.3889691532,0.4053528905,0.3813119829,0.372353673,0.4050353169,0.417653203,0.417522341,0.4439041615,0.4321992993,0.4588805735,0.4808230102,0.5075265169,0.5404834747,0.55743891,0.5087535977,0.4519864619,0.4480170012,0.454215467,0.4386449754],\"type\":\"scatter\"}],                        {\"template\":{\"data\":{\"histogram2dcontour\":[{\"type\":\"histogram2dcontour\",\"colorbar\":{\"outlinewidth\":0,\"ticks\":\"\"},\"colorscale\":[[0.0,\"#0d0887\"],[0.1111111111111111,\"#46039f\"],[0.2222222222222222,\"#7201a8\"],[0.3333333333333333,\"#9c179e\"],[0.4444444444444444,\"#bd3786\"],[0.5555555555555556,\"#d8576b\"],[0.6666666666666666,\"#ed7953\"],[0.7777777777777778,\"#fb9f3a\"],[0.8888888888888888,\"#fdca26\"],[1.0,\"#f0f921\"]]}],\"choropleth\":[{\"type\":\"choropleth\",\"colorbar\":{\"outlinewidth\":0,\"ticks\":\"\"}}],\"histogram2d\":[{\"type\":\"histogram2d\",\"colorbar\":{\"outlinewidth\":0,\"ticks\":\"\"},\"colorscale\":[[0.0,\"#0d0887\"],[0.1111111111111111,\"#46039f\"],[0.2222222222222222,\"#7201a8\"],[0.3333333333333333,\"#9c179e\"],[0.4444444444444444,\"#bd3786\"],[0.5555555555555556,\"#d8576b\"],[0.6666666666666666,\"#ed7953\"],[0.7777777777777778,\"#fb9f3a\"],[0.8888888888888888,\"#fdca26\"],[1.0,\"#f0f921\"]]}],\"heatmap\":[{\"type\":\"heatmap\",\"colorbar\":{\"outlinewidth\":0,\"ticks\":\"\"},\"colorscale\":[[0.0,\"#0d0887\"],[0.1111111111111111,\"#46039f\"],[0.2222222222222222,\"#7201a8\"],[0.3333333333333333,\"#9c179e\"],[0.4444444444444444,\"#bd3786\"],[0.5555555555555556,\"#d8576b\"],[0.6666666666666666,\"#ed7953\"],[0.7777777777777778,\"#fb9f3a\"],[0.8888888888888888,\"#fdca26\"],[1.0,\"#f0f921\"]]}],\"heatmapgl\":[{\"type\":\"heatmapgl\",\"colorbar\":{\"outlinewidth\":0,\"ticks\":\"\"},\"colorscale\":[[0.0,\"#0d0887\"],[0.1111111111111111,\"#46039f\"],[0.2222222222222222,\"#7201a8\"],[0.3333333333333333,\"#9c179e\"],[0.4444444444444444,\"#bd3786\"],[0.5555555555555556,\"#d8576b\"],[0.6666666666666666,\"#ed7953\"],[0.7777777777777778,\"#fb9f3a\"],[0.8888888888888888,\"#fdca26\"],[1.0,\"#f0f921\"]]}],\"contourcarpet\":[{\"type\":\"contourcarpet\",\"colorbar\":{\"outlinewidth\":0,\"ticks\":\"\"}}],\"contour\":[{\"type\":\"contour\",\"colorbar\":{\"outlinewidth\":0,\"ticks\":\"\"},\"colorscale\":[[0.0,\"#0d0887\"],[0.1111111111111111,\"#46039f\"],[0.2222222222222222,\"#7201a8\"],[0.3333333333333333,\"#9c179e\"],[0.4444444444444444,\"#bd3786\"],[0.5555555555555556,\"#d8576b\"],[0.6666666666666666,\"#ed7953\"],[0.7777777777777778,\"#fb9f3a\"],[0.8888888888888888,\"#fdca26\"],[1.0,\"#f0f921\"]]}],\"surface\":[{\"type\":\"surface\",\"colorbar\":{\"outlinewidth\":0,\"ticks\":\"\"},\"colorscale\":[[0.0,\"#0d0887\"],[0.1111111111111111,\"#46039f\"],[0.2222222222222222,\"#7201a8\"],[0.3333333333333333,\"#9c179e\"],[0.4444444444444444,\"#bd3786\"],[0.5555555555555556,\"#d8576b\"],[0.6666666666666666,\"#ed7953\"],[0.7777777777777778,\"#fb9f3a\"],[0.8888888888888888,\"#fdca26\"],[1.0,\"#f0f921\"]]}],\"mesh3d\":[{\"type\":\"mesh3d\",\"colorbar\":{\"outlinewidth\":0,\"ticks\":\"\"}}],\"scatter\":[{\"fillpattern\":{\"fillmode\":\"overlay\",\"size\":10,\"solidity\":0.2},\"type\":\"scatter\"}],\"parcoords\":[{\"type\":\"parcoords\",\"line\":{\"colorbar\":{\"outlinewidth\":0,\"ticks\":\"\"}}}],\"scatterpolargl\":[{\"type\":\"scatterpolargl\",\"marker\":{\"colorbar\":{\"outlinewidth\":0,\"ticks\":\"\"}}}],\"bar\":[{\"error_x\":{\"color\":\"#2a3f5f\"},\"error_y\":{\"color\":\"#2a3f5f\"},\"marker\":{\"line\":{\"color\":\"#E5ECF6\",\"width\":0.5},\"pattern\":{\"fillmode\":\"overlay\",\"size\":10,\"solidity\":0.2}},\"type\":\"bar\"}],\"scattergeo\":[{\"type\":\"scattergeo\",\"marker\":{\"colorbar\":{\"outlinewidth\":0,\"ticks\":\"\"}}}],\"scatterpolar\":[{\"type\":\"scatterpolar\",\"marker\":{\"colorbar\":{\"outlinewidth\":0,\"ticks\":\"\"}}}],\"histogram\":[{\"marker\":{\"pattern\":{\"fillmode\":\"overlay\",\"size\":10,\"solidity\":0.2}},\"type\":\"histogram\"}],\"scattergl\":[{\"type\":\"scattergl\",\"marker\":{\"colorbar\":{\"outlinewidth\":0,\"ticks\":\"\"}}}],\"scatter3d\":[{\"type\":\"scatter3d\",\"line\":{\"colorbar\":{\"outlinewidth\":0,\"ticks\":\"\"}},\"marker\":{\"colorbar\":{\"outlinewidth\":0,\"ticks\":\"\"}}}],\"scattermapbox\":[{\"type\":\"scattermapbox\",\"marker\":{\"colorbar\":{\"outlinewidth\":0,\"ticks\":\"\"}}}],\"scatterternary\":[{\"type\":\"scatterternary\",\"marker\":{\"colorbar\":{\"outlinewidth\":0,\"ticks\":\"\"}}}],\"scattercarpet\":[{\"type\":\"scattercarpet\",\"marker\":{\"colorbar\":{\"outlinewidth\":0,\"ticks\":\"\"}}}],\"carpet\":[{\"aaxis\":{\"endlinecolor\":\"#2a3f5f\",\"gridcolor\":\"white\",\"linecolor\":\"white\",\"minorgridcolor\":\"white\",\"startlinecolor\":\"#2a3f5f\"},\"baxis\":{\"endlinecolor\":\"#2a3f5f\",\"gridcolor\":\"white\",\"linecolor\":\"white\",\"minorgridcolor\":\"white\",\"startlinecolor\":\"#2a3f5f\"},\"type\":\"carpet\"}],\"table\":[{\"cells\":{\"fill\":{\"color\":\"#EBF0F8\"},\"line\":{\"color\":\"white\"}},\"header\":{\"fill\":{\"color\":\"#C8D4E3\"},\"line\":{\"color\":\"white\"}},\"type\":\"table\"}],\"barpolar\":[{\"marker\":{\"line\":{\"color\":\"#E5ECF6\",\"width\":0.5},\"pattern\":{\"fillmode\":\"overlay\",\"size\":10,\"solidity\":0.2}},\"type\":\"barpolar\"}],\"pie\":[{\"automargin\":true,\"type\":\"pie\"}]},\"layout\":{\"autotypenumbers\":\"strict\",\"colorway\":[\"#636efa\",\"#EF553B\",\"#00cc96\",\"#ab63fa\",\"#FFA15A\",\"#19d3f3\",\"#FF6692\",\"#B6E880\",\"#FF97FF\",\"#FECB52\"],\"font\":{\"color\":\"#2a3f5f\"},\"hovermode\":\"closest\",\"hoverlabel\":{\"align\":\"left\"},\"paper_bgcolor\":\"white\",\"plot_bgcolor\":\"#E5ECF6\",\"polar\":{\"bgcolor\":\"#E5ECF6\",\"angularaxis\":{\"gridcolor\":\"white\",\"linecolor\":\"white\",\"ticks\":\"\"},\"radialaxis\":{\"gridcolor\":\"white\",\"linecolor\":\"white\",\"ticks\":\"\"}},\"ternary\":{\"bgcolor\":\"#E5ECF6\",\"aaxis\":{\"gridcolor\":\"white\",\"linecolor\":\"white\",\"ticks\":\"\"},\"baxis\":{\"gridcolor\":\"white\",\"linecolor\":\"white\",\"ticks\":\"\"},\"caxis\":{\"gridcolor\":\"white\",\"linecolor\":\"white\",\"ticks\":\"\"}},\"coloraxis\":{\"colorbar\":{\"outlinewidth\":0,\"ticks\":\"\"}},\"colorscale\":{\"sequential\":[[0.0,\"#0d0887\"],[0.1111111111111111,\"#46039f\"],[0.2222222222222222,\"#7201a8\"],[0.3333333333333333,\"#9c179e\"],[0.4444444444444444,\"#bd3786\"],[0.5555555555555556,\"#d8576b\"],[0.6666666666666666,\"#ed7953\"],[0.7777777777777778,\"#fb9f3a\"],[0.8888888888888888,\"#fdca26\"],[1.0,\"#f0f921\"]],\"sequentialminus\":[[0.0,\"#0d0887\"],[0.1111111111111111,\"#46039f\"],[0.2222222222222222,\"#7201a8\"],[0.3333333333333333,\"#9c179e\"],[0.4444444444444444,\"#bd3786\"],[0.5555555555555556,\"#d8576b\"],[0.6666666666666666,\"#ed7953\"],[0.7777777777777778,\"#fb9f3a\"],[0.8888888888888888,\"#fdca26\"],[1.0,\"#f0f921\"]],\"diverging\":[[0,\"#8e0152\"],[0.1,\"#c51b7d\"],[0.2,\"#de77ae\"],[0.3,\"#f1b6da\"],[0.4,\"#fde0ef\"],[0.5,\"#f7f7f7\"],[0.6,\"#e6f5d0\"],[0.7,\"#b8e186\"],[0.8,\"#7fbc41\"],[0.9,\"#4d9221\"],[1,\"#276419\"]]},\"xaxis\":{\"gridcolor\":\"white\",\"linecolor\":\"white\",\"ticks\":\"\",\"title\":{\"standoff\":15},\"zerolinecolor\":\"white\",\"automargin\":true,\"zerolinewidth\":2},\"yaxis\":{\"gridcolor\":\"white\",\"linecolor\":\"white\",\"ticks\":\"\",\"title\":{\"standoff\":15},\"zerolinecolor\":\"white\",\"automargin\":true,\"zerolinewidth\":2},\"scene\":{\"xaxis\":{\"backgroundcolor\":\"#E5ECF6\",\"gridcolor\":\"white\",\"linecolor\":\"white\",\"showbackground\":true,\"ticks\":\"\",\"zerolinecolor\":\"white\",\"gridwidth\":2},\"yaxis\":{\"backgroundcolor\":\"#E5ECF6\",\"gridcolor\":\"white\",\"linecolor\":\"white\",\"showbackground\":true,\"ticks\":\"\",\"zerolinecolor\":\"white\",\"gridwidth\":2},\"zaxis\":{\"backgroundcolor\":\"#E5ECF6\",\"gridcolor\":\"white\",\"linecolor\":\"white\",\"showbackground\":true,\"ticks\":\"\",\"zerolinecolor\":\"white\",\"gridwidth\":2}},\"shapedefaults\":{\"line\":{\"color\":\"#2a3f5f\"}},\"annotationdefaults\":{\"arrowcolor\":\"#2a3f5f\",\"arrowhead\":0,\"arrowwidth\":1},\"geo\":{\"bgcolor\":\"white\",\"landcolor\":\"#E5ECF6\",\"subunitcolor\":\"white\",\"showland\":true,\"showlakes\":true,\"lakecolor\":\"white\"},\"title\":{\"x\":0.05},\"mapbox\":{\"style\":\"light\"}}},\"title\":{\"text\":\"Number of Calls next 48 hours\"},\"xaxis\":{\"title\":{\"text\":\"Date\"}},\"yaxis\":{\"title\":{\"text\":\"Value\"}}},                        {\"responsive\": true}                    ).then(function(){\n",
       "                            \n",
       "var gd = document.getElementById('33d6c52b-6dfb-45d2-8a97-09d735ee2694');\n",
       "var x = new MutationObserver(function (mutations, observer) {{\n",
       "        var display = window.getComputedStyle(gd).display;\n",
       "        if (!display || display === 'none') {{\n",
       "            console.log([gd, 'removed!']);\n",
       "            Plotly.purge(gd);\n",
       "            observer.disconnect();\n",
       "        }}\n",
       "}});\n",
       "\n",
       "// Listen for the removal of the full notebook cells\n",
       "var notebookContainer = gd.closest('#notebook-container');\n",
       "if (notebookContainer) {{\n",
       "    x.observe(notebookContainer, {childList: true});\n",
       "}}\n",
       "\n",
       "// Listen for the clearing of the current output cell\n",
       "var outputEl = gd.closest('.output');\n",
       "if (outputEl) {{\n",
       "    x.observe(outputEl, {childList: true});\n",
       "}}\n",
       "\n",
       "                        })                };                });            </script>        </div>"
      ]
     },
     "metadata": {},
     "output_type": "display_data"
    }
   ],
   "source": [
    "# create the chart\n",
    "fig = go.Figure()\n",
    "\n",
    "fig.add_trace(go.Scatter(x=df['timestamp'], y=df['forecast'], mode='lines'))\n",
    "fig.add_trace(go.Scatter(x=df['timestamp'], y=df['Q1'], mode='lines'))\n",
    "fig.add_trace(go.Scatter(x=df['timestamp'], y=df['Q5'], mode='lines'))\n",
    "fig.add_trace(go.Scatter(x=df['timestamp'], y=df['Q9'], mode='lines'))\n",
    "\n",
    "fig.update_layout(\n",
    "    title='Number of Calls next 48 hours',\n",
    "    xaxis_title='Date',\n",
    "    yaxis_title='Value'\n",
    ")\n",
    "\n",
    "fig.show()"
   ]
  },
  {
   "cell_type": "code",
   "execution_count": null,
   "id": "9d482526-5ad5-40e0-95b0-8548c7edddf0",
   "metadata": {},
   "outputs": [],
   "source": []
  },
  {
   "cell_type": "code",
   "execution_count": null,
   "id": "062e3e65-4bcc-4bc4-807a-651e320ce6df",
   "metadata": {},
   "outputs": [],
   "source": []
  }
 ],
 "metadata": {
  "availableInstances": [
   {
    "_defaultOrder": 0,
    "_isFastLaunch": true,
    "category": "General purpose",
    "gpuNum": 0,
    "hideHardwareSpecs": false,
    "memoryGiB": 4,
    "name": "ml.t3.medium",
    "vcpuNum": 2
   },
   {
    "_defaultOrder": 1,
    "_isFastLaunch": false,
    "category": "General purpose",
    "gpuNum": 0,
    "hideHardwareSpecs": false,
    "memoryGiB": 8,
    "name": "ml.t3.large",
    "vcpuNum": 2
   },
   {
    "_defaultOrder": 2,
    "_isFastLaunch": false,
    "category": "General purpose",
    "gpuNum": 0,
    "hideHardwareSpecs": false,
    "memoryGiB": 16,
    "name": "ml.t3.xlarge",
    "vcpuNum": 4
   },
   {
    "_defaultOrder": 3,
    "_isFastLaunch": false,
    "category": "General purpose",
    "gpuNum": 0,
    "hideHardwareSpecs": false,
    "memoryGiB": 32,
    "name": "ml.t3.2xlarge",
    "vcpuNum": 8
   },
   {
    "_defaultOrder": 4,
    "_isFastLaunch": true,
    "category": "General purpose",
    "gpuNum": 0,
    "hideHardwareSpecs": false,
    "memoryGiB": 8,
    "name": "ml.m5.large",
    "vcpuNum": 2
   },
   {
    "_defaultOrder": 5,
    "_isFastLaunch": false,
    "category": "General purpose",
    "gpuNum": 0,
    "hideHardwareSpecs": false,
    "memoryGiB": 16,
    "name": "ml.m5.xlarge",
    "vcpuNum": 4
   },
   {
    "_defaultOrder": 6,
    "_isFastLaunch": false,
    "category": "General purpose",
    "gpuNum": 0,
    "hideHardwareSpecs": false,
    "memoryGiB": 32,
    "name": "ml.m5.2xlarge",
    "vcpuNum": 8
   },
   {
    "_defaultOrder": 7,
    "_isFastLaunch": false,
    "category": "General purpose",
    "gpuNum": 0,
    "hideHardwareSpecs": false,
    "memoryGiB": 64,
    "name": "ml.m5.4xlarge",
    "vcpuNum": 16
   },
   {
    "_defaultOrder": 8,
    "_isFastLaunch": false,
    "category": "General purpose",
    "gpuNum": 0,
    "hideHardwareSpecs": false,
    "memoryGiB": 128,
    "name": "ml.m5.8xlarge",
    "vcpuNum": 32
   },
   {
    "_defaultOrder": 9,
    "_isFastLaunch": false,
    "category": "General purpose",
    "gpuNum": 0,
    "hideHardwareSpecs": false,
    "memoryGiB": 192,
    "name": "ml.m5.12xlarge",
    "vcpuNum": 48
   },
   {
    "_defaultOrder": 10,
    "_isFastLaunch": false,
    "category": "General purpose",
    "gpuNum": 0,
    "hideHardwareSpecs": false,
    "memoryGiB": 256,
    "name": "ml.m5.16xlarge",
    "vcpuNum": 64
   },
   {
    "_defaultOrder": 11,
    "_isFastLaunch": false,
    "category": "General purpose",
    "gpuNum": 0,
    "hideHardwareSpecs": false,
    "memoryGiB": 384,
    "name": "ml.m5.24xlarge",
    "vcpuNum": 96
   },
   {
    "_defaultOrder": 12,
    "_isFastLaunch": false,
    "category": "General purpose",
    "gpuNum": 0,
    "hideHardwareSpecs": false,
    "memoryGiB": 8,
    "name": "ml.m5d.large",
    "vcpuNum": 2
   },
   {
    "_defaultOrder": 13,
    "_isFastLaunch": false,
    "category": "General purpose",
    "gpuNum": 0,
    "hideHardwareSpecs": false,
    "memoryGiB": 16,
    "name": "ml.m5d.xlarge",
    "vcpuNum": 4
   },
   {
    "_defaultOrder": 14,
    "_isFastLaunch": false,
    "category": "General purpose",
    "gpuNum": 0,
    "hideHardwareSpecs": false,
    "memoryGiB": 32,
    "name": "ml.m5d.2xlarge",
    "vcpuNum": 8
   },
   {
    "_defaultOrder": 15,
    "_isFastLaunch": false,
    "category": "General purpose",
    "gpuNum": 0,
    "hideHardwareSpecs": false,
    "memoryGiB": 64,
    "name": "ml.m5d.4xlarge",
    "vcpuNum": 16
   },
   {
    "_defaultOrder": 16,
    "_isFastLaunch": false,
    "category": "General purpose",
    "gpuNum": 0,
    "hideHardwareSpecs": false,
    "memoryGiB": 128,
    "name": "ml.m5d.8xlarge",
    "vcpuNum": 32
   },
   {
    "_defaultOrder": 17,
    "_isFastLaunch": false,
    "category": "General purpose",
    "gpuNum": 0,
    "hideHardwareSpecs": false,
    "memoryGiB": 192,
    "name": "ml.m5d.12xlarge",
    "vcpuNum": 48
   },
   {
    "_defaultOrder": 18,
    "_isFastLaunch": false,
    "category": "General purpose",
    "gpuNum": 0,
    "hideHardwareSpecs": false,
    "memoryGiB": 256,
    "name": "ml.m5d.16xlarge",
    "vcpuNum": 64
   },
   {
    "_defaultOrder": 19,
    "_isFastLaunch": false,
    "category": "General purpose",
    "gpuNum": 0,
    "hideHardwareSpecs": false,
    "memoryGiB": 384,
    "name": "ml.m5d.24xlarge",
    "vcpuNum": 96
   },
   {
    "_defaultOrder": 20,
    "_isFastLaunch": false,
    "category": "General purpose",
    "gpuNum": 0,
    "hideHardwareSpecs": true,
    "memoryGiB": 0,
    "name": "ml.geospatial.interactive",
    "supportedImageNames": [
     "sagemaker-geospatial-v1-0"
    ],
    "vcpuNum": 0
   },
   {
    "_defaultOrder": 21,
    "_isFastLaunch": true,
    "category": "Compute optimized",
    "gpuNum": 0,
    "hideHardwareSpecs": false,
    "memoryGiB": 4,
    "name": "ml.c5.large",
    "vcpuNum": 2
   },
   {
    "_defaultOrder": 22,
    "_isFastLaunch": false,
    "category": "Compute optimized",
    "gpuNum": 0,
    "hideHardwareSpecs": false,
    "memoryGiB": 8,
    "name": "ml.c5.xlarge",
    "vcpuNum": 4
   },
   {
    "_defaultOrder": 23,
    "_isFastLaunch": false,
    "category": "Compute optimized",
    "gpuNum": 0,
    "hideHardwareSpecs": false,
    "memoryGiB": 16,
    "name": "ml.c5.2xlarge",
    "vcpuNum": 8
   },
   {
    "_defaultOrder": 24,
    "_isFastLaunch": false,
    "category": "Compute optimized",
    "gpuNum": 0,
    "hideHardwareSpecs": false,
    "memoryGiB": 32,
    "name": "ml.c5.4xlarge",
    "vcpuNum": 16
   },
   {
    "_defaultOrder": 25,
    "_isFastLaunch": false,
    "category": "Compute optimized",
    "gpuNum": 0,
    "hideHardwareSpecs": false,
    "memoryGiB": 72,
    "name": "ml.c5.9xlarge",
    "vcpuNum": 36
   },
   {
    "_defaultOrder": 26,
    "_isFastLaunch": false,
    "category": "Compute optimized",
    "gpuNum": 0,
    "hideHardwareSpecs": false,
    "memoryGiB": 96,
    "name": "ml.c5.12xlarge",
    "vcpuNum": 48
   },
   {
    "_defaultOrder": 27,
    "_isFastLaunch": false,
    "category": "Compute optimized",
    "gpuNum": 0,
    "hideHardwareSpecs": false,
    "memoryGiB": 144,
    "name": "ml.c5.18xlarge",
    "vcpuNum": 72
   },
   {
    "_defaultOrder": 28,
    "_isFastLaunch": false,
    "category": "Compute optimized",
    "gpuNum": 0,
    "hideHardwareSpecs": false,
    "memoryGiB": 192,
    "name": "ml.c5.24xlarge",
    "vcpuNum": 96
   },
   {
    "_defaultOrder": 29,
    "_isFastLaunch": true,
    "category": "Accelerated computing",
    "gpuNum": 1,
    "hideHardwareSpecs": false,
    "memoryGiB": 16,
    "name": "ml.g4dn.xlarge",
    "vcpuNum": 4
   },
   {
    "_defaultOrder": 30,
    "_isFastLaunch": false,
    "category": "Accelerated computing",
    "gpuNum": 1,
    "hideHardwareSpecs": false,
    "memoryGiB": 32,
    "name": "ml.g4dn.2xlarge",
    "vcpuNum": 8
   },
   {
    "_defaultOrder": 31,
    "_isFastLaunch": false,
    "category": "Accelerated computing",
    "gpuNum": 1,
    "hideHardwareSpecs": false,
    "memoryGiB": 64,
    "name": "ml.g4dn.4xlarge",
    "vcpuNum": 16
   },
   {
    "_defaultOrder": 32,
    "_isFastLaunch": false,
    "category": "Accelerated computing",
    "gpuNum": 1,
    "hideHardwareSpecs": false,
    "memoryGiB": 128,
    "name": "ml.g4dn.8xlarge",
    "vcpuNum": 32
   },
   {
    "_defaultOrder": 33,
    "_isFastLaunch": false,
    "category": "Accelerated computing",
    "gpuNum": 4,
    "hideHardwareSpecs": false,
    "memoryGiB": 192,
    "name": "ml.g4dn.12xlarge",
    "vcpuNum": 48
   },
   {
    "_defaultOrder": 34,
    "_isFastLaunch": false,
    "category": "Accelerated computing",
    "gpuNum": 1,
    "hideHardwareSpecs": false,
    "memoryGiB": 256,
    "name": "ml.g4dn.16xlarge",
    "vcpuNum": 64
   },
   {
    "_defaultOrder": 35,
    "_isFastLaunch": false,
    "category": "Accelerated computing",
    "gpuNum": 1,
    "hideHardwareSpecs": false,
    "memoryGiB": 61,
    "name": "ml.p3.2xlarge",
    "vcpuNum": 8
   },
   {
    "_defaultOrder": 36,
    "_isFastLaunch": false,
    "category": "Accelerated computing",
    "gpuNum": 4,
    "hideHardwareSpecs": false,
    "memoryGiB": 244,
    "name": "ml.p3.8xlarge",
    "vcpuNum": 32
   },
   {
    "_defaultOrder": 37,
    "_isFastLaunch": false,
    "category": "Accelerated computing",
    "gpuNum": 8,
    "hideHardwareSpecs": false,
    "memoryGiB": 488,
    "name": "ml.p3.16xlarge",
    "vcpuNum": 64
   },
   {
    "_defaultOrder": 38,
    "_isFastLaunch": false,
    "category": "Accelerated computing",
    "gpuNum": 8,
    "hideHardwareSpecs": false,
    "memoryGiB": 768,
    "name": "ml.p3dn.24xlarge",
    "vcpuNum": 96
   },
   {
    "_defaultOrder": 39,
    "_isFastLaunch": false,
    "category": "Memory Optimized",
    "gpuNum": 0,
    "hideHardwareSpecs": false,
    "memoryGiB": 16,
    "name": "ml.r5.large",
    "vcpuNum": 2
   },
   {
    "_defaultOrder": 40,
    "_isFastLaunch": false,
    "category": "Memory Optimized",
    "gpuNum": 0,
    "hideHardwareSpecs": false,
    "memoryGiB": 32,
    "name": "ml.r5.xlarge",
    "vcpuNum": 4
   },
   {
    "_defaultOrder": 41,
    "_isFastLaunch": false,
    "category": "Memory Optimized",
    "gpuNum": 0,
    "hideHardwareSpecs": false,
    "memoryGiB": 64,
    "name": "ml.r5.2xlarge",
    "vcpuNum": 8
   },
   {
    "_defaultOrder": 42,
    "_isFastLaunch": false,
    "category": "Memory Optimized",
    "gpuNum": 0,
    "hideHardwareSpecs": false,
    "memoryGiB": 128,
    "name": "ml.r5.4xlarge",
    "vcpuNum": 16
   },
   {
    "_defaultOrder": 43,
    "_isFastLaunch": false,
    "category": "Memory Optimized",
    "gpuNum": 0,
    "hideHardwareSpecs": false,
    "memoryGiB": 256,
    "name": "ml.r5.8xlarge",
    "vcpuNum": 32
   },
   {
    "_defaultOrder": 44,
    "_isFastLaunch": false,
    "category": "Memory Optimized",
    "gpuNum": 0,
    "hideHardwareSpecs": false,
    "memoryGiB": 384,
    "name": "ml.r5.12xlarge",
    "vcpuNum": 48
   },
   {
    "_defaultOrder": 45,
    "_isFastLaunch": false,
    "category": "Memory Optimized",
    "gpuNum": 0,
    "hideHardwareSpecs": false,
    "memoryGiB": 512,
    "name": "ml.r5.16xlarge",
    "vcpuNum": 64
   },
   {
    "_defaultOrder": 46,
    "_isFastLaunch": false,
    "category": "Memory Optimized",
    "gpuNum": 0,
    "hideHardwareSpecs": false,
    "memoryGiB": 768,
    "name": "ml.r5.24xlarge",
    "vcpuNum": 96
   },
   {
    "_defaultOrder": 47,
    "_isFastLaunch": false,
    "category": "Accelerated computing",
    "gpuNum": 1,
    "hideHardwareSpecs": false,
    "memoryGiB": 16,
    "name": "ml.g5.xlarge",
    "vcpuNum": 4
   },
   {
    "_defaultOrder": 48,
    "_isFastLaunch": false,
    "category": "Accelerated computing",
    "gpuNum": 1,
    "hideHardwareSpecs": false,
    "memoryGiB": 32,
    "name": "ml.g5.2xlarge",
    "vcpuNum": 8
   },
   {
    "_defaultOrder": 49,
    "_isFastLaunch": false,
    "category": "Accelerated computing",
    "gpuNum": 1,
    "hideHardwareSpecs": false,
    "memoryGiB": 64,
    "name": "ml.g5.4xlarge",
    "vcpuNum": 16
   },
   {
    "_defaultOrder": 50,
    "_isFastLaunch": false,
    "category": "Accelerated computing",
    "gpuNum": 1,
    "hideHardwareSpecs": false,
    "memoryGiB": 128,
    "name": "ml.g5.8xlarge",
    "vcpuNum": 32
   },
   {
    "_defaultOrder": 51,
    "_isFastLaunch": false,
    "category": "Accelerated computing",
    "gpuNum": 1,
    "hideHardwareSpecs": false,
    "memoryGiB": 256,
    "name": "ml.g5.16xlarge",
    "vcpuNum": 64
   },
   {
    "_defaultOrder": 52,
    "_isFastLaunch": false,
    "category": "Accelerated computing",
    "gpuNum": 4,
    "hideHardwareSpecs": false,
    "memoryGiB": 192,
    "name": "ml.g5.12xlarge",
    "vcpuNum": 48
   },
   {
    "_defaultOrder": 53,
    "_isFastLaunch": false,
    "category": "Accelerated computing",
    "gpuNum": 4,
    "hideHardwareSpecs": false,
    "memoryGiB": 384,
    "name": "ml.g5.24xlarge",
    "vcpuNum": 96
   },
   {
    "_defaultOrder": 54,
    "_isFastLaunch": false,
    "category": "Accelerated computing",
    "gpuNum": 8,
    "hideHardwareSpecs": false,
    "memoryGiB": 768,
    "name": "ml.g5.48xlarge",
    "vcpuNum": 192
   }
  ],
  "instance_type": "ml.t3.medium",
  "kernelspec": {
   "display_name": "Python 3 (Data Science)",
   "language": "python",
   "name": "python3__SAGEMAKER_INTERNAL__arn:aws:sagemaker:us-east-1:081325390199:image/datascience-1.0"
  },
  "language_info": {
   "codemirror_mode": {
    "name": "ipython",
    "version": 3
   },
   "file_extension": ".py",
   "mimetype": "text/x-python",
   "name": "python",
   "nbconvert_exporter": "python",
   "pygments_lexer": "ipython3",
   "version": "3.7.10"
  }
 },
 "nbformat": 4,
 "nbformat_minor": 5
}

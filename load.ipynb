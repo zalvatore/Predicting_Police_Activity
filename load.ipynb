{
 "cells": [
  {
   "cell_type": "markdown",
   "id": "dffe8d02-2864-40b0-8e72-6987b639ddab",
   "metadata": {},
   "source": [
    "# Load data in Athena"
   ]
  },
  {
   "cell_type": "markdown",
   "id": "5b0946c8-8e60-41f1-833a-db5b3b812294",
   "metadata": {},
   "source": [
    "***"
   ]
  },
  {
   "cell_type": "markdown",
   "id": "f77fa8c2-b65d-414e-b8f0-ed4aa8f63648",
   "metadata": {},
   "source": [
    "## Libraries"
   ]
  },
  {
   "cell_type": "code",
   "execution_count": 2,
   "id": "a3b8b922-ef59-42e6-891e-3dd7bd1354d7",
   "metadata": {
    "tags": []
   },
   "outputs": [
    {
     "name": "stdout",
     "output_type": "stream",
     "text": [
      "\u001b[33mWARNING: Running pip as the 'root' user can result in broken permissions and conflicting behaviour with the system package manager. It is recommended to use a virtual environment instead: https://pip.pypa.io/warnings/venv\u001b[0m\u001b[33m\n",
      "\u001b[0m"
     ]
    }
   ],
   "source": [
    "import boto3\n",
    "import sagemaker\n",
    "!pip install --disable-pip-version-check -q PyAthena==2.1.0\n",
    "from pyathena import connect\n",
    "import pandas as pd"
   ]
  },
  {
   "cell_type": "markdown",
   "id": "4d462390-3308-4ee8-b5cb-981bb9fa78b1",
   "metadata": {},
   "source": [
    "## Variables"
   ]
  },
  {
   "cell_type": "code",
   "execution_count": 3,
   "id": "d25e0c40-1256-4775-8447-7be863207ac0",
   "metadata": {
    "tags": []
   },
   "outputs": [
    {
     "name": "stdout",
     "output_type": "stream",
     "text": [
      "S3_staging_dir - >  s3://sdpd-bucket/athena/staging\n",
      "Conn - >  <pyathena.connection.Connection object at 0x7ff473be0dd0>\n",
      "Region - >  us-east-1\n"
     ]
    }
   ],
   "source": [
    "db_name = \"sdpd\"\n",
    "Bucket = 'sdpd-bucket' \n",
    "region = boto3.Session().region_name\n",
    "s3_staging_dir = \"s3://{}/athena/staging\".format(Bucket)\n",
    "conn = connect(region_name=region, s3_staging_dir=s3_staging_dir)\n",
    "role = sagemaker.get_execution_role()\n",
    "s3 = boto3.client('s3') # Create an S3 client\n",
    "s3_resource = boto3.resource('s3') # Create an S3 resource\n",
    "\n",
    "print('S3_staging_dir - > ',s3_staging_dir)\n",
    "print('Conn - > ',conn)\n",
    "print('Region - > ',region)\n"
   ]
  },
  {
   "cell_type": "markdown",
   "id": "b685543c-9893-4a8e-95b1-fb086ff9b465",
   "metadata": {},
   "source": [
    "## Database"
   ]
  },
  {
   "cell_type": "markdown",
   "id": "f5ee0928-e22d-46f4-9209-b5027afe31f5",
   "metadata": {},
   "source": [
    "### Create"
   ]
  },
  {
   "cell_type": "code",
   "execution_count": 4,
   "id": "2aa5e0b0-c724-47cd-9a9b-6d5cd369a7ad",
   "metadata": {
    "tags": []
   },
   "outputs": [
    {
     "name": "stdout",
     "output_type": "stream",
     "text": [
      "  database_name\n",
      "0       default\n",
      "1        dsoaws\n",
      "2          sdpd\n",
      "3       watersd\n",
      "Stored 'ingest_create_athena_db_passed' (bool)\n"
     ]
    }
   ],
   "source": [
    "statement = \"CREATE DATABASE IF NOT EXISTS {}\".format(db_name)\n",
    "pd.read_sql(statement, conn)\n",
    "\n",
    "statement = \"SHOW DATABASES\"\n",
    "\n",
    "df_show = pd.read_sql(statement, conn)\n",
    "print(df_show.head(5))\n",
    "\n",
    "if db_name in df_show.values:\n",
    "    ingest_create_athena_db_passed = True\n",
    "    \n",
    "%store ingest_create_athena_db_passed"
   ]
  },
  {
   "cell_type": "markdown",
   "id": "24329d1f-18f9-462a-a8f6-53d4a631c23e",
   "metadata": {},
   "source": [
    "### DB Setup"
   ]
  },
  {
   "cell_type": "code",
   "execution_count": 5,
   "id": "c4ee5f1b-9378-45fd-9da6-ed372a926ffd",
   "metadata": {
    "tags": []
   },
   "outputs": [],
   "source": [
    "DB_location = f\"\"\"\n",
    "ROW FORMAT DELIMITED FIELDS TERMINATED BY '\\t' \n",
    "LINES TERMINATED BY '\\n' \n",
    "LOCATION 's3://{Bucket}/SQL'\n",
    "TBLPROPERTIES ('compressionType'='gzip', 'skip.header.line.count'='1')\n",
    "\"\"\""
   ]
  },
  {
   "cell_type": "code",
   "execution_count": 6,
   "id": "f66f4e41-8715-4ecc-b04a-60af439214e6",
   "metadata": {
    "tags": []
   },
   "outputs": [],
   "source": [
    "DB_location = f\"\"\"\n",
    "ROW FORMAT DELIMITED FIELDS TERMINATED BY '\\t' \n",
    "LINES TERMINATED BY '\\n' \n",
    "LOCATION 's3://{Bucket}'\n",
    "\"\"\""
   ]
  },
  {
   "cell_type": "code",
   "execution_count": 7,
   "id": "28a2b77e-79a2-411e-a926-3fe1e1bc37ec",
   "metadata": {
    "tags": []
   },
   "outputs": [],
   "source": [
    "def Header(file):\n",
    "    obj = s3.get_object(Bucket=Bucket, Key=file)\n",
    "    header = obj['Body'].read(1000).decode().split('\\n')[0]\n",
    "    header_list = header.split(',')\n",
    "    return header_list"
   ]
  },
  {
   "cell_type": "code",
   "execution_count": 8,
   "id": "c6f98c09-a0f0-4b30-988a-7bd50c8751dd",
   "metadata": {},
   "outputs": [],
   "source": [
    "def SQL_Table_Create(db_name,table_name,file):\n",
    "    create_table_sql = f\"CREATE EXTERNAL TABLE IF NOT EXISTS {db_name}.{table_name} (\"\n",
    "    for col in Header(file):\n",
    "        create_table_sql += f\"{col} string,\"\n",
    "    create_table_sql = create_table_sql[:-1] + \")\"  # Remove trailing comma and add closing parenthesis\n",
    "    return create_table_sql"
   ]
  },
  {
   "cell_type": "code",
   "execution_count": 9,
   "id": "be6ed771-8f31-4cce-84f1-83038f54ac0c",
   "metadata": {
    "tags": []
   },
   "outputs": [
    {
     "data": {
      "text/plain": [
       "'CREATE EXTERNAL TABLE IF NOT EXISTS sdpd.calls (incident_num string,date_time string,day_of_week string,address_number_primary string,address_dir_primary string,address_road_primary string,address_sfx_primary string,address_dir_intersecting string,address_road_intersecting string,address_sfx_intersecting string,call_type string,disposition string,beat string,priority string,Year string)'"
      ]
     },
     "execution_count": 9,
     "metadata": {},
     "output_type": "execute_result"
    }
   ],
   "source": [
    "SQL_Table_Create(db_name,'calls','Call_Data/SDPD_Calls_.csv')"
   ]
  },
  {
   "cell_type": "code",
   "execution_count": 10,
   "id": "5b5f2933-e36f-4acc-9830-08be06a5b47c",
   "metadata": {
    "tags": []
   },
   "outputs": [
    {
     "data": {
      "text/plain": [
       "'CREATE EXTERNAL TABLE IF NOT EXISTS sdpd.Ripa_Stops (stop_id string,ori string,agency string,exp_years string,date_stop string,time_stop string,stopduration string,stop_in_response_to_cfs string,officer_assignment_key string,assignment string,intersection string,address_block string,land_mark string,address_street string,highway_exit string,isschool string,school_name string,address_city string,beat string,beat_name string,pid string,isstudent string,perceived_limited_english string,perceived_age string,perceived_gender string,gender_nonconforming string,gend string,gend_nc string,perceived_lgbt string)'"
      ]
     },
     "execution_count": 10,
     "metadata": {},
     "output_type": "execute_result"
    }
   ],
   "source": [
    "SQL_Table_Create(db_name,'Ripa_Stops','Ripa_Stops.csv')"
   ]
  },
  {
   "cell_type": "code",
   "execution_count": 11,
   "id": "00ecdb51-017d-4c4c-97fc-ce45824f9f6f",
   "metadata": {
    "tags": []
   },
   "outputs": [],
   "source": [
    "SQL_Calls = \"\"\"CREATE EXTERNAL TABLE IF NOT EXISTS sdpd.calls (incident_num string,\n",
    "date_time string,\n",
    "day_of_week string,\n",
    "address_number_primary string,\n",
    "address_dir_primary string,\n",
    "address_road_primary string,\n",
    "address_sfx_primary string,\n",
    "address_dir_intersecting string,\n",
    "address_road_intersecting string,\n",
    "address_sfx_intersecting string,\n",
    "call_type string,\n",
    "disposition string,\n",
    "beat string,\n",
    "priority string,\n",
    "year int)\"\"\""
   ]
  },
  {
   "cell_type": "code",
   "execution_count": 12,
   "id": "e0e90c3e-6cf5-4d8a-9c1d-68f025121fd9",
   "metadata": {
    "tags": []
   },
   "outputs": [
    {
     "data": {
      "text/plain": [
       "'CREATE EXTERNAL TABLE IF NOT EXISTS sdpd.calls (incident_num string,\\ndate_time string,\\nday_of_week string,\\naddress_number_primary string,\\naddress_dir_primary string,\\naddress_road_primary string,\\naddress_sfx_primary string,\\naddress_dir_intersecting string,\\naddress_road_intersecting string,\\naddress_sfx_intersecting string,\\ncall_type string,\\ndisposition string,\\nbeat string,\\npriority string,\\nyear int)'"
      ]
     },
     "execution_count": 12,
     "metadata": {},
     "output_type": "execute_result"
    }
   ],
   "source": [
    "SQL_Calls"
   ]
  },
  {
   "cell_type": "code",
   "execution_count": 13,
   "id": "f561efaf-06e3-44c9-adc9-56e089e51403",
   "metadata": {
    "tags": []
   },
   "outputs": [],
   "source": [
    "SQL_Stop = \"\"\" CREATE EXTERNAL TABLE IF NOT EXISTS sdpd.Ripa_Stops (stop_id string,\n",
    "ori string,\n",
    "agency string,\n",
    "exp_years string,\n",
    "date_stop string,\n",
    "time_stop string,\n",
    "stopduration string,\n",
    "stop_in_response_to_cfs string,\n",
    "officer_assignment_key string,\n",
    "assignment string,\n",
    "intersection string,\n",
    "address_block string,\n",
    "land_mark string,\n",
    "address_street string,\n",
    "highway_exit string,\n",
    "isschool string,\n",
    "school_name string,\n",
    "address_city string,\n",
    "beat string,\n",
    "beat_name string,\n",
    "pid string,\n",
    "isstudent string,\n",
    "perceived_limited_english string,\n",
    "perceived_age string,\n",
    "perceived_gender string,\n",
    "gender_nonconforming string,\n",
    "gend string,\n",
    "gend_nc string,\n",
    "perceived_lgbt string)\"\"\""
   ]
  },
  {
   "cell_type": "code",
   "execution_count": 14,
   "id": "25cc7df2-444b-4b03-a5a8-c43d2f7c52a4",
   "metadata": {
    "tags": []
   },
   "outputs": [
    {
     "data": {
      "text/plain": [
       "' CREATE EXTERNAL TABLE IF NOT EXISTS sdpd.Ripa_Stops (stop_id string,\\nori string,\\nagency string,\\nexp_years string,\\ndate_stop string,\\ntime_stop string,\\nstopduration string,\\nstop_in_response_to_cfs string,\\nofficer_assignment_key string,\\nassignment string,\\nintersection string,\\naddress_block string,\\nland_mark string,\\naddress_street string,\\nhighway_exit string,\\nisschool string,\\nschool_name string,\\naddress_city string,\\nbeat string,\\nbeat_name string,\\npid string,\\nisstudent string,\\nperceived_limited_english string,\\nperceived_age string,\\nperceived_gender string,\\ngender_nonconforming string,\\ngend string,\\ngend_nc string,\\nperceived_lgbt string)'"
      ]
     },
     "execution_count": 14,
     "metadata": {},
     "output_type": "execute_result"
    }
   ],
   "source": [
    "SQL_Stop"
   ]
  },
  {
   "cell_type": "code",
   "execution_count": 15,
   "id": "466f261c-a970-48e0-bcf0-c28bf34537db",
   "metadata": {
    "tags": []
   },
   "outputs": [
    {
     "data": {
      "text/plain": [
       "\"CREATE EXTERNAL TABLE IF NOT EXISTS sdpd.calls (incident_num string,\\ndate_time string,\\nday_of_week string,\\naddress_number_primary string,\\naddress_dir_primary string,\\naddress_road_primary string,\\naddress_sfx_primary string,\\naddress_dir_intersecting string,\\naddress_road_intersecting string,\\naddress_sfx_intersecting string,\\ncall_type string,\\ndisposition string,\\nbeat string,\\npriority string,\\nyear int)\\nROW FORMAT DELIMITED FIELDS TERMINATED BY '\\t' \\nLINES TERMINATED BY '\\n' \\nLOCATION 's3://sdpd-bucket'\\n\""
      ]
     },
     "execution_count": 15,
     "metadata": {},
     "output_type": "execute_result"
    }
   ],
   "source": [
    "SQL_Calls + DB_location"
   ]
  },
  {
   "cell_type": "markdown",
   "id": "f85d89ff-26bc-4a1d-95ae-f2da539ca598",
   "metadata": {},
   "source": [
    "### Create Tables"
   ]
  },
  {
   "cell_type": "code",
   "execution_count": 16,
   "id": "c1e7bf22-f5aa-46f1-8549-34d258d55009",
   "metadata": {
    "tags": []
   },
   "outputs": [
    {
     "data": {
      "text/html": [
       "<div>\n",
       "<style scoped>\n",
       "    .dataframe tbody tr th:only-of-type {\n",
       "        vertical-align: middle;\n",
       "    }\n",
       "\n",
       "    .dataframe tbody tr th {\n",
       "        vertical-align: top;\n",
       "    }\n",
       "\n",
       "    .dataframe thead th {\n",
       "        text-align: right;\n",
       "    }\n",
       "</style>\n",
       "<table border=\"1\" class=\"dataframe\">\n",
       "  <thead>\n",
       "    <tr style=\"text-align: right;\">\n",
       "      <th></th>\n",
       "    </tr>\n",
       "  </thead>\n",
       "  <tbody>\n",
       "  </tbody>\n",
       "</table>\n",
       "</div>"
      ],
      "text/plain": [
       "Empty DataFrame\n",
       "Columns: []\n",
       "Index: []"
      ]
     },
     "execution_count": 16,
     "metadata": {},
     "output_type": "execute_result"
    }
   ],
   "source": [
    "pd.read_sql(SQL_Calls + DB_location, conn)"
   ]
  },
  {
   "cell_type": "code",
   "execution_count": 17,
   "id": "cceaf247-8fa8-4077-baca-d4b2bc912f90",
   "metadata": {
    "tags": []
   },
   "outputs": [
    {
     "data": {
      "text/html": [
       "<div>\n",
       "<style scoped>\n",
       "    .dataframe tbody tr th:only-of-type {\n",
       "        vertical-align: middle;\n",
       "    }\n",
       "\n",
       "    .dataframe tbody tr th {\n",
       "        vertical-align: top;\n",
       "    }\n",
       "\n",
       "    .dataframe thead th {\n",
       "        text-align: right;\n",
       "    }\n",
       "</style>\n",
       "<table border=\"1\" class=\"dataframe\">\n",
       "  <thead>\n",
       "    <tr style=\"text-align: right;\">\n",
       "      <th></th>\n",
       "    </tr>\n",
       "  </thead>\n",
       "  <tbody>\n",
       "  </tbody>\n",
       "</table>\n",
       "</div>"
      ],
      "text/plain": [
       "Empty DataFrame\n",
       "Columns: []\n",
       "Index: []"
      ]
     },
     "execution_count": 17,
     "metadata": {},
     "output_type": "execute_result"
    }
   ],
   "source": [
    "pd.read_sql(SQL_Stop + DB_location, conn)"
   ]
  },
  {
   "cell_type": "code",
   "execution_count": 18,
   "id": "b58fc36d-7db2-47d6-a567-e3181f52ba01",
   "metadata": {},
   "outputs": [],
   "source": [
    "qry = \"\"\"\n",
    "CREATE EXTERNAL TABLE IF NOT EXISTS `sdpd`.`Calls_SDPD_2023` (\n",
    "  `incident_num` string,\n",
    "  `date_time` string,\n",
    "  `day_of_week` string,\n",
    "  `address_number_primary` string,\n",
    "  `address_dir_primary` string,\n",
    "  `address_road_primary` string,\n",
    "  `address_sfx_primary` string,\n",
    "  `address_dir_intersecting` string,\n",
    "  `address_road_intersecting` string,\n",
    "  `address_sfx_intersecting` string,\n",
    "  `call_type` string,\n",
    "  `disposition` string,\n",
    "  `beat` string,\n",
    "  `priority` string\n",
    ")\n",
    "ROW FORMAT SERDE 'org.apache.hadoop.hive.serde2.lazy.LazySimpleSerDe'\n",
    "WITH SERDEPROPERTIES ('field.delim' = ',')\n",
    "STORED AS INPUTFORMAT 'org.apache.hadoop.mapred.TextInputFormat' OUTPUTFORMAT 'org.apache.hadoop.hive.ql.io.HiveIgnoreKeyTextOutputFormat'\n",
    "LOCATION 's3://sdpd-bucket/2023/'\n",
    "TBLPROPERTIES ('classification' = 'csv', 'skip.header.line.count'='1');\n",
    "\"\"\""
   ]
  },
  {
   "cell_type": "code",
   "execution_count": 19,
   "id": "62dd8db2-0dee-4789-bc44-090d89b04dc4",
   "metadata": {},
   "outputs": [],
   "source": [
    "qry2 = \"\"\"CREATE EXTERNAL TABLE IF NOT EXISTS `sdpd`.`CallsSDPD` (\n",
    "  `incident_num` string,\n",
    "  `date_time` string,\n",
    "  `day_of_week` string,\n",
    "  `address_number_primary` string,\n",
    "  `address_dir_primary` string,\n",
    "  `address_road_primary` string,\n",
    "  `address_sfx_primary` string,\n",
    "  `address_dir_intersecting` string,\n",
    "  `address_road_intersecting` string,\n",
    "  `address_sfx_intersecting` string,\n",
    "  `call_type` string,\n",
    "  `disposition` string,\n",
    "  `beat` string,\n",
    "  `priority` string,\n",
    "  `year` string\n",
    ")\n",
    "ROW FORMAT SERDE 'org.apache.hadoop.hive.serde2.lazy.LazySimpleSerDe'\n",
    "WITH SERDEPROPERTIES ('field.delim' = ',')\n",
    "STORED AS INPUTFORMAT 'org.apache.hadoop.mapred.TextInputFormat' OUTPUTFORMAT 'org.apache.hadoop.hive.ql.io.HiveIgnoreKeyTextOutputFormat'\n",
    "LOCATION 's3://sdpd-bucket/Call_Data/'\n",
    "TBLPROPERTIES ('classification' = 'csv','skip.header.line.count'='1');\"\"\""
   ]
  },
  {
   "cell_type": "code",
   "execution_count": 20,
   "id": "70f9a038-4fd5-4bf6-96b1-55db5200082d",
   "metadata": {
    "tags": []
   },
   "outputs": [],
   "source": [
    "qry = SQL_Table_Create(db_name,'calls','Call_Data/SDPD_Calls_.csv')"
   ]
  },
  {
   "cell_type": "code",
   "execution_count": 21,
   "id": "9314b60f-b03a-4490-b26f-4e17563377ca",
   "metadata": {
    "tags": []
   },
   "outputs": [],
   "source": [
    "addOn = \"\"\" ROW FORMAT SERDE 'org.apache.hadoop.hive.serde2.lazy.LazySimpleSerDe'\n",
    "WITH SERDEPROPERTIES ('field.delim' = ',')\n",
    "STORED AS INPUTFORMAT 'org.apache.hadoop.mapred.TextInputFormat' OUTPUTFORMAT 'org.apache.hadoop.hive.ql.io.HiveIgnoreKeyTextOutputFormat'\n",
    "LOCATION 's3://sdpd-bucket/Call_Data/''\n",
    "TBLPROPERTIES ('classification' = 'csv', 'skip.header.line.count'='1');\"\"\""
   ]
  },
  {
   "cell_type": "code",
   "execution_count": 22,
   "id": "77a1857c-41c1-44bc-a992-0e7dda0f4eb9",
   "metadata": {
    "tags": []
   },
   "outputs": [],
   "source": [
    "qry = qry + addOn"
   ]
  },
  {
   "cell_type": "code",
   "execution_count": 23,
   "id": "bbc49979-0f80-4be7-954d-21e2ac944a0b",
   "metadata": {
    "tags": []
   },
   "outputs": [
    {
     "data": {
      "text/plain": [
       "\"CREATE EXTERNAL TABLE IF NOT EXISTS sdpd.calls (incident_num string,date_time string,day_of_week string,address_number_primary string,address_dir_primary string,address_road_primary string,address_sfx_primary string,address_dir_intersecting string,address_road_intersecting string,address_sfx_intersecting string,call_type string,disposition string,beat string,priority string,Year string) ROW FORMAT SERDE 'org.apache.hadoop.hive.serde2.lazy.LazySimpleSerDe'\\nWITH SERDEPROPERTIES ('field.delim' = ',')\\nSTORED AS INPUTFORMAT 'org.apache.hadoop.mapred.TextInputFormat' OUTPUTFORMAT 'org.apache.hadoop.hive.ql.io.HiveIgnoreKeyTextOutputFormat'\\nLOCATION 's3://sdpd-bucket/Call_Data/''\\nTBLPROPERTIES ('classification' = 'csv', 'skip.header.line.count'='1');\""
      ]
     },
     "execution_count": 23,
     "metadata": {},
     "output_type": "execute_result"
    }
   ],
   "source": [
    "qry"
   ]
  },
  {
   "cell_type": "code",
   "execution_count": 24,
   "id": "4382b252-11f1-4c60-82a2-24e39109f00f",
   "metadata": {
    "tags": []
   },
   "outputs": [
    {
     "data": {
      "text/html": [
       "<div>\n",
       "<style scoped>\n",
       "    .dataframe tbody tr th:only-of-type {\n",
       "        vertical-align: middle;\n",
       "    }\n",
       "\n",
       "    .dataframe tbody tr th {\n",
       "        vertical-align: top;\n",
       "    }\n",
       "\n",
       "    .dataframe thead th {\n",
       "        text-align: right;\n",
       "    }\n",
       "</style>\n",
       "<table border=\"1\" class=\"dataframe\">\n",
       "  <thead>\n",
       "    <tr style=\"text-align: right;\">\n",
       "      <th></th>\n",
       "    </tr>\n",
       "  </thead>\n",
       "  <tbody>\n",
       "  </tbody>\n",
       "</table>\n",
       "</div>"
      ],
      "text/plain": [
       "Empty DataFrame\n",
       "Columns: []\n",
       "Index: []"
      ]
     },
     "execution_count": 24,
     "metadata": {},
     "output_type": "execute_result"
    }
   ],
   "source": [
    "pd.read_sql(qry2, conn)"
   ]
  },
  {
   "cell_type": "code",
   "execution_count": 25,
   "id": "d0de7a96-3f1e-429d-9962-5fccb2f0f5ca",
   "metadata": {
    "tags": []
   },
   "outputs": [
    {
     "data": {
      "text/html": [
       "<div>\n",
       "<style scoped>\n",
       "    .dataframe tbody tr th:only-of-type {\n",
       "        vertical-align: middle;\n",
       "    }\n",
       "\n",
       "    .dataframe tbody tr th {\n",
       "        vertical-align: top;\n",
       "    }\n",
       "\n",
       "    .dataframe thead th {\n",
       "        text-align: right;\n",
       "    }\n",
       "</style>\n",
       "<table border=\"1\" class=\"dataframe\">\n",
       "  <thead>\n",
       "    <tr style=\"text-align: right;\">\n",
       "      <th></th>\n",
       "      <th>tab_name</th>\n",
       "    </tr>\n",
       "  </thead>\n",
       "  <tbody>\n",
       "    <tr>\n",
       "      <th>0</th>\n",
       "      <td>calls</td>\n",
       "    </tr>\n",
       "    <tr>\n",
       "      <th>1</th>\n",
       "      <td>calls_2023</td>\n",
       "    </tr>\n",
       "    <tr>\n",
       "      <th>2</th>\n",
       "      <td>calls_sdpd</td>\n",
       "    </tr>\n",
       "    <tr>\n",
       "      <th>3</th>\n",
       "      <td>calls_sdpd_2023</td>\n",
       "    </tr>\n",
       "    <tr>\n",
       "      <th>4</th>\n",
       "      <td>callssdpd</td>\n",
       "    </tr>\n",
       "  </tbody>\n",
       "</table>\n",
       "</div>"
      ],
      "text/plain": [
       "          tab_name\n",
       "0            calls\n",
       "1       calls_2023\n",
       "2       calls_sdpd\n",
       "3  calls_sdpd_2023\n",
       "4        callssdpd"
      ]
     },
     "execution_count": 25,
     "metadata": {},
     "output_type": "execute_result"
    }
   ],
   "source": [
    "statement = \"SHOW TABLES in {}\".format(db_name)\n",
    "\n",
    "df_show = pd.read_sql(statement, conn)\n",
    "df_show.head(5)"
   ]
  },
  {
   "cell_type": "code",
   "execution_count": 26,
   "id": "92b79cdd-4f12-423e-8275-6165dd6b5c66",
   "metadata": {
    "tags": []
   },
   "outputs": [
    {
     "name": "stdout",
     "output_type": "stream",
     "text": [
      "SELECT * FROM sdpd.CallsSDPD\n",
      "    --order by incident_num desc\n",
      "     LIMIT 100\n",
      "     \n"
     ]
    }
   ],
   "source": [
    "statement = \"\"\"SELECT * FROM {}.{}\n",
    "    --order by incident_num desc\n",
    "     LIMIT 100\n",
    "     \"\"\".format(\n",
    "    db_name, 'CallsSDPD'\n",
    ")\n",
    "\n",
    "print(statement)"
   ]
  },
  {
   "cell_type": "code",
   "execution_count": 27,
   "id": "a2581137-12fa-4f40-8ee0-817838eae1ce",
   "metadata": {
    "tags": []
   },
   "outputs": [
    {
     "data": {
      "text/html": [
       "<div>\n",
       "<style scoped>\n",
       "    .dataframe tbody tr th:only-of-type {\n",
       "        vertical-align: middle;\n",
       "    }\n",
       "\n",
       "    .dataframe tbody tr th {\n",
       "        vertical-align: top;\n",
       "    }\n",
       "\n",
       "    .dataframe thead th {\n",
       "        text-align: right;\n",
       "    }\n",
       "</style>\n",
       "<table border=\"1\" class=\"dataframe\">\n",
       "  <thead>\n",
       "    <tr style=\"text-align: right;\">\n",
       "      <th></th>\n",
       "      <th>incident_num</th>\n",
       "      <th>date_time</th>\n",
       "      <th>day_of_week</th>\n",
       "      <th>address_number_primary</th>\n",
       "      <th>address_dir_primary</th>\n",
       "      <th>address_road_primary</th>\n",
       "      <th>address_sfx_primary</th>\n",
       "      <th>address_dir_intersecting</th>\n",
       "      <th>address_road_intersecting</th>\n",
       "      <th>address_sfx_intersecting</th>\n",
       "      <th>call_type</th>\n",
       "      <th>disposition</th>\n",
       "      <th>beat</th>\n",
       "      <th>priority</th>\n",
       "      <th>year</th>\n",
       "    </tr>\n",
       "  </thead>\n",
       "  <tbody>\n",
       "    <tr>\n",
       "      <th>0</th>\n",
       "      <td>E18010000001</td>\n",
       "      <td>2018-01-01 00:00:09</td>\n",
       "      <td>0</td>\n",
       "      <td>0</td>\n",
       "      <td></td>\n",
       "      <td>MONROE</td>\n",
       "      <td>AVE</td>\n",
       "      <td></td>\n",
       "      <td>PARK</td>\n",
       "      <td></td>\n",
       "      <td>FD</td>\n",
       "      <td>K</td>\n",
       "      <td>624</td>\n",
       "      <td>2</td>\n",
       "      <td>2018</td>\n",
       "    </tr>\n",
       "    <tr>\n",
       "      <th>1</th>\n",
       "      <td>E18010000002</td>\n",
       "      <td>2018-01-01 00:00:41</td>\n",
       "      <td>0</td>\n",
       "      <td>0</td>\n",
       "      <td></td>\n",
       "      <td>MAIN</td>\n",
       "      <td>ST</td>\n",
       "      <td></td>\n",
       "      <td>THOR</td>\n",
       "      <td></td>\n",
       "      <td>AU1</td>\n",
       "      <td>W</td>\n",
       "      <td>511</td>\n",
       "      <td>1</td>\n",
       "      <td>2018</td>\n",
       "    </tr>\n",
       "    <tr>\n",
       "      <th>2</th>\n",
       "      <td>E18010000003</td>\n",
       "      <td>2018-01-01 00:00:52</td>\n",
       "      <td>0</td>\n",
       "      <td>4300</td>\n",
       "      <td></td>\n",
       "      <td>OCEAN</td>\n",
       "      <td>BLV</td>\n",
       "      <td></td>\n",
       "      <td></td>\n",
       "      <td></td>\n",
       "      <td>1016</td>\n",
       "      <td>A</td>\n",
       "      <td>122</td>\n",
       "      <td>2</td>\n",
       "      <td>2018</td>\n",
       "    </tr>\n",
       "    <tr>\n",
       "      <th>3</th>\n",
       "      <td>E18010000004</td>\n",
       "      <td>2018-01-01 00:00:55</td>\n",
       "      <td>0</td>\n",
       "      <td>4500</td>\n",
       "      <td></td>\n",
       "      <td>BOYLSTON</td>\n",
       "      <td>ST</td>\n",
       "      <td></td>\n",
       "      <td></td>\n",
       "      <td></td>\n",
       "      <td>AU1</td>\n",
       "      <td>W</td>\n",
       "      <td>445</td>\n",
       "      <td>1</td>\n",
       "      <td>2018</td>\n",
       "    </tr>\n",
       "    <tr>\n",
       "      <th>4</th>\n",
       "      <td>E18010000005</td>\n",
       "      <td>2018-01-01 00:00:56</td>\n",
       "      <td>0</td>\n",
       "      <td>0</td>\n",
       "      <td></td>\n",
       "      <td>04TH</td>\n",
       "      <td>AVE</td>\n",
       "      <td></td>\n",
       "      <td>ISLAND</td>\n",
       "      <td></td>\n",
       "      <td>1151</td>\n",
       "      <td>O</td>\n",
       "      <td>523</td>\n",
       "      <td>3</td>\n",
       "      <td>2018</td>\n",
       "    </tr>\n",
       "  </tbody>\n",
       "</table>\n",
       "</div>"
      ],
      "text/plain": [
       "   incident_num            date_time day_of_week address_number_primary  \\\n",
       "0  E18010000001  2018-01-01 00:00:09           0                      0   \n",
       "1  E18010000002  2018-01-01 00:00:41           0                      0   \n",
       "2  E18010000003  2018-01-01 00:00:52           0                   4300   \n",
       "3  E18010000004  2018-01-01 00:00:55           0                   4500   \n",
       "4  E18010000005  2018-01-01 00:00:56           0                      0   \n",
       "\n",
       "  address_dir_primary address_road_primary address_sfx_primary  \\\n",
       "0                                   MONROE                 AVE   \n",
       "1                                     MAIN                  ST   \n",
       "2                                    OCEAN                 BLV   \n",
       "3                                 BOYLSTON                  ST   \n",
       "4                                     04TH                 AVE   \n",
       "\n",
       "  address_dir_intersecting address_road_intersecting address_sfx_intersecting  \\\n",
       "0                                               PARK                            \n",
       "1                                               THOR                            \n",
       "2                                                                               \n",
       "3                                                                               \n",
       "4                                             ISLAND                            \n",
       "\n",
       "  call_type disposition beat priority  year  \n",
       "0        FD           K  624        2  2018  \n",
       "1       AU1           W  511        1  2018  \n",
       "2      1016           A  122        2  2018  \n",
       "3       AU1           W  445        1  2018  \n",
       "4      1151           O  523        3  2018  "
      ]
     },
     "execution_count": 27,
     "metadata": {},
     "output_type": "execute_result"
    }
   ],
   "source": [
    "df = pd.read_sql(statement, conn)\n",
    "df.head(5)"
   ]
  },
  {
   "cell_type": "markdown",
   "id": "9b8fced3-10b3-41be-8b1c-574bc643cc9f",
   "metadata": {},
   "source": [
    "## Data Quality Report"
   ]
  },
  {
   "cell_type": "code",
   "execution_count": 28,
   "id": "b7b4e9a1-bef1-4dc4-8d23-091766f2ec82",
   "metadata": {
    "tags": []
   },
   "outputs": [],
   "source": [
    "def Data_Quality_Report(df):\n",
    "\n",
    "    #Initial table\n",
    "    freqDF = pd.DataFrame(columns=['Feature',\n",
    "                                   'Mode',\n",
    "                                   'Mode Freq.',\n",
    "                                   'Mode %',\n",
    "                                   '2nd Mode',\n",
    "                                   '2nd Mode Freq.',\n",
    "                                   '2nd Mode %'])\n",
    "    for col in df.columns:\n",
    "        freq = df[col].value_counts()\n",
    "        freqdf = freq.to_frame()\n",
    "        fRow = freqdf.iloc[0]\n",
    "        #try:\n",
    "        secRow = freqdf.iloc[1]\n",
    "        #except:\n",
    "        #secRow = 0\n",
    "        fPrct = fRow[0] / len(df[col])\n",
    "        #try:\n",
    "        secPrct = secRow[0] / len(df[col])\n",
    "        #except:\n",
    "            #secPrct = 0\n",
    "        try:\n",
    "            mode1 = int(fRow.name)\n",
    "        except:\n",
    "            mode1 = fRow.name\n",
    "        try:\n",
    "            mode2 = int(secRow.name)\n",
    "        except:\n",
    "            try:\n",
    "                mode2 = secRow.name\n",
    "            except:\n",
    "                mode2 = 0\n",
    "        freqDF = freqDF.append({'Feature':col,\n",
    "                                'Mode':mode1,\n",
    "                                'Mode Freq.':fRow[0],\n",
    "                                'Mode %':fPrct,\\\n",
    "                                '2nd Mode':mode2,\n",
    "                                '2nd Mode Freq.':secRow[0],\n",
    "                                '2nd Mode %':secPrct},\n",
    "                                ignore_index=True)\n",
    "\n",
    "    freqDF = freqDF.set_index('Feature')\n",
    "\n",
    "    #Nulls, Counts, Cardinality\n",
    "    NUllFeatures = round(df.isnull().sum() / df.shape[0],4)\\\n",
    "          .sort_values(ascending=False)\n",
    "    Count = df.count()\n",
    "    uni = df.nunique()\n",
    "\n",
    "    #Formating\n",
    "    NUllFeatures.to_frame(name=\"% Miss.\")\n",
    "    Count.to_frame(name=\"Count\")\n",
    "    uni.to_frame()\n",
    "    result = pd.concat([Count, NUllFeatures,uni], axis=1)\n",
    "    result.columns =[\"Count\",\"% Miss.\",\"Card.\"]\n",
    "    result = pd.concat([result, freqDF], axis=1)\n",
    "    result = result.style.format({'% Miss.': \"{:.1%}\",\n",
    "                         'Mode %': \"{:.0%}\",\n",
    "                         '2nd Mode %': \"{:.0%}\",\n",
    "                         'Count': \"{:,}\",\n",
    "                         'Card.': \"{:,}\",\n",
    "                         'Mode Freq.': \"{:,}\",\n",
    "                        '2nd Mode Freq.': \"{:,}\"})\n",
    "    return result"
   ]
  },
  {
   "cell_type": "code",
   "execution_count": 29,
   "id": "dd9654b7-5b3d-4a00-b11a-ae2da075f2e3",
   "metadata": {
    "tags": []
   },
   "outputs": [
    {
     "ename": "IndexError",
     "evalue": "single positional indexer is out-of-bounds",
     "output_type": "error",
     "traceback": [
      "\u001b[0;31m---------------------------------------------------------------------------\u001b[0m",
      "\u001b[0;31mIndexError\u001b[0m                                Traceback (most recent call last)",
      "\u001b[0;32m<ipython-input-29-e7a2a41815fa>\u001b[0m in \u001b[0;36m<module>\u001b[0;34m\u001b[0m\n\u001b[0;32m----> 1\u001b[0;31m \u001b[0mDQR\u001b[0m \u001b[0;34m=\u001b[0m \u001b[0mData_Quality_Report\u001b[0m\u001b[0;34m(\u001b[0m\u001b[0mdf\u001b[0m\u001b[0;34m)\u001b[0m\u001b[0;34m\u001b[0m\u001b[0;34m\u001b[0m\u001b[0m\n\u001b[0m",
      "\u001b[0;32m<ipython-input-28-062d91232e9f>\u001b[0m in \u001b[0;36mData_Quality_Report\u001b[0;34m(df)\u001b[0m\n\u001b[1;32m     14\u001b[0m         \u001b[0mfRow\u001b[0m \u001b[0;34m=\u001b[0m \u001b[0mfreqdf\u001b[0m\u001b[0;34m.\u001b[0m\u001b[0miloc\u001b[0m\u001b[0;34m[\u001b[0m\u001b[0;36m0\u001b[0m\u001b[0;34m]\u001b[0m\u001b[0;34m\u001b[0m\u001b[0;34m\u001b[0m\u001b[0m\n\u001b[1;32m     15\u001b[0m         \u001b[0;31m#try:\u001b[0m\u001b[0;34m\u001b[0m\u001b[0;34m\u001b[0m\u001b[0;34m\u001b[0m\u001b[0m\n\u001b[0;32m---> 16\u001b[0;31m         \u001b[0msecRow\u001b[0m \u001b[0;34m=\u001b[0m \u001b[0mfreqdf\u001b[0m\u001b[0;34m.\u001b[0m\u001b[0miloc\u001b[0m\u001b[0;34m[\u001b[0m\u001b[0;36m1\u001b[0m\u001b[0;34m]\u001b[0m\u001b[0;34m\u001b[0m\u001b[0;34m\u001b[0m\u001b[0m\n\u001b[0m\u001b[1;32m     17\u001b[0m         \u001b[0;31m#except:\u001b[0m\u001b[0;34m\u001b[0m\u001b[0;34m\u001b[0m\u001b[0;34m\u001b[0m\u001b[0m\n\u001b[1;32m     18\u001b[0m         \u001b[0;31m#secRow = 0\u001b[0m\u001b[0;34m\u001b[0m\u001b[0;34m\u001b[0m\u001b[0;34m\u001b[0m\u001b[0m\n",
      "\u001b[0;32m/opt/conda/lib/python3.7/site-packages/pandas/core/indexing.py\u001b[0m in \u001b[0;36m__getitem__\u001b[0;34m(self, key)\u001b[0m\n\u001b[1;32m    929\u001b[0m \u001b[0;34m\u001b[0m\u001b[0m\n\u001b[1;32m    930\u001b[0m             \u001b[0mmaybe_callable\u001b[0m \u001b[0;34m=\u001b[0m \u001b[0mcom\u001b[0m\u001b[0;34m.\u001b[0m\u001b[0mapply_if_callable\u001b[0m\u001b[0;34m(\u001b[0m\u001b[0mkey\u001b[0m\u001b[0;34m,\u001b[0m \u001b[0mself\u001b[0m\u001b[0;34m.\u001b[0m\u001b[0mobj\u001b[0m\u001b[0;34m)\u001b[0m\u001b[0;34m\u001b[0m\u001b[0;34m\u001b[0m\u001b[0m\n\u001b[0;32m--> 931\u001b[0;31m             \u001b[0;32mreturn\u001b[0m \u001b[0mself\u001b[0m\u001b[0;34m.\u001b[0m\u001b[0m_getitem_axis\u001b[0m\u001b[0;34m(\u001b[0m\u001b[0mmaybe_callable\u001b[0m\u001b[0;34m,\u001b[0m \u001b[0maxis\u001b[0m\u001b[0;34m=\u001b[0m\u001b[0maxis\u001b[0m\u001b[0;34m)\u001b[0m\u001b[0;34m\u001b[0m\u001b[0;34m\u001b[0m\u001b[0m\n\u001b[0m\u001b[1;32m    932\u001b[0m \u001b[0;34m\u001b[0m\u001b[0m\n\u001b[1;32m    933\u001b[0m     \u001b[0;32mdef\u001b[0m \u001b[0m_is_scalar_access\u001b[0m\u001b[0;34m(\u001b[0m\u001b[0mself\u001b[0m\u001b[0;34m,\u001b[0m \u001b[0mkey\u001b[0m\u001b[0;34m:\u001b[0m \u001b[0mtuple\u001b[0m\u001b[0;34m)\u001b[0m\u001b[0;34m:\u001b[0m\u001b[0;34m\u001b[0m\u001b[0;34m\u001b[0m\u001b[0m\n",
      "\u001b[0;32m/opt/conda/lib/python3.7/site-packages/pandas/core/indexing.py\u001b[0m in \u001b[0;36m_getitem_axis\u001b[0;34m(self, key, axis)\u001b[0m\n\u001b[1;32m   1564\u001b[0m \u001b[0;34m\u001b[0m\u001b[0m\n\u001b[1;32m   1565\u001b[0m             \u001b[0;31m# validate the location\u001b[0m\u001b[0;34m\u001b[0m\u001b[0;34m\u001b[0m\u001b[0;34m\u001b[0m\u001b[0m\n\u001b[0;32m-> 1566\u001b[0;31m             \u001b[0mself\u001b[0m\u001b[0;34m.\u001b[0m\u001b[0m_validate_integer\u001b[0m\u001b[0;34m(\u001b[0m\u001b[0mkey\u001b[0m\u001b[0;34m,\u001b[0m \u001b[0maxis\u001b[0m\u001b[0;34m)\u001b[0m\u001b[0;34m\u001b[0m\u001b[0;34m\u001b[0m\u001b[0m\n\u001b[0m\u001b[1;32m   1567\u001b[0m \u001b[0;34m\u001b[0m\u001b[0m\n\u001b[1;32m   1568\u001b[0m             \u001b[0;32mreturn\u001b[0m \u001b[0mself\u001b[0m\u001b[0;34m.\u001b[0m\u001b[0mobj\u001b[0m\u001b[0;34m.\u001b[0m\u001b[0m_ixs\u001b[0m\u001b[0;34m(\u001b[0m\u001b[0mkey\u001b[0m\u001b[0;34m,\u001b[0m \u001b[0maxis\u001b[0m\u001b[0;34m=\u001b[0m\u001b[0maxis\u001b[0m\u001b[0;34m)\u001b[0m\u001b[0;34m\u001b[0m\u001b[0;34m\u001b[0m\u001b[0m\n",
      "\u001b[0;32m/opt/conda/lib/python3.7/site-packages/pandas/core/indexing.py\u001b[0m in \u001b[0;36m_validate_integer\u001b[0;34m(self, key, axis)\u001b[0m\n\u001b[1;32m   1498\u001b[0m         \u001b[0mlen_axis\u001b[0m \u001b[0;34m=\u001b[0m \u001b[0mlen\u001b[0m\u001b[0;34m(\u001b[0m\u001b[0mself\u001b[0m\u001b[0;34m.\u001b[0m\u001b[0mobj\u001b[0m\u001b[0;34m.\u001b[0m\u001b[0m_get_axis\u001b[0m\u001b[0;34m(\u001b[0m\u001b[0maxis\u001b[0m\u001b[0;34m)\u001b[0m\u001b[0;34m)\u001b[0m\u001b[0;34m\u001b[0m\u001b[0;34m\u001b[0m\u001b[0m\n\u001b[1;32m   1499\u001b[0m         \u001b[0;32mif\u001b[0m \u001b[0mkey\u001b[0m \u001b[0;34m>=\u001b[0m \u001b[0mlen_axis\u001b[0m \u001b[0;32mor\u001b[0m \u001b[0mkey\u001b[0m \u001b[0;34m<\u001b[0m \u001b[0;34m-\u001b[0m\u001b[0mlen_axis\u001b[0m\u001b[0;34m:\u001b[0m\u001b[0;34m\u001b[0m\u001b[0;34m\u001b[0m\u001b[0m\n\u001b[0;32m-> 1500\u001b[0;31m             \u001b[0;32mraise\u001b[0m \u001b[0mIndexError\u001b[0m\u001b[0;34m(\u001b[0m\u001b[0;34m\"single positional indexer is out-of-bounds\"\u001b[0m\u001b[0;34m)\u001b[0m\u001b[0;34m\u001b[0m\u001b[0;34m\u001b[0m\u001b[0m\n\u001b[0m\u001b[1;32m   1501\u001b[0m \u001b[0;34m\u001b[0m\u001b[0m\n\u001b[1;32m   1502\u001b[0m     \u001b[0;31m# -------------------------------------------------------------------\u001b[0m\u001b[0;34m\u001b[0m\u001b[0;34m\u001b[0m\u001b[0;34m\u001b[0m\u001b[0m\n",
      "\u001b[0;31mIndexError\u001b[0m: single positional indexer is out-of-bounds"
     ]
    }
   ],
   "source": [
    "DQR = Data_Quality_Report(df)"
   ]
  },
  {
   "cell_type": "code",
   "execution_count": null,
   "id": "db2021cb-f1cb-45ef-ba4d-381436ea533b",
   "metadata": {
    "tags": []
   },
   "outputs": [],
   "source": [
    "DQR"
   ]
  },
  {
   "cell_type": "code",
   "execution_count": null,
   "id": "4df7316c-0c86-4fba-a6d6-1fd009b97900",
   "metadata": {},
   "outputs": [],
   "source": []
  }
 ],
 "metadata": {
  "availableInstances": [
   {
    "_defaultOrder": 0,
    "_isFastLaunch": true,
    "category": "General purpose",
    "gpuNum": 0,
    "memoryGiB": 4,
    "name": "ml.t3.medium",
    "vcpuNum": 2
   },
   {
    "_defaultOrder": 1,
    "_isFastLaunch": false,
    "category": "General purpose",
    "gpuNum": 0,
    "memoryGiB": 8,
    "name": "ml.t3.large",
    "vcpuNum": 2
   },
   {
    "_defaultOrder": 2,
    "_isFastLaunch": false,
    "category": "General purpose",
    "gpuNum": 0,
    "memoryGiB": 16,
    "name": "ml.t3.xlarge",
    "vcpuNum": 4
   },
   {
    "_defaultOrder": 3,
    "_isFastLaunch": false,
    "category": "General purpose",
    "gpuNum": 0,
    "memoryGiB": 32,
    "name": "ml.t3.2xlarge",
    "vcpuNum": 8
   },
   {
    "_defaultOrder": 4,
    "_isFastLaunch": true,
    "category": "General purpose",
    "gpuNum": 0,
    "memoryGiB": 8,
    "name": "ml.m5.large",
    "vcpuNum": 2
   },
   {
    "_defaultOrder": 5,
    "_isFastLaunch": false,
    "category": "General purpose",
    "gpuNum": 0,
    "memoryGiB": 16,
    "name": "ml.m5.xlarge",
    "vcpuNum": 4
   },
   {
    "_defaultOrder": 6,
    "_isFastLaunch": false,
    "category": "General purpose",
    "gpuNum": 0,
    "memoryGiB": 32,
    "name": "ml.m5.2xlarge",
    "vcpuNum": 8
   },
   {
    "_defaultOrder": 7,
    "_isFastLaunch": false,
    "category": "General purpose",
    "gpuNum": 0,
    "memoryGiB": 64,
    "name": "ml.m5.4xlarge",
    "vcpuNum": 16
   },
   {
    "_defaultOrder": 8,
    "_isFastLaunch": false,
    "category": "General purpose",
    "gpuNum": 0,
    "memoryGiB": 128,
    "name": "ml.m5.8xlarge",
    "vcpuNum": 32
   },
   {
    "_defaultOrder": 9,
    "_isFastLaunch": false,
    "category": "General purpose",
    "gpuNum": 0,
    "memoryGiB": 192,
    "name": "ml.m5.12xlarge",
    "vcpuNum": 48
   },
   {
    "_defaultOrder": 10,
    "_isFastLaunch": false,
    "category": "General purpose",
    "gpuNum": 0,
    "memoryGiB": 256,
    "name": "ml.m5.16xlarge",
    "vcpuNum": 64
   },
   {
    "_defaultOrder": 11,
    "_isFastLaunch": false,
    "category": "General purpose",
    "gpuNum": 0,
    "memoryGiB": 384,
    "name": "ml.m5.24xlarge",
    "vcpuNum": 96
   },
   {
    "_defaultOrder": 12,
    "_isFastLaunch": false,
    "category": "General purpose",
    "gpuNum": 0,
    "memoryGiB": 8,
    "name": "ml.m5d.large",
    "vcpuNum": 2
   },
   {
    "_defaultOrder": 13,
    "_isFastLaunch": false,
    "category": "General purpose",
    "gpuNum": 0,
    "memoryGiB": 16,
    "name": "ml.m5d.xlarge",
    "vcpuNum": 4
   },
   {
    "_defaultOrder": 14,
    "_isFastLaunch": false,
    "category": "General purpose",
    "gpuNum": 0,
    "memoryGiB": 32,
    "name": "ml.m5d.2xlarge",
    "vcpuNum": 8
   },
   {
    "_defaultOrder": 15,
    "_isFastLaunch": false,
    "category": "General purpose",
    "gpuNum": 0,
    "memoryGiB": 64,
    "name": "ml.m5d.4xlarge",
    "vcpuNum": 16
   },
   {
    "_defaultOrder": 16,
    "_isFastLaunch": false,
    "category": "General purpose",
    "gpuNum": 0,
    "memoryGiB": 128,
    "name": "ml.m5d.8xlarge",
    "vcpuNum": 32
   },
   {
    "_defaultOrder": 17,
    "_isFastLaunch": false,
    "category": "General purpose",
    "gpuNum": 0,
    "memoryGiB": 192,
    "name": "ml.m5d.12xlarge",
    "vcpuNum": 48
   },
   {
    "_defaultOrder": 18,
    "_isFastLaunch": false,
    "category": "General purpose",
    "gpuNum": 0,
    "memoryGiB": 256,
    "name": "ml.m5d.16xlarge",
    "vcpuNum": 64
   },
   {
    "_defaultOrder": 19,
    "_isFastLaunch": false,
    "category": "General purpose",
    "gpuNum": 0,
    "memoryGiB": 384,
    "name": "ml.m5d.24xlarge",
    "vcpuNum": 96
   },
   {
    "_defaultOrder": 20,
    "_isFastLaunch": true,
    "category": "Compute optimized",
    "gpuNum": 0,
    "memoryGiB": 4,
    "name": "ml.c5.large",
    "vcpuNum": 2
   },
   {
    "_defaultOrder": 21,
    "_isFastLaunch": false,
    "category": "Compute optimized",
    "gpuNum": 0,
    "memoryGiB": 8,
    "name": "ml.c5.xlarge",
    "vcpuNum": 4
   },
   {
    "_defaultOrder": 22,
    "_isFastLaunch": false,
    "category": "Compute optimized",
    "gpuNum": 0,
    "memoryGiB": 16,
    "name": "ml.c5.2xlarge",
    "vcpuNum": 8
   },
   {
    "_defaultOrder": 23,
    "_isFastLaunch": false,
    "category": "Compute optimized",
    "gpuNum": 0,
    "memoryGiB": 32,
    "name": "ml.c5.4xlarge",
    "vcpuNum": 16
   },
   {
    "_defaultOrder": 24,
    "_isFastLaunch": false,
    "category": "Compute optimized",
    "gpuNum": 0,
    "memoryGiB": 72,
    "name": "ml.c5.9xlarge",
    "vcpuNum": 36
   },
   {
    "_defaultOrder": 25,
    "_isFastLaunch": false,
    "category": "Compute optimized",
    "gpuNum": 0,
    "memoryGiB": 96,
    "name": "ml.c5.12xlarge",
    "vcpuNum": 48
   },
   {
    "_defaultOrder": 26,
    "_isFastLaunch": false,
    "category": "Compute optimized",
    "gpuNum": 0,
    "memoryGiB": 144,
    "name": "ml.c5.18xlarge",
    "vcpuNum": 72
   },
   {
    "_defaultOrder": 27,
    "_isFastLaunch": false,
    "category": "Compute optimized",
    "gpuNum": 0,
    "memoryGiB": 192,
    "name": "ml.c5.24xlarge",
    "vcpuNum": 96
   },
   {
    "_defaultOrder": 28,
    "_isFastLaunch": true,
    "category": "Accelerated computing",
    "gpuNum": 1,
    "memoryGiB": 16,
    "name": "ml.g4dn.xlarge",
    "vcpuNum": 4
   },
   {
    "_defaultOrder": 29,
    "_isFastLaunch": false,
    "category": "Accelerated computing",
    "gpuNum": 1,
    "memoryGiB": 32,
    "name": "ml.g4dn.2xlarge",
    "vcpuNum": 8
   },
   {
    "_defaultOrder": 30,
    "_isFastLaunch": false,
    "category": "Accelerated computing",
    "gpuNum": 1,
    "memoryGiB": 64,
    "name": "ml.g4dn.4xlarge",
    "vcpuNum": 16
   },
   {
    "_defaultOrder": 31,
    "_isFastLaunch": false,
    "category": "Accelerated computing",
    "gpuNum": 1,
    "memoryGiB": 128,
    "name": "ml.g4dn.8xlarge",
    "vcpuNum": 32
   },
   {
    "_defaultOrder": 32,
    "_isFastLaunch": false,
    "category": "Accelerated computing",
    "gpuNum": 4,
    "memoryGiB": 192,
    "name": "ml.g4dn.12xlarge",
    "vcpuNum": 48
   },
   {
    "_defaultOrder": 33,
    "_isFastLaunch": false,
    "category": "Accelerated computing",
    "gpuNum": 1,
    "memoryGiB": 256,
    "name": "ml.g4dn.16xlarge",
    "vcpuNum": 64
   },
   {
    "_defaultOrder": 34,
    "_isFastLaunch": false,
    "category": "Accelerated computing",
    "gpuNum": 1,
    "memoryGiB": 61,
    "name": "ml.p3.2xlarge",
    "vcpuNum": 8
   },
   {
    "_defaultOrder": 35,
    "_isFastLaunch": false,
    "category": "Accelerated computing",
    "gpuNum": 4,
    "memoryGiB": 244,
    "name": "ml.p3.8xlarge",
    "vcpuNum": 32
   },
   {
    "_defaultOrder": 36,
    "_isFastLaunch": false,
    "category": "Accelerated computing",
    "gpuNum": 8,
    "memoryGiB": 488,
    "name": "ml.p3.16xlarge",
    "vcpuNum": 64
   },
   {
    "_defaultOrder": 37,
    "_isFastLaunch": false,
    "category": "Accelerated computing",
    "gpuNum": 8,
    "memoryGiB": 768,
    "name": "ml.p3dn.24xlarge",
    "vcpuNum": 96
   },
   {
    "_defaultOrder": 38,
    "_isFastLaunch": false,
    "category": "Memory Optimized",
    "gpuNum": 0,
    "memoryGiB": 16,
    "name": "ml.r5.large",
    "vcpuNum": 2
   },
   {
    "_defaultOrder": 39,
    "_isFastLaunch": false,
    "category": "Memory Optimized",
    "gpuNum": 0,
    "memoryGiB": 32,
    "name": "ml.r5.xlarge",
    "vcpuNum": 4
   },
   {
    "_defaultOrder": 40,
    "_isFastLaunch": false,
    "category": "Memory Optimized",
    "gpuNum": 0,
    "memoryGiB": 64,
    "name": "ml.r5.2xlarge",
    "vcpuNum": 8
   },
   {
    "_defaultOrder": 41,
    "_isFastLaunch": false,
    "category": "Memory Optimized",
    "gpuNum": 0,
    "memoryGiB": 128,
    "name": "ml.r5.4xlarge",
    "vcpuNum": 16
   },
   {
    "_defaultOrder": 42,
    "_isFastLaunch": false,
    "category": "Memory Optimized",
    "gpuNum": 0,
    "memoryGiB": 256,
    "name": "ml.r5.8xlarge",
    "vcpuNum": 32
   },
   {
    "_defaultOrder": 43,
    "_isFastLaunch": false,
    "category": "Memory Optimized",
    "gpuNum": 0,
    "memoryGiB": 384,
    "name": "ml.r5.12xlarge",
    "vcpuNum": 48
   },
   {
    "_defaultOrder": 44,
    "_isFastLaunch": false,
    "category": "Memory Optimized",
    "gpuNum": 0,
    "memoryGiB": 512,
    "name": "ml.r5.16xlarge",
    "vcpuNum": 64
   },
   {
    "_defaultOrder": 45,
    "_isFastLaunch": false,
    "category": "Memory Optimized",
    "gpuNum": 0,
    "memoryGiB": 768,
    "name": "ml.r5.24xlarge",
    "vcpuNum": 96
   },
   {
    "_defaultOrder": 46,
    "_isFastLaunch": false,
    "category": "Accelerated computing",
    "gpuNum": 1,
    "memoryGiB": 16,
    "name": "ml.g5.xlarge",
    "vcpuNum": 4
   },
   {
    "_defaultOrder": 47,
    "_isFastLaunch": false,
    "category": "Accelerated computing",
    "gpuNum": 1,
    "memoryGiB": 32,
    "name": "ml.g5.2xlarge",
    "vcpuNum": 8
   },
   {
    "_defaultOrder": 48,
    "_isFastLaunch": false,
    "category": "Accelerated computing",
    "gpuNum": 1,
    "memoryGiB": 64,
    "name": "ml.g5.4xlarge",
    "vcpuNum": 16
   },
   {
    "_defaultOrder": 49,
    "_isFastLaunch": false,
    "category": "Accelerated computing",
    "gpuNum": 1,
    "memoryGiB": 128,
    "name": "ml.g5.8xlarge",
    "vcpuNum": 32
   },
   {
    "_defaultOrder": 50,
    "_isFastLaunch": false,
    "category": "Accelerated computing",
    "gpuNum": 1,
    "memoryGiB": 256,
    "name": "ml.g5.16xlarge",
    "vcpuNum": 64
   },
   {
    "_defaultOrder": 51,
    "_isFastLaunch": false,
    "category": "Accelerated computing",
    "gpuNum": 4,
    "memoryGiB": 192,
    "name": "ml.g5.12xlarge",
    "vcpuNum": 48
   },
   {
    "_defaultOrder": 52,
    "_isFastLaunch": false,
    "category": "Accelerated computing",
    "gpuNum": 4,
    "memoryGiB": 384,
    "name": "ml.g5.24xlarge",
    "vcpuNum": 96
   },
   {
    "_defaultOrder": 53,
    "_isFastLaunch": false,
    "category": "Accelerated computing",
    "gpuNum": 8,
    "memoryGiB": 768,
    "name": "ml.g5.48xlarge",
    "vcpuNum": 192
   }
  ],
  "instance_type": "ml.t3.medium",
  "kernelspec": {
   "display_name": "Python 3 (Data Science)",
   "language": "python",
   "name": "python3__SAGEMAKER_INTERNAL__arn:aws:sagemaker:us-east-1:081325390199:image/datascience-1.0"
  },
  "language_info": {
   "codemirror_mode": {
    "name": "ipython",
    "version": 3
   },
   "file_extension": ".py",
   "mimetype": "text/x-python",
   "name": "python",
   "nbconvert_exporter": "python",
   "pygments_lexer": "ipython3",
   "version": "3.7.10"
  }
 },
 "nbformat": 4,
 "nbformat_minor": 5
}

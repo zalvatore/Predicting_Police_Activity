{
 "cells": [
  {
   "cell_type": "markdown",
   "id": "dffe8d02-2864-40b0-8e72-6987b639ddab",
   "metadata": {},
   "source": [
    "# Load data in Athena"
   ]
  },
  {
   "cell_type": "markdown",
   "id": "5b0946c8-8e60-41f1-833a-db5b3b812294",
   "metadata": {},
   "source": [
    "***"
   ]
  },
  {
   "cell_type": "markdown",
   "id": "f77fa8c2-b65d-414e-b8f0-ed4aa8f63648",
   "metadata": {},
   "source": [
    "## Libraries"
   ]
  },
  {
   "cell_type": "code",
   "execution_count": 4,
   "id": "a3b8b922-ef59-42e6-891e-3dd7bd1354d7",
   "metadata": {
    "tags": []
   },
   "outputs": [
    {
     "name": "stdout",
     "output_type": "stream",
     "text": [
      "\u001b[33mWARNING: Running pip as the 'root' user can result in broken permissions and conflicting behaviour with the system package manager. It is recommended to use a virtual environment instead: https://pip.pypa.io/warnings/venv\u001b[0m\u001b[33m\n",
      "\u001b[0m"
     ]
    }
   ],
   "source": [
    "import boto3\n",
    "import sagemaker\n",
    "!pip install --disable-pip-version-check -q PyAthena==2.1.0\n",
    "from pyathena import connect\n",
    "import pandas as pd"
   ]
  },
  {
   "cell_type": "markdown",
   "id": "4d462390-3308-4ee8-b5cb-981bb9fa78b1",
   "metadata": {},
   "source": [
    "## Variables"
   ]
  },
  {
   "cell_type": "code",
   "execution_count": 5,
   "id": "d25e0c40-1256-4775-8447-7be863207ac0",
   "metadata": {
    "tags": []
   },
   "outputs": [
    {
     "name": "stdout",
     "output_type": "stream",
     "text": [
      "S3_staging_dir - >  s3://sdpd-bucket/athena/staging\n",
      "Conn - >  <pyathena.connection.Connection object at 0x7f88515c5cd0>\n",
      "Region - >  us-east-1\n"
     ]
    }
   ],
   "source": [
    "db_name = \"sdpd\"\n",
    "Bucket = 'sdpd-bucket' \n",
    "region = boto3.Session().region_name\n",
    "s3_staging_dir = \"s3://{}/athena/staging\".format(Bucket)\n",
    "conn = connect(region_name=region, s3_staging_dir=s3_staging_dir)\n",
    "role = sagemaker.get_execution_role()\n",
    "s3 = boto3.client('s3') # Create an S3 client\n",
    "s3_resource = boto3.resource('s3') # Create an S3 resource\n",
    "\n",
    "print('S3_staging_dir - > ',s3_staging_dir)\n",
    "print('Conn - > ',conn)\n",
    "print('Region - > ',region)\n"
   ]
  },
  {
   "cell_type": "markdown",
   "id": "b685543c-9893-4a8e-95b1-fb086ff9b465",
   "metadata": {},
   "source": [
    "## Database"
   ]
  },
  {
   "cell_type": "markdown",
   "id": "f5ee0928-e22d-46f4-9209-b5027afe31f5",
   "metadata": {},
   "source": [
    "### Create"
   ]
  },
  {
   "cell_type": "code",
   "execution_count": 6,
   "id": "2aa5e0b0-c724-47cd-9a9b-6d5cd369a7ad",
   "metadata": {
    "tags": []
   },
   "outputs": [
    {
     "name": "stdout",
     "output_type": "stream",
     "text": [
      "  database_name\n",
      "0       default\n",
      "1        dsoaws\n",
      "2          sdpd\n",
      "3       watersd\n",
      "Stored 'ingest_create_athena_db_passed' (bool)\n"
     ]
    }
   ],
   "source": [
    "statement = \"CREATE DATABASE IF NOT EXISTS {}\".format(db_name)\n",
    "pd.read_sql(statement, conn)\n",
    "\n",
    "statement = \"SHOW DATABASES\"\n",
    "\n",
    "df_show = pd.read_sql(statement, conn)\n",
    "print(df_show.head(5))\n",
    "\n",
    "if db_name in df_show.values:\n",
    "    ingest_create_athena_db_passed = True\n",
    "    \n",
    "%store ingest_create_athena_db_passed"
   ]
  },
  {
   "cell_type": "markdown",
   "id": "24329d1f-18f9-462a-a8f6-53d4a631c23e",
   "metadata": {},
   "source": [
    "### DB Setup"
   ]
  },
  {
   "cell_type": "code",
   "execution_count": 7,
   "id": "c4ee5f1b-9378-45fd-9da6-ed372a926ffd",
   "metadata": {
    "tags": []
   },
   "outputs": [],
   "source": [
    "DB_location = f\"\"\"\n",
    "ROW FORMAT DELIMITED FIELDS TERMINATED BY '\\t' \n",
    "LINES TERMINATED BY '\\n' \n",
    "LOCATION 's3://{Bucket}/SQL'\n",
    "TBLPROPERTIES ('compressionType'='gzip', 'skip.header.line.count'='1')\n",
    "\"\"\""
   ]
  },
  {
   "cell_type": "code",
   "execution_count": 8,
   "id": "f66f4e41-8715-4ecc-b04a-60af439214e6",
   "metadata": {
    "tags": []
   },
   "outputs": [],
   "source": [
    "DB_location = f\"\"\"\n",
    "ROW FORMAT DELIMITED FIELDS TERMINATED BY '\\t' \n",
    "LINES TERMINATED BY '\\n' \n",
    "LOCATION 's3://{Bucket}'\n",
    "\"\"\""
   ]
  },
  {
   "cell_type": "code",
   "execution_count": 9,
   "id": "28a2b77e-79a2-411e-a926-3fe1e1bc37ec",
   "metadata": {
    "tags": []
   },
   "outputs": [],
   "source": [
    "def Header(file):\n",
    "    obj = s3.get_object(Bucket=Bucket, Key=file)\n",
    "    header = obj['Body'].read(1000).decode().split('\\n')[0]\n",
    "    header_list = header.split(',')\n",
    "    return header_list"
   ]
  },
  {
   "cell_type": "code",
   "execution_count": 10,
   "id": "c6f98c09-a0f0-4b30-988a-7bd50c8751dd",
   "metadata": {},
   "outputs": [],
   "source": [
    "def SQL_Table_Create(db_name,table_name,file):\n",
    "    create_table_sql = f\"CREATE EXTERNAL TABLE IF NOT EXISTS {db_name}.{table_name} (\"\n",
    "    for col in Header(file):\n",
    "        create_table_sql += f\"{col} string,\"\n",
    "    create_table_sql = create_table_sql[:-1] + \")\"  # Remove trailing comma and add closing parenthesis\n",
    "    return create_table_sql"
   ]
  },
  {
   "cell_type": "code",
   "execution_count": 11,
   "id": "be6ed771-8f31-4cce-84f1-83038f54ac0c",
   "metadata": {
    "tags": []
   },
   "outputs": [
    {
     "data": {
      "text/plain": [
       "'CREATE EXTERNAL TABLE IF NOT EXISTS sdpd.calls (incident_num string,date_time string,day_of_week string,address_number_primary string,address_dir_primary string,address_road_primary string,address_sfx_primary string,address_dir_intersecting string,address_road_intersecting string,address_sfx_intersecting string,call_type string,disposition string,beat string,priority string)'"
      ]
     },
     "execution_count": 11,
     "metadata": {},
     "output_type": "execute_result"
    }
   ],
   "source": [
    "SQL_Table_Create(db_name,'calls','SDPD_Calls_2023.csv')"
   ]
  },
  {
   "cell_type": "code",
   "execution_count": 12,
   "id": "5b5f2933-e36f-4acc-9830-08be06a5b47c",
   "metadata": {
    "tags": []
   },
   "outputs": [
    {
     "data": {
      "text/plain": [
       "'CREATE EXTERNAL TABLE IF NOT EXISTS sdpd.Ripa_Stops (stop_id string,ori string,agency string,exp_years string,date_stop string,time_stop string,stopduration string,stop_in_response_to_cfs string,officer_assignment_key string,assignment string,intersection string,address_block string,land_mark string,address_street string,highway_exit string,isschool string,school_name string,address_city string,beat string,beat_name string,pid string,isstudent string,perceived_limited_english string,perceived_age string,perceived_gender string,gender_nonconforming string,gend string,gend_nc string,perceived_lgbt string)'"
      ]
     },
     "execution_count": 12,
     "metadata": {},
     "output_type": "execute_result"
    }
   ],
   "source": [
    "SQL_Table_Create(db_name,'Ripa_Stops','Ripa_Stops.csv')"
   ]
  },
  {
   "cell_type": "code",
   "execution_count": 13,
   "id": "00ecdb51-017d-4c4c-97fc-ce45824f9f6f",
   "metadata": {
    "tags": []
   },
   "outputs": [],
   "source": [
    "SQL_Calls = \"\"\"CREATE EXTERNAL TABLE IF NOT EXISTS sdpd.calls (incident_num string,\n",
    "date_time string,\n",
    "day_of_week string,\n",
    "address_number_primary string,\n",
    "address_dir_primary string,\n",
    "address_road_primary string,\n",
    "address_sfx_primary string,\n",
    "address_dir_intersecting string,\n",
    "address_road_intersecting string,\n",
    "address_sfx_intersecting string,\n",
    "call_type string,\n",
    "disposition string,\n",
    "beat string,\n",
    "priority string,\n",
    "year int)\"\"\""
   ]
  },
  {
   "cell_type": "code",
   "execution_count": 14,
   "id": "e0e90c3e-6cf5-4d8a-9c1d-68f025121fd9",
   "metadata": {
    "tags": []
   },
   "outputs": [
    {
     "data": {
      "text/plain": [
       "'CREATE EXTERNAL TABLE IF NOT EXISTS sdpd.calls (incident_num string,\\ndate_time string,\\nday_of_week string,\\naddress_number_primary string,\\naddress_dir_primary string,\\naddress_road_primary string,\\naddress_sfx_primary string,\\naddress_dir_intersecting string,\\naddress_road_intersecting string,\\naddress_sfx_intersecting string,\\ncall_type string,\\ndisposition string,\\nbeat string,\\npriority string,\\nyear int)'"
      ]
     },
     "execution_count": 14,
     "metadata": {},
     "output_type": "execute_result"
    }
   ],
   "source": [
    "SQL_Calls"
   ]
  },
  {
   "cell_type": "code",
   "execution_count": 15,
   "id": "f561efaf-06e3-44c9-adc9-56e089e51403",
   "metadata": {
    "tags": []
   },
   "outputs": [],
   "source": [
    "SQL_Stop = \"\"\" CREATE EXTERNAL TABLE IF NOT EXISTS sdpd.Ripa_Stops (stop_id string,\n",
    "ori string,\n",
    "agency string,\n",
    "exp_years string,\n",
    "date_stop string,\n",
    "time_stop string,\n",
    "stopduration string,\n",
    "stop_in_response_to_cfs string,\n",
    "officer_assignment_key string,\n",
    "assignment string,\n",
    "intersection string,\n",
    "address_block string,\n",
    "land_mark string,\n",
    "address_street string,\n",
    "highway_exit string,\n",
    "isschool string,\n",
    "school_name string,\n",
    "address_city string,\n",
    "beat string,\n",
    "beat_name string,\n",
    "pid string,\n",
    "isstudent string,\n",
    "perceived_limited_english string,\n",
    "perceived_age string,\n",
    "perceived_gender string,\n",
    "gender_nonconforming string,\n",
    "gend string,\n",
    "gend_nc string,\n",
    "perceived_lgbt string)\"\"\""
   ]
  },
  {
   "cell_type": "code",
   "execution_count": 16,
   "id": "25cc7df2-444b-4b03-a5a8-c43d2f7c52a4",
   "metadata": {
    "tags": []
   },
   "outputs": [
    {
     "data": {
      "text/plain": [
       "' CREATE EXTERNAL TABLE IF NOT EXISTS sdpd.Ripa_Stops (stop_id string,\\nori string,\\nagency string,\\nexp_years string,\\ndate_stop string,\\ntime_stop string,\\nstopduration string,\\nstop_in_response_to_cfs string,\\nofficer_assignment_key string,\\nassignment string,\\nintersection string,\\naddress_block string,\\nland_mark string,\\naddress_street string,\\nhighway_exit string,\\nisschool string,\\nschool_name string,\\naddress_city string,\\nbeat string,\\nbeat_name string,\\npid string,\\nisstudent string,\\nperceived_limited_english string,\\nperceived_age string,\\nperceived_gender string,\\ngender_nonconforming string,\\ngend string,\\ngend_nc string,\\nperceived_lgbt string)'"
      ]
     },
     "execution_count": 16,
     "metadata": {},
     "output_type": "execute_result"
    }
   ],
   "source": [
    "SQL_Stop"
   ]
  },
  {
   "cell_type": "code",
   "execution_count": 17,
   "id": "466f261c-a970-48e0-bcf0-c28bf34537db",
   "metadata": {
    "tags": []
   },
   "outputs": [
    {
     "data": {
      "text/plain": [
       "\"CREATE EXTERNAL TABLE IF NOT EXISTS sdpd.calls (incident_num string,\\ndate_time string,\\nday_of_week string,\\naddress_number_primary string,\\naddress_dir_primary string,\\naddress_road_primary string,\\naddress_sfx_primary string,\\naddress_dir_intersecting string,\\naddress_road_intersecting string,\\naddress_sfx_intersecting string,\\ncall_type string,\\ndisposition string,\\nbeat string,\\npriority string,\\nyear int)\\nROW FORMAT DELIMITED FIELDS TERMINATED BY '\\t' \\nLINES TERMINATED BY '\\n' \\nLOCATION 's3://sdpd-bucket'\\n\""
      ]
     },
     "execution_count": 17,
     "metadata": {},
     "output_type": "execute_result"
    }
   ],
   "source": [
    "SQL_Calls + DB_location"
   ]
  },
  {
   "cell_type": "markdown",
   "id": "f85d89ff-26bc-4a1d-95ae-f2da539ca598",
   "metadata": {},
   "source": [
    "### Create Tables"
   ]
  },
  {
   "cell_type": "code",
   "execution_count": 18,
   "id": "c1e7bf22-f5aa-46f1-8549-34d258d55009",
   "metadata": {
    "tags": []
   },
   "outputs": [
    {
     "data": {
      "text/html": [
       "<div>\n",
       "<style scoped>\n",
       "    .dataframe tbody tr th:only-of-type {\n",
       "        vertical-align: middle;\n",
       "    }\n",
       "\n",
       "    .dataframe tbody tr th {\n",
       "        vertical-align: top;\n",
       "    }\n",
       "\n",
       "    .dataframe thead th {\n",
       "        text-align: right;\n",
       "    }\n",
       "</style>\n",
       "<table border=\"1\" class=\"dataframe\">\n",
       "  <thead>\n",
       "    <tr style=\"text-align: right;\">\n",
       "      <th></th>\n",
       "    </tr>\n",
       "  </thead>\n",
       "  <tbody>\n",
       "  </tbody>\n",
       "</table>\n",
       "</div>"
      ],
      "text/plain": [
       "Empty DataFrame\n",
       "Columns: []\n",
       "Index: []"
      ]
     },
     "execution_count": 18,
     "metadata": {},
     "output_type": "execute_result"
    }
   ],
   "source": [
    "pd.read_sql(SQL_Calls + DB_location, conn)"
   ]
  },
  {
   "cell_type": "code",
   "execution_count": 19,
   "id": "cceaf247-8fa8-4077-baca-d4b2bc912f90",
   "metadata": {
    "tags": []
   },
   "outputs": [
    {
     "data": {
      "text/html": [
       "<div>\n",
       "<style scoped>\n",
       "    .dataframe tbody tr th:only-of-type {\n",
       "        vertical-align: middle;\n",
       "    }\n",
       "\n",
       "    .dataframe tbody tr th {\n",
       "        vertical-align: top;\n",
       "    }\n",
       "\n",
       "    .dataframe thead th {\n",
       "        text-align: right;\n",
       "    }\n",
       "</style>\n",
       "<table border=\"1\" class=\"dataframe\">\n",
       "  <thead>\n",
       "    <tr style=\"text-align: right;\">\n",
       "      <th></th>\n",
       "    </tr>\n",
       "  </thead>\n",
       "  <tbody>\n",
       "  </tbody>\n",
       "</table>\n",
       "</div>"
      ],
      "text/plain": [
       "Empty DataFrame\n",
       "Columns: []\n",
       "Index: []"
      ]
     },
     "execution_count": 19,
     "metadata": {},
     "output_type": "execute_result"
    }
   ],
   "source": [
    "pd.read_sql(SQL_Stop + DB_location, conn)"
   ]
  },
  {
   "cell_type": "code",
   "execution_count": 30,
   "id": "b58fc36d-7db2-47d6-a567-e3181f52ba01",
   "metadata": {},
   "outputs": [],
   "source": [
    "qry = \"\"\"\n",
    "CREATE EXTERNAL TABLE IF NOT EXISTS `sdpd`.`Calls_SDPD_2023` (\n",
    "  `incident_num` string,\n",
    "  `date_time` string,\n",
    "  `day_of_week` string,\n",
    "  `address_number_primary` string,\n",
    "  `address_dir_primary` string,\n",
    "  `address_road_primary` string,\n",
    "  `address_sfx_primary` string,\n",
    "  `address_dir_intersecting` string,\n",
    "  `address_road_intersecting` string,\n",
    "  `address_sfx_intersecting` string,\n",
    "  `call_type` string,\n",
    "  `disposition` string,\n",
    "  `beat` string,\n",
    "  `priority` string\n",
    ")\n",
    "ROW FORMAT SERDE 'org.apache.hadoop.hive.serde2.lazy.LazySimpleSerDe'\n",
    "WITH SERDEPROPERTIES ('field.delim' = ',')\n",
    "STORED AS INPUTFORMAT 'org.apache.hadoop.mapred.TextInputFormat' OUTPUTFORMAT 'org.apache.hadoop.hive.ql.io.HiveIgnoreKeyTextOutputFormat'\n",
    "LOCATION 's3://sdpd-bucket/2023/'\n",
    "TBLPROPERTIES ('classification' = 'csv', 'skip.header.line.count'='1');\n",
    "\"\"\""
   ]
  },
  {
   "cell_type": "code",
   "execution_count": 31,
   "id": "4382b252-11f1-4c60-82a2-24e39109f00f",
   "metadata": {
    "tags": []
   },
   "outputs": [
    {
     "data": {
      "text/html": [
       "<div>\n",
       "<style scoped>\n",
       "    .dataframe tbody tr th:only-of-type {\n",
       "        vertical-align: middle;\n",
       "    }\n",
       "\n",
       "    .dataframe tbody tr th {\n",
       "        vertical-align: top;\n",
       "    }\n",
       "\n",
       "    .dataframe thead th {\n",
       "        text-align: right;\n",
       "    }\n",
       "</style>\n",
       "<table border=\"1\" class=\"dataframe\">\n",
       "  <thead>\n",
       "    <tr style=\"text-align: right;\">\n",
       "      <th></th>\n",
       "    </tr>\n",
       "  </thead>\n",
       "  <tbody>\n",
       "  </tbody>\n",
       "</table>\n",
       "</div>"
      ],
      "text/plain": [
       "Empty DataFrame\n",
       "Columns: []\n",
       "Index: []"
      ]
     },
     "execution_count": 31,
     "metadata": {},
     "output_type": "execute_result"
    }
   ],
   "source": [
    "pd.read_sql(qry, conn)"
   ]
  },
  {
   "cell_type": "code",
   "execution_count": 32,
   "id": "d0de7a96-3f1e-429d-9962-5fccb2f0f5ca",
   "metadata": {
    "tags": []
   },
   "outputs": [
    {
     "data": {
      "text/html": [
       "<div>\n",
       "<style scoped>\n",
       "    .dataframe tbody tr th:only-of-type {\n",
       "        vertical-align: middle;\n",
       "    }\n",
       "\n",
       "    .dataframe tbody tr th {\n",
       "        vertical-align: top;\n",
       "    }\n",
       "\n",
       "    .dataframe thead th {\n",
       "        text-align: right;\n",
       "    }\n",
       "</style>\n",
       "<table border=\"1\" class=\"dataframe\">\n",
       "  <thead>\n",
       "    <tr style=\"text-align: right;\">\n",
       "      <th></th>\n",
       "      <th>tab_name</th>\n",
       "    </tr>\n",
       "  </thead>\n",
       "  <tbody>\n",
       "    <tr>\n",
       "      <th>0</th>\n",
       "      <td>calls</td>\n",
       "    </tr>\n",
       "    <tr>\n",
       "      <th>1</th>\n",
       "      <td>calls_2023</td>\n",
       "    </tr>\n",
       "    <tr>\n",
       "      <th>2</th>\n",
       "      <td>calls_sdpd_2023</td>\n",
       "    </tr>\n",
       "    <tr>\n",
       "      <th>3</th>\n",
       "      <td>ripa_stops</td>\n",
       "    </tr>\n",
       "  </tbody>\n",
       "</table>\n",
       "</div>"
      ],
      "text/plain": [
       "          tab_name\n",
       "0            calls\n",
       "1       calls_2023\n",
       "2  calls_sdpd_2023\n",
       "3       ripa_stops"
      ]
     },
     "execution_count": 32,
     "metadata": {},
     "output_type": "execute_result"
    }
   ],
   "source": [
    "statement = \"SHOW TABLES in {}\".format(db_name)\n",
    "\n",
    "df_show = pd.read_sql(statement, conn)\n",
    "df_show.head(5)"
   ]
  },
  {
   "cell_type": "code",
   "execution_count": 33,
   "id": "92b79cdd-4f12-423e-8275-6165dd6b5c66",
   "metadata": {
    "tags": []
   },
   "outputs": [
    {
     "name": "stdout",
     "output_type": "stream",
     "text": [
      "SELECT * FROM sdpd.calls_sdpd_2023\n",
      "     LIMIT 100\n"
     ]
    }
   ],
   "source": [
    "statement = \"\"\"SELECT * FROM {}.{}\n",
    "     LIMIT 100\"\"\".format(\n",
    "    db_name, 'calls_sdpd_2023'\n",
    ")\n",
    "\n",
    "print(statement)"
   ]
  },
  {
   "cell_type": "code",
   "execution_count": 34,
   "id": "a2581137-12fa-4f40-8ee0-817838eae1ce",
   "metadata": {
    "tags": []
   },
   "outputs": [
    {
     "data": {
      "text/html": [
       "<div>\n",
       "<style scoped>\n",
       "    .dataframe tbody tr th:only-of-type {\n",
       "        vertical-align: middle;\n",
       "    }\n",
       "\n",
       "    .dataframe tbody tr th {\n",
       "        vertical-align: top;\n",
       "    }\n",
       "\n",
       "    .dataframe thead th {\n",
       "        text-align: right;\n",
       "    }\n",
       "</style>\n",
       "<table border=\"1\" class=\"dataframe\">\n",
       "  <thead>\n",
       "    <tr style=\"text-align: right;\">\n",
       "      <th></th>\n",
       "      <th>incident_num</th>\n",
       "      <th>date_time</th>\n",
       "      <th>day_of_week</th>\n",
       "      <th>address_number_primary</th>\n",
       "      <th>address_dir_primary</th>\n",
       "      <th>address_road_primary</th>\n",
       "      <th>address_sfx_primary</th>\n",
       "      <th>address_dir_intersecting</th>\n",
       "      <th>address_road_intersecting</th>\n",
       "      <th>address_sfx_intersecting</th>\n",
       "      <th>call_type</th>\n",
       "      <th>disposition</th>\n",
       "      <th>beat</th>\n",
       "      <th>priority</th>\n",
       "    </tr>\n",
       "  </thead>\n",
       "  <tbody>\n",
       "    <tr>\n",
       "      <th>0</th>\n",
       "      <td>E23010000001</td>\n",
       "      <td>2023-01-01 00:00:05</td>\n",
       "      <td>1</td>\n",
       "      <td>0</td>\n",
       "      <td></td>\n",
       "      <td>05TH</td>\n",
       "      <td>AVE</td>\n",
       "      <td></td>\n",
       "      <td>G</td>\n",
       "      <td></td>\n",
       "      <td>FD</td>\n",
       "      <td>CAN</td>\n",
       "      <td>523</td>\n",
       "      <td>2</td>\n",
       "    </tr>\n",
       "    <tr>\n",
       "      <th>1</th>\n",
       "      <td>E23010000002</td>\n",
       "      <td>2023-01-01 00:00:30</td>\n",
       "      <td>1</td>\n",
       "      <td>0</td>\n",
       "      <td></td>\n",
       "      <td>SHOPS INFO LOG</td>\n",
       "      <td></td>\n",
       "      <td></td>\n",
       "      <td></td>\n",
       "      <td></td>\n",
       "      <td>SHOPS</td>\n",
       "      <td>W</td>\n",
       "      <td>-1</td>\n",
       "      <td>4</td>\n",
       "    </tr>\n",
       "    <tr>\n",
       "      <th>2</th>\n",
       "      <td>E23010000003</td>\n",
       "      <td>2023-01-01 00:00:57</td>\n",
       "      <td>1</td>\n",
       "      <td>0</td>\n",
       "      <td></td>\n",
       "      <td>05TH</td>\n",
       "      <td>AVE</td>\n",
       "      <td></td>\n",
       "      <td>G</td>\n",
       "      <td></td>\n",
       "      <td>FD</td>\n",
       "      <td>DUP</td>\n",
       "      <td>523</td>\n",
       "      <td>2</td>\n",
       "    </tr>\n",
       "    <tr>\n",
       "      <th>3</th>\n",
       "      <td>E23010000004</td>\n",
       "      <td>2023-01-01 00:01:15</td>\n",
       "      <td>1</td>\n",
       "      <td>600</td>\n",
       "      <td></td>\n",
       "      <td>FERGUS</td>\n",
       "      <td>ST</td>\n",
       "      <td></td>\n",
       "      <td></td>\n",
       "      <td></td>\n",
       "      <td>AU1</td>\n",
       "      <td>K</td>\n",
       "      <td>433</td>\n",
       "      <td>1</td>\n",
       "    </tr>\n",
       "    <tr>\n",
       "      <th>4</th>\n",
       "      <td>E23010000005</td>\n",
       "      <td>2023-01-01 00:02:17</td>\n",
       "      <td>1</td>\n",
       "      <td>0</td>\n",
       "      <td></td>\n",
       "      <td>CHP INFO LOG</td>\n",
       "      <td></td>\n",
       "      <td></td>\n",
       "      <td></td>\n",
       "      <td></td>\n",
       "      <td>INFOCHP</td>\n",
       "      <td>W</td>\n",
       "      <td>-1</td>\n",
       "      <td>4</td>\n",
       "    </tr>\n",
       "  </tbody>\n",
       "</table>\n",
       "</div>"
      ],
      "text/plain": [
       "   incident_num            date_time day_of_week address_number_primary  \\\n",
       "0  E23010000001  2023-01-01 00:00:05           1                      0   \n",
       "1  E23010000002  2023-01-01 00:00:30           1                      0   \n",
       "2  E23010000003  2023-01-01 00:00:57           1                      0   \n",
       "3  E23010000004  2023-01-01 00:01:15           1                    600   \n",
       "4  E23010000005  2023-01-01 00:02:17           1                      0   \n",
       "\n",
       "  address_dir_primary address_road_primary address_sfx_primary  \\\n",
       "0                                     05TH                 AVE   \n",
       "1                           SHOPS INFO LOG                       \n",
       "2                                     05TH                 AVE   \n",
       "3                                   FERGUS                  ST   \n",
       "4                             CHP INFO LOG                       \n",
       "\n",
       "  address_dir_intersecting address_road_intersecting address_sfx_intersecting  \\\n",
       "0                                                  G                            \n",
       "1                                                                               \n",
       "2                                                  G                            \n",
       "3                                                                               \n",
       "4                                                                               \n",
       "\n",
       "  call_type disposition beat priority  \n",
       "0        FD         CAN  523        2  \n",
       "1     SHOPS           W   -1        4  \n",
       "2        FD         DUP  523        2  \n",
       "3       AU1           K  433        1  \n",
       "4   INFOCHP           W   -1        4  "
      ]
     },
     "execution_count": 34,
     "metadata": {},
     "output_type": "execute_result"
    }
   ],
   "source": [
    "df = pd.read_sql(statement, conn)\n",
    "df.head(5)"
   ]
  },
  {
   "cell_type": "code",
   "execution_count": null,
   "id": "9b59f5e0-beec-45d2-b75e-ab7ad15727ff",
   "metadata": {},
   "outputs": [],
   "source": []
  }
 ],
 "metadata": {
  "availableInstances": [
   {
    "_defaultOrder": 0,
    "_isFastLaunch": true,
    "category": "General purpose",
    "gpuNum": 0,
    "memoryGiB": 4,
    "name": "ml.t3.medium",
    "vcpuNum": 2
   },
   {
    "_defaultOrder": 1,
    "_isFastLaunch": false,
    "category": "General purpose",
    "gpuNum": 0,
    "memoryGiB": 8,
    "name": "ml.t3.large",
    "vcpuNum": 2
   },
   {
    "_defaultOrder": 2,
    "_isFastLaunch": false,
    "category": "General purpose",
    "gpuNum": 0,
    "memoryGiB": 16,
    "name": "ml.t3.xlarge",
    "vcpuNum": 4
   },
   {
    "_defaultOrder": 3,
    "_isFastLaunch": false,
    "category": "General purpose",
    "gpuNum": 0,
    "memoryGiB": 32,
    "name": "ml.t3.2xlarge",
    "vcpuNum": 8
   },
   {
    "_defaultOrder": 4,
    "_isFastLaunch": true,
    "category": "General purpose",
    "gpuNum": 0,
    "memoryGiB": 8,
    "name": "ml.m5.large",
    "vcpuNum": 2
   },
   {
    "_defaultOrder": 5,
    "_isFastLaunch": false,
    "category": "General purpose",
    "gpuNum": 0,
    "memoryGiB": 16,
    "name": "ml.m5.xlarge",
    "vcpuNum": 4
   },
   {
    "_defaultOrder": 6,
    "_isFastLaunch": false,
    "category": "General purpose",
    "gpuNum": 0,
    "memoryGiB": 32,
    "name": "ml.m5.2xlarge",
    "vcpuNum": 8
   },
   {
    "_defaultOrder": 7,
    "_isFastLaunch": false,
    "category": "General purpose",
    "gpuNum": 0,
    "memoryGiB": 64,
    "name": "ml.m5.4xlarge",
    "vcpuNum": 16
   },
   {
    "_defaultOrder": 8,
    "_isFastLaunch": false,
    "category": "General purpose",
    "gpuNum": 0,
    "memoryGiB": 128,
    "name": "ml.m5.8xlarge",
    "vcpuNum": 32
   },
   {
    "_defaultOrder": 9,
    "_isFastLaunch": false,
    "category": "General purpose",
    "gpuNum": 0,
    "memoryGiB": 192,
    "name": "ml.m5.12xlarge",
    "vcpuNum": 48
   },
   {
    "_defaultOrder": 10,
    "_isFastLaunch": false,
    "category": "General purpose",
    "gpuNum": 0,
    "memoryGiB": 256,
    "name": "ml.m5.16xlarge",
    "vcpuNum": 64
   },
   {
    "_defaultOrder": 11,
    "_isFastLaunch": false,
    "category": "General purpose",
    "gpuNum": 0,
    "memoryGiB": 384,
    "name": "ml.m5.24xlarge",
    "vcpuNum": 96
   },
   {
    "_defaultOrder": 12,
    "_isFastLaunch": false,
    "category": "General purpose",
    "gpuNum": 0,
    "memoryGiB": 8,
    "name": "ml.m5d.large",
    "vcpuNum": 2
   },
   {
    "_defaultOrder": 13,
    "_isFastLaunch": false,
    "category": "General purpose",
    "gpuNum": 0,
    "memoryGiB": 16,
    "name": "ml.m5d.xlarge",
    "vcpuNum": 4
   },
   {
    "_defaultOrder": 14,
    "_isFastLaunch": false,
    "category": "General purpose",
    "gpuNum": 0,
    "memoryGiB": 32,
    "name": "ml.m5d.2xlarge",
    "vcpuNum": 8
   },
   {
    "_defaultOrder": 15,
    "_isFastLaunch": false,
    "category": "General purpose",
    "gpuNum": 0,
    "memoryGiB": 64,
    "name": "ml.m5d.4xlarge",
    "vcpuNum": 16
   },
   {
    "_defaultOrder": 16,
    "_isFastLaunch": false,
    "category": "General purpose",
    "gpuNum": 0,
    "memoryGiB": 128,
    "name": "ml.m5d.8xlarge",
    "vcpuNum": 32
   },
   {
    "_defaultOrder": 17,
    "_isFastLaunch": false,
    "category": "General purpose",
    "gpuNum": 0,
    "memoryGiB": 192,
    "name": "ml.m5d.12xlarge",
    "vcpuNum": 48
   },
   {
    "_defaultOrder": 18,
    "_isFastLaunch": false,
    "category": "General purpose",
    "gpuNum": 0,
    "memoryGiB": 256,
    "name": "ml.m5d.16xlarge",
    "vcpuNum": 64
   },
   {
    "_defaultOrder": 19,
    "_isFastLaunch": false,
    "category": "General purpose",
    "gpuNum": 0,
    "memoryGiB": 384,
    "name": "ml.m5d.24xlarge",
    "vcpuNum": 96
   },
   {
    "_defaultOrder": 20,
    "_isFastLaunch": true,
    "category": "Compute optimized",
    "gpuNum": 0,
    "memoryGiB": 4,
    "name": "ml.c5.large",
    "vcpuNum": 2
   },
   {
    "_defaultOrder": 21,
    "_isFastLaunch": false,
    "category": "Compute optimized",
    "gpuNum": 0,
    "memoryGiB": 8,
    "name": "ml.c5.xlarge",
    "vcpuNum": 4
   },
   {
    "_defaultOrder": 22,
    "_isFastLaunch": false,
    "category": "Compute optimized",
    "gpuNum": 0,
    "memoryGiB": 16,
    "name": "ml.c5.2xlarge",
    "vcpuNum": 8
   },
   {
    "_defaultOrder": 23,
    "_isFastLaunch": false,
    "category": "Compute optimized",
    "gpuNum": 0,
    "memoryGiB": 32,
    "name": "ml.c5.4xlarge",
    "vcpuNum": 16
   },
   {
    "_defaultOrder": 24,
    "_isFastLaunch": false,
    "category": "Compute optimized",
    "gpuNum": 0,
    "memoryGiB": 72,
    "name": "ml.c5.9xlarge",
    "vcpuNum": 36
   },
   {
    "_defaultOrder": 25,
    "_isFastLaunch": false,
    "category": "Compute optimized",
    "gpuNum": 0,
    "memoryGiB": 96,
    "name": "ml.c5.12xlarge",
    "vcpuNum": 48
   },
   {
    "_defaultOrder": 26,
    "_isFastLaunch": false,
    "category": "Compute optimized",
    "gpuNum": 0,
    "memoryGiB": 144,
    "name": "ml.c5.18xlarge",
    "vcpuNum": 72
   },
   {
    "_defaultOrder": 27,
    "_isFastLaunch": false,
    "category": "Compute optimized",
    "gpuNum": 0,
    "memoryGiB": 192,
    "name": "ml.c5.24xlarge",
    "vcpuNum": 96
   },
   {
    "_defaultOrder": 28,
    "_isFastLaunch": true,
    "category": "Accelerated computing",
    "gpuNum": 1,
    "memoryGiB": 16,
    "name": "ml.g4dn.xlarge",
    "vcpuNum": 4
   },
   {
    "_defaultOrder": 29,
    "_isFastLaunch": false,
    "category": "Accelerated computing",
    "gpuNum": 1,
    "memoryGiB": 32,
    "name": "ml.g4dn.2xlarge",
    "vcpuNum": 8
   },
   {
    "_defaultOrder": 30,
    "_isFastLaunch": false,
    "category": "Accelerated computing",
    "gpuNum": 1,
    "memoryGiB": 64,
    "name": "ml.g4dn.4xlarge",
    "vcpuNum": 16
   },
   {
    "_defaultOrder": 31,
    "_isFastLaunch": false,
    "category": "Accelerated computing",
    "gpuNum": 1,
    "memoryGiB": 128,
    "name": "ml.g4dn.8xlarge",
    "vcpuNum": 32
   },
   {
    "_defaultOrder": 32,
    "_isFastLaunch": false,
    "category": "Accelerated computing",
    "gpuNum": 4,
    "memoryGiB": 192,
    "name": "ml.g4dn.12xlarge",
    "vcpuNum": 48
   },
   {
    "_defaultOrder": 33,
    "_isFastLaunch": false,
    "category": "Accelerated computing",
    "gpuNum": 1,
    "memoryGiB": 256,
    "name": "ml.g4dn.16xlarge",
    "vcpuNum": 64
   },
   {
    "_defaultOrder": 34,
    "_isFastLaunch": false,
    "category": "Accelerated computing",
    "gpuNum": 1,
    "memoryGiB": 61,
    "name": "ml.p3.2xlarge",
    "vcpuNum": 8
   },
   {
    "_defaultOrder": 35,
    "_isFastLaunch": false,
    "category": "Accelerated computing",
    "gpuNum": 4,
    "memoryGiB": 244,
    "name": "ml.p3.8xlarge",
    "vcpuNum": 32
   },
   {
    "_defaultOrder": 36,
    "_isFastLaunch": false,
    "category": "Accelerated computing",
    "gpuNum": 8,
    "memoryGiB": 488,
    "name": "ml.p3.16xlarge",
    "vcpuNum": 64
   },
   {
    "_defaultOrder": 37,
    "_isFastLaunch": false,
    "category": "Accelerated computing",
    "gpuNum": 8,
    "memoryGiB": 768,
    "name": "ml.p3dn.24xlarge",
    "vcpuNum": 96
   },
   {
    "_defaultOrder": 38,
    "_isFastLaunch": false,
    "category": "Memory Optimized",
    "gpuNum": 0,
    "memoryGiB": 16,
    "name": "ml.r5.large",
    "vcpuNum": 2
   },
   {
    "_defaultOrder": 39,
    "_isFastLaunch": false,
    "category": "Memory Optimized",
    "gpuNum": 0,
    "memoryGiB": 32,
    "name": "ml.r5.xlarge",
    "vcpuNum": 4
   },
   {
    "_defaultOrder": 40,
    "_isFastLaunch": false,
    "category": "Memory Optimized",
    "gpuNum": 0,
    "memoryGiB": 64,
    "name": "ml.r5.2xlarge",
    "vcpuNum": 8
   },
   {
    "_defaultOrder": 41,
    "_isFastLaunch": false,
    "category": "Memory Optimized",
    "gpuNum": 0,
    "memoryGiB": 128,
    "name": "ml.r5.4xlarge",
    "vcpuNum": 16
   },
   {
    "_defaultOrder": 42,
    "_isFastLaunch": false,
    "category": "Memory Optimized",
    "gpuNum": 0,
    "memoryGiB": 256,
    "name": "ml.r5.8xlarge",
    "vcpuNum": 32
   },
   {
    "_defaultOrder": 43,
    "_isFastLaunch": false,
    "category": "Memory Optimized",
    "gpuNum": 0,
    "memoryGiB": 384,
    "name": "ml.r5.12xlarge",
    "vcpuNum": 48
   },
   {
    "_defaultOrder": 44,
    "_isFastLaunch": false,
    "category": "Memory Optimized",
    "gpuNum": 0,
    "memoryGiB": 512,
    "name": "ml.r5.16xlarge",
    "vcpuNum": 64
   },
   {
    "_defaultOrder": 45,
    "_isFastLaunch": false,
    "category": "Memory Optimized",
    "gpuNum": 0,
    "memoryGiB": 768,
    "name": "ml.r5.24xlarge",
    "vcpuNum": 96
   },
   {
    "_defaultOrder": 46,
    "_isFastLaunch": false,
    "category": "Accelerated computing",
    "gpuNum": 1,
    "memoryGiB": 16,
    "name": "ml.g5.xlarge",
    "vcpuNum": 4
   },
   {
    "_defaultOrder": 47,
    "_isFastLaunch": false,
    "category": "Accelerated computing",
    "gpuNum": 1,
    "memoryGiB": 32,
    "name": "ml.g5.2xlarge",
    "vcpuNum": 8
   },
   {
    "_defaultOrder": 48,
    "_isFastLaunch": false,
    "category": "Accelerated computing",
    "gpuNum": 1,
    "memoryGiB": 64,
    "name": "ml.g5.4xlarge",
    "vcpuNum": 16
   },
   {
    "_defaultOrder": 49,
    "_isFastLaunch": false,
    "category": "Accelerated computing",
    "gpuNum": 1,
    "memoryGiB": 128,
    "name": "ml.g5.8xlarge",
    "vcpuNum": 32
   },
   {
    "_defaultOrder": 50,
    "_isFastLaunch": false,
    "category": "Accelerated computing",
    "gpuNum": 1,
    "memoryGiB": 256,
    "name": "ml.g5.16xlarge",
    "vcpuNum": 64
   },
   {
    "_defaultOrder": 51,
    "_isFastLaunch": false,
    "category": "Accelerated computing",
    "gpuNum": 4,
    "memoryGiB": 192,
    "name": "ml.g5.12xlarge",
    "vcpuNum": 48
   },
   {
    "_defaultOrder": 52,
    "_isFastLaunch": false,
    "category": "Accelerated computing",
    "gpuNum": 4,
    "memoryGiB": 384,
    "name": "ml.g5.24xlarge",
    "vcpuNum": 96
   },
   {
    "_defaultOrder": 53,
    "_isFastLaunch": false,
    "category": "Accelerated computing",
    "gpuNum": 8,
    "memoryGiB": 768,
    "name": "ml.g5.48xlarge",
    "vcpuNum": 192
   }
  ],
  "instance_type": "ml.t3.medium",
  "kernelspec": {
   "display_name": "Python 3 (Data Science)",
   "language": "python",
   "name": "python3__SAGEMAKER_INTERNAL__arn:aws:sagemaker:us-east-1:081325390199:image/datascience-1.0"
  },
  "language_info": {
   "codemirror_mode": {
    "name": "ipython",
    "version": 3
   },
   "file_extension": ".py",
   "mimetype": "text/x-python",
   "name": "python",
   "nbconvert_exporter": "python",
   "pygments_lexer": "ipython3",
   "version": "3.7.10"
  }
 },
 "nbformat": 4,
 "nbformat_minor": 5
}

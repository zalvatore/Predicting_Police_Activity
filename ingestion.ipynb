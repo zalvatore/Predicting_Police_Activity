{
 "cells": [
  {
   "cell_type": "markdown",
   "id": "0938c626-23f1-46ca-aa84-d295c3fa4fa6",
   "metadata": {},
   "source": [
    "# Ingest data from data source to S3 bucket"
   ]
  },
  {
   "cell_type": "markdown",
   "id": "4ed44b74-eee5-4256-a5a3-88277069dbb1",
   "metadata": {},
   "source": [
    "***"
   ]
  },
  {
   "cell_type": "markdown",
   "id": "4f1888eb-04f0-4153-8ca6-de851979e6ec",
   "metadata": {},
   "source": [
    "## Libraries"
   ]
  },
  {
   "cell_type": "code",
   "execution_count": 2,
   "id": "927ebb06-754f-4fa8-ac7f-73e549fb47a1",
   "metadata": {
    "tags": []
   },
   "outputs": [],
   "source": [
    "import sagemaker\n",
    "import boto3\n",
    "from datetime import datetime\n",
    "from io import StringIO\n",
    "import pandas as pd\n",
    "from tqdm import tqdm\n",
    "import seaborn as sns"
   ]
  },
  {
   "cell_type": "markdown",
   "id": "0ccbce3c-d109-4374-9ae4-166b82e2f301",
   "metadata": {},
   "source": [
    "## Variables"
   ]
  },
  {
   "cell_type": "code",
   "execution_count": 3,
   "id": "3a1db607-a67d-460b-bd80-166a7bbd2a51",
   "metadata": {
    "tags": []
   },
   "outputs": [
    {
     "name": "stdout",
     "output_type": "stream",
     "text": [
      "Bucket - >  sagemaker-us-east-1-109424293498\n",
      "Role - >  arn:aws:iam::109424293498:role/LabRole\n",
      "Region - >  us-east-1\n",
      "S3 - >  <botocore.client.S3 object at 0x7fc26cadcad0>\n",
      "S3 Resource - >  s3.ServiceResource()\n"
     ]
    }
   ],
   "source": [
    "sess = sagemaker.Session() #Intialzie session\n",
    "\n",
    "bucket = sess.default_bucket()\n",
    "RD_Bucket = 'sdpd-bucket' #Raw Data\n",
    "role = sagemaker.get_execution_role()\n",
    "region = boto3.Session().region_name\n",
    "s3 = boto3.client('s3') # Create an S3 client\n",
    "s3_resource = boto3.resource('s3') # Create an S3 resource\n",
    "\n",
    "print('Bucket - > ',bucket)\n",
    "print('Role - > ',role)\n",
    "print('Region - > ',region)\n",
    "print('S3 - > ',s3)\n",
    "print('S3 Resource - > ',s3_resource)"
   ]
  },
  {
   "cell_type": "markdown",
   "id": "59ac900b-f530-408e-a1d2-e8aac451f367",
   "metadata": {},
   "source": [
    "## Prepare landing zone"
   ]
  },
  {
   "cell_type": "code",
   "execution_count": 4,
   "id": "8e182f90-83c1-48eb-a6c3-ed84ca26720d",
   "metadata": {
    "tags": []
   },
   "outputs": [],
   "source": [
    "# Function to verify if bucket exist, if not create\n",
    "def verify_create_bucket(bucket_name):\n",
    "    response = s3.list_buckets()\n",
    "    for bucket in response['Buckets']:\n",
    "        if bucket['Name'] == bucket_name:\n",
    "            print(f\"The {bucket_name} bucket exists.\")\n",
    "            break\n",
    "    else:\n",
    "        print(f\"The {bucket_name} bucket does not exist, creating\")\n",
    "        !aws s3 mb s3://{RD_Bucket}/"
   ]
  },
  {
   "cell_type": "code",
   "execution_count": 5,
   "id": "691c20bc-4a32-42f5-bdda-d43650170f15",
   "metadata": {
    "tags": []
   },
   "outputs": [
    {
     "name": "stdout",
     "output_type": "stream",
     "text": [
      "The sdpd-bucket bucket exists.\n"
     ]
    }
   ],
   "source": [
    "verify_create_bucket(RD_Bucket)"
   ]
  },
  {
   "cell_type": "markdown",
   "id": "eb4ba13d-4ae5-4b04-84f1-e9be0becb2f3",
   "metadata": {},
   "source": [
    "## Download Files"
   ]
  },
  {
   "cell_type": "markdown",
   "id": "3145c527-d089-491b-aed8-edf81c954da0",
   "metadata": {},
   "source": [
    "***"
   ]
  },
  {
   "cell_type": "markdown",
   "id": "e5830f2d-d21c-4f95-85d9-56887220e97c",
   "metadata": {},
   "source": [
    "### Load calls"
   ]
  },
  {
   "cell_type": "code",
   "execution_count": 6,
   "id": "4dc1e7c5-0055-479a-86c3-e5e95e7e3c25",
   "metadata": {
    "tags": []
   },
   "outputs": [],
   "source": [
    "#function to download yearly data\n",
    "def Get_Data(year):\n",
    "    url = f\"https://seshat.datasd.org/pd/pd_calls_for_service_{year}_datasd.csv\"\n",
    "    df = pd.read_csv(url)\n",
    "    return df"
   ]
  },
  {
   "cell_type": "code",
   "execution_count": 49,
   "id": "e3773fe2-0c96-47df-b322-09ef45e70d9c",
   "metadata": {
    "tags": []
   },
   "outputs": [
    {
     "data": {
      "text/plain": [
       "[2021, 2022, 2023]"
      ]
     },
     "execution_count": 49,
     "metadata": {},
     "output_type": "execute_result"
    }
   ],
   "source": [
    "# List of years since 2018\n",
    "Years = list(range(2021,datetime.now().year+1))\n",
    "Years"
   ]
  },
  {
   "cell_type": "code",
   "execution_count": 50,
   "id": "774516d4-8129-42d7-b713-1e71a1debe2c",
   "metadata": {
    "tags": []
   },
   "outputs": [
    {
     "name": "stderr",
     "output_type": "stream",
     "text": [
      "100%|██████████| 3/3 [00:07<00:00,  2.35s/it]\n"
     ]
    }
   ],
   "source": [
    "sdpd_calls = pd.DataFrame()\n",
    "#iterate over years\n",
    "for year in tqdm(Years):\n",
    "    year_df = Get_Data(year)\n",
    "    year_df['Year'] = year\n",
    "    sdpd_calls = pd.concat((sdpd_calls, year_df))\n",
    "    \n",
    "    #csv_buffer = StringIO()\n",
    "    #year_df.to_csv(csv_buffer, index=False)\n",
    "    #file = 'SDPD_Calls_' + str(year) + '.csv'\n",
    "    #s3_resource.Object(RD_Bucket,file).put(Body=csv_buffer.getvalue())\n",
    "    #print(file,'loaded in',RD_Bucket,'bucket')"
   ]
  },
  {
   "cell_type": "code",
   "execution_count": 51,
   "id": "91dec592-1855-4423-a0cb-5c891710074b",
   "metadata": {
    "tags": []
   },
   "outputs": [
    {
     "data": {
      "text/plain": [
       "(1168014, 15)"
      ]
     },
     "execution_count": 51,
     "metadata": {},
     "output_type": "execute_result"
    }
   ],
   "source": [
    "#Verify Shape\n",
    "sdpd_calls.shape"
   ]
  },
  {
   "cell_type": "code",
   "execution_count": 52,
   "id": "e9971cff-b780-43c4-aab8-bd36510e7f6b",
   "metadata": {
    "tags": []
   },
   "outputs": [],
   "source": [
    "sdpd_calls = sdpd_calls.drop(['address_dir_intersecting', 'address_sfx_intersecting'], axis=1)"
   ]
  },
  {
   "cell_type": "markdown",
   "id": "a5cce781-e940-4519-ac0f-cc35829ce9c4",
   "metadata": {},
   "source": [
    "***"
   ]
  },
  {
   "cell_type": "code",
   "execution_count": 53,
   "id": "a53042b9-d313-4613-b7c9-9ea517a4981f",
   "metadata": {
    "tags": []
   },
   "outputs": [],
   "source": [
    "type_url = f\"http://seshat.datasd.org/pd/pd_cfs_calltypes_datasd.csv\"\n",
    "dipo_url = f\"http://seshat.datasd.org/pd/pd_dispo_codes_datasd.csv\"\n",
    "ripa_stops_url = \"https://seshat.datasd.org/pd/ripa_stops_datasd.csv\"\n",
    "ripa_stops_dic = \"https://seshat.datasd.org/pd/ripa_stops_dictionary_datasd.csv\""
   ]
  },
  {
   "cell_type": "code",
   "execution_count": 54,
   "id": "8e61ab47-1015-41c9-8b2f-c52eaecc25c6",
   "metadata": {
    "tags": []
   },
   "outputs": [],
   "source": [
    "type_df = download_file(type_url)\n",
    "dispo_df = download_file(dipo_url)\n",
    "ripa_stops_df = download_file(ripa_stops_url)\n",
    "ripa_stops_dic_df = download_file(ripa_stops_dic)\n"
   ]
  },
  {
   "cell_type": "markdown",
   "id": "56bb991e-629e-4bd5-a46e-6bf3142b33b0",
   "metadata": {},
   "source": [
    "***"
   ]
  },
  {
   "cell_type": "markdown",
   "id": "e2f3123b-4128-4c68-9f4f-5ad980181fa3",
   "metadata": {},
   "source": [
    "## Data Quality Report"
   ]
  },
  {
   "cell_type": "code",
   "execution_count": 55,
   "id": "9dfa40ca-8ae6-44bf-80e7-d33c1a2e0bbc",
   "metadata": {
    "tags": []
   },
   "outputs": [],
   "source": [
    "def Data_Quality_Report(df):\n",
    "\n",
    "    #Initial table\n",
    "    freqDF = pd.DataFrame(columns=['Feature',\n",
    "                                   'Mode',\n",
    "                                   'Mode Freq.',\n",
    "                                   'Mode %',\n",
    "                                   '2nd Mode',\n",
    "                                   '2nd Mode Freq.',\n",
    "                                   '2nd Mode %'])\n",
    "    for col in tqdm(df.columns):\n",
    "        try:\n",
    "            #print(col)\n",
    "            freq = df[col].value_counts()\n",
    "            freqdf = freq.to_frame()\n",
    "            fRow = freqdf.iloc[0]\n",
    "            #try:\n",
    "            secRow = freqdf.iloc[1]\n",
    "            #except:\n",
    "            #secRow = 0\n",
    "            fPrct = fRow[0] / len(df[col])\n",
    "            #try:\n",
    "            secPrct = secRow[0] / len(df[col])\n",
    "            #except:\n",
    "                #secPrct = 0\n",
    "            try:\n",
    "                mode1 = int(fRow.name)\n",
    "            except:\n",
    "                mode1 = fRow.name\n",
    "            try:\n",
    "                mode2 = int(secRow.name)\n",
    "            except:\n",
    "                try:\n",
    "                    mode2 = secRow.name\n",
    "                except:\n",
    "                    mode2 = 0\n",
    "            freqDF = freqDF.append({'Feature':col,\n",
    "                                    'Mode':mode1,\n",
    "                                    'Mode Freq.':fRow[0],\n",
    "                                    'Mode %':fPrct,\\\n",
    "                                    '2nd Mode':mode2,\n",
    "                                    '2nd Mode Freq.':secRow[0],\n",
    "                                    '2nd Mode %':secPrct},\n",
    "                                    ignore_index=True)\n",
    "        except:\n",
    "            pass\n",
    "\n",
    "    freqDF = freqDF.set_index('Feature')\n",
    "\n",
    "    #Nulls, Counts, Cardinality\n",
    "    NUllFeatures = round(df.isnull().sum() / df.shape[0],4)\\\n",
    "          .sort_values(ascending=False)\n",
    "    Count = df.count()\n",
    "    uni = df.nunique()\n",
    "\n",
    "    #Formating\n",
    "    NUllFeatures.to_frame(name=\"% Miss.\")\n",
    "    Count.to_frame(name=\"Count\")\n",
    "    uni.to_frame()\n",
    "    result = pd.concat([Count, NUllFeatures,uni], axis=1)\n",
    "    result.columns =[\"Count\",\"% Miss.\",\"Card.\"]\n",
    "    result = pd.concat([result, freqDF], axis=1)\n",
    "    result = result.style.format({'% Miss.': \"{:.1%}\",\n",
    "                         'Mode %': \"{:.0%}\",\n",
    "                         '2nd Mode %': \"{:.0%}\",\n",
    "                         'Count': \"{:,}\",\n",
    "                         'Card.': \"{:,}\",\n",
    "                         'Mode Freq.': \"{:,}\",\n",
    "                        '2nd Mode Freq.': \"{:,}\"})\n",
    "    return result"
   ]
  },
  {
   "cell_type": "code",
   "execution_count": 56,
   "id": "f00f8e3a-f313-459b-9eda-8391ecb218a3",
   "metadata": {
    "tags": []
   },
   "outputs": [
    {
     "name": "stderr",
     "output_type": "stream",
     "text": [
      "100%|██████████| 13/13 [00:02<00:00,  5.37it/s]\n"
     ]
    },
    {
     "data": {
      "text/html": [
       "<style type=\"text/css\">\n",
       "</style>\n",
       "<table id=\"T_a7510_\">\n",
       "  <thead>\n",
       "    <tr>\n",
       "      <th class=\"blank level0\" >&nbsp;</th>\n",
       "      <th class=\"col_heading level0 col0\" >Count</th>\n",
       "      <th class=\"col_heading level0 col1\" >% Miss.</th>\n",
       "      <th class=\"col_heading level0 col2\" >Card.</th>\n",
       "      <th class=\"col_heading level0 col3\" >Mode</th>\n",
       "      <th class=\"col_heading level0 col4\" >Mode Freq.</th>\n",
       "      <th class=\"col_heading level0 col5\" >Mode %</th>\n",
       "      <th class=\"col_heading level0 col6\" >2nd Mode</th>\n",
       "      <th class=\"col_heading level0 col7\" >2nd Mode Freq.</th>\n",
       "      <th class=\"col_heading level0 col8\" >2nd Mode %</th>\n",
       "    </tr>\n",
       "  </thead>\n",
       "  <tbody>\n",
       "    <tr>\n",
       "      <th id=\"T_a7510_level0_row0\" class=\"row_heading level0 row0\" >incident_num</th>\n",
       "      <td id=\"T_a7510_row0_col0\" class=\"data row0 col0\" >1,168,014</td>\n",
       "      <td id=\"T_a7510_row0_col1\" class=\"data row0 col1\" >0.0%</td>\n",
       "      <td id=\"T_a7510_row0_col2\" class=\"data row0 col2\" >1,168,014</td>\n",
       "      <td id=\"T_a7510_row0_col3\" class=\"data row0 col3\" >E21010000001</td>\n",
       "      <td id=\"T_a7510_row0_col4\" class=\"data row0 col4\" >1</td>\n",
       "      <td id=\"T_a7510_row0_col5\" class=\"data row0 col5\" >0%</td>\n",
       "      <td id=\"T_a7510_row0_col6\" class=\"data row0 col6\" >E22050043191</td>\n",
       "      <td id=\"T_a7510_row0_col7\" class=\"data row0 col7\" >1</td>\n",
       "      <td id=\"T_a7510_row0_col8\" class=\"data row0 col8\" >0%</td>\n",
       "    </tr>\n",
       "    <tr>\n",
       "      <th id=\"T_a7510_level0_row1\" class=\"row_heading level0 row1\" >date_time</th>\n",
       "      <td id=\"T_a7510_row1_col0\" class=\"data row1 col0\" >1,168,014</td>\n",
       "      <td id=\"T_a7510_row1_col1\" class=\"data row1 col1\" >0.0%</td>\n",
       "      <td id=\"T_a7510_row1_col2\" class=\"data row1 col2\" >1,157,922</td>\n",
       "      <td id=\"T_a7510_row1_col3\" class=\"data row1 col3\" >2023-02-23 10:54:45</td>\n",
       "      <td id=\"T_a7510_row1_col4\" class=\"data row1 col4\" >3</td>\n",
       "      <td id=\"T_a7510_row1_col5\" class=\"data row1 col5\" >0%</td>\n",
       "      <td id=\"T_a7510_row1_col6\" class=\"data row1 col6\" >2023-01-27 18:43:23</td>\n",
       "      <td id=\"T_a7510_row1_col7\" class=\"data row1 col7\" >3</td>\n",
       "      <td id=\"T_a7510_row1_col8\" class=\"data row1 col8\" >0%</td>\n",
       "    </tr>\n",
       "    <tr>\n",
       "      <th id=\"T_a7510_level0_row2\" class=\"row_heading level0 row2\" >day_of_week</th>\n",
       "      <td id=\"T_a7510_row2_col0\" class=\"data row2 col0\" >1,168,014</td>\n",
       "      <td id=\"T_a7510_row2_col1\" class=\"data row2 col1\" >0.0%</td>\n",
       "      <td id=\"T_a7510_row2_col2\" class=\"data row2 col2\" >7</td>\n",
       "      <td id=\"T_a7510_row2_col3\" class=\"data row2 col3\" >5</td>\n",
       "      <td id=\"T_a7510_row2_col4\" class=\"data row2 col4\" >175,015</td>\n",
       "      <td id=\"T_a7510_row2_col5\" class=\"data row2 col5\" >15%</td>\n",
       "      <td id=\"T_a7510_row2_col6\" class=\"data row2 col6\" >6</td>\n",
       "      <td id=\"T_a7510_row2_col7\" class=\"data row2 col7\" >173,878</td>\n",
       "      <td id=\"T_a7510_row2_col8\" class=\"data row2 col8\" >15%</td>\n",
       "    </tr>\n",
       "    <tr>\n",
       "      <th id=\"T_a7510_level0_row3\" class=\"row_heading level0 row3\" >address_number_primary</th>\n",
       "      <td id=\"T_a7510_row3_col0\" class=\"data row3 col0\" >1,168,014</td>\n",
       "      <td id=\"T_a7510_row3_col1\" class=\"data row3 col1\" >0.0%</td>\n",
       "      <td id=\"T_a7510_row3_col2\" class=\"data row3 col2\" >262</td>\n",
       "      <td id=\"T_a7510_row3_col3\" class=\"data row3 col3\" >0</td>\n",
       "      <td id=\"T_a7510_row3_col4\" class=\"data row3 col4\" >212,027</td>\n",
       "      <td id=\"T_a7510_row3_col5\" class=\"data row3 col5\" >18%</td>\n",
       "      <td id=\"T_a7510_row3_col6\" class=\"data row3 col6\" >1400</td>\n",
       "      <td id=\"T_a7510_row3_col7\" class=\"data row3 col7\" >24,613</td>\n",
       "      <td id=\"T_a7510_row3_col8\" class=\"data row3 col8\" >2%</td>\n",
       "    </tr>\n",
       "    <tr>\n",
       "      <th id=\"T_a7510_level0_row4\" class=\"row_heading level0 row4\" >address_dir_primary</th>\n",
       "      <td id=\"T_a7510_row4_col0\" class=\"data row4 col0\" >55,064</td>\n",
       "      <td id=\"T_a7510_row4_col1\" class=\"data row4 col1\" >95.3%</td>\n",
       "      <td id=\"T_a7510_row4_col2\" class=\"data row4 col2\" >9</td>\n",
       "      <td id=\"T_a7510_row4_col3\" class=\"data row4 col3\" >W</td>\n",
       "      <td id=\"T_a7510_row4_col4\" class=\"data row4 col4\" >19,522</td>\n",
       "      <td id=\"T_a7510_row4_col5\" class=\"data row4 col5\" >2%</td>\n",
       "      <td id=\"T_a7510_row4_col6\" class=\"data row4 col6\" >S</td>\n",
       "      <td id=\"T_a7510_row4_col7\" class=\"data row4 col7\" >17,418</td>\n",
       "      <td id=\"T_a7510_row4_col8\" class=\"data row4 col8\" >1%</td>\n",
       "    </tr>\n",
       "    <tr>\n",
       "      <th id=\"T_a7510_level0_row5\" class=\"row_heading level0 row5\" >address_road_primary</th>\n",
       "      <td id=\"T_a7510_row5_col0\" class=\"data row5 col0\" >1,167,818</td>\n",
       "      <td id=\"T_a7510_row5_col1\" class=\"data row5 col1\" >0.0%</td>\n",
       "      <td id=\"T_a7510_row5_col2\" class=\"data row5 col2\" >12,704</td>\n",
       "      <td id=\"T_a7510_row5_col3\" class=\"data row5 col3\" >IMPERIAL</td>\n",
       "      <td id=\"T_a7510_row5_col4\" class=\"data row5 col4\" >21,385</td>\n",
       "      <td id=\"T_a7510_row5_col5\" class=\"data row5 col5\" >2%</td>\n",
       "      <td id=\"T_a7510_row5_col6\" class=\"data row5 col6\" >05TH</td>\n",
       "      <td id=\"T_a7510_row5_col7\" class=\"data row5 col7\" >18,939</td>\n",
       "      <td id=\"T_a7510_row5_col8\" class=\"data row5 col8\" >2%</td>\n",
       "    </tr>\n",
       "    <tr>\n",
       "      <th id=\"T_a7510_level0_row6\" class=\"row_heading level0 row6\" >address_sfx_primary</th>\n",
       "      <td id=\"T_a7510_row6_col0\" class=\"data row6 col0\" >1,067,996</td>\n",
       "      <td id=\"T_a7510_row6_col1\" class=\"data row6 col1\" >8.6%</td>\n",
       "      <td id=\"T_a7510_row6_col2\" class=\"data row6 col2\" >42</td>\n",
       "      <td id=\"T_a7510_row6_col3\" class=\"data row6 col3\" >ST</td>\n",
       "      <td id=\"T_a7510_row6_col4\" class=\"data row6 col4\" >348,278</td>\n",
       "      <td id=\"T_a7510_row6_col5\" class=\"data row6 col5\" >30%</td>\n",
       "      <td id=\"T_a7510_row6_col6\" class=\"data row6 col6\" >AVE</td>\n",
       "      <td id=\"T_a7510_row6_col7\" class=\"data row6 col7\" >275,917</td>\n",
       "      <td id=\"T_a7510_row6_col8\" class=\"data row6 col8\" >24%</td>\n",
       "    </tr>\n",
       "    <tr>\n",
       "      <th id=\"T_a7510_level0_row7\" class=\"row_heading level0 row7\" >address_road_intersecting</th>\n",
       "      <td id=\"T_a7510_row7_col0\" class=\"data row7 col0\" >196,743</td>\n",
       "      <td id=\"T_a7510_row7_col1\" class=\"data row7 col1\" >83.2%</td>\n",
       "      <td id=\"T_a7510_row7_col2\" class=\"data row7 col2\" >6,234</td>\n",
       "      <td id=\"T_a7510_row7_col3\" class=\"data row7 col3\" >MARKET</td>\n",
       "      <td id=\"T_a7510_row7_col4\" class=\"data row7 col4\" >5,374</td>\n",
       "      <td id=\"T_a7510_row7_col5\" class=\"data row7 col5\" >0%</td>\n",
       "      <td id=\"T_a7510_row7_col6\" class=\"data row7 col6\" >UNIVERSITY</td>\n",
       "      <td id=\"T_a7510_row7_col7\" class=\"data row7 col7\" >5,072</td>\n",
       "      <td id=\"T_a7510_row7_col8\" class=\"data row7 col8\" >0%</td>\n",
       "    </tr>\n",
       "    <tr>\n",
       "      <th id=\"T_a7510_level0_row8\" class=\"row_heading level0 row8\" >call_type</th>\n",
       "      <td id=\"T_a7510_row8_col0\" class=\"data row8 col0\" >1,166,864</td>\n",
       "      <td id=\"T_a7510_row8_col1\" class=\"data row8 col1\" >0.1%</td>\n",
       "      <td id=\"T_a7510_row8_col2\" class=\"data row8 col2\" >251</td>\n",
       "      <td id=\"T_a7510_row8_col3\" class=\"data row8 col3\" >415</td>\n",
       "      <td id=\"T_a7510_row8_col4\" class=\"data row8 col4\" >102,096</td>\n",
       "      <td id=\"T_a7510_row8_col5\" class=\"data row8 col5\" >9%</td>\n",
       "      <td id=\"T_a7510_row8_col6\" class=\"data row8 col6\" >SELENF</td>\n",
       "      <td id=\"T_a7510_row8_col7\" class=\"data row8 col7\" >68,144</td>\n",
       "      <td id=\"T_a7510_row8_col8\" class=\"data row8 col8\" >6%</td>\n",
       "    </tr>\n",
       "    <tr>\n",
       "      <th id=\"T_a7510_level0_row9\" class=\"row_heading level0 row9\" >disposition</th>\n",
       "      <td id=\"T_a7510_row9_col0\" class=\"data row9 col0\" >1,164,029</td>\n",
       "      <td id=\"T_a7510_row9_col1\" class=\"data row9 col1\" >0.3%</td>\n",
       "      <td id=\"T_a7510_row9_col2\" class=\"data row9 col2\" >19</td>\n",
       "      <td id=\"T_a7510_row9_col3\" class=\"data row9 col3\" >K</td>\n",
       "      <td id=\"T_a7510_row9_col4\" class=\"data row9 col4\" >608,343</td>\n",
       "      <td id=\"T_a7510_row9_col5\" class=\"data row9 col5\" >52%</td>\n",
       "      <td id=\"T_a7510_row9_col6\" class=\"data row9 col6\" >O</td>\n",
       "      <td id=\"T_a7510_row9_col7\" class=\"data row9 col7\" >173,216</td>\n",
       "      <td id=\"T_a7510_row9_col8\" class=\"data row9 col8\" >15%</td>\n",
       "    </tr>\n",
       "    <tr>\n",
       "      <th id=\"T_a7510_level0_row10\" class=\"row_heading level0 row10\" >beat</th>\n",
       "      <td id=\"T_a7510_row10_col0\" class=\"data row10 col0\" >1,168,014</td>\n",
       "      <td id=\"T_a7510_row10_col1\" class=\"data row10 col1\" >0.0%</td>\n",
       "      <td id=\"T_a7510_row10_col2\" class=\"data row10 col2\" >130</td>\n",
       "      <td id=\"T_a7510_row10_col3\" class=\"data row10 col3\" >521</td>\n",
       "      <td id=\"T_a7510_row10_col4\" class=\"data row10 col4\" >58,232</td>\n",
       "      <td id=\"T_a7510_row10_col5\" class=\"data row10 col5\" >5%</td>\n",
       "      <td id=\"T_a7510_row10_col6\" class=\"data row10 col6\" >122</td>\n",
       "      <td id=\"T_a7510_row10_col7\" class=\"data row10 col7\" >44,493</td>\n",
       "      <td id=\"T_a7510_row10_col8\" class=\"data row10 col8\" >4%</td>\n",
       "    </tr>\n",
       "    <tr>\n",
       "      <th id=\"T_a7510_level0_row11\" class=\"row_heading level0 row11\" >priority</th>\n",
       "      <td id=\"T_a7510_row11_col0\" class=\"data row11 col0\" >1,168,014</td>\n",
       "      <td id=\"T_a7510_row11_col1\" class=\"data row11 col1\" >0.0%</td>\n",
       "      <td id=\"T_a7510_row11_col2\" class=\"data row11 col2\" >9</td>\n",
       "      <td id=\"T_a7510_row11_col3\" class=\"data row11 col3\" >2</td>\n",
       "      <td id=\"T_a7510_row11_col4\" class=\"data row11 col4\" >517,151</td>\n",
       "      <td id=\"T_a7510_row11_col5\" class=\"data row11 col5\" >44%</td>\n",
       "      <td id=\"T_a7510_row11_col6\" class=\"data row11 col6\" >3</td>\n",
       "      <td id=\"T_a7510_row11_col7\" class=\"data row11 col7\" >256,218</td>\n",
       "      <td id=\"T_a7510_row11_col8\" class=\"data row11 col8\" >22%</td>\n",
       "    </tr>\n",
       "    <tr>\n",
       "      <th id=\"T_a7510_level0_row12\" class=\"row_heading level0 row12\" >Year</th>\n",
       "      <td id=\"T_a7510_row12_col0\" class=\"data row12 col0\" >1,168,014</td>\n",
       "      <td id=\"T_a7510_row12_col1\" class=\"data row12 col1\" >0.0%</td>\n",
       "      <td id=\"T_a7510_row12_col2\" class=\"data row12 col2\" >3</td>\n",
       "      <td id=\"T_a7510_row12_col3\" class=\"data row12 col3\" >2021</td>\n",
       "      <td id=\"T_a7510_row12_col4\" class=\"data row12 col4\" >568,947</td>\n",
       "      <td id=\"T_a7510_row12_col5\" class=\"data row12 col5\" >49%</td>\n",
       "      <td id=\"T_a7510_row12_col6\" class=\"data row12 col6\" >2022</td>\n",
       "      <td id=\"T_a7510_row12_col7\" class=\"data row12 col7\" >499,256</td>\n",
       "      <td id=\"T_a7510_row12_col8\" class=\"data row12 col8\" >43%</td>\n",
       "    </tr>\n",
       "  </tbody>\n",
       "</table>\n"
      ],
      "text/plain": [
       "<pandas.io.formats.style.Styler at 0x7fc24cf12750>"
      ]
     },
     "execution_count": 56,
     "metadata": {},
     "output_type": "execute_result"
    }
   ],
   "source": [
    "DQR_Calls = Data_Quality_Report(sdpd_calls)\n",
    "DQR_Calls"
   ]
  },
  {
   "cell_type": "code",
   "execution_count": 57,
   "id": "65f6ac7b-e45d-40c7-95ce-7a14169eda59",
   "metadata": {
    "tags": []
   },
   "outputs": [],
   "source": [
    "def download_file(url):\n",
    "    df = pd.read_csv(url, low_memory=False)\n",
    "    return df"
   ]
  },
  {
   "cell_type": "code",
   "execution_count": 58,
   "id": "83bc15f8-e1d9-4c65-8224-bdd0857c0411",
   "metadata": {
    "tags": []
   },
   "outputs": [
    {
     "name": "stderr",
     "output_type": "stream",
     "text": [
      "100%|██████████| 29/29 [00:00<00:00, 44.71it/s]\n"
     ]
    },
    {
     "data": {
      "text/html": [
       "<style type=\"text/css\">\n",
       "</style>\n",
       "<table id=\"T_b6289_\">\n",
       "  <thead>\n",
       "    <tr>\n",
       "      <th class=\"blank level0\" >&nbsp;</th>\n",
       "      <th class=\"col_heading level0 col0\" >Count</th>\n",
       "      <th class=\"col_heading level0 col1\" >% Miss.</th>\n",
       "      <th class=\"col_heading level0 col2\" >Card.</th>\n",
       "      <th class=\"col_heading level0 col3\" >Mode</th>\n",
       "      <th class=\"col_heading level0 col4\" >Mode Freq.</th>\n",
       "      <th class=\"col_heading level0 col5\" >Mode %</th>\n",
       "      <th class=\"col_heading level0 col6\" >2nd Mode</th>\n",
       "      <th class=\"col_heading level0 col7\" >2nd Mode Freq.</th>\n",
       "      <th class=\"col_heading level0 col8\" >2nd Mode %</th>\n",
       "    </tr>\n",
       "  </thead>\n",
       "  <tbody>\n",
       "    <tr>\n",
       "      <th id=\"T_b6289_level0_row0\" class=\"row_heading level0 row0\" >stop_id</th>\n",
       "      <td id=\"T_b6289_row0_col0\" class=\"data row0 col0\" >653,601</td>\n",
       "      <td id=\"T_b6289_row0_col1\" class=\"data row0 col1\" >0.0%</td>\n",
       "      <td id=\"T_b6289_row0_col2\" class=\"data row0 col2\" >574,368</td>\n",
       "      <td id=\"T_b6289_row0_col3\" class=\"data row0 col3\" >174011</td>\n",
       "      <td id=\"T_b6289_row0_col4\" class=\"data row0 col4\" >52</td>\n",
       "      <td id=\"T_b6289_row0_col5\" class=\"data row0 col5\" >0%</td>\n",
       "      <td id=\"T_b6289_row0_col6\" class=\"data row0 col6\" >184085</td>\n",
       "      <td id=\"T_b6289_row0_col7\" class=\"data row0 col7\" >48</td>\n",
       "      <td id=\"T_b6289_row0_col8\" class=\"data row0 col8\" >0%</td>\n",
       "    </tr>\n",
       "    <tr>\n",
       "      <th id=\"T_b6289_level0_row1\" class=\"row_heading level0 row1\" >ori</th>\n",
       "      <td id=\"T_b6289_row1_col0\" class=\"data row1 col0\" >653,601</td>\n",
       "      <td id=\"T_b6289_row1_col1\" class=\"data row1 col1\" >0.0%</td>\n",
       "      <td id=\"T_b6289_row1_col2\" class=\"data row1 col2\" >1</td>\n",
       "      <td id=\"T_b6289_row1_col3\" class=\"data row1 col3\" >nan</td>\n",
       "      <td id=\"T_b6289_row1_col4\" class=\"data row1 col4\" >nan</td>\n",
       "      <td id=\"T_b6289_row1_col5\" class=\"data row1 col5\" >nan%</td>\n",
       "      <td id=\"T_b6289_row1_col6\" class=\"data row1 col6\" >nan</td>\n",
       "      <td id=\"T_b6289_row1_col7\" class=\"data row1 col7\" >nan</td>\n",
       "      <td id=\"T_b6289_row1_col8\" class=\"data row1 col8\" >nan%</td>\n",
       "    </tr>\n",
       "    <tr>\n",
       "      <th id=\"T_b6289_level0_row2\" class=\"row_heading level0 row2\" >agency</th>\n",
       "      <td id=\"T_b6289_row2_col0\" class=\"data row2 col0\" >653,601</td>\n",
       "      <td id=\"T_b6289_row2_col1\" class=\"data row2 col1\" >0.0%</td>\n",
       "      <td id=\"T_b6289_row2_col2\" class=\"data row2 col2\" >1</td>\n",
       "      <td id=\"T_b6289_row2_col3\" class=\"data row2 col3\" >nan</td>\n",
       "      <td id=\"T_b6289_row2_col4\" class=\"data row2 col4\" >nan</td>\n",
       "      <td id=\"T_b6289_row2_col5\" class=\"data row2 col5\" >nan%</td>\n",
       "      <td id=\"T_b6289_row2_col6\" class=\"data row2 col6\" >nan</td>\n",
       "      <td id=\"T_b6289_row2_col7\" class=\"data row2 col7\" >nan</td>\n",
       "      <td id=\"T_b6289_row2_col8\" class=\"data row2 col8\" >nan%</td>\n",
       "    </tr>\n",
       "    <tr>\n",
       "      <th id=\"T_b6289_level0_row3\" class=\"row_heading level0 row3\" >exp_years</th>\n",
       "      <td id=\"T_b6289_row3_col0\" class=\"data row3 col0\" >653,601</td>\n",
       "      <td id=\"T_b6289_row3_col1\" class=\"data row3 col1\" >0.0%</td>\n",
       "      <td id=\"T_b6289_row3_col2\" class=\"data row3 col2\" >41</td>\n",
       "      <td id=\"T_b6289_row3_col3\" class=\"data row3 col3\" >1</td>\n",
       "      <td id=\"T_b6289_row3_col4\" class=\"data row3 col4\" >256,905</td>\n",
       "      <td id=\"T_b6289_row3_col5\" class=\"data row3 col5\" >39%</td>\n",
       "      <td id=\"T_b6289_row3_col6\" class=\"data row3 col6\" >3</td>\n",
       "      <td id=\"T_b6289_row3_col7\" class=\"data row3 col7\" >49,912</td>\n",
       "      <td id=\"T_b6289_row3_col8\" class=\"data row3 col8\" >8%</td>\n",
       "    </tr>\n",
       "    <tr>\n",
       "      <th id=\"T_b6289_level0_row4\" class=\"row_heading level0 row4\" >date_stop</th>\n",
       "      <td id=\"T_b6289_row4_col0\" class=\"data row4 col0\" >653,601</td>\n",
       "      <td id=\"T_b6289_row4_col1\" class=\"data row4 col1\" >0.0%</td>\n",
       "      <td id=\"T_b6289_row4_col2\" class=\"data row4 col2\" >1,645</td>\n",
       "      <td id=\"T_b6289_row4_col3\" class=\"data row4 col3\" >2020-02-12</td>\n",
       "      <td id=\"T_b6289_row4_col4\" class=\"data row4 col4\" >799</td>\n",
       "      <td id=\"T_b6289_row4_col5\" class=\"data row4 col5\" >0%</td>\n",
       "      <td id=\"T_b6289_row4_col6\" class=\"data row4 col6\" >2019-05-23</td>\n",
       "      <td id=\"T_b6289_row4_col7\" class=\"data row4 col7\" >793</td>\n",
       "      <td id=\"T_b6289_row4_col8\" class=\"data row4 col8\" >0%</td>\n",
       "    </tr>\n",
       "    <tr>\n",
       "      <th id=\"T_b6289_level0_row5\" class=\"row_heading level0 row5\" >time_stop</th>\n",
       "      <td id=\"T_b6289_row5_col0\" class=\"data row5 col0\" >653,601</td>\n",
       "      <td id=\"T_b6289_row5_col1\" class=\"data row5 col1\" >0.0%</td>\n",
       "      <td id=\"T_b6289_row5_col2\" class=\"data row5 col2\" >83,477</td>\n",
       "      <td id=\"T_b6289_row5_col3\" class=\"data row5 col3\" >16:00:00</td>\n",
       "      <td id=\"T_b6289_row5_col4\" class=\"data row5 col4\" >1,772</td>\n",
       "      <td id=\"T_b6289_row5_col5\" class=\"data row5 col5\" >0%</td>\n",
       "      <td id=\"T_b6289_row5_col6\" class=\"data row5 col6\" >10:00:00</td>\n",
       "      <td id=\"T_b6289_row5_col7\" class=\"data row5 col7\" >1,492</td>\n",
       "      <td id=\"T_b6289_row5_col8\" class=\"data row5 col8\" >0%</td>\n",
       "    </tr>\n",
       "    <tr>\n",
       "      <th id=\"T_b6289_level0_row6\" class=\"row_heading level0 row6\" >stopduration</th>\n",
       "      <td id=\"T_b6289_row6_col0\" class=\"data row6 col0\" >653,601</td>\n",
       "      <td id=\"T_b6289_row6_col1\" class=\"data row6 col1\" >0.0%</td>\n",
       "      <td id=\"T_b6289_row6_col2\" class=\"data row6 col2\" >398</td>\n",
       "      <td id=\"T_b6289_row6_col3\" class=\"data row6 col3\" >10</td>\n",
       "      <td id=\"T_b6289_row6_col4\" class=\"data row6 col4\" >157,652</td>\n",
       "      <td id=\"T_b6289_row6_col5\" class=\"data row6 col5\" >24%</td>\n",
       "      <td id=\"T_b6289_row6_col6\" class=\"data row6 col6\" >15</td>\n",
       "      <td id=\"T_b6289_row6_col7\" class=\"data row6 col7\" >77,367</td>\n",
       "      <td id=\"T_b6289_row6_col8\" class=\"data row6 col8\" >12%</td>\n",
       "    </tr>\n",
       "    <tr>\n",
       "      <th id=\"T_b6289_level0_row7\" class=\"row_heading level0 row7\" >stop_in_response_to_cfs</th>\n",
       "      <td id=\"T_b6289_row7_col0\" class=\"data row7 col0\" >653,601</td>\n",
       "      <td id=\"T_b6289_row7_col1\" class=\"data row7 col1\" >0.0%</td>\n",
       "      <td id=\"T_b6289_row7_col2\" class=\"data row7 col2\" >2</td>\n",
       "      <td id=\"T_b6289_row7_col3\" class=\"data row7 col3\" >0</td>\n",
       "      <td id=\"T_b6289_row7_col4\" class=\"data row7 col4\" >584,869</td>\n",
       "      <td id=\"T_b6289_row7_col5\" class=\"data row7 col5\" >89%</td>\n",
       "      <td id=\"T_b6289_row7_col6\" class=\"data row7 col6\" >1</td>\n",
       "      <td id=\"T_b6289_row7_col7\" class=\"data row7 col7\" >68,732</td>\n",
       "      <td id=\"T_b6289_row7_col8\" class=\"data row7 col8\" >11%</td>\n",
       "    </tr>\n",
       "    <tr>\n",
       "      <th id=\"T_b6289_level0_row8\" class=\"row_heading level0 row8\" >officer_assignment_key</th>\n",
       "      <td id=\"T_b6289_row8_col0\" class=\"data row8 col0\" >653,601</td>\n",
       "      <td id=\"T_b6289_row8_col1\" class=\"data row8 col1\" >0.0%</td>\n",
       "      <td id=\"T_b6289_row8_col2\" class=\"data row8 col2\" >10</td>\n",
       "      <td id=\"T_b6289_row8_col3\" class=\"data row8 col3\" >1</td>\n",
       "      <td id=\"T_b6289_row8_col4\" class=\"data row8 col4\" >610,968</td>\n",
       "      <td id=\"T_b6289_row8_col5\" class=\"data row8 col5\" >93%</td>\n",
       "      <td id=\"T_b6289_row8_col6\" class=\"data row8 col6\" >10</td>\n",
       "      <td id=\"T_b6289_row8_col7\" class=\"data row8 col7\" >20,167</td>\n",
       "      <td id=\"T_b6289_row8_col8\" class=\"data row8 col8\" >3%</td>\n",
       "    </tr>\n",
       "    <tr>\n",
       "      <th id=\"T_b6289_level0_row9\" class=\"row_heading level0 row9\" >assignment</th>\n",
       "      <td id=\"T_b6289_row9_col0\" class=\"data row9 col0\" >653,601</td>\n",
       "      <td id=\"T_b6289_row9_col1\" class=\"data row9 col1\" >0.0%</td>\n",
       "      <td id=\"T_b6289_row9_col2\" class=\"data row9 col2\" >10</td>\n",
       "      <td id=\"T_b6289_row9_col3\" class=\"data row9 col3\" >Patrol, traffic enforcement, field operations</td>\n",
       "      <td id=\"T_b6289_row9_col4\" class=\"data row9 col4\" >610,968</td>\n",
       "      <td id=\"T_b6289_row9_col5\" class=\"data row9 col5\" >93%</td>\n",
       "      <td id=\"T_b6289_row9_col6\" class=\"data row9 col6\" >Other</td>\n",
       "      <td id=\"T_b6289_row9_col7\" class=\"data row9 col7\" >20,167</td>\n",
       "      <td id=\"T_b6289_row9_col8\" class=\"data row9 col8\" >3%</td>\n",
       "    </tr>\n",
       "    <tr>\n",
       "      <th id=\"T_b6289_level0_row10\" class=\"row_heading level0 row10\" >intersection</th>\n",
       "      <td id=\"T_b6289_row10_col0\" class=\"data row10 col0\" >68,881</td>\n",
       "      <td id=\"T_b6289_row10_col1\" class=\"data row10 col1\" >89.5%</td>\n",
       "      <td id=\"T_b6289_row10_col2\" class=\"data row10 col2\" >25,584</td>\n",
       "      <td id=\"T_b6289_row10_col3\" class=\"data row10 col3\" >CAMINO DE LA PLAZA/ CAMIONES WAY </td>\n",
       "      <td id=\"T_b6289_row10_col4\" class=\"data row10 col4\" >492</td>\n",
       "      <td id=\"T_b6289_row10_col5\" class=\"data row10 col5\" >0%</td>\n",
       "      <td id=\"T_b6289_row10_col6\" class=\"data row10 col6\" >BROADWAY</td>\n",
       "      <td id=\"T_b6289_row10_col7\" class=\"data row10 col7\" >366</td>\n",
       "      <td id=\"T_b6289_row10_col8\" class=\"data row10 col8\" >0%</td>\n",
       "    </tr>\n",
       "    <tr>\n",
       "      <th id=\"T_b6289_level0_row11\" class=\"row_heading level0 row11\" >address_block</th>\n",
       "      <td id=\"T_b6289_row11_col0\" class=\"data row11 col0\" >580,059</td>\n",
       "      <td id=\"T_b6289_row11_col1\" class=\"data row11 col1\" >11.2%</td>\n",
       "      <td id=\"T_b6289_row11_col2\" class=\"data row11 col2\" >351</td>\n",
       "      <td id=\"T_b6289_row11_col3\" class=\"data row11 col3\" >100</td>\n",
       "      <td id=\"T_b6289_row11_col4\" class=\"data row11 col4\" >18,105</td>\n",
       "      <td id=\"T_b6289_row11_col5\" class=\"data row11 col5\" >3%</td>\n",
       "      <td id=\"T_b6289_row11_col6\" class=\"data row11 col6\" >700</td>\n",
       "      <td id=\"T_b6289_row11_col7\" class=\"data row11 col7\" >15,460</td>\n",
       "      <td id=\"T_b6289_row11_col8\" class=\"data row11 col8\" >2%</td>\n",
       "    </tr>\n",
       "    <tr>\n",
       "      <th id=\"T_b6289_level0_row12\" class=\"row_heading level0 row12\" >land_mark</th>\n",
       "      <td id=\"T_b6289_row12_col0\" class=\"data row12 col0\" >67</td>\n",
       "      <td id=\"T_b6289_row12_col1\" class=\"data row12 col1\" >100.0%</td>\n",
       "      <td id=\"T_b6289_row12_col2\" class=\"data row12 col2\" >56</td>\n",
       "      <td id=\"T_b6289_row12_col3\" class=\"data row12 col3\" >15nb exit</td>\n",
       "      <td id=\"T_b6289_row12_col4\" class=\"data row12 col4\" >4</td>\n",
       "      <td id=\"T_b6289_row12_col5\" class=\"data row12 col5\" >0%</td>\n",
       "      <td id=\"T_b6289_row12_col6\" class=\"data row12 col6\" >fiesta island bay</td>\n",
       "      <td id=\"T_b6289_row12_col7\" class=\"data row12 col7\" >4</td>\n",
       "      <td id=\"T_b6289_row12_col8\" class=\"data row12 col8\" >0%</td>\n",
       "    </tr>\n",
       "    <tr>\n",
       "      <th id=\"T_b6289_level0_row13\" class=\"row_heading level0 row13\" >address_street</th>\n",
       "      <td id=\"T_b6289_row13_col0\" class=\"data row13 col0\" >625,477</td>\n",
       "      <td id=\"T_b6289_row13_col1\" class=\"data row13 col1\" >4.3%</td>\n",
       "      <td id=\"T_b6289_row13_col2\" class=\"data row13 col2\" >68,178</td>\n",
       "      <td id=\"T_b6289_row13_col3\" class=\"data row13 col3\" >El Cajon Blvd</td>\n",
       "      <td id=\"T_b6289_row13_col4\" class=\"data row13 col4\" >3,656</td>\n",
       "      <td id=\"T_b6289_row13_col5\" class=\"data row13 col5\" >1%</td>\n",
       "      <td id=\"T_b6289_row13_col6\" class=\"data row13 col6\" >el cajon blvd</td>\n",
       "      <td id=\"T_b6289_row13_col7\" class=\"data row13 col7\" >2,323</td>\n",
       "      <td id=\"T_b6289_row13_col8\" class=\"data row13 col8\" >0%</td>\n",
       "    </tr>\n",
       "    <tr>\n",
       "      <th id=\"T_b6289_level0_row14\" class=\"row_heading level0 row14\" >highway_exit</th>\n",
       "      <td id=\"T_b6289_row14_col0\" class=\"data row14 col0\" >5,591</td>\n",
       "      <td id=\"T_b6289_row14_col1\" class=\"data row14 col1\" >99.1%</td>\n",
       "      <td id=\"T_b6289_row14_col2\" class=\"data row14 col2\" >3,811</td>\n",
       "      <td id=\"T_b6289_row14_col3\" class=\"data row14 col3\" >I-805/SR-54</td>\n",
       "      <td id=\"T_b6289_row14_col4\" class=\"data row14 col4\" >35</td>\n",
       "      <td id=\"T_b6289_row14_col5\" class=\"data row14 col5\" >0%</td>\n",
       "      <td id=\"T_b6289_row14_col6\" class=\"data row14 col6\" >NB I-15</td>\n",
       "      <td id=\"T_b6289_row14_col7\" class=\"data row14 col7\" >35</td>\n",
       "      <td id=\"T_b6289_row14_col8\" class=\"data row14 col8\" >0%</td>\n",
       "    </tr>\n",
       "    <tr>\n",
       "      <th id=\"T_b6289_level0_row15\" class=\"row_heading level0 row15\" >isschool</th>\n",
       "      <td id=\"T_b6289_row15_col0\" class=\"data row15 col0\" >653,601</td>\n",
       "      <td id=\"T_b6289_row15_col1\" class=\"data row15 col1\" >0.0%</td>\n",
       "      <td id=\"T_b6289_row15_col2\" class=\"data row15 col2\" >2</td>\n",
       "      <td id=\"T_b6289_row15_col3\" class=\"data row15 col3\" >0</td>\n",
       "      <td id=\"T_b6289_row15_col4\" class=\"data row15 col4\" >653,132</td>\n",
       "      <td id=\"T_b6289_row15_col5\" class=\"data row15 col5\" >100%</td>\n",
       "      <td id=\"T_b6289_row15_col6\" class=\"data row15 col6\" >1</td>\n",
       "      <td id=\"T_b6289_row15_col7\" class=\"data row15 col7\" >469</td>\n",
       "      <td id=\"T_b6289_row15_col8\" class=\"data row15 col8\" >0%</td>\n",
       "    </tr>\n",
       "    <tr>\n",
       "      <th id=\"T_b6289_level0_row16\" class=\"row_heading level0 row16\" >school_name</th>\n",
       "      <td id=\"T_b6289_row16_col0\" class=\"data row16 col0\" >469</td>\n",
       "      <td id=\"T_b6289_row16_col1\" class=\"data row16 col1\" >99.9%</td>\n",
       "      <td id=\"T_b6289_row16_col2\" class=\"data row16 col2\" >115</td>\n",
       "      <td id=\"T_b6289_row16_col3\" class=\"data row16 col3\" >Ibarra Elementary (San Diego Unified) 37683380108290</td>\n",
       "      <td id=\"T_b6289_row16_col4\" class=\"data row16 col4\" >38</td>\n",
       "      <td id=\"T_b6289_row16_col5\" class=\"data row16 col5\" >0%</td>\n",
       "      <td id=\"T_b6289_row16_col6\" class=\"data row16 col6\" >Rancho Bernardo High (Poway Unified) 37682963730819</td>\n",
       "      <td id=\"T_b6289_row16_col7\" class=\"data row16 col7\" >25</td>\n",
       "      <td id=\"T_b6289_row16_col8\" class=\"data row16 col8\" >0%</td>\n",
       "    </tr>\n",
       "    <tr>\n",
       "      <th id=\"T_b6289_level0_row17\" class=\"row_heading level0 row17\" >address_city</th>\n",
       "      <td id=\"T_b6289_row17_col0\" class=\"data row17 col0\" >653,600</td>\n",
       "      <td id=\"T_b6289_row17_col1\" class=\"data row17 col1\" >0.0%</td>\n",
       "      <td id=\"T_b6289_row17_col2\" class=\"data row17 col2\" >63</td>\n",
       "      <td id=\"T_b6289_row17_col3\" class=\"data row17 col3\" >SAN DIEGO</td>\n",
       "      <td id=\"T_b6289_row17_col4\" class=\"data row17 col4\" >642,119</td>\n",
       "      <td id=\"T_b6289_row17_col5\" class=\"data row17 col5\" >98%</td>\n",
       "      <td id=\"T_b6289_row17_col6\" class=\"data row17 col6\" >SAN YSIDRO</td>\n",
       "      <td id=\"T_b6289_row17_col7\" class=\"data row17 col7\" >3,808</td>\n",
       "      <td id=\"T_b6289_row17_col8\" class=\"data row17 col8\" >1%</td>\n",
       "    </tr>\n",
       "    <tr>\n",
       "      <th id=\"T_b6289_level0_row18\" class=\"row_heading level0 row18\" >beat</th>\n",
       "      <td id=\"T_b6289_row18_col0\" class=\"data row18 col0\" >653,600</td>\n",
       "      <td id=\"T_b6289_row18_col1\" class=\"data row18 col1\" >0.0%</td>\n",
       "      <td id=\"T_b6289_row18_col2\" class=\"data row18 col2\" >126</td>\n",
       "      <td id=\"T_b6289_row18_col3\" class=\"data row18 col3\" >521</td>\n",
       "      <td id=\"T_b6289_row18_col4\" class=\"data row18 col4\" >46,583</td>\n",
       "      <td id=\"T_b6289_row18_col5\" class=\"data row18 col5\" >7%</td>\n",
       "      <td id=\"T_b6289_row18_col6\" class=\"data row18 col6\" >122</td>\n",
       "      <td id=\"T_b6289_row18_col7\" class=\"data row18 col7\" >38,522</td>\n",
       "      <td id=\"T_b6289_row18_col8\" class=\"data row18 col8\" >6%</td>\n",
       "    </tr>\n",
       "    <tr>\n",
       "      <th id=\"T_b6289_level0_row19\" class=\"row_heading level0 row19\" >beat_name</th>\n",
       "      <td id=\"T_b6289_row19_col0\" class=\"data row19 col0\" >653,600</td>\n",
       "      <td id=\"T_b6289_row19_col1\" class=\"data row19 col1\" >0.0%</td>\n",
       "      <td id=\"T_b6289_row19_col2\" class=\"data row19 col2\" >127</td>\n",
       "      <td id=\"T_b6289_row19_col3\" class=\"data row19 col3\" >East Village 521</td>\n",
       "      <td id=\"T_b6289_row19_col4\" class=\"data row19 col4\" >46,583</td>\n",
       "      <td id=\"T_b6289_row19_col5\" class=\"data row19 col5\" >7%</td>\n",
       "      <td id=\"T_b6289_row19_col6\" class=\"data row19 col6\" >Pacific Beach 122</td>\n",
       "      <td id=\"T_b6289_row19_col7\" class=\"data row19 col7\" >38,522</td>\n",
       "      <td id=\"T_b6289_row19_col8\" class=\"data row19 col8\" >6%</td>\n",
       "    </tr>\n",
       "    <tr>\n",
       "      <th id=\"T_b6289_level0_row20\" class=\"row_heading level0 row20\" >pid</th>\n",
       "      <td id=\"T_b6289_row20_col0\" class=\"data row20 col0\" >653,601</td>\n",
       "      <td id=\"T_b6289_row20_col1\" class=\"data row20 col1\" >0.0%</td>\n",
       "      <td id=\"T_b6289_row20_col2\" class=\"data row20 col2\" >52</td>\n",
       "      <td id=\"T_b6289_row20_col3\" class=\"data row20 col3\" >1</td>\n",
       "      <td id=\"T_b6289_row20_col4\" class=\"data row20 col4\" >574,360</td>\n",
       "      <td id=\"T_b6289_row20_col5\" class=\"data row20 col5\" >88%</td>\n",
       "      <td id=\"T_b6289_row20_col6\" class=\"data row20 col6\" >2</td>\n",
       "      <td id=\"T_b6289_row20_col7\" class=\"data row20 col7\" >52,779</td>\n",
       "      <td id=\"T_b6289_row20_col8\" class=\"data row20 col8\" >8%</td>\n",
       "    </tr>\n",
       "    <tr>\n",
       "      <th id=\"T_b6289_level0_row21\" class=\"row_heading level0 row21\" >isstudent</th>\n",
       "      <td id=\"T_b6289_row21_col0\" class=\"data row21 col0\" >653,601</td>\n",
       "      <td id=\"T_b6289_row21_col1\" class=\"data row21 col1\" >0.0%</td>\n",
       "      <td id=\"T_b6289_row21_col2\" class=\"data row21 col2\" >2</td>\n",
       "      <td id=\"T_b6289_row21_col3\" class=\"data row21 col3\" >0</td>\n",
       "      <td id=\"T_b6289_row21_col4\" class=\"data row21 col4\" >653,343</td>\n",
       "      <td id=\"T_b6289_row21_col5\" class=\"data row21 col5\" >100%</td>\n",
       "      <td id=\"T_b6289_row21_col6\" class=\"data row21 col6\" >1</td>\n",
       "      <td id=\"T_b6289_row21_col7\" class=\"data row21 col7\" >258</td>\n",
       "      <td id=\"T_b6289_row21_col8\" class=\"data row21 col8\" >0%</td>\n",
       "    </tr>\n",
       "    <tr>\n",
       "      <th id=\"T_b6289_level0_row22\" class=\"row_heading level0 row22\" >perceived_limited_english</th>\n",
       "      <td id=\"T_b6289_row22_col0\" class=\"data row22 col0\" >653,601</td>\n",
       "      <td id=\"T_b6289_row22_col1\" class=\"data row22 col1\" >0.0%</td>\n",
       "      <td id=\"T_b6289_row22_col2\" class=\"data row22 col2\" >2</td>\n",
       "      <td id=\"T_b6289_row22_col3\" class=\"data row22 col3\" >0</td>\n",
       "      <td id=\"T_b6289_row22_col4\" class=\"data row22 col4\" >639,520</td>\n",
       "      <td id=\"T_b6289_row22_col5\" class=\"data row22 col5\" >98%</td>\n",
       "      <td id=\"T_b6289_row22_col6\" class=\"data row22 col6\" >1</td>\n",
       "      <td id=\"T_b6289_row22_col7\" class=\"data row22 col7\" >14,081</td>\n",
       "      <td id=\"T_b6289_row22_col8\" class=\"data row22 col8\" >2%</td>\n",
       "    </tr>\n",
       "    <tr>\n",
       "      <th id=\"T_b6289_level0_row23\" class=\"row_heading level0 row23\" >perceived_age</th>\n",
       "      <td id=\"T_b6289_row23_col0\" class=\"data row23 col0\" >653,601</td>\n",
       "      <td id=\"T_b6289_row23_col1\" class=\"data row23 col1\" >0.0%</td>\n",
       "      <td id=\"T_b6289_row23_col2\" class=\"data row23 col2\" >109</td>\n",
       "      <td id=\"T_b6289_row23_col3\" class=\"data row23 col3\" >30</td>\n",
       "      <td id=\"T_b6289_row23_col4\" class=\"data row23 col4\" >95,660</td>\n",
       "      <td id=\"T_b6289_row23_col5\" class=\"data row23 col5\" >15%</td>\n",
       "      <td id=\"T_b6289_row23_col6\" class=\"data row23 col6\" >40</td>\n",
       "      <td id=\"T_b6289_row23_col7\" class=\"data row23 col7\" >69,689</td>\n",
       "      <td id=\"T_b6289_row23_col8\" class=\"data row23 col8\" >11%</td>\n",
       "    </tr>\n",
       "    <tr>\n",
       "      <th id=\"T_b6289_level0_row24\" class=\"row_heading level0 row24\" >perceived_gender</th>\n",
       "      <td id=\"T_b6289_row24_col0\" class=\"data row24 col0\" >653,397</td>\n",
       "      <td id=\"T_b6289_row24_col1\" class=\"data row24 col1\" >0.0%</td>\n",
       "      <td id=\"T_b6289_row24_col2\" class=\"data row24 col2\" >4</td>\n",
       "      <td id=\"T_b6289_row24_col3\" class=\"data row24 col3\" >Male</td>\n",
       "      <td id=\"T_b6289_row24_col4\" class=\"data row24 col4\" >475,908</td>\n",
       "      <td id=\"T_b6289_row24_col5\" class=\"data row24 col5\" >73%</td>\n",
       "      <td id=\"T_b6289_row24_col6\" class=\"data row24 col6\" >Female</td>\n",
       "      <td id=\"T_b6289_row24_col7\" class=\"data row24 col7\" >175,714</td>\n",
       "      <td id=\"T_b6289_row24_col8\" class=\"data row24 col8\" >27%</td>\n",
       "    </tr>\n",
       "    <tr>\n",
       "      <th id=\"T_b6289_level0_row25\" class=\"row_heading level0 row25\" >gender_nonconforming</th>\n",
       "      <td id=\"T_b6289_row25_col0\" class=\"data row25 col0\" >653,601</td>\n",
       "      <td id=\"T_b6289_row25_col1\" class=\"data row25 col1\" >0.0%</td>\n",
       "      <td id=\"T_b6289_row25_col2\" class=\"data row25 col2\" >2</td>\n",
       "      <td id=\"T_b6289_row25_col3\" class=\"data row25 col3\" >0</td>\n",
       "      <td id=\"T_b6289_row25_col4\" class=\"data row25 col4\" >653,222</td>\n",
       "      <td id=\"T_b6289_row25_col5\" class=\"data row25 col5\" >100%</td>\n",
       "      <td id=\"T_b6289_row25_col6\" class=\"data row25 col6\" >1</td>\n",
       "      <td id=\"T_b6289_row25_col7\" class=\"data row25 col7\" >379</td>\n",
       "      <td id=\"T_b6289_row25_col8\" class=\"data row25 col8\" >0%</td>\n",
       "    </tr>\n",
       "    <tr>\n",
       "      <th id=\"T_b6289_level0_row26\" class=\"row_heading level0 row26\" >gend</th>\n",
       "      <td id=\"T_b6289_row26_col0\" class=\"data row26 col0\" >653,601</td>\n",
       "      <td id=\"T_b6289_row26_col1\" class=\"data row26 col1\" >0.0%</td>\n",
       "      <td id=\"T_b6289_row26_col2\" class=\"data row26 col2\" >5</td>\n",
       "      <td id=\"T_b6289_row26_col3\" class=\"data row26 col3\" >1</td>\n",
       "      <td id=\"T_b6289_row26_col4\" class=\"data row26 col4\" >475,908</td>\n",
       "      <td id=\"T_b6289_row26_col5\" class=\"data row26 col5\" >73%</td>\n",
       "      <td id=\"T_b6289_row26_col6\" class=\"data row26 col6\" >2</td>\n",
       "      <td id=\"T_b6289_row26_col7\" class=\"data row26 col7\" >175,714</td>\n",
       "      <td id=\"T_b6289_row26_col8\" class=\"data row26 col8\" >27%</td>\n",
       "    </tr>\n",
       "    <tr>\n",
       "      <th id=\"T_b6289_level0_row27\" class=\"row_heading level0 row27\" >gend_nc</th>\n",
       "      <td id=\"T_b6289_row27_col0\" class=\"data row27 col0\" >379</td>\n",
       "      <td id=\"T_b6289_row27_col1\" class=\"data row27 col1\" >99.9%</td>\n",
       "      <td id=\"T_b6289_row27_col2\" class=\"data row27 col2\" >1</td>\n",
       "      <td id=\"T_b6289_row27_col3\" class=\"data row27 col3\" >nan</td>\n",
       "      <td id=\"T_b6289_row27_col4\" class=\"data row27 col4\" >nan</td>\n",
       "      <td id=\"T_b6289_row27_col5\" class=\"data row27 col5\" >nan%</td>\n",
       "      <td id=\"T_b6289_row27_col6\" class=\"data row27 col6\" >nan</td>\n",
       "      <td id=\"T_b6289_row27_col7\" class=\"data row27 col7\" >nan</td>\n",
       "      <td id=\"T_b6289_row27_col8\" class=\"data row27 col8\" >nan%</td>\n",
       "    </tr>\n",
       "    <tr>\n",
       "      <th id=\"T_b6289_level0_row28\" class=\"row_heading level0 row28\" >perceived_lgbt</th>\n",
       "      <td id=\"T_b6289_row28_col0\" class=\"data row28 col0\" >653,601</td>\n",
       "      <td id=\"T_b6289_row28_col1\" class=\"data row28 col1\" >0.0%</td>\n",
       "      <td id=\"T_b6289_row28_col2\" class=\"data row28 col2\" >2</td>\n",
       "      <td id=\"T_b6289_row28_col3\" class=\"data row28 col3\" >No</td>\n",
       "      <td id=\"T_b6289_row28_col4\" class=\"data row28 col4\" >637,335</td>\n",
       "      <td id=\"T_b6289_row28_col5\" class=\"data row28 col5\" >98%</td>\n",
       "      <td id=\"T_b6289_row28_col6\" class=\"data row28 col6\" >Yes</td>\n",
       "      <td id=\"T_b6289_row28_col7\" class=\"data row28 col7\" >16,266</td>\n",
       "      <td id=\"T_b6289_row28_col8\" class=\"data row28 col8\" >2%</td>\n",
       "    </tr>\n",
       "  </tbody>\n",
       "</table>\n"
      ],
      "text/plain": [
       "<pandas.io.formats.style.Styler at 0x7fc24be21610>"
      ]
     },
     "execution_count": 58,
     "metadata": {},
     "output_type": "execute_result"
    }
   ],
   "source": [
    "DQR_Stops = Data_Quality_Report(ripa_stops_df)\n",
    "DQR_Stops"
   ]
  },
  {
   "cell_type": "markdown",
   "id": "46345d48-21a5-46f6-aec9-5282894a7030",
   "metadata": {},
   "source": [
    "***"
   ]
  },
  {
   "cell_type": "markdown",
   "id": "c2659bd8-3996-4bf0-bab6-400007b32902",
   "metadata": {},
   "source": [
    "## Save Date to Buckets"
   ]
  },
  {
   "cell_type": "code",
   "execution_count": 59,
   "id": "a5fd6e71-2dbf-4f8e-b18a-b14bd1e7f185",
   "metadata": {
    "tags": []
   },
   "outputs": [],
   "source": [
    "def move_2_bucket(bucket,subfolder_name,file_name,df):\n",
    "    csv_buffer = StringIO()\n",
    "    df.to_csv(csv_buffer, index=False)\n",
    "    s3_resource.Object(bucket,\n",
    "                       subfolder_name + file_name).put(Body=csv_buffer.getvalue())\n",
    "    print(file_name,'loaded in',bucket,'bucket')\n",
    "    "
   ]
  },
  {
   "cell_type": "code",
   "execution_count": 60,
   "id": "8c89bc82-aa3a-45d0-b820-4621f3ef1534",
   "metadata": {
    "tags": []
   },
   "outputs": [
    {
     "name": "stdout",
     "output_type": "stream",
     "text": [
      "SDPD_Calls.csv loaded in sdpd-bucket bucket\n",
      "SDPD_Type.csv loaded in sdpd-bucket bucket\n",
      "SDPD_Dispo.csv loaded in sdpd-bucket bucket\n",
      "SDPD_Stops.csv loaded in sdpd-bucket bucket\n",
      "SDPD_Stops_Dic.csv loaded in sdpd-bucket bucket\n"
     ]
    }
   ],
   "source": [
    "move_2_bucket(RD_Bucket,'Call_Data/','SDPD_Calls.csv',sdpd_calls)\n",
    "move_2_bucket(RD_Bucket,'Type_Data/','SDPD_Type.csv',type_df)\n",
    "move_2_bucket(RD_Bucket,'Dispo_Data/','SDPD_Dispo.csv',dispo_df)\n",
    "move_2_bucket(RD_Bucket,'Stops_Data/','SDPD_Stops.csv',ripa_stops_df)\n",
    "move_2_bucket(RD_Bucket,'Stops_Dic_Data/','SDPD_Stops_Dic.csv',ripa_stops_dic_df)"
   ]
  },
  {
   "cell_type": "markdown",
   "id": "ebefd383-122e-4363-bd85-075bd3a35e65",
   "metadata": {},
   "source": [
    "<div class=\"alert alert-block alert-success\">\n",
    "<b>Data:</b> Load in S3 Buckets\n",
    "</div>"
   ]
  },
  {
   "cell_type": "markdown",
   "id": "97eabafb-a988-4776-8203-301748121419",
   "metadata": {},
   "source": [
    "***"
   ]
  },
  {
   "cell_type": "markdown",
   "id": "2f9e35f3-0e2e-4280-b4b8-90b19db87334",
   "metadata": {
    "tags": []
   },
   "source": [
    "## Aggregate Police Acticity by Hour"
   ]
  },
  {
   "cell_type": "code",
   "execution_count": 72,
   "id": "3e59794b-9abc-408d-982d-1ac414dffa0c",
   "metadata": {
    "tags": []
   },
   "outputs": [],
   "source": [
    "def events_hour_timeseries(df,date_field):\n",
    "    df[date_field]=pd.to_datetime(df[date_field])\n",
    "    df_group = df.groupby([\n",
    "        pd.Grouper(key=date_field,freq='H')\n",
    "    ]).size().reset_index(name='count')\n",
    "    \n",
    "    return df_group"
   ]
  },
  {
   "cell_type": "code",
   "execution_count": 72,
   "id": "f86500af",
   "metadata": {
    "tags": []
   },
   "outputs": [],
   "source": [
    "def events_hour_timeseries(df,date_field):\n",
    "    df[date_field]=pd.to_datetime(df[date_field])\n",
    "    df_group = df.groupby([\n",
    "        pd.Grouper(key=date_field,freq='H')\n",
    "    ]).size().reset_index(name='count')\n",
    "    \n",
    "    return df_group"
   ]
  },
  {
   "cell_type": "code",
   "execution_count": 74,
   "id": "14964d09-3c9a-418a-abbb-7d6ec0bafe63",
   "metadata": {
    "tags": []
   },
   "outputs": [],
   "source": [
    "time_series_prior_series = events_hour_timeseries(sdpd_calls,'date_time')"
   ]
  },
  {
   "cell_type": "code",
   "execution_count": 74,
   "id": "1092e32a",
   "metadata": {
    "tags": []
   },
   "outputs": [],
   "source": [
    "time_series_prior_series = events_hour_timeseries(sdpd_calls,'date_time')"
   ]
  },
  {
   "cell_type": "code",
   "execution_count": 69,
   "id": "36a01765-6594-4b4a-9ce9-93180a591cff",
   "metadata": {
    "tags": []
   },
   "outputs": [
    {
     "data": {
      "text/html": [
       "<div>\n",
       "<style scoped>\n",
       "    .dataframe tbody tr th:only-of-type {\n",
       "        vertical-align: middle;\n",
       "    }\n",
       "\n",
       "    .dataframe tbody tr th {\n",
       "        vertical-align: top;\n",
       "    }\n",
       "\n",
       "    .dataframe thead th {\n",
       "        text-align: right;\n",
       "    }\n",
       "</style>\n",
       "<table border=\"1\" class=\"dataframe\">\n",
       "  <thead>\n",
       "    <tr style=\"text-align: right;\">\n",
       "      <th></th>\n",
       "      <th>date_time</th>\n",
       "      <th>priority</th>\n",
       "      <th>count</th>\n",
       "    </tr>\n",
       "  </thead>\n",
       "  <tbody>\n",
       "    <tr>\n",
       "      <th>0</th>\n",
       "      <td>2021-01-01 00:00:00</td>\n",
       "      <td>0</td>\n",
       "      <td>6</td>\n",
       "    </tr>\n",
       "    <tr>\n",
       "      <th>1</th>\n",
       "      <td>2021-01-01 00:00:00</td>\n",
       "      <td>1</td>\n",
       "      <td>44</td>\n",
       "    </tr>\n",
       "    <tr>\n",
       "      <th>2</th>\n",
       "      <td>2021-01-01 00:00:00</td>\n",
       "      <td>2</td>\n",
       "      <td>27</td>\n",
       "    </tr>\n",
       "    <tr>\n",
       "      <th>3</th>\n",
       "      <td>2021-01-01 00:00:00</td>\n",
       "      <td>3</td>\n",
       "      <td>29</td>\n",
       "    </tr>\n",
       "    <tr>\n",
       "      <th>4</th>\n",
       "      <td>2021-01-01 00:00:00</td>\n",
       "      <td>4</td>\n",
       "      <td>4</td>\n",
       "    </tr>\n",
       "    <tr>\n",
       "      <th>...</th>\n",
       "      <td>...</td>\n",
       "      <td>...</td>\n",
       "      <td>...</td>\n",
       "    </tr>\n",
       "    <tr>\n",
       "      <th>101076</th>\n",
       "      <td>2023-03-15 22:00:00</td>\n",
       "      <td>3</td>\n",
       "      <td>4</td>\n",
       "    </tr>\n",
       "    <tr>\n",
       "      <th>101077</th>\n",
       "      <td>2023-03-15 22:00:00</td>\n",
       "      <td>4</td>\n",
       "      <td>2</td>\n",
       "    </tr>\n",
       "    <tr>\n",
       "      <th>101078</th>\n",
       "      <td>2023-03-15 23:00:00</td>\n",
       "      <td>1</td>\n",
       "      <td>2</td>\n",
       "    </tr>\n",
       "    <tr>\n",
       "      <th>101079</th>\n",
       "      <td>2023-03-15 23:00:00</td>\n",
       "      <td>2</td>\n",
       "      <td>8</td>\n",
       "    </tr>\n",
       "    <tr>\n",
       "      <th>101080</th>\n",
       "      <td>2023-03-15 23:00:00</td>\n",
       "      <td>3</td>\n",
       "      <td>5</td>\n",
       "    </tr>\n",
       "  </tbody>\n",
       "</table>\n",
       "<p>101081 rows × 3 columns</p>\n",
       "</div>"
      ],
      "text/plain": [
       "                 date_time  priority  count\n",
       "0      2021-01-01 00:00:00         0      6\n",
       "1      2021-01-01 00:00:00         1     44\n",
       "2      2021-01-01 00:00:00         2     27\n",
       "3      2021-01-01 00:00:00         3     29\n",
       "4      2021-01-01 00:00:00         4      4\n",
       "...                    ...       ...    ...\n",
       "101076 2023-03-15 22:00:00         3      4\n",
       "101077 2023-03-15 22:00:00         4      2\n",
       "101078 2023-03-15 23:00:00         1      2\n",
       "101079 2023-03-15 23:00:00         2      8\n",
       "101080 2023-03-15 23:00:00         3      5\n",
       "\n",
       "[101081 rows x 3 columns]"
      ]
     },
     "execution_count": 69,
     "metadata": {},
     "output_type": "execute_result"
    }
   ],
   "source": [
    "time_series"
   ]
  },
  {
   "cell_type": "markdown",
   "id": "0642d7b2-299e-44f5-a6dc-1df20fd2748f",
   "metadata": {},
   "source": [
    "***"
   ]
  },
  {
   "cell_type": "markdown",
   "id": "2eff26b2-688b-4e90-be86-8a309f5d9ee2",
   "metadata": {},
   "source": [
    "## Visualize"
   ]
  },
  {
   "cell_type": "code",
   "execution_count": null,
   "id": "a35e605b-0021-4def-9e34-3fce3955e2b5",
   "metadata": {},
   "outputs": [],
   "source": [
    "sns.lineplot(x=\"date_time\",\n",
    "             y=\"count\",\n",
    "             #hue=\"region\",\n",
    "             style=\"event\",\n",
    "             data=time_series)"
   ]
  }
 ],
 "metadata": {
  "availableInstances": [
   {
    "_defaultOrder": 0,
    "_isFastLaunch": true,
    "category": "General purpose",
    "gpuNum": 0,
    "memoryGiB": 4,
    "name": "ml.t3.medium",
    "vcpuNum": 2
   },
   {
    "_defaultOrder": 1,
    "_isFastLaunch": false,
    "category": "General purpose",
    "gpuNum": 0,
    "memoryGiB": 8,
    "name": "ml.t3.large",
    "vcpuNum": 2
   },
   {
    "_defaultOrder": 2,
    "_isFastLaunch": false,
    "category": "General purpose",
    "gpuNum": 0,
    "memoryGiB": 16,
    "name": "ml.t3.xlarge",
    "vcpuNum": 4
   },
   {
    "_defaultOrder": 3,
    "_isFastLaunch": false,
    "category": "General purpose",
    "gpuNum": 0,
    "memoryGiB": 32,
    "name": "ml.t3.2xlarge",
    "vcpuNum": 8
   },
   {
    "_defaultOrder": 4,
    "_isFastLaunch": true,
    "category": "General purpose",
    "gpuNum": 0,
    "memoryGiB": 8,
    "name": "ml.m5.large",
    "vcpuNum": 2
   },
   {
    "_defaultOrder": 5,
    "_isFastLaunch": false,
    "category": "General purpose",
    "gpuNum": 0,
    "memoryGiB": 16,
    "name": "ml.m5.xlarge",
    "vcpuNum": 4
   },
   {
    "_defaultOrder": 6,
    "_isFastLaunch": false,
    "category": "General purpose",
    "gpuNum": 0,
    "memoryGiB": 32,
    "name": "ml.m5.2xlarge",
    "vcpuNum": 8
   },
   {
    "_defaultOrder": 7,
    "_isFastLaunch": false,
    "category": "General purpose",
    "gpuNum": 0,
    "memoryGiB": 64,
    "name": "ml.m5.4xlarge",
    "vcpuNum": 16
   },
   {
    "_defaultOrder": 8,
    "_isFastLaunch": false,
    "category": "General purpose",
    "gpuNum": 0,
    "memoryGiB": 128,
    "name": "ml.m5.8xlarge",
    "vcpuNum": 32
   },
   {
    "_defaultOrder": 9,
    "_isFastLaunch": false,
    "category": "General purpose",
    "gpuNum": 0,
    "memoryGiB": 192,
    "name": "ml.m5.12xlarge",
    "vcpuNum": 48
   },
   {
    "_defaultOrder": 10,
    "_isFastLaunch": false,
    "category": "General purpose",
    "gpuNum": 0,
    "memoryGiB": 256,
    "name": "ml.m5.16xlarge",
    "vcpuNum": 64
   },
   {
    "_defaultOrder": 11,
    "_isFastLaunch": false,
    "category": "General purpose",
    "gpuNum": 0,
    "memoryGiB": 384,
    "name": "ml.m5.24xlarge",
    "vcpuNum": 96
   },
   {
    "_defaultOrder": 12,
    "_isFastLaunch": false,
    "category": "General purpose",
    "gpuNum": 0,
    "memoryGiB": 8,
    "name": "ml.m5d.large",
    "vcpuNum": 2
   },
   {
    "_defaultOrder": 13,
    "_isFastLaunch": false,
    "category": "General purpose",
    "gpuNum": 0,
    "memoryGiB": 16,
    "name": "ml.m5d.xlarge",
    "vcpuNum": 4
   },
   {
    "_defaultOrder": 14,
    "_isFastLaunch": false,
    "category": "General purpose",
    "gpuNum": 0,
    "memoryGiB": 32,
    "name": "ml.m5d.2xlarge",
    "vcpuNum": 8
   },
   {
    "_defaultOrder": 15,
    "_isFastLaunch": false,
    "category": "General purpose",
    "gpuNum": 0,
    "memoryGiB": 64,
    "name": "ml.m5d.4xlarge",
    "vcpuNum": 16
   },
   {
    "_defaultOrder": 16,
    "_isFastLaunch": false,
    "category": "General purpose",
    "gpuNum": 0,
    "memoryGiB": 128,
    "name": "ml.m5d.8xlarge",
    "vcpuNum": 32
   },
   {
    "_defaultOrder": 17,
    "_isFastLaunch": false,
    "category": "General purpose",
    "gpuNum": 0,
    "memoryGiB": 192,
    "name": "ml.m5d.12xlarge",
    "vcpuNum": 48
   },
   {
    "_defaultOrder": 18,
    "_isFastLaunch": false,
    "category": "General purpose",
    "gpuNum": 0,
    "memoryGiB": 256,
    "name": "ml.m5d.16xlarge",
    "vcpuNum": 64
   },
   {
    "_defaultOrder": 19,
    "_isFastLaunch": false,
    "category": "General purpose",
    "gpuNum": 0,
    "memoryGiB": 384,
    "name": "ml.m5d.24xlarge",
    "vcpuNum": 96
   },
   {
    "_defaultOrder": 20,
    "_isFastLaunch": true,
    "category": "Compute optimized",
    "gpuNum": 0,
    "memoryGiB": 4,
    "name": "ml.c5.large",
    "vcpuNum": 2
   },
   {
    "_defaultOrder": 21,
    "_isFastLaunch": false,
    "category": "Compute optimized",
    "gpuNum": 0,
    "memoryGiB": 8,
    "name": "ml.c5.xlarge",
    "vcpuNum": 4
   },
   {
    "_defaultOrder": 22,
    "_isFastLaunch": false,
    "category": "Compute optimized",
    "gpuNum": 0,
    "memoryGiB": 16,
    "name": "ml.c5.2xlarge",
    "vcpuNum": 8
   },
   {
    "_defaultOrder": 23,
    "_isFastLaunch": false,
    "category": "Compute optimized",
    "gpuNum": 0,
    "memoryGiB": 32,
    "name": "ml.c5.4xlarge",
    "vcpuNum": 16
   },
   {
    "_defaultOrder": 24,
    "_isFastLaunch": false,
    "category": "Compute optimized",
    "gpuNum": 0,
    "memoryGiB": 72,
    "name": "ml.c5.9xlarge",
    "vcpuNum": 36
   },
   {
    "_defaultOrder": 25,
    "_isFastLaunch": false,
    "category": "Compute optimized",
    "gpuNum": 0,
    "memoryGiB": 96,
    "name": "ml.c5.12xlarge",
    "vcpuNum": 48
   },
   {
    "_defaultOrder": 26,
    "_isFastLaunch": false,
    "category": "Compute optimized",
    "gpuNum": 0,
    "memoryGiB": 144,
    "name": "ml.c5.18xlarge",
    "vcpuNum": 72
   },
   {
    "_defaultOrder": 27,
    "_isFastLaunch": false,
    "category": "Compute optimized",
    "gpuNum": 0,
    "memoryGiB": 192,
    "name": "ml.c5.24xlarge",
    "vcpuNum": 96
   },
   {
    "_defaultOrder": 28,
    "_isFastLaunch": true,
    "category": "Accelerated computing",
    "gpuNum": 1,
    "memoryGiB": 16,
    "name": "ml.g4dn.xlarge",
    "vcpuNum": 4
   },
   {
    "_defaultOrder": 29,
    "_isFastLaunch": false,
    "category": "Accelerated computing",
    "gpuNum": 1,
    "memoryGiB": 32,
    "name": "ml.g4dn.2xlarge",
    "vcpuNum": 8
   },
   {
    "_defaultOrder": 30,
    "_isFastLaunch": false,
    "category": "Accelerated computing",
    "gpuNum": 1,
    "memoryGiB": 64,
    "name": "ml.g4dn.4xlarge",
    "vcpuNum": 16
   },
   {
    "_defaultOrder": 31,
    "_isFastLaunch": false,
    "category": "Accelerated computing",
    "gpuNum": 1,
    "memoryGiB": 128,
    "name": "ml.g4dn.8xlarge",
    "vcpuNum": 32
   },
   {
    "_defaultOrder": 32,
    "_isFastLaunch": false,
    "category": "Accelerated computing",
    "gpuNum": 4,
    "memoryGiB": 192,
    "name": "ml.g4dn.12xlarge",
    "vcpuNum": 48
   },
   {
    "_defaultOrder": 33,
    "_isFastLaunch": false,
    "category": "Accelerated computing",
    "gpuNum": 1,
    "memoryGiB": 256,
    "name": "ml.g4dn.16xlarge",
    "vcpuNum": 64
   },
   {
    "_defaultOrder": 34,
    "_isFastLaunch": false,
    "category": "Accelerated computing",
    "gpuNum": 1,
    "memoryGiB": 61,
    "name": "ml.p3.2xlarge",
    "vcpuNum": 8
   },
   {
    "_defaultOrder": 35,
    "_isFastLaunch": false,
    "category": "Accelerated computing",
    "gpuNum": 4,
    "memoryGiB": 244,
    "name": "ml.p3.8xlarge",
    "vcpuNum": 32
   },
   {
    "_defaultOrder": 36,
    "_isFastLaunch": false,
    "category": "Accelerated computing",
    "gpuNum": 8,
    "memoryGiB": 488,
    "name": "ml.p3.16xlarge",
    "vcpuNum": 64
   },
   {
    "_defaultOrder": 37,
    "_isFastLaunch": false,
    "category": "Accelerated computing",
    "gpuNum": 8,
    "memoryGiB": 768,
    "name": "ml.p3dn.24xlarge",
    "vcpuNum": 96
   },
   {
    "_defaultOrder": 38,
    "_isFastLaunch": false,
    "category": "Memory Optimized",
    "gpuNum": 0,
    "memoryGiB": 16,
    "name": "ml.r5.large",
    "vcpuNum": 2
   },
   {
    "_defaultOrder": 39,
    "_isFastLaunch": false,
    "category": "Memory Optimized",
    "gpuNum": 0,
    "memoryGiB": 32,
    "name": "ml.r5.xlarge",
    "vcpuNum": 4
   },
   {
    "_defaultOrder": 40,
    "_isFastLaunch": false,
    "category": "Memory Optimized",
    "gpuNum": 0,
    "memoryGiB": 64,
    "name": "ml.r5.2xlarge",
    "vcpuNum": 8
   },
   {
    "_defaultOrder": 41,
    "_isFastLaunch": false,
    "category": "Memory Optimized",
    "gpuNum": 0,
    "memoryGiB": 128,
    "name": "ml.r5.4xlarge",
    "vcpuNum": 16
   },
   {
    "_defaultOrder": 42,
    "_isFastLaunch": false,
    "category": "Memory Optimized",
    "gpuNum": 0,
    "memoryGiB": 256,
    "name": "ml.r5.8xlarge",
    "vcpuNum": 32
   },
   {
    "_defaultOrder": 43,
    "_isFastLaunch": false,
    "category": "Memory Optimized",
    "gpuNum": 0,
    "memoryGiB": 384,
    "name": "ml.r5.12xlarge",
    "vcpuNum": 48
   },
   {
    "_defaultOrder": 44,
    "_isFastLaunch": false,
    "category": "Memory Optimized",
    "gpuNum": 0,
    "memoryGiB": 512,
    "name": "ml.r5.16xlarge",
    "vcpuNum": 64
   },
   {
    "_defaultOrder": 45,
    "_isFastLaunch": false,
    "category": "Memory Optimized",
    "gpuNum": 0,
    "memoryGiB": 768,
    "name": "ml.r5.24xlarge",
    "vcpuNum": 96
   },
   {
    "_defaultOrder": 46,
    "_isFastLaunch": false,
    "category": "Accelerated computing",
    "gpuNum": 1,
    "memoryGiB": 16,
    "name": "ml.g5.xlarge",
    "vcpuNum": 4
   },
   {
    "_defaultOrder": 47,
    "_isFastLaunch": false,
    "category": "Accelerated computing",
    "gpuNum": 1,
    "memoryGiB": 32,
    "name": "ml.g5.2xlarge",
    "vcpuNum": 8
   },
   {
    "_defaultOrder": 48,
    "_isFastLaunch": false,
    "category": "Accelerated computing",
    "gpuNum": 1,
    "memoryGiB": 64,
    "name": "ml.g5.4xlarge",
    "vcpuNum": 16
   },
   {
    "_defaultOrder": 49,
    "_isFastLaunch": false,
    "category": "Accelerated computing",
    "gpuNum": 1,
    "memoryGiB": 128,
    "name": "ml.g5.8xlarge",
    "vcpuNum": 32
   },
   {
    "_defaultOrder": 50,
    "_isFastLaunch": false,
    "category": "Accelerated computing",
    "gpuNum": 1,
    "memoryGiB": 256,
    "name": "ml.g5.16xlarge",
    "vcpuNum": 64
   },
   {
    "_defaultOrder": 51,
    "_isFastLaunch": false,
    "category": "Accelerated computing",
    "gpuNum": 4,
    "memoryGiB": 192,
    "name": "ml.g5.12xlarge",
    "vcpuNum": 48
   },
   {
    "_defaultOrder": 52,
    "_isFastLaunch": false,
    "category": "Accelerated computing",
    "gpuNum": 4,
    "memoryGiB": 384,
    "name": "ml.g5.24xlarge",
    "vcpuNum": 96
   },
   {
    "_defaultOrder": 53,
    "_isFastLaunch": false,
    "category": "Accelerated computing",
    "gpuNum": 8,
    "memoryGiB": 768,
    "name": "ml.g5.48xlarge",
    "vcpuNum": 192
   }
  ],
  "instance_type": "ml.t3.medium",
  "kernelspec": {
   "display_name": "Python 3 (Data Science)",
   "language": "python",
   "name": "python3__SAGEMAKER_INTERNAL__arn:aws:sagemaker:us-east-1:081325390199:image/datascience-1.0"
  },
  "language_info": {
   "codemirror_mode": {
    "name": "ipython",
    "version": 3
   },
   "file_extension": ".py",
   "mimetype": "text/x-python",
   "name": "python",
   "nbconvert_exporter": "python",
   "pygments_lexer": "ipython3",
   "version": "3.7.10"
  }
 },
 "nbformat": 4,
 "nbformat_minor": 5
}
